{
 "cells": [
  {
   "cell_type": "code",
   "execution_count": 1,
   "metadata": {},
   "outputs": [],
   "source": [
    "\n",
    "import os\n",
    "os.environ[\"R_HOME\"] = r\"/Library/Frameworks/R.framework/Resources\" \n",
    "import sys\n",
    "sys.path.append(\"/Users/anishdhir/Downloads/Sloppy\")\n",
    "sys.path.append(\"/Users/anishdhir/Documents/gp-causal\")\n",
    "from data.get_data import get_tubingen_pairs_dataset\n",
    "# change as needed#Import necessary packages\n",
    "import rpy2.robjects as robjects\n",
    "from rpy2.robjects.packages import importr\n",
    "from rpy2.robjects import pandas2ri\n",
    "#Must be activated\n",
    "pandas2ri.activate()\n",
    "import numpy as np\n",
    "from sklearn.preprocessing import StandardScaler\n",
    "from tqdm import trange\n",
    "from sklearn.metrics import roc_auc_score\n",
    "from data.get_data import get_cha_pairs_dataset, get_gauss_pairs_dataset, get_multi_pairs_dataset\n",
    "from data.get_data import get_net_pairs_dataset"
   ]
  },
  {
   "cell_type": "code",
   "execution_count": 2,
   "metadata": {},
   "outputs": [],
   "source": [
    "from rpy2.robjects.packages import STAP\n",
    "from data import get_data"
   ]
  },
  {
   "cell_type": "code",
   "execution_count": 3,
   "metadata": {},
   "outputs": [],
   "source": [
    "WORKDIR = \"/Users/anishdhir/Documents/gp-causal\""
   ]
  },
  {
   "cell_type": "code",
   "execution_count": 4,
   "metadata": {},
   "outputs": [],
   "source": [
    "with open('/Users/anishdhir/Downloads/Sloppy/Sloppy.R', 'r') as f:\n",
    "    string = f.read()\n",
    "#Parse using STAP\n",
    "sloppy = STAP(string, \"Sloppy\")"
   ]
  },
  {
   "cell_type": "code",
   "execution_count": 5,
   "metadata": {},
   "outputs": [],
   "source": [
    "def return_pairs(data_name):\n",
    "    synth_data_names = [\"cha\", \"multi\", \"net\", \"gauss\"]\n",
    "    if data_name in synth_data_names:\n",
    "        data_get = getattr(get_data, f\"get_{data_name}_pairs_dataset\")\n",
    "        x, y, weight, target = data_get(data_path=f\"{WORKDIR}/data/{data_name}_pairs/files\")\n",
    "    elif data_name == \"tueb\":\n",
    "        data_get = getattr(get_data, f\"get_tubingen_pairs_dataset\")\n",
    "        x, y, weight, target = data_get(data_path=f\"{WORKDIR}/data/pairs/files\")\n",
    "    else:\n",
    "        full_data_name = synth_data_names.append(\"tueb\")\n",
    "        raise ValueError(f\"data_name variable must be in {full_data_name}\")\n",
    "    return x, y, weight, target\n",
    "    "
   ]
  },
  {
   "cell_type": "code",
   "execution_count": 6,
   "metadata": {},
   "outputs": [],
   "source": [
    "scores = {\"AIC\": sloppy.AICscore, \"BIC\": sloppy.BICscore}\n",
    "# datafuncs = [\"cha\", \"multi\", \"net\", \"gauss\"]\n",
    "datafuncs = [\"tueb\"]"
   ]
  },
  {
   "cell_type": "code",
   "execution_count": 7,
   "metadata": {},
   "outputs": [],
   "source": [
    "def get_results(x, y, sloppy_score, lenx):\n",
    "    epsilon = np.zeros(lenx)\n",
    "    target = np.ones_like(epsilon)\n",
    "    causd = []\n",
    "    res = np.zeros(lenx)\n",
    "    res_dict = {}\n",
    "    counter = 0\n",
    "    skipped = 0\n",
    "    for i in range(lenx):\n",
    "        if x[i].shape[-1] < 2:\n",
    "            input = StandardScaler().fit_transform(x[i]).astype(np.float64)\n",
    "            output = StandardScaler().fit_transform(y[i]).astype(np.float64) \n",
    "            data = np.concatenate((input, output), axis=1)\n",
    "            score = sloppy_score\n",
    "            answer = sloppy.SloppyS(t=data, scoreF=score)\n",
    "            eps = answer.rx2(\"epsilon\")\n",
    "            causd.append(answer.rx2(\"cd\"))\n",
    "            result_x_y = answer.rx2(\"XtoY.meta\")\n",
    "            result_y_x = answer.rx2(\"YtoX.meta\")\n",
    "            if type(result_x_y) == np.ndarray:\n",
    "                res[counter] = 0\n",
    "                res_dict[i] = 0\n",
    "            else:\n",
    "                x_y_score = result_x_y.rx2(\"Score\")\n",
    "                y_x_score = result_y_x.rx2(\"Score\")\n",
    "                res[counter] = y_x_score - x_y_score\n",
    "                res_dict[i] = y_x_score - x_y_score\n",
    "            epsilon[counter] = eps\n",
    "            counter += 1\n",
    "        else:\n",
    "            skipped += 1\n",
    "            pass\n",
    "    return res"
   ]
  },
  {
   "cell_type": "code",
   "execution_count": 8,
   "metadata": {},
   "outputs": [],
   "source": [
    "def balance_for_auc(target, pred_scores):\n",
    "    # Targets are {-1, 1}, need to make sure it sums to zero\n",
    "    balance = int(np.sum(target))\n",
    "    if balance != 0:\n",
    "        # There are more negative examples\n",
    "        if balance < 0:\n",
    "            switch_cand_idx = np.nonzero(target < 0)[0]\n",
    "        # There are more positive examples here\n",
    "        else:\n",
    "            switch_cand_idx = np.nonzero(target > 0)[0]\n",
    "        # get \"balance\" number of indices\n",
    "        switch_idx = np.random.choice(\n",
    "            switch_cand_idx, size=int(np.abs(balance) // 2), replace=False\n",
    "        )\n",
    "        final_target = target.copy()\n",
    "        final_target[switch_idx] *= -1\n",
    "        final_pred_scores = pred_scores.copy()\n",
    "        final_pred_scores[switch_idx] *= -1\n",
    "    else:\n",
    "        final_target = target.copy()\n",
    "        final_pred_scores = pred_scores.copy()\n",
    "    if (balance % 2) == 0:\n",
    "        assert np.sum(final_target) == 0\n",
    "    else:\n",
    "        assert np.abs(np.sum(final_target)) == 1\n",
    "    return final_target, final_pred_scores\n",
    "\n",
    "\n",
    "def calculate_auc(target, pred_scores, num_shuffles=1000):\n",
    "    # Need to make sure that the classes are evenly balanced\n",
    "    auc_all = []\n",
    "    for i in trange(num_shuffles):\n",
    "        total_runs = len(target)\n",
    "        flip_idx = np.random.choice(np.arange(total_runs), total_runs // 2, replace=False)\n",
    "        for i in range(total_runs):\n",
    "            if i in flip_idx:\n",
    "                target[i] *= -1\n",
    "                pred_scores[i] *= -1\n",
    "        final_target, final_pred_scores = balance_for_auc(target, pred_scores)\n",
    "        roc_auc = roc_auc_score(final_target, final_pred_scores)\n",
    "        auc_all.append(roc_auc)\n",
    "    return np.mean(auc_all)\n"
   ]
  },
  {
   "cell_type": "code",
   "execution_count": 13,
   "metadata": {},
   "outputs": [
    {
     "name": "stderr",
     "output_type": "stream",
     "text": [
      "Load cause-effect pairs: 100%|██████████| 108/108 [00:00<00:00, 268.87it/s]\n"
     ]
    },
    {
     "name": "stdout",
     "output_type": "stream",
     "text": [
      "[1] 2.203881\n",
      "[1] 2.110951\n",
      "[1] 1\n",
      "[1] 1\n",
      "[1] 2.000534\n",
      "[1] 2.024149\n",
      "[1] 2.000343\n",
      "[1] 2.000004\n",
      "[1] 3.000397\n",
      "[1] 3.000329\n",
      "[1] 2.999663\n",
      "[1] 1\n",
      "[1] 2.006462\n",
      "[1] 3.000373\n",
      "[1] 2.017035\n",
      "[1] 2.001231\n",
      "[1] 1\n",
      "[1] 2.094002\n",
      "[1] 2.002141\n",
      "[1] 1\n",
      "[1] 1\n",
      "[1] 1\n",
      "[1] 1\n",
      "[1] 1\n",
      "[1] 2.077105\n",
      "[1] 1\n",
      "[1] 1\n",
      "[1] 2.058063\n",
      "[1] 2.058063\n",
      "[1] 1\n",
      "[1] 1\n",
      "[1] 2.058063\n",
      "[1] 1\n",
      "[1] 1\n",
      "[1] 1\n",
      "[1] 1\n",
      "[1] 1\n",
      "[1] 1\n",
      "[1] 1\n",
      "[1] 1\n",
      "[1] 2.000988\n",
      "[1] 5.000367\n",
      "[1] 2.068727\n",
      "[1] 2.060701\n",
      "[1] 2.031984\n",
      "[1] 8.001126\n",
      "[1] 2.008028\n",
      "[1] 2.005998\n",
      "[1] 2.005811\n",
      "[1] 1\n",
      "[1] 2.000111\n",
      "[1] 2.000109\n",
      "[1] 1\n",
      "[1] 2.000094\n",
      "[1] 2.000097\n",
      "[1] 1\n",
      "[1] 1\n",
      "[1] 1\n",
      "[1] 2.001951\n",
      "[1] 1\n",
      "[1] 2.486357\n",
      "[1] 2.836536\n",
      "[1] 1\n",
      "[1] 2.000001\n",
      "[1] 1\n",
      "[1] 5.069562\n",
      "[1] 2.999672\n",
      "[1] 1\n",
      "[1] 2.000527\n",
      "[1] 2.104315\n",
      "[1] 3.000358\n",
      "[1] 2.999712\n",
      "[1] 4.000425\n",
      "[1] 2.016633\n",
      "[1] 2.05809\n",
      "[1] 2.178834\n",
      "[1] 2.235389\n",
      "[1] 1\n",
      "[1] 2.002511\n",
      "[1] 3.000362\n",
      "[1] 2.004991\n",
      "[1] 2.003684\n",
      "[1] 1\n",
      "[1] 2.014646\n",
      "[1] 2.016681\n",
      "[1] 2.118808\n",
      "[1] 5.000585\n",
      "[1] 5.998985\n",
      "[1] 4.000549\n",
      "[1] 1\n",
      "[1] 2.0012\n",
      "[1] 2.000011\n"
     ]
    },
    {
     "name": "stderr",
     "output_type": "stream",
     "text": [
      "100%|██████████| 1000/1000 [00:00<00:00, 1937.67it/s]\n"
     ]
    },
    {
     "name": "stdout",
     "output_type": "stream",
     "text": [
      "Score: AIC, Data: tueb, AUC: 0.6529342857142857\n"
     ]
    },
    {
     "name": "stderr",
     "output_type": "stream",
     "text": [
      "Load cause-effect pairs: 100%|██████████| 108/108 [00:00<00:00, 341.62it/s]"
     ]
    },
    {
     "name": "stdout",
     "output_type": "stream",
     "text": [
      "[1]"
     ]
    },
    {
     "name": "stderr",
     "output_type": "stream",
     "text": [
      "\n"
     ]
    },
    {
     "name": "stdout",
     "output_type": "stream",
     "text": [
      " 1\n",
      "[1] 1\n",
      "[1] 1\n",
      "[1] 1\n",
      "[1] 2.000534\n",
      "[1] 2.024149\n",
      "[1] 2.000343\n",
      "[1] 1\n",
      "[1] 2.071699\n",
      "[1] 2.036506\n",
      "[1] 2.016616\n",
      "[1] 1\n",
      "[1] 2.006462\n",
      "[1] 2.001231\n",
      "[1] 2.017035\n",
      "[1] 1\n",
      "[1] 1\n",
      "[1] 1\n",
      "[1] 2.002141\n",
      "[1] 1\n",
      "[1] 1\n",
      "[1] 1\n",
      "[1] 1\n",
      "[1] 1\n",
      "[1] 2.077105\n",
      "[1] 1\n",
      "[1] 1\n",
      "[1] 1\n",
      "[1] 1\n",
      "[1] 1\n",
      "[1] 1\n",
      "[1] 1\n",
      "[1] 1\n",
      "[1] 1\n",
      "[1] 1\n",
      "[1] 1\n",
      "[1] 1\n",
      "[1] 1\n",
      "[1] 1\n",
      "[1] 1\n",
      "[1] 1\n",
      "[1] 4.000497\n",
      "[1] 2.068727\n",
      "[1] 2.060701\n",
      "[1] 2.031984\n",
      "[1] 2.009014\n",
      "[1] 1\n",
      "[1] 2.005998\n",
      "[1] 2.005811\n",
      "[1] 1\n",
      "[1] 1\n",
      "[1] 1\n",
      "[1] 1\n",
      "[1] 1\n",
      "[1] 1\n",
      "[1] 1\n",
      "[1] 1\n",
      "[1] 1\n",
      "[1] 2.001951\n",
      "[1] 1\n",
      "[1] 1\n",
      "[1] 1\n",
      "[1] 1\n",
      "[1] 2.000001\n",
      "[1] 1\n",
      "[1] 1\n",
      "[1] 1\n",
      "[1] 1\n",
      "[1] 1\n",
      "[1] 2.104315\n",
      "[1] 2.066741\n",
      "[1] 2.044846\n",
      "[1] 3.24474\n",
      "[1] 1\n",
      "[1] 2.05809\n",
      "[1] 2.178834\n",
      "[1] 2.235389\n",
      "[1] 1\n",
      "[1] 1\n",
      "[1] 1\n",
      "[1] 1\n",
      "[1] 1\n",
      "[1] 1\n",
      "[1] 1\n",
      "[1] 1\n",
      "[1] 1\n",
      "[1] 2.999703\n",
      "[1] 1\n",
      "[1] 2.999659\n",
      "[1] 1\n",
      "[1] 2.0012\n",
      "[1] 2.000011\n"
     ]
    },
    {
     "name": "stderr",
     "output_type": "stream",
     "text": [
      "100%|██████████| 1000/1000 [00:00<00:00, 1964.73it/s]"
     ]
    },
    {
     "name": "stdout",
     "output_type": "stream",
     "text": [
      "Score: BIC, Data: tueb, AUC: 0.6515008163265307\n"
     ]
    },
    {
     "name": "stderr",
     "output_type": "stream",
     "text": [
      "\n"
     ]
    }
   ],
   "source": [
    "resultlist = []\n",
    "for now_score in [\"AIC\", \"BIC\"]:\n",
    "    sl_score = scores[now_score]\n",
    "    for dataname in datafuncs:\n",
    "        x, y, weight, target = return_pairs(dataname)\n",
    "        lenx = 99 if dataname == \"tueb\" else len(target)\n",
    "        res = get_results(x, y, sl_score, lenx)\n",
    "        target = np.ones(99) if dataname == \"tueb\" else target\n",
    "        auc = calculate_auc(target, res, 1000)\n",
    "        print(f\"Score: {now_score}, Data: {dataname}, AUC: {auc}\")\n",
    "        resultlist.append((now_score, dataname, auc))"
   ]
  },
  {
   "cell_type": "code",
   "execution_count": 14,
   "metadata": {},
   "outputs": [
    {
     "name": "stdout",
     "output_type": "stream",
     "text": [
      "[('AIC', 'tueb', 0.6529342857142857), ('BIC', 'tueb', 0.6515008163265307)]\n"
     ]
    }
   ],
   "source": [
    "print(resultlist)"
   ]
  },
  {
   "cell_type": "code",
   "execution_count": null,
   "metadata": {},
   "outputs": [
    {
     "name": "stdout",
     "output_type": "stream",
     "text": [
      "[('AIC', 'cha', 0.6009860888888889), ('AIC', 'multi', 0.9568565777777779), ('AIC', 'net', 0.793262888888889), ('AIC', 'gauss', 0.714019111111111), ('BIC', 'cha', 0.5767421333333334), ('BIC', 'multi', 0.961397288888889), ('BIC', 'net', 0.7118214666666668), ('BIC', 'gauss', 0.6939331555555555)]\n"
     ]
    }
   ],
   "source": [
    "print(resultlist)"
   ]
  },
  {
   "cell_type": "code",
   "execution_count": null,
   "metadata": {},
   "outputs": [],
   "source": []
  },
  {
   "cell_type": "code",
   "execution_count": null,
   "metadata": {},
   "outputs": [
    {
     "ename": "NameError",
     "evalue": "name 'res_dict' is not defined",
     "output_type": "error",
     "traceback": [
      "\u001b[0;31m---------------------------------------------------------------------------\u001b[0m",
      "\u001b[0;31mNameError\u001b[0m                                 Traceback (most recent call last)",
      "Cell \u001b[0;32mIn[11], line 4\u001b[0m\n\u001b[1;32m      2\u001b[0m correct_weight \u001b[38;5;241m=\u001b[39m []\n\u001b[1;32m      3\u001b[0m wrong_weight \u001b[38;5;241m=\u001b[39m []\n\u001b[0;32m----> 4\u001b[0m \u001b[38;5;28;01mfor\u001b[39;00m run_idx \u001b[38;5;129;01min\u001b[39;00m \u001b[38;5;28mlist\u001b[39m(\u001b[43mres_dict\u001b[49m\u001b[38;5;241m.\u001b[39mkeys()):\n\u001b[1;32m      5\u001b[0m     curr_score \u001b[38;5;241m=\u001b[39m res_dict[run_idx]\n\u001b[1;32m      6\u001b[0m     \u001b[38;5;28;01mif\u001b[39;00m curr_score \u001b[38;5;241m<\u001b[39m \u001b[38;5;241m0\u001b[39m:\n",
      "\u001b[0;31mNameError\u001b[0m: name 'res_dict' is not defined"
     ]
    }
   ],
   "source": [
    "# Get the weighted accuracy\n",
    "correct_weight = []\n",
    "wrong_weight = []\n",
    "for run_idx in list(res_dict.keys()):\n",
    "    curr_score = res_dict[run_idx]\n",
    "    if curr_score < 0:\n",
    "        print(run_idx)\n",
    "        wrong_weight.append(weight[run_idx])\n",
    "    if curr_score > 0:\n",
    "        correct_weight.append(weight[run_idx])"
   ]
  },
  {
   "cell_type": "code",
   "execution_count": null,
   "metadata": {},
   "outputs": [],
   "source": [
    "# Find weighted accuracy\n",
    "correct_total_weight = np.sum(correct_weight)\n",
    "wrong_total_weight = np.sum(wrong_weight)\n",
    "accuracy = correct_total_weight / (correct_total_weight + wrong_total_weight)\n",
    "print(accuracy)"
   ]
  },
  {
   "cell_type": "code",
   "execution_count": null,
   "metadata": {},
   "outputs": [],
   "source": []
  }
 ],
 "metadata": {
  "interpreter": {
   "hash": "38665aa15a1bee6aa2315673d93250e6e4fd688337981f3b5a6f7bc8df7c11f4"
  },
  "kernelspec": {
   "display_name": "Python 3.9.10 64-bit ('gp-causal_3.9.10')",
   "language": "python",
   "name": "python3"
  },
  "language_info": {
   "codemirror_mode": {
    "name": "ipython",
    "version": 3
   },
   "file_extension": ".py",
   "mimetype": "text/x-python",
   "name": "python",
   "nbconvert_exporter": "python",
   "pygments_lexer": "ipython3",
   "version": "3.9.10"
  },
  "orig_nbformat": 4
 },
 "nbformat": 4,
 "nbformat_minor": 2
}
