{
 "cells": [
  {
   "cell_type": "code",
   "execution_count": 1,
   "metadata": {},
   "outputs": [],
   "source": [
    "import sys\n",
    "sys.path.append(\"/vol/bitbucket/ad6013/Research/gp-causal\")\n",
    "import numpy as np"
   ]
  },
  {
   "cell_type": "code",
   "execution_count": 88,
   "metadata": {},
   "outputs": [],
   "source": [
    "import dill \n",
    "\n",
    "\n",
    "work_dir = \"/vol/bitbucket/ad6013/Research/gp-causal\"\n",
    "\n",
    "file_1 = f\"fullscore-cep-gplvm-reinit20-numind200_start:0_end:10.p\"\n",
    "file_2 = f\"fullscore-cep-gplvm-reinit20-numind200_start:10_end:20.p\"\n",
    "file_3 = f\"fullscore-cep-gplvm-reinit20-numind200_start:20_end:30.p\"\n",
    "file_4 = f\"fullscore-cep-gplvm-reinit20-numind200_start:30_end:40.p\"\n",
    "file_5 = f\"fullscore-cep-gplvm-reinit20-numind200_start:40_end:50.p\"\n",
    "file_6 = f\"fullscore-cep-gplvm-reinit20-numind200_start:50_end:60.p\"\n",
    "file_7 = f\"fullscore-cep-gplvm-reinit20-numind200_start:60_end:70.p\"\n",
    "file_8 = f\"fullscore-cep-gplvm-reinit20-numind200_start:70_end:80.p\"\n",
    "file_9 = f\"fullscore-cep-gplvm-reinit20-numind200_start:80_end:90.p\"\n",
    "file_10 = f\"fullscore-cep-gplvm-reinit20-numind200_start:90_end:100.p\"\n",
    "\n",
    "# file_2_1 = f\"fullscore-cep-2-gplvm-reinit20-numind200_start:0_end:5.p\"\n",
    "# file_2_2 = f\"fullscore-cep-2-gplvm-reinit20-numind200_start:5_end:10.p\"\n",
    "# file_2_3 = f\"fullscore-cep-2-gplvm-reinit20-numind200_start:10_end:15.p\"\n",
    "# file_2_4 = f\"fullscore-cep-2-gplvm-reinit20-numind200_start:15_end:20.p\"\n",
    "# file_2_5 = f\"fullscore-cep-2-gplvm-reinit20-numind200_start:20_end:25.p\"\n",
    "# file_2_6 = f\"fullscore-cep-2-gplvm-reinit20-numind200_start:25_end:30.p\"\n",
    "# file_2_7 = f\"fullscore-cep-2-gplvm-reinit20-numind200_start:30_end:35.p\"\n",
    "# file_2_8 = f\"fullscore-cep-2-gplvm-reinit20-numind200_start:35_end:40.p\"\n",
    "# file_2_9 = f\"fullscore-cep-2-gplvm-reinit20-numind200_start:40_end:45.p\"\n",
    "# file_2_10 = f\"fullscore-ce-2p-gplvm-reinit20-numind200_start:45_end:50.p\""
   ]
  },
  {
   "cell_type": "code",
   "execution_count": 89,
   "metadata": {},
   "outputs": [
    {
     "name": "stderr",
     "output_type": "stream",
     "text": [
      "Load cause-effect pairs: 100%|██████████| 100/100 [00:00<00:00, 197.43it/s]\n"
     ]
    }
   ],
   "source": [
    "import importlib\n",
    "from data import get_data\n",
    "\n",
    "data_get = getattr(get_data, f\"get_tubingen_pairs_dataset\")\n",
    "\n",
    "x, y, weight, target = data_get(data_path=f\"{work_dir}/data/pairs/files\")"
   ]
  },
  {
   "cell_type": "code",
   "execution_count": 96,
   "metadata": {},
   "outputs": [
    {
     "name": "stdout",
     "output_type": "stream",
     "text": [
      "6\n",
      "10\n",
      "10\n",
      "10\n",
      "10\n",
      "6\n"
     ]
    }
   ],
   "source": [
    "for file_idx in range(6):\n",
    "    with open(f\"{work_dir}/results/{eval(f'file_{file_idx + 1}')}\", \"rb\") as f:\n",
    "        results = dill.load(f)\n",
    "        print(len(results['scores']))"
   ]
  },
  {
   "cell_type": "code",
   "execution_count": 97,
   "metadata": {},
   "outputs": [
    {
     "data": {
      "text/plain": [
       "((272.43619927058114, 225.64806031042144),\n",
       " (246.98532926534, 249.31528097950883))"
      ]
     },
     "execution_count": 97,
     "metadata": {},
     "output_type": "execute_result"
    }
   ],
   "source": [
    "results['scores'][1]"
   ]
  },
  {
   "cell_type": "code",
   "execution_count": 98,
   "metadata": {},
   "outputs": [
    {
     "name": "stdout",
     "output_type": "stream",
     "text": [
      "498.0842595810026 496.3006102448488\n"
     ]
    }
   ],
   "source": [
    "print(sum(results['scores'][1][0]), sum(results['scores'][1][1]))"
   ]
  },
  {
   "cell_type": "code",
   "execution_count": 99,
   "metadata": {},
   "outputs": [
    {
     "data": {
      "text/plain": [
       "6"
      ]
     },
     "execution_count": 99,
     "metadata": {},
     "output_type": "execute_result"
    }
   ],
   "source": [
    "len(results['scores'])"
   ]
  },
  {
   "cell_type": "code",
   "execution_count": 100,
   "metadata": {},
   "outputs": [
    {
     "data": {
      "text/plain": [
       "[((517.1140030359618, 487.904108143384),\n",
       "  (517.9125658129263, 485.73964184053716)),\n",
       " ((272.43619927058114, 225.64806031042144),\n",
       "  (246.98532926534, 249.31528097950883)),\n",
       " ((272.43619932621107, 237.42256795629814),\n",
       "  (253.0963749594522, 256.64766764383955)),\n",
       " ((272.4361989501835, 239.44217026597013),\n",
       "  (254.710337416411, 256.44486261943456)),\n",
       " ((272.4361991011388, 237.60129106164138),\n",
       "  (254.1882255684717, 256.17283509999646)),\n",
       " ((272.4361991762253, 247.78559951489615),\n",
       "  (256.81643825080744, 259.987225179557))]"
      ]
     },
     "execution_count": 100,
     "metadata": {},
     "output_type": "execute_result"
    }
   ],
   "source": [
    "results['scores']"
   ]
  },
  {
   "cell_type": "code",
   "execution_count": 101,
   "metadata": {},
   "outputs": [
    {
     "data": {
      "text/plain": [
       "[58]"
      ]
     },
     "execution_count": 101,
     "metadata": {},
     "output_type": "execute_result"
    }
   ],
   "source": [
    "results['correct_idx']"
   ]
  },
  {
   "cell_type": "code",
   "execution_count": 102,
   "metadata": {},
   "outputs": [
    {
     "data": {
      "text/plain": [
       "[50, 55, 56, 57, 59]"
      ]
     },
     "execution_count": 102,
     "metadata": {},
     "output_type": "execute_result"
    }
   ],
   "source": [
    "results['wrong_idx']"
   ]
  },
  {
   "cell_type": "code",
   "execution_count": 68,
   "metadata": {},
   "outputs": [],
   "source": [
    "from collections import defaultdict\n",
    "from collections import namedtuple\n",
    "\n",
    "\n",
    "GPLVM_SCORES = namedtuple('GPLVM_SCORES', 'loss_x loss_y_x loss_y loss_x_y')"
   ]
  },
  {
   "cell_type": "code",
   "execution_count": 69,
   "metadata": {},
   "outputs": [],
   "source": [
    "from functools import partial\n",
    "\n",
    "\n",
    "save_name = f\"fullscore-cep-gplvm-reinit20-numind200_start:95_end:100.p\"\n",
    "\n",
    "\n",
    "def pickle_this(save_name, run_list, single_run_list, start):\n",
    "    final_scores = defaultdict(dict)\n",
    "\n",
    "    for j in range(20):\n",
    "        for i in run_list + single_run_list:\n",
    "            if i in single_run_list:\n",
    "                if j > 0:\n",
    "                    continue \n",
    "                else:\n",
    "                    pass\n",
    "            run_score = results['scores'][i - start]\n",
    "            loss_x = run_score[0][0]\n",
    "            loss_y_x = run_score[0][1]\n",
    "            loss_y = run_score[1][0]\n",
    "            loss_x_y = run_score[1][1]\n",
    "            this_run_score = GPLVM_SCORES(loss_x, loss_y_x, loss_y, loss_x_y)\n",
    "            final_scores[i].update({j: this_run_score})\n",
    "        \n",
    "\n",
    "    save_path = f\"{work_dir}/results/{save_name}\"\n",
    "    with open(save_path, 'wb') as f:\n",
    "        save_dict = {\n",
    "            \"correct_idx\": run_list,\n",
    "            \"wrong_idx\": [],\n",
    "            \"weight\": [weight[i] for i in run_list],\n",
    "            \"final_scores\": final_scores,\n",
    "            \"best_scores\": {},\n",
    "        }\n",
    "        dill.dump(save_dict, f)"
   ]
  },
  {
   "cell_type": "code",
   "execution_count": 21,
   "metadata": {},
   "outputs": [],
   "source": [
    "pickle_this(save_name, run_list=[], single_run_list=[], start=90)\n",
    "# pickle_this(save_name, run_list=[5], single_run_list=[], start=0)"
   ]
  },
  {
   "cell_type": "code",
   "execution_count": 85,
   "metadata": {},
   "outputs": [],
   "source": [
    "with open(f\"{work_dir}/results/fullscore-cep-gplvm-reinit20-numind200_start:50_end:55.p\", \"rb\") as f:\n",
    "    res = dill.load(f)"
   ]
  },
  {
   "cell_type": "code",
   "execution_count": 86,
   "metadata": {},
   "outputs": [
    {
     "data": {
      "text/plain": [
       "dict_keys([])"
      ]
     },
     "execution_count": 86,
     "metadata": {},
     "output_type": "execute_result"
    }
   ],
   "source": [
    "res['final_scores'].keys()"
   ]
  },
  {
   "cell_type": "code",
   "execution_count": 87,
   "metadata": {},
   "outputs": [
    {
     "data": {
      "text/plain": [
       "{'correct_idx': [],\n",
       " 'wrong_idx': [],\n",
       " 'weight': [],\n",
       " 'final_scores': defaultdict(dict, {}),\n",
       " 'best_scores': {}}"
      ]
     },
     "execution_count": 87,
     "metadata": {},
     "output_type": "execute_result"
    }
   ],
   "source": [
    "res"
   ]
  },
  {
   "cell_type": "code",
   "execution_count": 74,
   "metadata": {},
   "outputs": [
    {
     "data": {
      "text/plain": [
       "[((1882.3279692523884, 2280.126516992707),\n",
       "  (2312.581290725852, 1899.5876441707242)),\n",
       " ((3064.4271374962154, 2723.457524959318),\n",
       "  (2590.8549615371685, 3203.6127925300207)),\n",
       " ((111.23245454957942, 182.68645867930522),\n",
       "  (262.2278872534728, 27.79729764230285)),\n",
       " ((111.23245454957942, 135.62148737219388),\n",
       "  (197.56923138242166, 27.79729764230285)),\n",
       " ((111.23245454957942, 135.62148737219388),\n",
       "  (197.56923138242166, 27.79729764230285)),\n",
       " ((111.23245454957942, 135.62148737219388),\n",
       "  (197.56923138242166, 27.79729764230285)),\n",
       " ((111.23245454957942, 135.62148737219388),\n",
       "  (197.56923138242166, 27.79729764230285)),\n",
       " ((111.23245454957942, 135.62148737219388),\n",
       "  (197.56923138242166, 27.79729764230285)),\n",
       " ((111.23245454957942, 135.62148737219388),\n",
       "  (197.56923138242166, 27.79729764230285))]"
      ]
     },
     "execution_count": 74,
     "metadata": {},
     "output_type": "execute_result"
    }
   ],
   "source": [
    "results['scores']"
   ]
  },
  {
   "cell_type": "code",
   "execution_count": null,
   "metadata": {},
   "outputs": [],
   "source": []
  }
 ],
 "metadata": {
  "interpreter": {
   "hash": "a8d95aa7f610185758b0e4e87261a268c67bfd80b13e0d0c16090894e4422c34"
  },
  "kernelspec": {
   "display_name": "Python 3.8.10 ('gp-causal-3.8')",
   "language": "python",
   "name": "python3"
  },
  "language_info": {
   "codemirror_mode": {
    "name": "ipython",
    "version": 3
   },
   "file_extension": ".py",
   "mimetype": "text/x-python",
   "name": "python",
   "nbconvert_exporter": "python",
   "pygments_lexer": "ipython3",
   "version": "3.9.5"
  },
  "orig_nbformat": 4
 },
 "nbformat": 4,
 "nbformat_minor": 2
}
