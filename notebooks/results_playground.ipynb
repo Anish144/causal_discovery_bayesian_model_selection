{
 "cells": [
  {
   "cell_type": "code",
   "execution_count": null,
   "metadata": {},
   "outputs": [],
   "source": [
    "import sys\n",
    "sys.path.append(\"/vol/bitbucket/ad6013/Research/gp-causal\")\n",
    "import numpy as np\n",
    "import matplotlib.pyplot as plt\n",
    "\n",
    "import pickle"
   ]
  },
  {
   "cell_type": "code",
   "execution_count": null,
   "metadata": {},
   "outputs": [],
   "source": [
    "file_2 = \"/vol/bitbucket/ad6013/Research/gp-causal/results/fullscore-sim-2-gplvm-sqexp-reinit20.p\"\n",
    "\n",
    "\n",
    "with open(file_2, \"rb\") as f:\n",
    "    results_2 = pickle.load(f)"
   ]
  },
  {
   "cell_type": "code",
   "execution_count": null,
   "metadata": {},
   "outputs": [],
   "source": [
    "file_1 = \"/vol/bitbucket/ad6013/Research/gp-causal/results/fullscore-sim-gplvm-sqexp-reinit20.p\"\n",
    "\n",
    "\n",
    "with open(file_1, \"rb\") as f:\n",
    "    results_1 = pickle.load(f)"
   ]
  },
  {
   "cell_type": "code",
   "execution_count": null,
   "metadata": {},
   "outputs": [],
   "source": [
    "# log odds will be causal hypothesis over anticausal\n",
    "scores_1 = {}\n",
    "for idx, i in enumerate(results_1['scores']):\n",
    "    if idx > 49:\n",
    "        break\n",
    "    causal = i[0]\n",
    "    anti_causal = i[1]\n",
    "    scores_1[idx] = (causal, anti_causal)\n",
    "    if sum(causal) > sum(anti_causal):\n",
    "        print(idx)"
   ]
  },
  {
   "cell_type": "code",
   "execution_count": null,
   "metadata": {},
   "outputs": [],
   "source": [
    "# log odds will be causal hypothesis over anticausal\n",
    "scores_2 = {}\n",
    "for idx, i in enumerate(results_2[1]):\n",
    "    idx += 50\n",
    "    causal = i[0]\n",
    "    anti_causal = i[1]\n",
    "    scores_2[idx] = (causal, anti_causal)\n",
    "    if sum(causal) > sum(anti_causal):\n",
    "        print(idx)"
   ]
  },
  {
   "cell_type": "code",
   "execution_count": null,
   "metadata": {},
   "outputs": [],
   "source": [
    "file_3 = \"/vol/bitbucket/ad6013/Research/gp-causal/results/fullscore-sim-gplvm-sqexp-reinit5-numind110.p\"\n",
    "\n",
    "\n",
    "with open(file_3, \"rb\") as f:\n",
    "    results_3 = pickle.load(f)"
   ]
  },
  {
   "cell_type": "code",
   "execution_count": null,
   "metadata": {},
   "outputs": [],
   "source": [
    "wrong = [1,\n",
    "    8,\n",
    "    9,\n",
    "    10,\n",
    "    11,\n",
    "    13,\n",
    "    15,\n",
    "    18,\n",
    "    23,\n",
    "    25,\n",
    "    31,\n",
    "    33,\n",
    "    38,\n",
    "    39,\n",
    "    46,\n",
    "    48,\n",
    "    55,\n",
    "    58,\n",
    "    63,\n",
    "    71,\n",
    "    74,\n",
    "    76,\n",
    "    84,\n",
    "    87]\n",
    "scores_3 = {}\n",
    "for idx, i in enumerate(results_3['scores']):\n",
    "    causal = i[0]\n",
    "    anti_causal = i[1]\n",
    "    scores_3[wrong[idx]] = (causal, anti_causal)"
   ]
  },
  {
   "cell_type": "code",
   "execution_count": null,
   "metadata": {},
   "outputs": [],
   "source": [
    "if 50 in scores_2.keys():\n",
    "    print(1)"
   ]
  },
  {
   "cell_type": "code",
   "execution_count": null,
   "metadata": {},
   "outputs": [],
   "source": [
    "final_scores = {}\n",
    "all_log_diffs = {}\n",
    "correct_idx = []\n",
    "wrong_idx = []\n",
    "for i in range(100):\n",
    "    if i in scores_3.keys():\n",
    "        causal_x_3 = scores_3[i][0][0]\n",
    "        causal_y_x_3 = scores_3[i][0][1]\n",
    "        anticausal_y_3 = scores_3[i][1][0]\n",
    "        anticausal_x_y_3 = scores_3[i][1][1]\n",
    "        compare = True\n",
    "    else:\n",
    "        compare = False \n",
    "    if i in scores_1.keys():\n",
    "        causal_x = scores_1[i][0][0]\n",
    "        causal_y_x = scores_1[i][0][1]\n",
    "        anticausal_y = scores_1[i][1][0]\n",
    "        anticausal_x_y = scores_1[i][1][1]\n",
    "    elif i in scores_2.keys():\n",
    "        causal_x = scores_2[i][0][0]\n",
    "        causal_y_x = scores_2[i][0][1]\n",
    "        anticausal_y = scores_2[i][1][0]\n",
    "        anticausal_x_y = scores_2[i][1][1]\n",
    "    else:\n",
    "        raise ValueError(f\"{i} not found in results!\")\n",
    "    if compare:\n",
    "        final_causal_x = min(causal_x, causal_x_3)\n",
    "        final_causal_y_x = min(causal_y_x, causal_y_x_3)\n",
    "        final_anticausal_y = min(anticausal_y, anticausal_y_3)\n",
    "        final_anticausal_x_y = min(anticausal_x_y, anticausal_x_y_3)\n",
    "    else:\n",
    "        final_causal_x = causal_x\n",
    "        final_causal_y_x = causal_y_x\n",
    "        final_anticausal_y = anticausal_y\n",
    "        final_anticausal_x_y = anticausal_x_y\n",
    "    final_scores[i] = (\n",
    "        (final_causal_x, final_causal_y_x),\n",
    "        (final_anticausal_y, final_anticausal_x_y)\n",
    "    )\n",
    "    score_causal = final_causal_x + final_causal_y_x\n",
    "    score_anticausal = final_anticausal_y + final_anticausal_x_y\n",
    "    log_diff = score_causal - score_anticausal\n",
    "    all_log_diffs[i] = log_diff\n",
    "    if log_diff < 0:\n",
    "        correct_idx.append(i)\n",
    "    elif log_diff > 0:\n",
    "        wrong_idx.append(i)\n",
    "    else:\n",
    "        print(\n",
    "            f\"Undecided: {i}\"\n",
    "        )\n"
   ]
  },
  {
   "cell_type": "code",
   "execution_count": null,
   "metadata": {},
   "outputs": [],
   "source": [
    "wrong_idx"
   ]
  },
  {
   "cell_type": "code",
   "execution_count": null,
   "metadata": {},
   "outputs": [],
   "source": [
    "plt.bar(np.arange(len(all_log_diffs)), list(all_log_diffs.values()))\n",
    "plt.ylabel(\"Log difference\")\n",
    "plt.xlabel(\"Dataset Index\")\n",
    "# plt.ylim(-400, 200)\n",
    "plt.show()"
   ]
  },
  {
   "cell_type": "code",
   "execution_count": null,
   "metadata": {},
   "outputs": [],
   "source": [
    "# Calculate ROC curve and AUC \n",
    "# The score value should be - causal + anticausal\n",
    "# This is because a higher score should mean causal and a lower score mean anticausal\n",
    "\n",
    "# We also need to ensure half the labels are anticausal and half the labels are causal\n",
    "# We thus need to generate indexes that will be the anticausal direction is true\n",
    "# then for the other ones, we will multiply the scores by -1\n",
    "\n",
    "anticausal_labels = np.random.choice(100, 50, replace=False)\n",
    "causal_labels = np.array(\n",
    "    list(\n",
    "        set(np.arange(100)) - set(anticausal_labels)\n",
    "    )\n",
    ")\n",
    "y_labels = np.zeros(100)\n",
    "y_scores = np.zeros(100)\n",
    "for i in range(100):\n",
    "    if i in anticausal_labels:\n",
    "        y_labels[i] = -1\n",
    "        y_scores[i] = all_log_diffs[i]\n",
    "    elif i in causal_labels:\n",
    "        y_labels[i] = 1\n",
    "        y_scores[i] = -1 * all_log_diffs[i]\n",
    "    else:\n",
    "        raise ValueError(f\"Missed {i}\")\n",
    "    "
   ]
  },
  {
   "cell_type": "code",
   "execution_count": null,
   "metadata": {},
   "outputs": [],
   "source": [
    "from sklearn.metrics import roc_curve\n",
    "from sklearn.metrics import roc_curve, auc\n",
    "\n",
    "\n",
    "fpr, tpr, _ = roc_curve(y_labels, y_scores)\n",
    "roc_auc = auc(fpr, tpr)"
   ]
  },
  {
   "cell_type": "code",
   "execution_count": null,
   "metadata": {},
   "outputs": [],
   "source": [
    "roc_auc"
   ]
  },
  {
   "cell_type": "code",
   "execution_count": null,
   "metadata": {},
   "outputs": [],
   "source": [
    "textstr = 'roc auc=%.3f\\n'%(\n",
    "    roc_auc\n",
    ")\n",
    "plt.text(0.8, 0.2, textstr, fontsize=10)\n",
    "plt.plot(\n",
    "    fpr, tpr\n",
    ")\n",
    "plt.xlabel(\"False Positive Rate\")\n",
    "plt.ylabel(\"True Positive Rate\")\n",
    "plt.title(\"Receiver operating characteristic\")\n",
    "plt.show()"
   ]
  },
  {
   "cell_type": "code",
   "execution_count": null,
   "metadata": {},
   "outputs": [],
   "source": [
    "file = \"/vol/bitbucket/ad6013/Research/gp-causal/results/fullscore-cep-gplvm-sqexp-reinit20.p\"\n",
    "\n",
    "\n",
    "with open(file, \"rb\") as f:\n",
    "    results_tub = pickle.load(f)"
   ]
  },
  {
   "cell_type": "code",
   "execution_count": null,
   "metadata": {},
   "outputs": [],
   "source": [
    "corr, wrong, weight = results_tub[\"correct_idx\"], results_tub[\"wrong_idx\"], results_tub[\"weight\"]\n",
    "correct_weight = [weight[i] for i in corr]\n",
    "wrong_weight = [weight[i] for i in wrong]\n",
    "accuracy = np.sum(correct_weight) / (np.sum(correct_weight) + np.sum(wrong_weight))\n",
    "print(f\"\\n Final accuracy: {accuracy}\")"
   ]
  },
  {
   "cell_type": "code",
   "execution_count": null,
   "metadata": {},
   "outputs": [],
   "source": [
    "# log odds will be causal hypothesis over anticausal\n",
    "log_odds_tub = []\n",
    "for i in results_tub['scores']:\n",
    "    causal = sum(i[0])\n",
    "    anti_causal = sum(i[1])\n",
    "    log_odds_tub.append(causal - anti_causal)"
   ]
  },
  {
   "cell_type": "code",
   "execution_count": null,
   "metadata": {},
   "outputs": [],
   "source": [
    "plt.bar(np.arange(len(log_odds_tub)), log_odds_tub)\n",
    "plt.ylabel(\"Log odds - 1\")\n",
    "plt.xlabel(\"Dataset Index\")\n",
    "plt.ylim(-1000, 1000)\n",
    "plt.show()"
   ]
  },
  {
   "cell_type": "code",
   "execution_count": null,
   "metadata": {},
   "outputs": [],
   "source": [
    "for idx, i in enumerate(log_odds_tub):\n",
    "    print(\n",
    "        f\"{idx}, {i}\"\n",
    "    )\n"
   ]
  },
  {
   "cell_type": "code",
   "execution_count": null,
   "metadata": {},
   "outputs": [],
   "source": []
  },
  {
   "cell_type": "code",
   "execution_count": null,
   "metadata": {},
   "outputs": [],
   "source": [
    "Correct: 40, Wrong: 17\n",
    "Correct: 42, Wrong: 8"
   ]
  },
  {
   "cell_type": "code",
   "execution_count": null,
   "metadata": {},
   "outputs": [],
   "source": [
    "wrong_idx"
   ]
  },
  {
   "cell_type": "code",
   "execution_count": null,
   "metadata": {},
   "outputs": [],
   "source": [
    "# Plot the results that we got wrong\n",
    "from data.get_data import get_simulated_pairs_dataset\n",
    "\n",
    "\n",
    "x, y, weight = get_simulated_pairs_dataset(\n",
    "    data_path='/vol/bitbucket/ad6013/Research/gp-causal/data/sim_pairs/files'\n",
    ")\n",
    "\n",
    "for i in range(100):\n",
    "    if i in wrong_idx:\n",
    "        input, output = x[i], y[i]\n",
    "        input = (input - input.mean(axis=0)[:, None]) / input.std(axis=0)[:, None]\n",
    "        output = (output - output.mean(axis=0)[:, None]) / output.std(axis=0)[:, None]\n",
    "        print(f\"\\n {i}: {all_log_diffs[i]}\")\n",
    "        plt.scatter(input[:, 0], output[:, 0])\n",
    "        plt.show()"
   ]
  },
  {
   "cell_type": "markdown",
   "metadata": {},
   "source": [
    "# Cha pairs results analysis"
   ]
  },
  {
   "cell_type": "code",
   "execution_count": null,
   "metadata": {},
   "outputs": [],
   "source": [
    "import sys\n",
    "sys.path.append(\"/vol/bitbucket/ad6013/Research/gp-causal\")"
   ]
  },
  {
   "cell_type": "code",
   "execution_count": null,
   "metadata": {},
   "outputs": [],
   "source": [
    "import pickle \n",
    "import matplotlib.pyplot as plt\n",
    "import numpy as np\n",
    "\n",
    "\n",
    "work_dir = \"/vol/bitbucket/ad6013/Research/gp-causal\"\n",
    "file = \"fullscore-cha_pairs-gplvm-reinit20-numind200_start:0_end:150.p\"\n",
    "file_2 = \"fullscore-cha_pairs-gplvm-reinit20-numind200_start:150_end:300.p\""
   ]
  },
  {
   "cell_type": "code",
   "execution_count": null,
   "metadata": {},
   "outputs": [],
   "source": [
    "with open(f\"{work_dir}/results/{file}\", \"rb\") as f:\n",
    "    results = pickle.load(f)\n",
    "with open(f\"{work_dir}/results/{file_2}\", \"rb\") as f:\n",
    "    results_2 = pickle.load(f)"
   ]
  },
  {
   "cell_type": "code",
   "execution_count": null,
   "metadata": {},
   "outputs": [],
   "source": [
    "from data.get_data import get_cha_pairs_dataset\n",
    "\n",
    "\n",
    "x, y, weight, target = get_cha_pairs_dataset(data_path=f\"{work_dir}/data/cha_pairs/files\")"
   ]
  },
  {
   "cell_type": "code",
   "execution_count": null,
   "metadata": {},
   "outputs": [],
   "source": [
    "num_runs_1 = len(results['scores'])\n",
    "num_runs_2 = len(results_2['scores'])\n",
    "all_bfgs_cha_scores = {} \n",
    "\n",
    "y_labels = np.zeros(num_runs_1 + num_runs_2)\n",
    "y_scores = np.zeros(num_runs_1 + num_runs_2)\n",
    "# causal labels are 1 thus we need to multiply all scores by -1\n",
    "for i in range(num_runs_1):\n",
    "    y_label_i = target[i][0]\n",
    "    y_labels[i] = y_label_i\n",
    "    # Calculate the score\n",
    "    # This is a tuple\n",
    "    scores = results['scores'][i]\n",
    "    all_bfgs_cha_scores[i] = scores\n",
    "    causal = sum(scores[0])\n",
    "    anti_causal = sum(scores[1])\n",
    "    final_score = - causal + anti_causal\n",
    "    y_scores[i] = final_score\n",
    "for i in range(150, 150 + num_runs_2):\n",
    "    idx = i - 150 + num_runs_1\n",
    "    y_label_i = target[i][0]\n",
    "    y_labels[idx] = y_label_i\n",
    "    # Calculate the score\n",
    "    # This is a tuple\n",
    "    scores = results_2['scores'][i - 150]\n",
    "    all_bfgs_cha_scores[i] = scores\n",
    "    causal = sum(scores[0])\n",
    "    anti_causal = sum(scores[1])\n",
    "    final_score = - causal + anti_causal\n",
    "    y_scores[idx] = final_score\n"
   ]
  },
  {
   "cell_type": "code",
   "execution_count": null,
   "metadata": {},
   "outputs": [],
   "source": [
    "all_bfgs_cha_scores"
   ]
  },
  {
   "cell_type": "code",
   "execution_count": null,
   "metadata": {},
   "outputs": [],
   "source": [
    "from sklearn.metrics import roc_curve\n",
    "from sklearn.metrics import roc_curve, auc\n",
    "from sklearn.metrics import roc_auc_score\n",
    "\n",
    "\n",
    "fpr, tpr, _ = roc_curve(y_labels, y_scores)\n",
    "roc_auc = auc(fpr, tpr)\n"
   ]
  },
  {
   "cell_type": "code",
   "execution_count": null,
   "metadata": {},
   "outputs": [],
   "source": [
    "roc_auc"
   ]
  },
  {
   "cell_type": "code",
   "execution_count": null,
   "metadata": {},
   "outputs": [],
   "source": [
    "textstr = 'roc auc=%.3f\\n'%(\n",
    "    roc_auc\n",
    ")\n",
    "plt.text(0.8, 0.2, textstr, fontsize=10)\n",
    "plt.plot(\n",
    "    fpr, tpr\n",
    ")\n",
    "plt.xlabel(\"False Positive Rate\")\n",
    "plt.ylabel(\"True Positive Rate\")\n",
    "plt.title(\"Receiver operating characteristic\")\n",
    "plt.show()"
   ]
  },
  {
   "cell_type": "markdown",
   "metadata": {},
   "source": [
    "# Gauss pairs results analysis"
   ]
  },
  {
   "cell_type": "code",
   "execution_count": 12,
   "metadata": {},
   "outputs": [],
   "source": [
    "import sys\n",
    "import dill\n",
    "sys.path.append(\"/vol/bitbucket/ad6013/Research/gp-causal\")"
   ]
  },
  {
   "cell_type": "code",
   "execution_count": 13,
   "metadata": {},
   "outputs": [],
   "source": [
    "from data import get_data"
   ]
  },
  {
   "cell_type": "code",
   "execution_count": 14,
   "metadata": {},
   "outputs": [],
   "source": [
    "data_name = \"cha\""
   ]
  },
  {
   "cell_type": "code",
   "execution_count": 15,
   "metadata": {},
   "outputs": [],
   "source": [
    "import pickle \n",
    "import matplotlib.pyplot as plt\n",
    "import numpy as np\n",
    "\n",
    "\n",
    "\n",
    "work_dir = \"/vol/bitbucket/ad6013/Research/gp-causal\"\n",
    "file_1 = f\"fullscore-{data_name}_pairs-gplvmgeneralised-reinit10-numind200_start:0_end:20.p\"\n",
    "file_2 = f\"fullscore-{data_name}_pairs-gplvmgeneralised-reinit10-numind200_start:20_end:40.p\"\n",
    "file_3 = f\"fullscore-{data_name}_pairs-gplvmgeneralised-reinit10-numind200_start:40_end:60.p\"\n",
    "file_4 = f\"fullscore-{data_name}_pairs-gplvmgeneralised-reinit10-numind200_start:60_end:80.p\"\n",
    "file_5 = f\"fullscore-{data_name}_pairs-gplvmgeneralised-reinit10-numind200_start:80_end:100.p\"\n",
    "file_6 = f\"fullscore-{data_name}_pairs-gplvmgeneralised-reinit10-numind200_start:100_end:120.p\"\n",
    "file_7 = f\"fullscore-{data_name}_pairs-gplvmgeneralised-reinit10-numind200_start:120_end:140.p\"\n",
    "file_8 = f\"fullscore-{data_name}_pairs-gplvmgeneralised-reinit10-numind200_start:140_end:160.p\"\n",
    "file_9 = f\"fullscore-{data_name}_pairs-gplvmgeneralised-reinit10-numind200_start:160_end:180.p\"\n",
    "file_10 = f\"fullscore-{data_name}_pairs-gplvmgeneralised-reinit10-numind200_start:180_end:200.p\"\n",
    "file_11 = f\"fullscore-{data_name}_pairs-gplvmgeneralised-reinit10-numind200_start:200_end:220.p\"\n",
    "file_12 = f\"fullscore-{data_name}_pairs-gplvmgeneralised-reinit10-numind200_start:220_end:240.p\"\n",
    "file_13 = f\"fullscore-{data_name}_pairs-gplvmgeneralised-reinit10-numind200_start:240_end:260.p\"\n",
    "file_14 = f\"fullscore-{data_name}_pairs-gplvmgeneralised-reinit10-numind200_start:260_end:280.p\"\n",
    "file_15 = f\"fullscore-{data_name}_pairs-gplvmgeneralised-reinit10-numind200_start:280_end:300.p\""
   ]
  },
  {
   "cell_type": "code",
   "execution_count": 16,
   "metadata": {},
   "outputs": [],
   "source": [
    "import importlib\n",
    "from data import get_data\n",
    "\n",
    "\n",
    "data_get = getattr(get_data, f\"get_{data_name}_pairs_dataset\")\n",
    "\n",
    "x, y, weight, target = data_get(data_path=f\"{work_dir}/data/{data_name}_pairs/files\")"
   ]
  },
  {
   "cell_type": "code",
   "execution_count": 17,
   "metadata": {},
   "outputs": [],
   "source": [
    "all_results = {}\n",
    "for file_idx in range(15):\n",
    "    with open(f\"{work_dir}/results/{eval(f'file_{file_idx + 1}')}\", \"rb\") as f:\n",
    "        results = dill.load(f)\n",
    "    all_results.update(results[\"final_scores\"])"
   ]
  },
  {
   "cell_type": "code",
   "execution_count": 18,
   "metadata": {},
   "outputs": [],
   "source": [
    "def get_scores(best_scores):\n",
    "    total_runs = len(list(best_scores.keys()))\n",
    "    y_scores = {}\n",
    "    y_scores_array = np.zeros(total_runs)\n",
    "    for idx, run_idx in enumerate(list(best_scores.keys())):\n",
    "        current_run = best_scores[run_idx]\n",
    "        causal_score = current_run.best_loss_x + current_run.best_loss_y_x\n",
    "        anticausal_score = current_run.best_loss_y + current_run.best_loss_x_y\n",
    "        y_scores[run_idx] = - causal_score + anticausal_score\n",
    "        y_scores_array[idx] = - causal_score + anticausal_score \n",
    "    return y_scores, y_scores_array"
   ]
  },
  {
   "cell_type": "code",
   "execution_count": 19,
   "metadata": {},
   "outputs": [],
   "source": [
    "from utils import return_all_scores, return_best_causal_scores, get_correct\n",
    "\n",
    "\n",
    "all_x, all_y_x, all_y, all_x_y = return_all_scores(all_results)\n",
    "best_scores = return_best_causal_scores(all_x, all_y_x, all_y, all_x_y)"
   ]
  },
  {
   "cell_type": "code",
   "execution_count": 20,
   "metadata": {},
   "outputs": [],
   "source": [
    "_, y_scores = get_scores(best_scores)"
   ]
  },
  {
   "cell_type": "code",
   "execution_count": 40,
   "metadata": {},
   "outputs": [
    {
     "data": {
      "text/plain": [
       "array([[ 1.],\n",
       "       [ 1.],\n",
       "       [ 1.],\n",
       "       [ 1.],\n",
       "       [ 1.],\n",
       "       [-1.],\n",
       "       [-1.],\n",
       "       [-1.],\n",
       "       [ 1.],\n",
       "       [ 1.],\n",
       "       [-1.],\n",
       "       [ 1.],\n",
       "       [ 1.],\n",
       "       [ 1.],\n",
       "       [-1.],\n",
       "       [-1.],\n",
       "       [ 1.],\n",
       "       [-1.],\n",
       "       [ 1.],\n",
       "       [-1.],\n",
       "       [ 1.],\n",
       "       [-1.],\n",
       "       [ 1.],\n",
       "       [-1.],\n",
       "       [-1.],\n",
       "       [-1.],\n",
       "       [ 1.],\n",
       "       [-1.],\n",
       "       [-1.],\n",
       "       [ 1.],\n",
       "       [ 1.],\n",
       "       [ 1.],\n",
       "       [-1.],\n",
       "       [-1.],\n",
       "       [ 1.],\n",
       "       [ 1.],\n",
       "       [ 1.],\n",
       "       [-1.],\n",
       "       [-1.],\n",
       "       [ 1.],\n",
       "       [ 1.],\n",
       "       [ 1.],\n",
       "       [-1.],\n",
       "       [ 1.],\n",
       "       [ 1.],\n",
       "       [ 1.],\n",
       "       [-1.],\n",
       "       [-1.],\n",
       "       [-1.],\n",
       "       [ 1.],\n",
       "       [ 1.],\n",
       "       [-1.],\n",
       "       [ 1.],\n",
       "       [-1.],\n",
       "       [ 1.],\n",
       "       [-1.],\n",
       "       [-1.],\n",
       "       [-1.],\n",
       "       [-1.],\n",
       "       [ 1.],\n",
       "       [-1.],\n",
       "       [ 1.],\n",
       "       [-1.],\n",
       "       [-1.],\n",
       "       [-1.],\n",
       "       [-1.],\n",
       "       [-1.],\n",
       "       [-1.],\n",
       "       [ 1.],\n",
       "       [ 1.],\n",
       "       [-1.],\n",
       "       [-1.],\n",
       "       [ 1.],\n",
       "       [-1.],\n",
       "       [-1.],\n",
       "       [-1.],\n",
       "       [ 1.],\n",
       "       [ 1.],\n",
       "       [ 1.],\n",
       "       [ 1.],\n",
       "       [-1.],\n",
       "       [ 1.],\n",
       "       [-1.],\n",
       "       [-1.],\n",
       "       [ 1.],\n",
       "       [ 1.],\n",
       "       [-1.],\n",
       "       [ 1.],\n",
       "       [ 1.],\n",
       "       [ 1.],\n",
       "       [ 1.],\n",
       "       [ 1.],\n",
       "       [ 1.],\n",
       "       [ 1.],\n",
       "       [ 1.],\n",
       "       [ 1.],\n",
       "       [-1.],\n",
       "       [-1.],\n",
       "       [ 1.],\n",
       "       [-1.],\n",
       "       [-1.],\n",
       "       [-1.],\n",
       "       [ 1.],\n",
       "       [ 1.],\n",
       "       [-1.],\n",
       "       [-1.],\n",
       "       [-1.],\n",
       "       [-1.],\n",
       "       [ 1.],\n",
       "       [-1.],\n",
       "       [-1.],\n",
       "       [-1.],\n",
       "       [-1.],\n",
       "       [ 1.],\n",
       "       [ 1.],\n",
       "       [ 1.],\n",
       "       [-1.],\n",
       "       [ 1.],\n",
       "       [ 1.],\n",
       "       [ 1.],\n",
       "       [-1.],\n",
       "       [ 1.],\n",
       "       [-1.],\n",
       "       [-1.],\n",
       "       [ 1.],\n",
       "       [-1.],\n",
       "       [ 1.],\n",
       "       [-1.],\n",
       "       [ 1.],\n",
       "       [-1.],\n",
       "       [ 1.],\n",
       "       [-1.],\n",
       "       [-1.],\n",
       "       [ 1.],\n",
       "       [-1.],\n",
       "       [ 1.],\n",
       "       [ 1.],\n",
       "       [-1.],\n",
       "       [-1.],\n",
       "       [ 1.],\n",
       "       [ 1.],\n",
       "       [ 1.],\n",
       "       [-1.],\n",
       "       [-1.],\n",
       "       [ 1.],\n",
       "       [ 1.],\n",
       "       [ 1.],\n",
       "       [ 1.],\n",
       "       [ 1.],\n",
       "       [ 1.],\n",
       "       [-1.],\n",
       "       [-1.],\n",
       "       [-1.],\n",
       "       [-1.],\n",
       "       [-1.],\n",
       "       [-1.],\n",
       "       [-1.],\n",
       "       [ 1.],\n",
       "       [-1.],\n",
       "       [ 1.],\n",
       "       [-1.],\n",
       "       [-1.],\n",
       "       [ 1.],\n",
       "       [-1.],\n",
       "       [ 1.],\n",
       "       [ 1.],\n",
       "       [-1.],\n",
       "       [-1.],\n",
       "       [ 1.],\n",
       "       [-1.],\n",
       "       [ 1.],\n",
       "       [-1.],\n",
       "       [-1.],\n",
       "       [ 1.],\n",
       "       [-1.],\n",
       "       [ 1.],\n",
       "       [ 1.],\n",
       "       [-1.],\n",
       "       [-1.],\n",
       "       [ 1.],\n",
       "       [-1.],\n",
       "       [ 1.],\n",
       "       [-1.],\n",
       "       [ 1.],\n",
       "       [ 1.],\n",
       "       [-1.],\n",
       "       [ 1.],\n",
       "       [-1.],\n",
       "       [ 1.],\n",
       "       [-1.],\n",
       "       [ 1.],\n",
       "       [-1.],\n",
       "       [-1.],\n",
       "       [ 1.],\n",
       "       [ 1.],\n",
       "       [-1.],\n",
       "       [ 1.],\n",
       "       [-1.],\n",
       "       [ 1.],\n",
       "       [-1.],\n",
       "       [ 1.],\n",
       "       [ 1.],\n",
       "       [ 1.],\n",
       "       [ 1.],\n",
       "       [-1.],\n",
       "       [-1.],\n",
       "       [ 1.],\n",
       "       [-1.],\n",
       "       [ 1.],\n",
       "       [-1.],\n",
       "       [-1.],\n",
       "       [-1.],\n",
       "       [ 1.],\n",
       "       [ 1.],\n",
       "       [-1.],\n",
       "       [-1.],\n",
       "       [-1.],\n",
       "       [ 1.],\n",
       "       [ 1.],\n",
       "       [-1.],\n",
       "       [-1.],\n",
       "       [-1.],\n",
       "       [ 1.],\n",
       "       [-1.],\n",
       "       [-1.],\n",
       "       [-1.],\n",
       "       [-1.],\n",
       "       [-1.],\n",
       "       [-1.],\n",
       "       [-1.],\n",
       "       [ 1.],\n",
       "       [-1.],\n",
       "       [-1.],\n",
       "       [-1.],\n",
       "       [ 1.],\n",
       "       [-1.],\n",
       "       [-1.],\n",
       "       [-1.],\n",
       "       [ 1.],\n",
       "       [ 1.],\n",
       "       [-1.],\n",
       "       [-1.],\n",
       "       [ 1.],\n",
       "       [ 1.],\n",
       "       [ 1.],\n",
       "       [-1.],\n",
       "       [ 1.],\n",
       "       [-1.],\n",
       "       [ 1.],\n",
       "       [ 1.],\n",
       "       [ 1.],\n",
       "       [-1.],\n",
       "       [ 1.],\n",
       "       [-1.],\n",
       "       [ 1.],\n",
       "       [ 1.],\n",
       "       [-1.],\n",
       "       [-1.],\n",
       "       [-1.],\n",
       "       [ 1.],\n",
       "       [ 1.],\n",
       "       [-1.],\n",
       "       [ 1.],\n",
       "       [-1.],\n",
       "       [-1.],\n",
       "       [ 1.],\n",
       "       [-1.],\n",
       "       [ 1.],\n",
       "       [-1.],\n",
       "       [ 1.],\n",
       "       [-1.],\n",
       "       [-1.],\n",
       "       [ 1.],\n",
       "       [ 1.],\n",
       "       [-1.],\n",
       "       [ 1.],\n",
       "       [-1.],\n",
       "       [ 1.],\n",
       "       [-1.],\n",
       "       [ 1.],\n",
       "       [-1.],\n",
       "       [ 1.],\n",
       "       [ 1.],\n",
       "       [ 1.],\n",
       "       [ 1.],\n",
       "       [ 1.],\n",
       "       [-1.],\n",
       "       [-1.],\n",
       "       [ 1.],\n",
       "       [ 1.],\n",
       "       [ 1.],\n",
       "       [-1.],\n",
       "       [-1.],\n",
       "       [-1.],\n",
       "       [-1.],\n",
       "       [-1.],\n",
       "       [-1.],\n",
       "       [ 1.],\n",
       "       [-1.],\n",
       "       [-1.]])"
      ]
     },
     "execution_count": 40,
     "metadata": {},
     "output_type": "execute_result"
    }
   ],
   "source": [
    "target"
   ]
  },
  {
   "cell_type": "code",
   "execution_count": 38,
   "metadata": {},
   "outputs": [],
   "source": [
    "from sklearn.metrics import roc_curve\n",
    "from sklearn.metrics import roc_curve, auc\n",
    "from sklearn.metrics import roc_auc_score\n",
    "\n",
    "\n",
    "fpr, tpr, _ = roc_curve(target, y_scores)\n",
    "roc_auc = auc(fpr, tpr)\n",
    "\n",
    "# roc_auc = roc_auc_score(target, y_scores)"
   ]
  },
  {
   "cell_type": "code",
   "execution_count": 39,
   "metadata": {},
   "outputs": [
    {
     "data": {
      "text/plain": [
       "0.19150166852057843"
      ]
     },
     "execution_count": 39,
     "metadata": {},
     "output_type": "execute_result"
    }
   ],
   "source": [
    "roc_auc"
   ]
  },
  {
   "cell_type": "code",
   "execution_count": 50,
   "metadata": {},
   "outputs": [
    {
     "data": {
      "text/plain": [
       "0.8080533926585095"
      ]
     },
     "execution_count": 50,
     "metadata": {},
     "output_type": "execute_result"
    }
   ],
   "source": [
    "roc_auc"
   ]
  },
  {
   "cell_type": "code",
   "execution_count": 12,
   "metadata": {},
   "outputs": [
    {
     "ename": "KeyError",
     "evalue": "'scores'",
     "output_type": "error",
     "traceback": [
      "\u001b[0;31m---------------------------------------------------------------------------\u001b[0m",
      "\u001b[0;31mKeyError\u001b[0m                                  Traceback (most recent call last)",
      "\u001b[1;32m/vol/bitbucket/ad6013/Research/gp-causal/notebooks/results_playground.ipynb Cell 48'\u001b[0m in \u001b[0;36m<cell line: 7>\u001b[0;34m()\u001b[0m\n\u001b[1;32m      <a href='vscode-notebook-cell://ssh-remote%2Bmiasma.doc.ic.ac.uk/vol/bitbucket/ad6013/Research/gp-causal/notebooks/results_playground.ipynb#ch0000047vscode-remote?line=8'>9</a>\u001b[0m     results \u001b[39m=\u001b[39m pickle\u001b[39m.\u001b[39mload(f)\n\u001b[1;32m     <a href='vscode-notebook-cell://ssh-remote%2Bmiasma.doc.ic.ac.uk/vol/bitbucket/ad6013/Research/gp-causal/notebooks/results_playground.ipynb#ch0000047vscode-remote?line=9'>10</a>\u001b[0m     wrong_idx\u001b[39m.\u001b[39mextend(results[\u001b[39m'\u001b[39m\u001b[39mwrong_idx\u001b[39m\u001b[39m'\u001b[39m])\n\u001b[0;32m---> <a href='vscode-notebook-cell://ssh-remote%2Bmiasma.doc.ic.ac.uk/vol/bitbucket/ad6013/Research/gp-causal/notebooks/results_playground.ipynb#ch0000047vscode-remote?line=10'>11</a>\u001b[0m \u001b[39mfor\u001b[39;00m i \u001b[39min\u001b[39;00m \u001b[39mrange\u001b[39m(\u001b[39mlen\u001b[39m(results[\u001b[39m'\u001b[39;49m\u001b[39mscores\u001b[39;49m\u001b[39m'\u001b[39;49m])):\n\u001b[1;32m     <a href='vscode-notebook-cell://ssh-remote%2Bmiasma.doc.ic.ac.uk/vol/bitbucket/ad6013/Research/gp-causal/notebooks/results_playground.ipynb#ch0000047vscode-remote?line=11'>12</a>\u001b[0m     idx \u001b[39m=\u001b[39m \u001b[39m20\u001b[39m \u001b[39m*\u001b[39m file_idx \u001b[39m+\u001b[39m i\n\u001b[1;32m     <a href='vscode-notebook-cell://ssh-remote%2Bmiasma.doc.ic.ac.uk/vol/bitbucket/ad6013/Research/gp-causal/notebooks/results_playground.ipynb#ch0000047vscode-remote?line=12'>13</a>\u001b[0m     \u001b[39mif\u001b[39;00m idx \u001b[39m==\u001b[39m \u001b[39m1\u001b[39m:\n",
      "\u001b[0;31mKeyError\u001b[0m: 'scores'"
     ]
    }
   ],
   "source": [
    "y_labels = []\n",
    "y_scores = []\n",
    "wrong_idx = []\n",
    "all_bfgs_scores = {}\n",
    "all_causal_scores = {}\n",
    "\n",
    "for file_idx in range(15):\n",
    "    with open(f\"{work_dir}/results/{eval(f'file_{file_idx + 1}')}\", \"rb\") as f:\n",
    "        results = pickle.load(f)\n",
    "        wrong_idx.extend(results['wrong_idx'])\n",
    "    for i in range(len(results['scores'])):\n",
    "        idx = 20 * file_idx + i\n",
    "        if idx == 1:\n",
    "            print(results['scores'])\n",
    "        y_label_i = target[idx][0]\n",
    "        y_labels.append(y_label_i)\n",
    "        # Calculate the score\n",
    "        # This is a tuple\n",
    "        scores = results['scores'][i]\n",
    "        causal = sum(scores[0])\n",
    "        anti_causal = sum(scores[1])\n",
    "        final_score = - causal + anti_causal\n",
    "        y_scores.append(final_score)\n",
    "        all_bfgs_scores[idx] = scores \n",
    "        all_causal_scores[idx] = y_label_i * final_score"
   ]
  },
  {
   "cell_type": "code",
   "execution_count": null,
   "metadata": {},
   "outputs": [],
   "source": [
    "file_idx=0\n",
    "with open(f\"{work_dir}/results/{eval(f'file_{file_idx + 1}')}\", \"rb\") as f:\n",
    "    results = pickle.load(f)"
   ]
  },
  {
   "cell_type": "code",
   "execution_count": 13,
   "metadata": {},
   "outputs": [
    {
     "data": {
      "text/plain": [
       "{'correct_idx': [1, 2, 3, 4, 5, 6, 8, 10, 11, 13, 14, 15, 16, 17, 18, 19],\n",
       " 'wrong_idx': [0, 7, 9, 12],\n",
       " 'weight': array([1., 1., 1., 1., 1., 1., 1., 1., 1., 1., 1., 1., 1., 1., 1., 1., 1.,\n",
       "        1., 1., 1., 1., 1., 1., 1., 1., 1., 1., 1., 1., 1., 1., 1., 1., 1.,\n",
       "        1., 1., 1., 1., 1., 1., 1., 1., 1., 1., 1., 1., 1., 1., 1., 1., 1.,\n",
       "        1., 1., 1., 1., 1., 1., 1., 1., 1., 1., 1., 1., 1., 1., 1., 1., 1.,\n",
       "        1., 1., 1., 1., 1., 1., 1., 1., 1., 1., 1., 1., 1., 1., 1., 1., 1.,\n",
       "        1., 1., 1., 1., 1., 1., 1., 1., 1., 1., 1., 1., 1., 1., 1., 1., 1.,\n",
       "        1., 1., 1., 1., 1., 1., 1., 1., 1., 1., 1., 1., 1., 1., 1., 1., 1.,\n",
       "        1., 1., 1., 1., 1., 1., 1., 1., 1., 1., 1., 1., 1., 1., 1., 1., 1.,\n",
       "        1., 1., 1., 1., 1., 1., 1., 1., 1., 1., 1., 1., 1., 1., 1., 1., 1.,\n",
       "        1., 1., 1., 1., 1., 1., 1., 1., 1., 1., 1., 1., 1., 1., 1., 1., 1.,\n",
       "        1., 1., 1., 1., 1., 1., 1., 1., 1., 1., 1., 1., 1., 1., 1., 1., 1.,\n",
       "        1., 1., 1., 1., 1., 1., 1., 1., 1., 1., 1., 1., 1., 1., 1., 1., 1.,\n",
       "        1., 1., 1., 1., 1., 1., 1., 1., 1., 1., 1., 1., 1., 1., 1., 1., 1.,\n",
       "        1., 1., 1., 1., 1., 1., 1., 1., 1., 1., 1., 1., 1., 1., 1., 1., 1.,\n",
       "        1., 1., 1., 1., 1., 1., 1., 1., 1., 1., 1., 1., 1., 1., 1., 1., 1.,\n",
       "        1., 1., 1., 1., 1., 1., 1., 1., 1., 1., 1., 1., 1., 1., 1., 1., 1.,\n",
       "        1., 1., 1., 1., 1., 1., 1., 1., 1., 1., 1., 1., 1., 1., 1., 1., 1.,\n",
       "        1., 1., 1., 1., 1., 1., 1., 1., 1., 1., 1.]),\n",
       " 'scores': [((2128.4079357801097, 1160.9584729626072),\n",
       "   (2128.4079177564927, 1148.8441007556053)),\n",
       "  ((570.5029303694982, 1838.5080812583305),\n",
       "   (2112.0079350690785, 581.5357280249145)),\n",
       "  ((2005.6714134139438, 322.64773057966295),\n",
       "   (1501.555871951638, 546.9320689105443)),\n",
       "  ((1819.4497481719136, 608.2333043549193),\n",
       "   (1892.6395010825818, 552.439159792629)),\n",
       "  ((1242.8735242093126, 1198.2045750654647),\n",
       "   (1915.3308090512528, 571.6831286395068)),\n",
       "  ((1960.4407938226982, 284.7453379466533),\n",
       "   (1220.6307810084672, 942.7014542153915)),\n",
       "  ((1619.4647361399934, 81.01374551595927),\n",
       "   (1686.342960562435, -30.30017157924101)),\n",
       "  ((2023.1576764056945, 1480.8627404514066),\n",
       "   (2112.08974985749, 1385.5088047538443)),\n",
       "  ((2111.8060585322683, 974.3148725110157),\n",
       "   (1714.4824570423175, 1275.9035525595136)),\n",
       "  ((2088.1687842534943, 1252.8519496096396),\n",
       "   (1910.274654705166, 1382.327460948436)),\n",
       "  ((2119.62332127621, 1675.563275190952),\n",
       "   (2062.9309512384025, 1725.2981371568299)),\n",
       "  ((1429.7074151824136, 589.6641463417595),\n",
       "   (1830.4234241903546, 266.6109924417831)),\n",
       "  ((1406.6269905972504, 899.8342605720255),\n",
       "   (1739.8357601241405, 593.5174711558082)),\n",
       "  ((1347.8642842067484, 602.4120922998927),\n",
       "   (1871.3794299181322, 114.08608812164812)),\n",
       "  ((1455.3409424682986, 1725.8926567227963),\n",
       "   (2082.319917116927, 1194.3318953053235)),\n",
       "  ((2100.895441673776, 1619.0899610596064),\n",
       "   (1936.9022149458365, 1782.742352193182)),\n",
       "  ((1654.9834445418082, 499.88119315441963),\n",
       "   (2067.5851014811005, 230.69908440623294)),\n",
       "  ((2105.037299071254, 1417.4296478078109),\n",
       "   (1720.9283251325924, 1583.0992348885948)),\n",
       "  ((2112.7613335979895, 1272.3301413237295),\n",
       "   (2072.56591007243, 1307.471016631072)),\n",
       "  ((1353.7376390880036, -178.3113023410133),\n",
       "   (1596.8009269121712, -311.58551902442105))],\n",
       " 'run_number': 20}"
      ]
     },
     "execution_count": 13,
     "metadata": {},
     "output_type": "execute_result"
    }
   ],
   "source": [
    "results"
   ]
  },
  {
   "cell_type": "code",
   "execution_count": 14,
   "metadata": {},
   "outputs": [
    {
     "data": {
      "text/plain": [
       "((2071.0507171615855, -488.67826977666937),\n",
       " (2047.8954359043792, -673.3959114638874))"
      ]
     },
     "execution_count": 14,
     "metadata": {},
     "output_type": "execute_result"
    }
   ],
   "source": [
    "all_bfgs_scores[180]"
   ]
  },
  {
   "cell_type": "code",
   "execution_count": 15,
   "metadata": {},
   "outputs": [
    {
     "data": {
      "text/plain": [
       "{0: -12.114390230618937,\n",
       " 1: 284.5326514661642,\n",
       " 2: 279.83120313142445,\n",
       " 3: 17.395608348377664,\n",
       " 4: 45.93583841598229,\n",
       " 5: 81.85389654549272,\n",
       " 6: 44.435692672758705,\n",
       " 7: -6.421862245766533,\n",
       " 8: 95.73492144145303,\n",
       " 9: -48.418618209531815,\n",
       " 10: 6.957508071929624,\n",
       " 11: 77.66285510796433,\n",
       " 12: -26.891980110673103,\n",
       " 13: 35.189141533139264,\n",
       " 14: 95.41821323115573,\n",
       " 15: 0.3408355943638526,\n",
       " 16: 143.4195481911056,\n",
       " 17: 218.4393868578777,\n",
       " 18: 5.054548218216951,\n",
       " 19: 109.78907114075992,\n",
       " 20: 28.697208362958918,\n",
       " 21: 44.262314822859935,\n",
       " 22: 63.6230415701375,\n",
       " 23: -58.962321215669135,\n",
       " 24: -35.6107753167862,\n",
       " 25: 107.76747841372617,\n",
       " 26: 35.40911693886028,\n",
       " 27: 89.02076599027805,\n",
       " 28: 11.00014171911289,\n",
       " 29: 50.79858638035694,\n",
       " 30: -13.024627371521547,\n",
       " 31: 368.2460493501035,\n",
       " 32: 35.98769736096983,\n",
       " 33: 75.30338155099298,\n",
       " 34: -12.61936242465572,\n",
       " 35: 25.49257089349294,\n",
       " 36: 43.28685592235661,\n",
       " 37: 45.90899259196067,\n",
       " 38: 130.53170076988317,\n",
       " 39: -33.39503614159571,\n",
       " 40: 340.5447087377488,\n",
       " 41: -10.764937655061203,\n",
       " 42: 72.52672202125223,\n",
       " 43: -25.250168129302438,\n",
       " 44: 81.0332527920641,\n",
       " 45: 77.83761210410148,\n",
       " 46: 156.92559789124152,\n",
       " 47: 95.07084073640772,\n",
       " 48: -1.7459753673731484,\n",
       " 49: 14.563276985560606,\n",
       " 50: 40.714382564482094,\n",
       " 51: 66.73212051635119,\n",
       " 52: 0.9205777741826751,\n",
       " 53: 107.57697533173996,\n",
       " 54: 187.0704810362522,\n",
       " 55: 27.988849189690427,\n",
       " 56: -11.653896216360408,\n",
       " 57: 17.897219186359052,\n",
       " 58: 79.72873678881388,\n",
       " 59: -45.62329234996605,\n",
       " 60: -7.949837117183506,\n",
       " 61: 66.60376151382889,\n",
       " 62: -5.8573653703842865,\n",
       " 63: 57.88356136000402,\n",
       " 64: 52.45552458794509,\n",
       " 65: 29.638332319393612,\n",
       " 66: 63.80462469364329,\n",
       " 67: -6.864339263076545,\n",
       " 68: 119.66147775137506,\n",
       " 69: 122.96165902826215,\n",
       " 70: 15.555409993482499,\n",
       " 71: 62.86823165132864,\n",
       " 72: -20.14645794027865,\n",
       " 73: 143.67219060281604,\n",
       " 74: 131.41510399366382,\n",
       " 75: -7.251356512892926,\n",
       " 76: 14.589250844235266,\n",
       " 77: -1.6687213813838753,\n",
       " 78: -3.611876962460201,\n",
       " 79: 37.78534703281957,\n",
       " 80: 119.39112421932941,\n",
       " 81: 97.98320240858311,\n",
       " 82: 137.47266588490493,\n",
       " 83: -7.181928335013026,\n",
       " 84: -35.234826179434094,\n",
       " 85: 104.8489812519606,\n",
       " 86: 172.99539663096903,\n",
       " 87: 17.652647172156776,\n",
       " 88: 103.48596345978024,\n",
       " 89: 171.776406337558,\n",
       " 90: 202.44687040391818,\n",
       " 91: 2.2457803223887822,\n",
       " 92: 74.48215016098129,\n",
       " 93: 41.200952801769745,\n",
       " 94: 5.897230501770991,\n",
       " 95: 62.61189657312025,\n",
       " 96: 143.0709898548921,\n",
       " 100: -6.776437956493055,\n",
       " 101: 59.55332323005314,\n",
       " 102: 78.6095213368967,\n",
       " 103: 57.926949421330846,\n",
       " 104: 44.672710864983856,\n",
       " 105: 59.56489168293183,\n",
       " 106: 117.42838653913304,\n",
       " 107: 113.43208639650948,\n",
       " 108: 58.79878806884426,\n",
       " 109: 51.30634383015331,\n",
       " 110: 136.29981480149718,\n",
       " 111: 49.30940192304888,\n",
       " 112: 37.16276344991638,\n",
       " 113: 45.03112622893104,\n",
       " 114: 62.9687194263679,\n",
       " 115: 24.328319381377696,\n",
       " 116: 148.73818644434505,\n",
       " 117: -23.818944402832585,\n",
       " 118: 24.757707362280144,\n",
       " 119: 110.35168615530392,\n",
       " 120: 101.01841399471732,\n",
       " 121: 22.01744951794126,\n",
       " 122: -2.358012460659438,\n",
       " 123: 81.47281390384342,\n",
       " 124: 29.461429498803682,\n",
       " 125: -30.26078084221308,\n",
       " 126: 124.16075740902943,\n",
       " 127: 5.5685278022301645,\n",
       " 128: 8.276798887301538,\n",
       " 129: 20.36571439394902,\n",
       " 130: -8.866401061929082,\n",
       " 131: 42.19457395413701,\n",
       " 132: 109.83017853812635,\n",
       " 133: 16.32301237575666,\n",
       " 134: 95.27902623252749,\n",
       " 135: 73.96667256204523,\n",
       " 136: 189.92696624758582,\n",
       " 137: 86.53293381540061,\n",
       " 138: 24.800792634617665,\n",
       " 139: -4.720760257690927,\n",
       " 140: 54.407229508582304,\n",
       " 141: 22.55367932903937,\n",
       " 142: 57.70445325929995,\n",
       " 143: 45.18812012244098,\n",
       " 144: 60.93859562270063,\n",
       " 145: -11.25254363724298,\n",
       " 146: 69.85718491382067,\n",
       " 147: 65.34304590892634,\n",
       " 148: 147.27277965490157,\n",
       " 149: 12.921436100175924,\n",
       " 150: 4.32548342397854,\n",
       " 151: 0.2578534506683354,\n",
       " 152: 83.49124701128176,\n",
       " 153: 138.35173297197616,\n",
       " 154: 67.86683434975203,\n",
       " 155: 22.970154904900028,\n",
       " 156: -34.17225086354938,\n",
       " 157: 72.32185688947766,\n",
       " 158: 21.251990215342857,\n",
       " 159: 74.51308797055799,\n",
       " 160: 35.92103796418451,\n",
       " 161: -2.1424034076712815,\n",
       " 162: 9.814432319283696,\n",
       " 163: 187.20874511617058,\n",
       " 164: 140.90558475871194,\n",
       " 165: -25.132429035214045,\n",
       " 166: 48.984695944290706,\n",
       " 167: 21.02710619000709,\n",
       " 168: 279.6674229378923,\n",
       " 169: -87.57198957224534,\n",
       " 170: 16.347968195805606,\n",
       " 171: -18.570986047335737,\n",
       " 172: 102.38489101893356,\n",
       " 173: 59.01228064713905,\n",
       " 174: 14.221706671225093,\n",
       " 175: 56.50661737226983,\n",
       " 176: 22.286877917472793,\n",
       " 177: 62.02785137893352,\n",
       " 178: 28.58774763932979,\n",
       " 179: -13.20934806477544,\n",
       " 180: 207.87292294442432,\n",
       " 181: 135.71197748240365,\n",
       " 182: 61.54820676773625,\n",
       " 183: 99.92437053321055,\n",
       " 184: -15.585044036085037,\n",
       " 185: 72.21884003908781,\n",
       " 186: 115.38779213073758,\n",
       " 187: -1.3495632928929808,\n",
       " 188: -72.12345345809354,\n",
       " 189: 9.370721549895734,\n",
       " 190: 91.91632431072003,\n",
       " 191: 22.736055472204953,\n",
       " 192: 16.19484909539733,\n",
       " 193: 16.250478536484934,\n",
       " 194: -30.044347754612318,\n",
       " 195: 91.24566042317383,\n",
       " 196: 174.81741163900642,\n",
       " 197: 248.68999995562717,\n",
       " 198: 105.86406679955871,\n",
       " 199: 89.00941876438628,\n",
       " 200: -48.21201216238569,\n",
       " 201: 7.256294618680386,\n",
       " 202: 38.326633804666926,\n",
       " 203: -106.85767937164474,\n",
       " 204: -20.18048690054252,\n",
       " 205: 115.1247595023608,\n",
       " 206: 52.483395339329945,\n",
       " 207: 5.103279777677926,\n",
       " 208: 25.12805930033892,\n",
       " 209: -38.067949718716136,\n",
       " 210: 132.00482092938773,\n",
       " 211: 4.3556684575805775,\n",
       " 212: 213.95223567981816,\n",
       " 213: 171.57480537618267,\n",
       " 214: 69.56897482378781,\n",
       " 215: 213.2841445469835,\n",
       " 216: 31.16419572262612,\n",
       " 217: -12.8180749529497,\n",
       " 218: -3.2338094046463084,\n",
       " 219: -7.699360954210761,\n",
       " 220: 212.5973187318882,\n",
       " 221: 15.994576293250248,\n",
       " 222: 26.831569494517225,\n",
       " 223: 2.838558171951263,\n",
       " 224: -27.486687682269803,\n",
       " 225: 20.138327671616025,\n",
       " 226: 74.61616508191764,\n",
       " 227: -20.322866645221893,\n",
       " 228: 38.92902975167499,\n",
       " 229: 38.48056364278409,\n",
       " 230: 29.8720397281063,\n",
       " 231: 32.45909185900837,\n",
       " 232: 101.26448751767839,\n",
       " 233: 491.8265896897866,\n",
       " 234: 150.09877600038953,\n",
       " 235: -5.566555266967498,\n",
       " 236: 63.61712230250396,\n",
       " 237: 15.977533263958321,\n",
       " 238: 95.80069037926933,\n",
       " 239: 80.49907578332295,\n",
       " 240: 30.722053906186716,\n",
       " 241: 62.965808601875324,\n",
       " 242: -17.386523752143603,\n",
       " 243: 53.397935143796985,\n",
       " 244: -168.57954808140744,\n",
       " 245: 70.12332773399567,\n",
       " 246: 127.12171613175087,\n",
       " 247: 26.180251219666843,\n",
       " 248: 31.839829744142207,\n",
       " 249: 6.125623221349315,\n",
       " 250: 242.72242373919607,\n",
       " 251: 52.93216125579056,\n",
       " 252: 7.013849464634859,\n",
       " 253: -30.7937966703671,\n",
       " 254: -51.832137360992874,\n",
       " 255: 32.32556473201612,\n",
       " 256: 7.426165399680485,\n",
       " 257: -30.504830807052713,\n",
       " 260: 8.321422520060423,\n",
       " 261: 188.39785369012225,\n",
       " 262: 31.003078693272982,\n",
       " 263: 188.22715782596197,\n",
       " 264: 159.51769481585052,\n",
       " 265: 48.4258487363536,\n",
       " 266: -2.2652366997767786,\n",
       " 267: 76.60399251991203,\n",
       " 268: 39.006061399587,\n",
       " 269: 24.288229992919355,\n",
       " 270: 62.7290884833933,\n",
       " 271: 67.03965276755162,\n",
       " 272: 67.02787603928437,\n",
       " 273: 62.880108742146604,\n",
       " 274: -34.75493322768261,\n",
       " 275: 99.10363518647819,\n",
       " 276: 54.199916372261214,\n",
       " 277: 359.3155733010153,\n",
       " 278: 1.6274518027889826,\n",
       " 279: 27.915031067579093,\n",
       " 280: 57.33123548535741,\n",
       " 281: 55.707129401006114,\n",
       " 282: 92.98414471579326,\n",
       " 283: 70.44804904622879,\n",
       " 284: 2.741586641818458,\n",
       " 285: -19.30863853699384,\n",
       " 286: 83.87135023656901,\n",
       " 287: 22.64211845704517,\n",
       " 288: -16.79926556827786,\n",
       " 289: 39.41395356894236,\n",
       " 290: 142.8922664452025,\n",
       " 291: 21.74328872276965,\n",
       " 292: 24.114866232112036,\n",
       " 293: 56.72500063671305,\n",
       " 294: 115.90520543025514,\n",
       " 295: 110.89980278239773,\n",
       " 296: 95.89375173074723,\n",
       " 297: 158.97411089493198,\n",
       " 298: 74.9185900805378,\n",
       " 299: -4.490879350361411}"
      ]
     },
     "execution_count": 15,
     "metadata": {},
     "output_type": "execute_result"
    }
   ],
   "source": [
    "all_causal_scores"
   ]
  },
  {
   "cell_type": "code",
   "execution_count": 16,
   "metadata": {},
   "outputs": [
    {
     "data": {
      "text/plain": [
       "{0: -12.114390230618937,\n",
       " 1: 284.5326514661642,\n",
       " 2: 279.83120313142445,\n",
       " 3: 17.395608348377664,\n",
       " 4: 45.93583841598229,\n",
       " 5: 81.85389654549272,\n",
       " 6: 44.435692672758705,\n",
       " 7: -6.421862245766533,\n",
       " 8: 95.73492144145303,\n",
       " 9: -48.418618209531815,\n",
       " 10: 6.957508071929624,\n",
       " 11: 77.66285510796433,\n",
       " 12: -26.891980110673103,\n",
       " 13: 35.189141533139264,\n",
       " 14: 95.41821323115573,\n",
       " 15: 0.3408355943638526,\n",
       " 16: 143.4195481911056,\n",
       " 17: 218.4393868578777,\n",
       " 18: 5.054548218216951,\n",
       " 19: 109.78907114075992,\n",
       " 20: 28.697208362958918,\n",
       " 21: 44.262314822859935,\n",
       " 22: 63.6230415701375,\n",
       " 23: -58.962321215669135,\n",
       " 24: -35.6107753167862,\n",
       " 25: 107.76747841372617,\n",
       " 26: 35.40911693886028,\n",
       " 27: 89.02076599027805,\n",
       " 28: 11.00014171911289,\n",
       " 29: 50.79858638035694,\n",
       " 30: -13.024627371521547,\n",
       " 31: 368.2460493501035,\n",
       " 32: 35.98769736096983,\n",
       " 33: 75.30338155099298,\n",
       " 34: -12.61936242465572,\n",
       " 35: 25.49257089349294,\n",
       " 36: 43.28685592235661,\n",
       " 37: 45.90899259196067,\n",
       " 38: 130.53170076988317,\n",
       " 39: -33.39503614159571,\n",
       " 40: 340.5447087377488,\n",
       " 41: -10.764937655061203,\n",
       " 42: 72.52672202125223,\n",
       " 43: -25.250168129302438,\n",
       " 44: 81.0332527920641,\n",
       " 45: 77.83761210410148,\n",
       " 46: 156.92559789124152,\n",
       " 47: 95.07084073640772,\n",
       " 48: -1.7459753673731484,\n",
       " 49: 14.563276985560606,\n",
       " 50: 40.714382564482094,\n",
       " 51: 66.73212051635119,\n",
       " 52: 0.9205777741826751,\n",
       " 53: 107.57697533173996,\n",
       " 54: 187.0704810362522,\n",
       " 55: 27.988849189690427,\n",
       " 56: -11.653896216360408,\n",
       " 57: 17.897219186359052,\n",
       " 58: 79.72873678881388,\n",
       " 59: -45.62329234996605,\n",
       " 60: -7.949837117183506,\n",
       " 61: 66.60376151382889,\n",
       " 62: -5.8573653703842865,\n",
       " 63: 57.88356136000402,\n",
       " 64: 52.45552458794509,\n",
       " 65: 29.638332319393612,\n",
       " 66: 63.80462469364329,\n",
       " 67: -6.864339263076545,\n",
       " 68: 119.66147775137506,\n",
       " 69: 122.96165902826215,\n",
       " 70: 15.555409993482499,\n",
       " 71: 62.86823165132864,\n",
       " 72: -20.14645794027865,\n",
       " 73: 143.67219060281604,\n",
       " 74: 131.41510399366382,\n",
       " 75: -7.251356512892926,\n",
       " 76: 14.589250844235266,\n",
       " 77: -1.6687213813838753,\n",
       " 78: -3.611876962460201,\n",
       " 79: 37.78534703281957,\n",
       " 80: 119.39112421932941,\n",
       " 81: 97.98320240858311,\n",
       " 82: 137.47266588490493,\n",
       " 83: -7.181928335013026,\n",
       " 84: -35.234826179434094,\n",
       " 85: 104.8489812519606,\n",
       " 86: 172.99539663096903,\n",
       " 87: 17.652647172156776,\n",
       " 88: 103.48596345978024,\n",
       " 89: 171.776406337558,\n",
       " 90: 202.44687040391818,\n",
       " 91: 2.2457803223887822,\n",
       " 92: 74.48215016098129,\n",
       " 93: 41.200952801769745,\n",
       " 94: 5.897230501770991,\n",
       " 95: 62.61189657312025,\n",
       " 96: 143.0709898548921,\n",
       " 100: -6.776437956493055,\n",
       " 101: 59.55332323005314,\n",
       " 102: 78.6095213368967,\n",
       " 103: 57.926949421330846,\n",
       " 104: 44.672710864983856,\n",
       " 105: 59.56489168293183,\n",
       " 106: 117.42838653913304,\n",
       " 107: 113.43208639650948,\n",
       " 108: 58.79878806884426,\n",
       " 109: 51.30634383015331,\n",
       " 110: 136.29981480149718,\n",
       " 111: 49.30940192304888,\n",
       " 112: 37.16276344991638,\n",
       " 113: 45.03112622893104,\n",
       " 114: 62.9687194263679,\n",
       " 115: 24.328319381377696,\n",
       " 116: 148.73818644434505,\n",
       " 117: -23.818944402832585,\n",
       " 118: 24.757707362280144,\n",
       " 119: 110.35168615530392,\n",
       " 120: 101.01841399471732,\n",
       " 121: 22.01744951794126,\n",
       " 122: -2.358012460659438,\n",
       " 123: 81.47281390384342,\n",
       " 124: 29.461429498803682,\n",
       " 125: -30.26078084221308,\n",
       " 126: 124.16075740902943,\n",
       " 127: 5.5685278022301645,\n",
       " 128: 8.276798887301538,\n",
       " 129: 20.36571439394902,\n",
       " 130: -8.866401061929082,\n",
       " 131: 42.19457395413701,\n",
       " 132: 109.83017853812635,\n",
       " 133: 16.32301237575666,\n",
       " 134: 95.27902623252749,\n",
       " 135: 73.96667256204523,\n",
       " 136: 189.92696624758582,\n",
       " 137: 86.53293381540061,\n",
       " 138: 24.800792634617665,\n",
       " 139: -4.720760257690927,\n",
       " 140: 54.407229508582304,\n",
       " 141: 22.55367932903937,\n",
       " 142: 57.70445325929995,\n",
       " 143: 45.18812012244098,\n",
       " 144: 60.93859562270063,\n",
       " 145: -11.25254363724298,\n",
       " 146: 69.85718491382067,\n",
       " 147: 65.34304590892634,\n",
       " 148: 147.27277965490157,\n",
       " 149: 12.921436100175924,\n",
       " 150: 4.32548342397854,\n",
       " 151: 0.2578534506683354,\n",
       " 152: 83.49124701128176,\n",
       " 153: 138.35173297197616,\n",
       " 154: 67.86683434975203,\n",
       " 155: 22.970154904900028,\n",
       " 156: -34.17225086354938,\n",
       " 157: 72.32185688947766,\n",
       " 158: 21.251990215342857,\n",
       " 159: 74.51308797055799,\n",
       " 160: 35.92103796418451,\n",
       " 161: -2.1424034076712815,\n",
       " 162: 9.814432319283696,\n",
       " 163: 187.20874511617058,\n",
       " 164: 140.90558475871194,\n",
       " 165: -25.132429035214045,\n",
       " 166: 48.984695944290706,\n",
       " 167: 21.02710619000709,\n",
       " 168: 279.6674229378923,\n",
       " 169: -87.57198957224534,\n",
       " 170: 16.347968195805606,\n",
       " 171: -18.570986047335737,\n",
       " 172: 102.38489101893356,\n",
       " 173: 59.01228064713905,\n",
       " 174: 14.221706671225093,\n",
       " 175: 56.50661737226983,\n",
       " 176: 22.286877917472793,\n",
       " 177: 62.02785137893352,\n",
       " 178: 28.58774763932979,\n",
       " 179: -13.20934806477544,\n",
       " 180: 207.87292294442432,\n",
       " 181: 135.71197748240365,\n",
       " 182: 61.54820676773625,\n",
       " 183: 99.92437053321055,\n",
       " 184: -15.585044036085037,\n",
       " 185: 72.21884003908781,\n",
       " 186: 115.38779213073758,\n",
       " 187: -1.3495632928929808,\n",
       " 188: -72.12345345809354,\n",
       " 189: 9.370721549895734,\n",
       " 190: 91.91632431072003,\n",
       " 191: 22.736055472204953,\n",
       " 192: 16.19484909539733,\n",
       " 193: 16.250478536484934,\n",
       " 194: -30.044347754612318,\n",
       " 195: 91.24566042317383,\n",
       " 196: 174.81741163900642,\n",
       " 197: 248.68999995562717,\n",
       " 198: 105.86406679955871,\n",
       " 199: 89.00941876438628,\n",
       " 200: -48.21201216238569,\n",
       " 201: 7.256294618680386,\n",
       " 202: 38.326633804666926,\n",
       " 203: -106.85767937164474,\n",
       " 204: -20.18048690054252,\n",
       " 205: 115.1247595023608,\n",
       " 206: 52.483395339329945,\n",
       " 207: 5.103279777677926,\n",
       " 208: 25.12805930033892,\n",
       " 209: -38.067949718716136,\n",
       " 210: 132.00482092938773,\n",
       " 211: 4.3556684575805775,\n",
       " 212: 213.95223567981816,\n",
       " 213: 171.57480537618267,\n",
       " 214: 69.56897482378781,\n",
       " 215: 213.2841445469835,\n",
       " 216: 31.16419572262612,\n",
       " 217: -12.8180749529497,\n",
       " 218: -3.2338094046463084,\n",
       " 219: -7.699360954210761,\n",
       " 220: 212.5973187318882,\n",
       " 221: 15.994576293250248,\n",
       " 222: 26.831569494517225,\n",
       " 223: 2.838558171951263,\n",
       " 224: -27.486687682269803,\n",
       " 225: 20.138327671616025,\n",
       " 226: 74.61616508191764,\n",
       " 227: -20.322866645221893,\n",
       " 228: 38.92902975167499,\n",
       " 229: 38.48056364278409,\n",
       " 230: 29.8720397281063,\n",
       " 231: 32.45909185900837,\n",
       " 232: 101.26448751767839,\n",
       " 233: 491.8265896897866,\n",
       " 234: 150.09877600038953,\n",
       " 235: -5.566555266967498,\n",
       " 236: 63.61712230250396,\n",
       " 237: 15.977533263958321,\n",
       " 238: 95.80069037926933,\n",
       " 239: 80.49907578332295,\n",
       " 240: 30.722053906186716,\n",
       " 241: 62.965808601875324,\n",
       " 242: -17.386523752143603,\n",
       " 243: 53.397935143796985,\n",
       " 244: -168.57954808140744,\n",
       " 245: 70.12332773399567,\n",
       " 246: 127.12171613175087,\n",
       " 247: 26.180251219666843,\n",
       " 248: 31.839829744142207,\n",
       " 249: 6.125623221349315,\n",
       " 250: 242.72242373919607,\n",
       " 251: 52.93216125579056,\n",
       " 252: 7.013849464634859,\n",
       " 253: -30.7937966703671,\n",
       " 254: -51.832137360992874,\n",
       " 255: 32.32556473201612,\n",
       " 256: 7.426165399680485,\n",
       " 257: -30.504830807052713,\n",
       " 260: 8.321422520060423,\n",
       " 261: 188.39785369012225,\n",
       " 262: 31.003078693272982,\n",
       " 263: 188.22715782596197,\n",
       " 264: 159.51769481585052,\n",
       " 265: 48.4258487363536,\n",
       " 266: -2.2652366997767786,\n",
       " 267: 76.60399251991203,\n",
       " 268: 39.006061399587,\n",
       " 269: 24.288229992919355,\n",
       " 270: 62.7290884833933,\n",
       " 271: 67.03965276755162,\n",
       " 272: 67.02787603928437,\n",
       " 273: 62.880108742146604,\n",
       " 274: -34.75493322768261,\n",
       " 275: 99.10363518647819,\n",
       " 276: 54.199916372261214,\n",
       " 277: 359.3155733010153,\n",
       " 278: 1.6274518027889826,\n",
       " 279: 27.915031067579093,\n",
       " 280: 57.33123548535741,\n",
       " 281: 55.707129401006114,\n",
       " 282: 92.98414471579326,\n",
       " 283: 70.44804904622879,\n",
       " 284: 2.741586641818458,\n",
       " 285: -19.30863853699384,\n",
       " 286: 83.87135023656901,\n",
       " 287: 22.64211845704517,\n",
       " 288: -16.79926556827786,\n",
       " 289: 39.41395356894236,\n",
       " 290: 142.8922664452025,\n",
       " 291: 21.74328872276965,\n",
       " 292: 24.114866232112036,\n",
       " 293: 56.72500063671305,\n",
       " 294: 115.90520543025514,\n",
       " 295: 110.89980278239773,\n",
       " 296: 95.89375173074723,\n",
       " 297: 158.97411089493198,\n",
       " 298: 74.9185900805378,\n",
       " 299: -4.490879350361411}"
      ]
     },
     "execution_count": 16,
     "metadata": {},
     "output_type": "execute_result"
    }
   ],
   "source": [
    "all_causal_scores"
   ]
  },
  {
   "cell_type": "code",
   "execution_count": 17,
   "metadata": {},
   "outputs": [
    {
     "data": {
      "text/plain": [
       "295"
      ]
     },
     "execution_count": 17,
     "metadata": {},
     "output_type": "execute_result"
    }
   ],
   "source": [
    "len(y_labels)"
   ]
  },
  {
   "cell_type": "code",
   "execution_count": 18,
   "metadata": {},
   "outputs": [],
   "source": [
    "y_labels = np.array(y_labels)\n",
    "y_scores = np.array(y_scores)"
   ]
  },
  {
   "cell_type": "code",
   "execution_count": 25,
   "metadata": {},
   "outputs": [],
   "source": [
    "from sklearn.metrics import roc_curve\n",
    "from sklearn.metrics import roc_curve, auc\n",
    "\n",
    "\n",
    "fpr, tpr, _ = roc_curve(y_labels, y_scores)\n",
    "roc_auc = auc(fpr, tpr)"
   ]
  },
  {
   "cell_type": "code",
   "execution_count": 26,
   "metadata": {},
   "outputs": [
    {
     "data": {
      "text/plain": [
       "0.10535517114464484"
      ]
     },
     "execution_count": 26,
     "metadata": {},
     "output_type": "execute_result"
    }
   ],
   "source": [
    "roc_auc"
   ]
  },
  {
   "cell_type": "code",
   "execution_count": null,
   "metadata": {},
   "outputs": [],
   "source": [
    "from sklearn.metrics import roc_auc_score\n",
    "roc_auc = (roc_auc_score(y_labels == 1, y_scores) + roc_auc_score(y_labels == -1, - y_scores)) / 2\n",
    "roc_auc"
   ]
  },
  {
   "cell_type": "code",
   "execution_count": null,
   "metadata": {},
   "outputs": [],
   "source": [
    "(roc_auc_score(y_labels == 1, y_scores))"
   ]
  },
  {
   "cell_type": "code",
   "execution_count": null,
   "metadata": {},
   "outputs": [],
   "source": [
    "textstr = 'roc auc=%.3f\\n'%(\n",
    "    roc_auc\n",
    ")\n",
    "plt.text(0.8, 0.2, textstr, fontsize=10)\n",
    "plt.plot(\n",
    "    fpr, tpr\n",
    ")\n",
    "plt.xlabel(\"False Positive Rate\")\n",
    "plt.ylabel(\"True Positive Rate\")\n",
    "plt.title(\"Receiver operating characteristic\")\n",
    "plt.show()"
   ]
  },
  {
   "cell_type": "code",
   "execution_count": null,
   "metadata": {},
   "outputs": [],
   "source": [
    "all_causal_scores"
   ]
  },
  {
   "cell_type": "code",
   "execution_count": null,
   "metadata": {},
   "outputs": [],
   "source": [
    "all_bfgs_scores"
   ]
  },
  {
   "cell_type": "code",
   "execution_count": null,
   "metadata": {},
   "outputs": [],
   "source": [
    "wrong_idx"
   ]
  },
  {
   "cell_type": "code",
   "execution_count": null,
   "metadata": {},
   "outputs": [],
   "source": [
    "for i in wrong_idx:\n",
    "    print(i)\n",
    "    input, output = x[i], y[i]\n",
    "    plt.scatter(input[:, 0], output[:, 0])\n",
    "    plt.show()\n",
    "    plt.close()"
   ]
  },
  {
   "cell_type": "markdown",
   "metadata": {},
   "source": [
    "# Adam results"
   ]
  },
  {
   "cell_type": "code",
   "execution_count": 1,
   "metadata": {},
   "outputs": [],
   "source": [
    "import sys\n",
    "sys.path.append(\"/vol/bitbucket/ad6013/Research/gp-causal\")"
   ]
  },
  {
   "cell_type": "code",
   "execution_count": 2,
   "metadata": {},
   "outputs": [],
   "source": [
    "data_name = \"cha\""
   ]
  },
  {
   "cell_type": "code",
   "execution_count": 3,
   "metadata": {},
   "outputs": [],
   "source": [
    "import pickle \n",
    "import matplotlib.pyplot as plt\n",
    "import numpy as np\n",
    "\n",
    "\n",
    "\n",
    "work_dir = \"/vol/bitbucket/ad6013/Research/gp-causal\"\n",
    "file_1 = f\"fullscore-{data_name}_pairs-gplvm_adam-reinit2-numind200_start:0_end:20.p\"\n",
    "file_2 = f\"fullscore-{data_name}_pairs-gplvm_adam-reinit2-numind200_start:20_end:40.p\"\n",
    "file_3 = f\"fullscore-{data_name}_pairs-gplvm_adam-reinit2-numind200_start:40_end:60.p\"\n",
    "file_4 = f\"fullscore-{data_name}_pairs-gplvm_adam-reinit2-numind200_start:60_end:80.p\"\n",
    "file_5 = f\"fullscore-{data_name}_pairs-gplvm_adam-reinit2-numind200_start:80_end:100.p\"\n",
    "file_6 = f\"fullscore-{data_name}_pairs-gplvm_adam-reinit2-numind200_start:100_end:120.p\"\n",
    "file_7 = f\"fullscore-{data_name}_pairs-gplvm_adam-reinit2-numind200_start:120_end:140.p\"\n",
    "file_8 = f\"fullscore-{data_name}_pairs-gplvm_adam-reinit2-numind200_start:140_end:160.p\"\n",
    "file_9 = f\"fullscore-{data_name}_pairs-gplvm_adam-reinit2-numind200_start:160_end:180.p\"\n",
    "file_10 = f\"fullscore-{data_name}_pairs-gplvm_adam-reinit2-numind200_start:180_end:200.p\"\n",
    "file_11 = f\"fullscore-{data_name}_pairs-gplvm_adam-reinit2-numind200_start:200_end:220.p\"\n",
    "file_12 = f\"fullscore-{data_name}_pairs-gplvm_adam-reinit2-numind200_start:220_end:240.p\"\n",
    "file_13 = f\"fullscore-{data_name}_pairs-gplvm_adam-reinit2-numind200_start:240_end:260.p\"\n",
    "file_14 = f\"fullscore-{data_name}_pairs-gplvm_adam-reinit2-numind200_start:260_end:280.p\"\n",
    "file_15 = f\"fullscore-{data_name}_pairs-gplvm_adam-reinit2-numind200_start:280_end:300.p\""
   ]
  },
  {
   "cell_type": "code",
   "execution_count": 17,
   "metadata": {},
   "outputs": [],
   "source": [
    "import importlib\n",
    "from data import get_data\n",
    "\n",
    "data_get = getattr(get_data, f\"get_{data_name}_pairs_dataset\")\n",
    "\n",
    "x, y, weight, target = data_get(data_path=f\"{work_dir}/data/{data_name}_pairs/files\")"
   ]
  },
  {
   "cell_type": "code",
   "execution_count": null,
   "metadata": {},
   "outputs": [],
   "source": []
  },
  {
   "cell_type": "code",
   "execution_count": 18,
   "metadata": {},
   "outputs": [
    {
     "ename": "NameError",
     "evalue": "name 'all_bfgs_cha_scores' is not defined",
     "output_type": "error",
     "traceback": [
      "\u001b[0;31m---------------------------------------------------------------------------\u001b[0m",
      "\u001b[0;31mNameError\u001b[0m                                 Traceback (most recent call last)",
      "\u001b[1;32m/vol/bitbucket/ad6013/Research/gp-causal/notebooks/results_playground.ipynb Cell 73'\u001b[0m in \u001b[0;36m<cell line: 1>\u001b[0;34m()\u001b[0m\n\u001b[0;32m----> <a href='vscode-notebook-cell://ssh-remote%2Bmiasma.doc.ic.ac.uk/vol/bitbucket/ad6013/Research/gp-causal/notebooks/results_playground.ipynb#ch0000072vscode-remote?line=0'>1</a>\u001b[0m all_bfgs_cha_scores\n",
      "\u001b[0;31mNameError\u001b[0m: name 'all_bfgs_cha_scores' is not defined"
     ]
    }
   ],
   "source": [
    "all_bfgs_cha_scores"
   ]
  },
  {
   "cell_type": "code",
   "execution_count": 19,
   "metadata": {},
   "outputs": [
    {
     "ename": "NameError",
     "evalue": "name 'all_bfgs_cha_scores' is not defined",
     "output_type": "error",
     "traceback": [
      "\u001b[0;31m---------------------------------------------------------------------------\u001b[0m",
      "\u001b[0;31mNameError\u001b[0m                                 Traceback (most recent call last)",
      "\u001b[1;32m/vol/bitbucket/ad6013/Research/gp-causal/notebooks/results_playground.ipynb Cell 74'\u001b[0m in \u001b[0;36m<cell line: 7>\u001b[0;34m()\u001b[0m\n\u001b[1;32m     <a href='vscode-notebook-cell://ssh-remote%2Bmiasma.doc.ic.ac.uk/vol/bitbucket/ad6013/Research/gp-causal/notebooks/results_playground.ipynb#ch0000073vscode-remote?line=16'>17</a>\u001b[0m scores \u001b[39m=\u001b[39m results[\u001b[39m'\u001b[39m\u001b[39mscores\u001b[39m\u001b[39m'\u001b[39m][i]\n\u001b[1;32m     <a href='vscode-notebook-cell://ssh-remote%2Bmiasma.doc.ic.ac.uk/vol/bitbucket/ad6013/Research/gp-causal/notebooks/results_playground.ipynb#ch0000073vscode-remote?line=17'>18</a>\u001b[0m \u001b[39m# bfgs_score = all_bfgs_scores[idx]\u001b[39;00m\n\u001b[0;32m---> <a href='vscode-notebook-cell://ssh-remote%2Bmiasma.doc.ic.ac.uk/vol/bitbucket/ad6013/Research/gp-causal/notebooks/results_playground.ipynb#ch0000073vscode-remote?line=18'>19</a>\u001b[0m bfgs_score \u001b[39m=\u001b[39m all_bfgs_cha_scores[idx]\n\u001b[1;32m     <a href='vscode-notebook-cell://ssh-remote%2Bmiasma.doc.ic.ac.uk/vol/bitbucket/ad6013/Research/gp-causal/notebooks/results_playground.ipynb#ch0000073vscode-remote?line=19'>20</a>\u001b[0m \u001b[39mprint\u001b[39m(\u001b[39mf\u001b[39m\u001b[39m\"\u001b[39m\u001b[39mRun: \u001b[39m\u001b[39m{\u001b[39;00midx\u001b[39m}\u001b[39;00m\u001b[39m\"\u001b[39m, bfgs_score, scores, \u001b[39m'\u001b[39m\u001b[39m\\n\u001b[39;00m\u001b[39m'\u001b[39m)\n\u001b[1;32m     <a href='vscode-notebook-cell://ssh-remote%2Bmiasma.doc.ic.ac.uk/vol/bitbucket/ad6013/Research/gp-causal/notebooks/results_playground.ipynb#ch0000073vscode-remote?line=20'>21</a>\u001b[0m causal \u001b[39m=\u001b[39m \u001b[39mmin\u001b[39m(scores[\u001b[39m0\u001b[39m][\u001b[39m0\u001b[39m], bfgs_score[\u001b[39m0\u001b[39m][\u001b[39m0\u001b[39m]) \u001b[39m+\u001b[39m \u001b[39mmin\u001b[39m(scores[\u001b[39m0\u001b[39m][\u001b[39m1\u001b[39m], bfgs_score[\u001b[39m0\u001b[39m][\u001b[39m1\u001b[39m]) \n",
      "\u001b[0;31mNameError\u001b[0m: name 'all_bfgs_cha_scores' is not defined"
     ]
    }
   ],
   "source": [
    "y_labels = []\n",
    "y_scores = []\n",
    "wrong_idx = []\n",
    "all_scores = {}\n",
    "all_causal_scores = {}\n",
    "\n",
    "for file_idx in range(15):\n",
    "    with open(f\"{work_dir}/results/{eval(f'file_{file_idx + 1}')}\", \"rb\") as f:\n",
    "        results = pickle.load(f)\n",
    "        # wrong_idx.extend(results['wrong_idx'])\n",
    "    for i in range(len(results['scores'])):\n",
    "        idx = 20 * file_idx + i\n",
    "        y_label_i = target[idx][0]\n",
    "        y_labels.append(y_label_i)\n",
    "        # Calculate the score\n",
    "        # This is a tuple\n",
    "        scores = results['scores'][i]\n",
    "        # bfgs_score = all_bfgs_scores[idx]\n",
    "        bfgs_score = all_bfgs_cha_scores[idx]\n",
    "        print(f\"Run: {idx}\", bfgs_score, scores, '\\n')\n",
    "        causal = min(scores[0][0], bfgs_score[0][0]) + min(scores[0][1], bfgs_score[0][1]) \n",
    "        anti_causal =  min(scores[1][0], bfgs_score[1][0]) + min(scores[1][1], bfgs_score[1][1]) \n",
    "        # causal = sum(scores[0])\n",
    "        # anti_causal = sum(scores[1])\n",
    "        final_score = - causal + anti_causal\n",
    "        y_scores.append(final_score)\n",
    "        all_scores[idx] = scores \n",
    "        all_causal_scores[idx] = y_label_i * final_score\n",
    "        if y_label_i * final_score < 0: \n",
    "            wrong_idx.append(idx)"
   ]
  },
  {
   "cell_type": "code",
   "execution_count": null,
   "metadata": {},
   "outputs": [],
   "source": [
    "all_causal_scores"
   ]
  },
  {
   "cell_type": "code",
   "execution_count": null,
   "metadata": {},
   "outputs": [],
   "source": [
    "target[244]"
   ]
  },
  {
   "cell_type": "code",
   "execution_count": null,
   "metadata": {},
   "outputs": [],
   "source": [
    "all_bfgs_scores[244]"
   ]
  },
  {
   "cell_type": "code",
   "execution_count": null,
   "metadata": {},
   "outputs": [],
   "source": [
    "all_scores[244]"
   ]
  },
  {
   "cell_type": "code",
   "execution_count": null,
   "metadata": {},
   "outputs": [],
   "source": [
    "y_labels = np.array(y_labels)\n",
    "y_scores = np.array(y_scores)"
   ]
  },
  {
   "cell_type": "code",
   "execution_count": null,
   "metadata": {},
   "outputs": [],
   "source": [
    "print(len(y_scores))"
   ]
  },
  {
   "cell_type": "code",
   "execution_count": null,
   "metadata": {},
   "outputs": [],
   "source": [
    "target[244]"
   ]
  },
  {
   "cell_type": "code",
   "execution_count": null,
   "metadata": {},
   "outputs": [],
   "source": [
    "wrong_idx"
   ]
  },
  {
   "cell_type": "code",
   "execution_count": null,
   "metadata": {},
   "outputs": [],
   "source": [
    "wrong = []\n",
    "for i in range(len(y_labels)):\n",
    "    if y_labels[i] < 0 and y_scores[i] > 0:\n",
    "        wrong.append(i)\n",
    "    elif y_labels[i] > 0 and y_scores[i] < 0:\n",
    "        wrong.append(i)"
   ]
  },
  {
   "cell_type": "code",
   "execution_count": null,
   "metadata": {},
   "outputs": [],
   "source": [
    "from sklearn.metrics import roc_curve\n",
    "from sklearn.metrics import roc_curve, auc\n",
    "\n",
    "\n",
    "fpr, tpr, _ = roc_curve(y_labels, y_scores)\n",
    "roc_auc = auc(fpr, tpr)"
   ]
  },
  {
   "cell_type": "code",
   "execution_count": null,
   "metadata": {},
   "outputs": [],
   "source": [
    "roc_auc"
   ]
  },
  {
   "cell_type": "code",
   "execution_count": null,
   "metadata": {},
   "outputs": [],
   "source": [
    "len(wrong)"
   ]
  },
  {
   "cell_type": "code",
   "execution_count": null,
   "metadata": {},
   "outputs": [],
   "source": [
    "all_causal_scores"
   ]
  },
  {
   "cell_type": "code",
   "execution_count": null,
   "metadata": {},
   "outputs": [],
   "source": [
    "textstr = 'roc auc=%.3f\\n'%(\n",
    "    roc_auc\n",
    ")\n",
    "plt.text(0.8, 0.2, textstr, fontsize=10)\n",
    "plt.plot(\n",
    "    fpr, tpr\n",
    ")\n",
    "plt.xlabel(\"False Positive Rate\")\n",
    "plt.ylabel(\"True Positive Rate\")\n",
    "plt.title(\"Receiver operating characteristic\")\n",
    "plt.show()"
   ]
  },
  {
   "cell_type": "code",
   "execution_count": null,
   "metadata": {},
   "outputs": [],
   "source": [
    "all_scores"
   ]
  },
  {
   "cell_type": "code",
   "execution_count": null,
   "metadata": {},
   "outputs": [],
   "source": [
    "all_causal_scores"
   ]
  },
  {
   "cell_type": "code",
   "execution_count": null,
   "metadata": {},
   "outputs": [],
   "source": [
    "for i in wrong_idx:\n",
    "    print(i)\n",
    "    input, output = x[i], y[i]\n",
    "    plt.scatter(input[:, 0], output[:, 0])\n",
    "    plt.show()\n",
    "    plt.close()"
   ]
  },
  {
   "cell_type": "code",
   "execution_count": null,
   "metadata": {},
   "outputs": [],
   "source": [
    "import sys\n",
    "sys.path.append(\"/vol/bitbucket/ad6013/Research/gp-causal\")"
   ]
  },
  {
   "cell_type": "code",
   "execution_count": null,
   "metadata": {},
   "outputs": [],
   "source": [
    "import pickle\n",
    "import numpy as np\n",
    "\n",
    "with open('/vol/bitbucket/ad6013/Research/gp-causal/results/fullscore-cep-gplvm-sqexp-reinit20.p', 'rb') as f:\n",
    "    results = pickle.load(f)"
   ]
  },
  {
   "cell_type": "code",
   "execution_count": null,
   "metadata": {},
   "outputs": [],
   "source": [
    "results[\"wrong_idx\"]"
   ]
  },
  {
   "cell_type": "code",
   "execution_count": null,
   "metadata": {},
   "outputs": [],
   "source": [
    "res = results['scores']"
   ]
  },
  {
   "cell_type": "code",
   "execution_count": null,
   "metadata": {},
   "outputs": [],
   "source": [
    "res[40]"
   ]
  },
  {
   "cell_type": "code",
   "execution_count": null,
   "metadata": {},
   "outputs": [],
   "source": [
    "sum(res[0])"
   ]
  },
  {
   "cell_type": "code",
   "execution_count": null,
   "metadata": {},
   "outputs": [],
   "source": [
    "y_scores = np.zeros(len(res))\n",
    "for i in range(len(res)):\n",
    "    causal_score = - sum(res[i][0]) + sum(res[i][1])\n",
    "    y_scores[i] = causal_score"
   ]
  },
  {
   "cell_type": "code",
   "execution_count": null,
   "metadata": {},
   "outputs": [],
   "source": [
    "y_scores[0:20] = -1 * y_scores[0:20] "
   ]
  },
  {
   "cell_type": "code",
   "execution_count": null,
   "metadata": {},
   "outputs": [],
   "source": [
    "y_labels = np.ones(43)\n",
    "y_labels[0:20] = -1 * y_labels[0:20]"
   ]
  },
  {
   "cell_type": "code",
   "execution_count": null,
   "metadata": {},
   "outputs": [],
   "source": [
    "y_labels"
   ]
  },
  {
   "cell_type": "code",
   "execution_count": null,
   "metadata": {},
   "outputs": [],
   "source": [
    "from sklearn.metrics import roc_curve\n",
    "from sklearn.metrics import roc_curve, auc\n",
    "\n",
    "\n",
    "fpr, tpr, _ = roc_curve(y_labels, y_scores)\n",
    "roc_auc = auc(fpr, tpr)"
   ]
  },
  {
   "cell_type": "code",
   "execution_count": null,
   "metadata": {},
   "outputs": [],
   "source": [
    "roc_auc"
   ]
  },
  {
   "cell_type": "markdown",
   "metadata": {},
   "source": [
    "# CEP Results"
   ]
  },
  {
   "cell_type": "code",
   "execution_count": 1,
   "metadata": {},
   "outputs": [],
   "source": [
    "import sys\n",
    "sys.path.append(\"/vol/bitbucket/ad6013/Research/gp-causal\")"
   ]
  },
  {
   "cell_type": "code",
   "execution_count": 2,
   "metadata": {},
   "outputs": [],
   "source": [
    "data_name = \"cep\""
   ]
  },
  {
   "cell_type": "code",
   "execution_count": 3,
   "metadata": {},
   "outputs": [],
   "source": [
    "import dill \n",
    "import matplotlib.pyplot as plt\n",
    "import numpy as np\n",
    "\n",
    "\n",
    "\n",
    "work_dir = \"/vol/bitbucket/ad6013/Research/gp-causal\"\n",
    "file_1 = f\"fullscore-{data_name}-gplvmgeneralised-reinit10-numind200_start:0_end:5.p\"\n",
    "file_2 = f\"fullscore-{data_name}-gplvmgeneralised-reinit10-numind200_start:5_end:10.p\"\n",
    "file_3 = f\"fullscore-{data_name}-gplvmgeneralised-reinit10-numind200_start:10_end:15.p\"\n",
    "file_4 = f\"fullscore-{data_name}-gplvmgeneralised-reinit10-numind200_start:15_end:20.p\"\n",
    "file_5 = f\"fullscore-{data_name}-gplvmgeneralised-reinit10-numind200_start:20_end:25.p\"\n",
    "file_6 = f\"fullscore-{data_name}-gplvmgeneralised-reinit10-numind200_start:25_end:30.p\"\n",
    "file_7 = f\"fullscore-{data_name}-gplvmgeneralised-reinit10-numind200_start:30_end:35.p\"\n",
    "file_8 = f\"fullscore-{data_name}-gplvmgeneralised-reinit10-numind200_start:35_end:40.p\"\n",
    "file_9 = f\"fullscore-{data_name}-gplvmgeneralised-reinit10-numind200_start:40_end:45.p\"\n",
    "file_10 = f\"fullscore-{data_name}-gplvmgeneralised-reinit10-numind200_start:45_end:50.p\"\n",
    "file_11 = f\"fullscore-{data_name}-gplvmgeneralised-reinit10-numind200_start:50_end:55.p\"\n",
    "file_12 = f\"fullscore-{data_name}-gplvmgeneralised-reinit10-numind200_start:55_end:60.p\"\n",
    "file_13 = f\"fullscore-{data_name}-gplvmgeneralised-reinit10-numind200_start:60_end:65.p\"\n",
    "file_14 = f\"fullscore-{data_name}-gplvmgeneralised-reinit10-numind200_start:65_end:70.p\"\n",
    "file_15 = f\"fullscore-{data_name}-gplvmgeneralised-reinit10-numind200_start:70_end:75.p\"\n",
    "file_16 = f\"fullscore-{data_name}-gplvmgeneralised-reinit10-numind200_start:75_end:80.p\"\n",
    "file_17 = f\"fullscore-{data_name}-gplvmgeneralised-reinit10-numind200_start:80_end:85.p\"\n",
    "file_18 = f\"fullscore-{data_name}-gplvmgeneralised-reinit10-numind200_start:85_end:90.p\"\n",
    "file_19 = f\"fullscore-{data_name}-gplvmgeneralised-reinit10-numind200_start:90_end:95.p\"\n",
    "file_20 = f\"fullscore-{data_name}-gplvmgeneralised-reinit10-numind200_start:95_end:100.p\"\n",
    "file_21 = f\"fullscore-{data_name}-gplvmgeneralised-reinit10-numind200_start:100_end:105.p\""
   ]
  },
  {
   "cell_type": "code",
   "execution_count": 4,
   "metadata": {},
   "outputs": [],
   "source": [
    "\n",
    "new_file_1 = f\"fullscore-{data_name}-gplvmgeneralised-reinit20-numind200_start:0_end:5.p\"\n",
    "new_file_2 = f\"fullscore-{data_name}-gplvmgeneralised-reinit20-numind200_start:5_end:10.p\"\n",
    "new_file_3 = f\"fullscore-{data_name}-gplvmgeneralised-reinit20-numind200_start:10_end:15.p\"\n",
    "new_file_4 = f\"fullscore-{data_name}-gplvmgeneralised-reinit20-numind200_start:15_end:20.p\"\n",
    "new_file_5 = f\"fullscore-{data_name}-gplvmgeneralised-reinit20-numind200_start:20_end:25.p\"\n",
    "new_file_6 = f\"fullscore-{data_name}-gplvmgeneralised-reinit20-numind200_start:25_end:30.p\"\n",
    "new_file_7 = f\"fullscore-{data_name}-gplvmgeneralised-reinit20-numind200_start:30_end:35.p\"\n",
    "new_file_8 = f\"fullscore-{data_name}-gplvmgeneralised-reinit20-numind200_start:35_end:40.p\"\n",
    "new_file_9 = f\"fullscore-{data_name}-gplvmgeneralised-reinit20-numind200_start:40_end:45.p\"\n",
    "new_file_10 = f\"fullscore-{data_name}-gplvmgeneralised-reinit20-numind200_start:45_end:50.p\"\n",
    "new_file_11 = f\"fullscore-{data_name}-gplvmgeneralised-reinit20-numind200_start:50_end:55.p\"\n",
    "new_file_12 = f\"fullscore-{data_name}-gplvmgeneralised-reinit20-numind200_start:55_end:60.p\"\n",
    "new_file_13 = f\"fullscore-{data_name}-gplvmgeneralised-reinit20-numind200_start:60_end:65.p\"\n",
    "new_file_14 = f\"fullscore-{data_name}-gplvmgeneralised-reinit20-numind200_start:65_end:70.p\"\n",
    "new_file_15 = f\"fullscore-{data_name}-gplvmgeneralised-reinit20-numind200_start:70_end:75.p\"\n",
    "new_file_16 = f\"fullscore-{data_name}-gplvmgeneralised-reinit20-numind200_start:75_end:80.p\"\n",
    "new_file_17 = f\"fullscore-{data_name}-gplvmgeneralised-reinit20-numind200_start:80_end:85.p\"\n",
    "new_file_18 = f\"fullscore-{data_name}-gplvmgeneralised-reinit20-numind200_start:85_end:90.p\"\n",
    "new_file_19 = f\"fullscore-{data_name}-gplvmgeneralised-reinit20-numind200_start:90_end:95.p\"\n",
    "new_file_20 = f\"fullscore-{data_name}-gplvmgeneralised-reinit20-numind200_start:95_end:100.p\"\n",
    "new_file_21 = f\"fullscore-{data_name}-gplvmgeneralised-reinit20-numind200_start:100_end:105.p\""
   ]
  },
  {
   "cell_type": "code",
   "execution_count": 5,
   "metadata": {},
   "outputs": [
    {
     "name": "stderr",
     "output_type": "stream",
     "text": [
      "Load cause-effect pairs: 100%|██████████| 108/108 [00:00<00:00, 111.83it/s]\n"
     ]
    }
   ],
   "source": [
    "import importlib\n",
    "from data import get_data\n",
    "\n",
    "data_get = getattr(get_data, f\"get_tubingen_pairs_dataset\")\n",
    "\n",
    "x, y, weight, target = data_get(data_path=f\"{work_dir}/data/pairs/files\")"
   ]
  },
  {
   "cell_type": "code",
   "execution_count": 6,
   "metadata": {},
   "outputs": [],
   "source": [
    "# import shutil\n",
    "\n",
    "\n",
    "# for file_idx in range(21):\n",
    "#     shutil.copy(f\"{work_dir}/results/{eval(f'file_{file_idx + 1}')}\", f\"{work_dir}/results/{eval(f'new_file_{file_idx + 1}')}\")"
   ]
  },
  {
   "cell_type": "code",
   "execution_count": 12,
   "metadata": {},
   "outputs": [],
   "source": [
    "all_results = {}\n",
    "for file_idx in range(21):\n",
    "    with open(f\"{work_dir}/results/{eval(f'new_file_{file_idx + 1}')}\", \"rb\") as f:\n",
    "        results = dill.load(f)\n",
    "    all_results.update(results[\"final_scores\"])"
   ]
  },
  {
   "cell_type": "code",
   "execution_count": null,
   "metadata": {},
   "outputs": [],
   "source": []
  },
  {
   "cell_type": "code",
   "execution_count": 13,
   "metadata": {},
   "outputs": [],
   "source": [
    "from utils import return_all_scores, return_best_causal_scores, get_correct\n",
    "\n",
    "\n",
    "all_x, all_y_x, all_y, all_x_y = return_all_scores(all_results)\n",
    "best_scores = return_best_causal_scores(all_x, all_y_x, all_y, all_x_y)"
   ]
  },
  {
   "cell_type": "code",
   "execution_count": 14,
   "metadata": {},
   "outputs": [
    {
     "data": {
      "text/plain": [
       "{0: BEST_SCORES(best_loss_x=395.2181175097202, best_loss_y_x=212.29633679838872, best_loss_y=454.3992785866485, best_loss_x_y=198.94371004161292),\n",
       " 1: BEST_SCORES(best_loss_x=401.0915489660144, best_loss_y_x=302.1286060848918, best_loss_y=434.2265951066224, best_loss_x_y=286.96651537919644),\n",
       " 2: BEST_SCORES(best_loss_x=494.8762299070695, best_loss_y_x=425.6062300724461, best_loss_y=455.22028784289904, best_loss_x_y=460.89766391860474),\n",
       " 3: BEST_SCORES(best_loss_x=396.73666165532836, best_loss_y_x=488.4197634486832, best_loss_y=495.25341131896016, best_loss_x_y=410.89873603559147),\n",
       " 4: BEST_SCORES(best_loss_x=322.3528148837406, best_loss_y_x=4247.21143630209, best_loss_y=5794.870135895505, best_loss_x_y=1938.0616885548488),\n",
       " 5: BEST_SCORES(best_loss_x=357.88828221306244, best_loss_y_x=4003.7077285544133, best_loss_y=5797.121819321012, best_loss_x_y=3931.91766994198),\n",
       " 6: BEST_SCORES(best_loss_x=533.153762904345, best_loss_y_x=4195.138571593567, best_loss_y=5799.599043567258, best_loss_x_y=2113.440721255995),\n",
       " 7: BEST_SCORES(best_loss_x=289.5246799681396, best_loss_y_x=4081.8530879239765, best_loss_y=5648.766669210035, best_loss_x_y=4135.394501454191),\n",
       " 8: BEST_SCORES(best_loss_x=211.8771639231041, best_loss_y_x=4273.251493586934, best_loss_y=5791.48772814376, best_loss_x_y=2812.9435786012596),\n",
       " 9: BEST_SCORES(best_loss_x=454.0405633830419, best_loss_y_x=4497.9203978967835, best_loss_y=5730.698275615608, best_loss_x_y=2274.613044375833),\n",
       " 10: BEST_SCORES(best_loss_x=308.1922125552399, best_loss_y_x=4316.544482260972, best_loss_y=5764.944635306078, best_loss_x_y=3082.4345098265444),\n",
       " 11: BEST_SCORES(best_loss_x=12031.758799853544, best_loss_y_x=19935.560920445398, best_loss_y=21205.257575641066, best_loss_x_y=18550.089513748804),\n",
       " 12: BEST_SCORES(best_loss_x=405.4702344919616, best_loss_y_x=294.1859048606269, best_loss_y=550.0260360369701, best_loss_x_y=208.71840006703766),\n",
       " 13: BEST_SCORES(best_loss_x=513.394431654323, best_loss_y_x=307.26970386072105, best_loss_y=548.2599486614852, best_loss_x_y=270.7781194318974),\n",
       " 14: BEST_SCORES(best_loss_x=524.3457947861797, best_loss_y_x=278.41863533549923, best_loss_y=549.1257971404192, best_loss_x_y=250.2487792729107),\n",
       " 15: BEST_SCORES(best_loss_x=513.722491424724, best_loss_y_x=432.37938653132096, best_loss_y=556.2542438280551, best_loss_x_y=380.7277708892632),\n",
       " 16: BEST_SCORES(best_loss_x=10790.556256935337, best_loss_y_x=303921.2177396853, best_loss_y=28709.039884180303, best_loss_x_y=10521.707271907022),\n",
       " 17: BEST_SCORES(best_loss_x=358.7480771627386, best_loss_y_x=164.3464737980147, best_loss_y=396.77381526069973, best_loss_x_y=138.3008772079742),\n",
       " 18: BEST_SCORES(best_loss_x=202.17192244539433, best_loss_y_x=138.21596831808534, best_loss_y=267.44075234945626, best_loss_x_y=86.00238951354152),\n",
       " 19: BEST_SCORES(best_loss_x=468.2687377150554, best_loss_y_x=398.84936982649583, best_loss_y=453.0850298333646, best_loss_x_y=437.57219859728366),\n",
       " 20: BEST_SCORES(best_loss_x=494.859914224951, best_loss_y_x=407.04827343300536, best_loss_y=434.8641668593237, best_loss_x_y=456.1933285545142),\n",
       " 21: BEST_SCORES(best_loss_x=638.5466458720035, best_loss_y_x=546.9174659435301, best_loss_y=350.1049503203359, best_loss_x_y=612.3004111527549),\n",
       " 22: BEST_SCORES(best_loss_x=641.3971287170767, best_loss_y_x=546.9191741926558, best_loss_y=633.5333162870992, best_loss_x_y=577.4953559189177),\n",
       " 23: BEST_SCORES(best_loss_x=639.9638150889697, best_loss_y_x=607.6162378244259, best_loss_y=619.1052666589351, best_loss_x_y=634.9010619584694),\n",
       " 24: BEST_SCORES(best_loss_x=1418.0610060174279, best_loss_y_x=1322.0385525919717, best_loss_y=1453.7659303160992, best_loss_x_y=1289.2826660400417),\n",
       " 25: BEST_SCORES(best_loss_x=530.8966553183404, best_loss_y_x=1452.1579332769936, best_loss_y=1453.968204340899, best_loss_x_y=609.0512644716493),\n",
       " 26: BEST_SCORES(best_loss_x=-166.33936637688652, best_loss_y_x=1443.8057471107393, best_loss_y=1452.7196174776918, best_loss_x_y=34.537979678367435),\n",
       " 27: BEST_SCORES(best_loss_x=1406.787340252855, best_loss_y_x=1356.798786235061, best_loss_y=1449.9748629403086, best_loss_x_y=1364.9976312149104),\n",
       " 28: BEST_SCORES(best_loss_x=769.1903192937948, best_loss_y_x=1393.7276577611867, best_loss_y=1453.1330422224019, best_loss_x_y=797.3215444972235),\n",
       " 29: BEST_SCORES(best_loss_x=1438.5661400809647, best_loss_y_x=1449.200533733498, best_loss_y=1451.7767835399077, best_loss_x_y=1447.8346421307647),\n",
       " 30: BEST_SCORES(best_loss_x=1455.419438027458, best_loss_y_x=1437.9206796727026, best_loss_y=1450.5868002818236, best_loss_x_y=1451.9481791370285),\n",
       " 31: BEST_SCORES(best_loss_x=-798.352112361989, best_loss_y_x=1256.3530218270114, best_loss_y=1452.8644405259997, best_loss_x_y=-637.7494470196243),\n",
       " 32: BEST_SCORES(best_loss_x=-200.71256886090472, best_loss_y_x=475.68330529994125, best_loss_y=97.84771204086093, best_loss_x_y=209.13858806569533),\n",
       " 33: BEST_SCORES(best_loss_x=-177.48966323817797, best_loss_y_x=490.75656104830256, best_loss_y=488.57778987793273, best_loss_x_y=-17.180964969768468),\n",
       " 34: BEST_SCORES(best_loss_x=-83.34720957867233, best_loss_y_x=379.0060873017122, best_loss_y=379.71095244910055, best_loss_x_y=31.549764112861624),\n",
       " 35: BEST_SCORES(best_loss_x=-202.08498411138913, best_loss_y_x=417.09824603432196, best_loss_y=426.8547916889138, best_loss_x_y=202.06317994193387),\n",
       " 36: BEST_SCORES(best_loss_x=-168.39944887268518, best_loss_y_x=300.13989750069555, best_loss_y=307.140680632934, best_loss_x_y=354.6823011656677),\n",
       " 37: BEST_SCORES(best_loss_x=875.0623681469731, best_loss_y_x=1059.7564792441647, best_loss_y=1071.9718539256976, best_loss_x_y=886.1619779662716),\n",
       " 38: BEST_SCORES(best_loss_x=436.12341626239606, best_loss_y_x=451.66796099443485, best_loss_y=457.38783246702826, best_loss_x_y=448.222200293031),\n",
       " 39: BEST_SCORES(best_loss_x=844.4576087066146, best_loss_y_x=997.0397726874278, best_loss_y=393.4998272104493, best_loss_x_y=832.537271865235),\n",
       " 40: BEST_SCORES(best_loss_x=878.3224961904712, best_loss_y_x=1042.1065629681698, best_loss_y=1063.2027037268062, best_loss_x_y=872.7074609853421),\n",
       " 41: BEST_SCORES(best_loss_x=12221.228347126153, best_loss_y_x=7507.036329858843, best_loss_y=13015.952199448471, best_loss_x_y=7799.5822382542765),\n",
       " 42: BEST_SCORES(best_loss_x=12389.030920955709, best_loss_y_x=-11888.088122831647, best_loss_y=12422.034514183417, best_loss_x_y=-11896.025348238774),\n",
       " 43: BEST_SCORES(best_loss_x=6206.770658679846, best_loss_y_x=-18222.49123354981, best_loss_y=5889.308640097613, best_loss_x_y=-17815.063913974493),\n",
       " 44: BEST_SCORES(best_loss_x=13255.43232715735, best_loss_y_x=2704.3889002581627, best_loss_y=13732.064639256641, best_loss_x_y=2205.6412303615602),\n",
       " 45: BEST_SCORES(best_loss_x=10621.990399416562, best_loss_y_x=4027.7189893182235, best_loss_y=10366.902259653667, best_loss_x_y=4246.095403406279),\n",
       " 46: BEST_SCORES(best_loss_x=-361.1494628432585, best_loss_y_x=289.0511522456234, best_loss_y=303.5400778827368, best_loss_x_y=-327.470914361921),\n",
       " 47: BEST_SCORES(best_loss_x=241.64133421068632, best_loss_y_x=220.78315996491807, best_loss_y=244.37270724983253, best_loss_x_y=212.66760681672346),\n",
       " 48: BEST_SCORES(best_loss_x=508.7579478960821, best_loss_y_x=391.94323121247174, best_loss_y=517.9500241150417, best_loss_x_y=385.9298713214822),\n",
       " 49: BEST_SCORES(best_loss_x=518.5000729919303, best_loss_y_x=390.5862749374132, best_loss_y=517.9394861273556, best_loss_x_y=391.97333910104965),\n",
       " 50: BEST_SCORES(best_loss_x=515.4229549500467, best_loss_y_x=486.8343618549491, best_loss_y=517.9475295411964, best_loss_x_y=485.18383117998326),\n",
       " 55: BEST_SCORES(best_loss_x=277.3042317012512, best_loss_y_x=227.1236431975631, best_loss_y=248.1017270134434, best_loss_x_y=250.13306479016285),\n",
       " 56: BEST_SCORES(best_loss_x=277.5256619527919, best_loss_y_x=239.70844070404962, best_loss_y=254.46603015649808, best_loss_x_y=256.3424463470873),\n",
       " 57: BEST_SCORES(best_loss_x=278.6481472672118, best_loss_y_x=241.3126812860267, best_loss_y=258.12182916897655, best_loss_x_y=257.8159300798699),\n",
       " 58: BEST_SCORES(best_loss_x=278.8386683335503, best_loss_y_x=238.6617026485035, best_loss_y=256.48114245495265, best_loss_x_y=258.47608775353484),\n",
       " 59: BEST_SCORES(best_loss_x=277.4280629830597, best_loss_y_x=248.6233903934189, best_loss_y=258.42433173453486, best_loss_x_y=262.62940678057157),\n",
       " 60: BEST_SCORES(best_loss_x=277.066161270903, best_loss_y_x=251.2788750470375, best_loss_y=261.58480949500495, best_loss_x_y=265.2409049391232),\n",
       " 61: BEST_SCORES(best_loss_x=276.54425676500216, best_loss_y_x=254.21279640021498, best_loss_y=263.9717047238794, best_loss_x_y=265.16364645723837),\n",
       " 62: BEST_SCORES(best_loss_x=277.93712843971116, best_loss_y_x=253.83371198603015, best_loss_y=263.32913242385087, best_loss_x_y=262.02792425367073),\n",
       " 63: BEST_SCORES(best_loss_x=172.19736273539027, best_loss_y_x=123.18000324501554, best_loss_y=195.22680701282383, best_loss_x_y=104.91364179173698),\n",
       " 64: BEST_SCORES(best_loss_x=1757.8049801579004, best_loss_y_x=1559.2120575000329, best_loss_y=1754.604548734731, best_loss_x_y=1568.0125550797595),\n",
       " 65: BEST_SCORES(best_loss_x=1869.8551971045288, best_loss_y_x=1117.6021027919205, best_loss_y=1875.6974065578377, best_loss_x_y=1108.793133595273),\n",
       " 66: BEST_SCORES(best_loss_x=1879.320453689676, best_loss_y_x=1360.2209467207738, best_loss_y=1860.9923083888516, best_loss_x_y=1371.774252773964),\n",
       " 67: BEST_SCORES(best_loss_x=-116.15668039208614, best_loss_y_x=-1078.5393645396468, best_loss_y=-746.4298293799123, best_loss_x_y=-214.88562963121635),\n",
       " 68: BEST_SCORES(best_loss_x=21859.003126561915, best_loss_y_x=20551.6717864215, best_loss_y=15601.640548597268, best_loss_x_y=19709.022849601937),\n",
       " 69: BEST_SCORES(best_loss_x=905.5933261264926, best_loss_y_x=-12044.68123302733, best_loss_y=-2037.5157367681973, best_loss_x_y=-2289.9585993006363),\n",
       " 71: BEST_SCORES(best_loss_x=1966.8689074139877, best_loss_y_x=2278.799479556443, best_loss_y=2312.916773599193, best_loss_x_y=1974.4305503460148),\n",
       " 72: BEST_SCORES(best_loss_x=4454.533080995989, best_loss_y_x=-2563.8305835361243, best_loss_y=3992.5511549923363, best_loss_x_y=-2157.288433839325),\n",
       " 73: BEST_SCORES(best_loss_x=128.31974491227038, best_loss_y_x=186.05458125498163, best_loss_y=264.46660972886554, best_loss_x_y=47.51471176123487),\n",
       " 74: BEST_SCORES(best_loss_x=135.61243380877795, best_loss_y_x=149.78771651834106, best_loss_y=204.7723175839272, best_loss_x_y=84.68736363723833),\n",
       " 75: BEST_SCORES(best_loss_x=492.4073589236355, best_loss_y_x=231.91221027942743, best_loss_y=492.3980830527497, best_loss_x_y=234.3379773034627),\n",
       " 76: BEST_SCORES(best_loss_x=10775.385824311059, best_loss_y_x=9266.45626377851, best_loss_y=11909.19432733543, best_loss_x_y=8043.973006641078),\n",
       " 77: BEST_SCORES(best_loss_x=923.4601822921272, best_loss_y_x=347.0653580358591, best_loss_y=1019.1912515581622, best_loss_x_y=306.1277219848098),\n",
       " 78: BEST_SCORES(best_loss_x=977.2080718196596, best_loss_y_x=466.7771662575552, best_loss_y=1012.9124534838926, best_loss_x_y=419.28125597432995),\n",
       " 79: BEST_SCORES(best_loss_x=699.7418656071145, best_loss_y_x=644.9256728027972, best_loss_y=1010.7422207960877, best_loss_x_y=398.3450177943365),\n",
       " 80: BEST_SCORES(best_loss_x=518.0332626728004, best_loss_y_x=385.7977223747762, best_loss_y=517.9473097217517, best_loss_x_y=383.7871419478328),\n",
       " 81: BEST_SCORES(best_loss_x=515.9645232917253, best_loss_y_x=306.74973274625154, best_loss_y=486.2350161672007, best_loss_x_y=343.9753194274989),\n",
       " 82: BEST_SCORES(best_loss_x=509.017216550459, best_loss_y_x=167.4619367091867, best_loss_y=429.78541184940195, best_loss_x_y=255.60667298646848),\n",
       " 83: BEST_SCORES(best_loss_x=4371.269555920195, best_loss_y_x=-2909.0667838442346, best_loss_y=4361.198584051051, best_loss_x_y=-2890.919722628499),\n",
       " 84: BEST_SCORES(best_loss_x=742.5479632616014, best_loss_y_x=1366.9204947234205, best_loss_y=1415.8723569334554, best_loss_x_y=1318.5832725782193),\n",
       " 85: BEST_SCORES(best_loss_x=336.8331821799672, best_loss_y_x=747.0794142655013, best_loss_y=716.4548065431068, best_loss_x_y=687.7370244824671),\n",
       " 86: BEST_SCORES(best_loss_x=10760.837514303952, best_loss_y_x=-861.3222802766368, best_loss_y=262.0454765907251, best_loss_x_y=9543.535082074417),\n",
       " 87: BEST_SCORES(best_loss_x=355.0801256091992, best_loss_y_x=305.56973845574055, best_loss_y=360.9677649871244, best_loss_x_y=323.90074121522497),\n",
       " 88: BEST_SCORES(best_loss_x=196.85255546956896, best_loss_y_x=166.73663543284914, best_loss_y=208.5978802635674, best_loss_x_y=161.89195194296337),\n",
       " 89: BEST_SCORES(best_loss_x=188.6383943109498, best_loss_y_x=183.11779071614293, best_loss_y=190.51153817686588, best_loss_x_y=186.99630537829003),\n",
       " 90: BEST_SCORES(best_loss_x=194.48534530438724, best_loss_y_x=144.22537332979465, best_loss_y=220.36200083404424, best_loss_x_y=129.04709544844093),\n",
       " 91: BEST_SCORES(best_loss_x=193.95633043978103, best_loss_y_x=93.35341881985472, best_loss_y=208.27958549971532, best_loss_x_y=88.92772435487069),\n",
       " 92: BEST_SCORES(best_loss_x=602.620622753199, best_loss_y_x=213.08845566302315, best_loss_y=532.1699751019224, best_loss_x_y=276.6850926608655),\n",
       " 93: BEST_SCORES(best_loss_x=12655.241283188998, best_loss_y_x=12173.510681978547, best_loss_y=13008.20631805718, best_loss_x_y=11955.638780198135),\n",
       " 94: BEST_SCORES(best_loss_x=12654.744789424212, best_loss_y_x=11250.168185729648, best_loss_y=12675.40913987602, best_loss_x_y=11808.876553410637),\n",
       " 95: BEST_SCORES(best_loss_x=13011.023345542984, best_loss_y_x=10026.168852140401, best_loss_y=12672.035051798191, best_loss_x_y=10574.565252536679),\n",
       " 96: BEST_SCORES(best_loss_x=247.7740735939217, best_loss_y_x=275.4988261716778, best_loss_y=295.96188537167285, best_loss_x_y=279.60422552769967),\n",
       " 97: BEST_SCORES(best_loss_x=148.37342458441148, best_loss_y_x=23.263109322404336, best_loss_y=147.94326853493797, best_loss_x_y=15.691550205285406),\n",
       " 98: BEST_SCORES(best_loss_x=5.224811302640774, best_loss_y_x=3017.085382805263, best_loss_y=3165.590264346582, best_loss_x_y=397.0912905432531),\n",
       " 99: BEST_SCORES(best_loss_x=300.9992206152473, best_loss_y_x=228.1683234212834, best_loss_y=301.46261685246816, best_loss_x_y=227.99712581313287),\n",
       " 100: BEST_SCORES(best_loss_x=225.2802918822788, best_loss_y_x=-305.308778510088, best_loss_y=337.4608056328064, best_loss_x_y=-393.2420246636734),\n",
       " 101: BEST_SCORES(best_loss_x=167.15171618834412, best_loss_y_x=156.5828113073867, best_loss_y=158.47927755193402, best_loss_x_y=163.67171426111886),\n",
       " 102: BEST_SCORES(best_loss_x=166.441101555132, best_loss_y_x=173.23677260335901, best_loss_y=182.6732719475285, best_loss_x_y=166.49388358272327),\n",
       " 103: BEST_SCORES(best_loss_x=159.85197756149637, best_loss_y_x=169.22481073434048, best_loss_y=166.58340624691954, best_loss_x_y=165.03750675194547)}"
      ]
     },
     "execution_count": 14,
     "metadata": {},
     "output_type": "execute_result"
    }
   ],
   "source": [
    "best_scores"
   ]
  },
  {
   "cell_type": "code",
   "execution_count": 10,
   "metadata": {},
   "outputs": [
    {
     "data": {
      "text/plain": [
       "99"
      ]
     },
     "execution_count": 10,
     "metadata": {},
     "output_type": "execute_result"
    }
   ],
   "source": [
    "len(best_scores.keys())"
   ]
  },
  {
   "cell_type": "code",
   "execution_count": 19,
   "metadata": {},
   "outputs": [],
   "source": [
    "def get_scores(best_scores):\n",
    "    total_runs = len(list(best_scores.keys()))\n",
    "    y_scores = {}\n",
    "    y_scores_array = np.zeros(total_runs)\n",
    "    for idx, run_idx in enumerate(list(best_scores.keys())):\n",
    "        current_run = best_scores[run_idx]\n",
    "        causal_score = current_run.best_loss_x + current_run.best_loss_y_x\n",
    "        anticausal_score = current_run.best_loss_y + current_run.best_loss_x_y\n",
    "        y_scores[run_idx] = - causal_score + anticausal_score\n",
    "        y_scores_array[idx] = - causal_score + anticausal_score \n",
    "    return y_scores, y_scores_array"
   ]
  },
  {
   "cell_type": "code",
   "execution_count": 20,
   "metadata": {},
   "outputs": [
    {
     "name": "stderr",
     "output_type": "stream",
     "text": [
      "100%|██████████| 100/100 [00:00<00:00, 782.27it/s]\n"
     ]
    }
   ],
   "source": [
    "from tqdm import trange\n",
    "from sklearn.metrics import roc_auc_score\n",
    "\n",
    "\n",
    "auc_all = []\n",
    "for i in trange(100):\n",
    "    _, y_scores = get_scores(best_scores)\n",
    "    total_runs = len(y_scores)\n",
    "\n",
    "    target = np.ones(total_runs)\n",
    "    flip_idx = np.random.choice(np.arange(total_runs), total_runs // 2, replace=False)\n",
    "    for i in range(total_runs):\n",
    "        if i in flip_idx:\n",
    "            target[i] *= -1\n",
    "            y_scores[i] *= -1\n",
    "    roc_auc = roc_auc_score( target, y_scores )\n",
    "    auc_all.append(roc_auc)"
   ]
  },
  {
   "cell_type": "code",
   "execution_count": 21,
   "metadata": {},
   "outputs": [
    {
     "data": {
      "text/plain": [
       "[0.7808163265306123,\n",
       " 0.7848979591836734,\n",
       " 0.7873469387755101,\n",
       " 0.7885714285714285,\n",
       " 0.7812244897959184,\n",
       " 0.7861224489795917,\n",
       " 0.7771428571428571,\n",
       " 0.7848979591836734,\n",
       " 0.7812244897959183,\n",
       " 0.7824489795918367,\n",
       " 0.7824489795918368,\n",
       " 0.7816326530612244,\n",
       " 0.7840816326530612,\n",
       " 0.7787755102040816,\n",
       " 0.7844897959183673,\n",
       " 0.780408163265306,\n",
       " 0.7853061224489795,\n",
       " 0.7816326530612244,\n",
       " 0.780408163265306,\n",
       " 0.7816326530612245,\n",
       " 0.7824489795918367,\n",
       " 0.7779591836734694,\n",
       " 0.7779591836734694,\n",
       " 0.7840816326530612,\n",
       " 0.7828571428571428,\n",
       " 0.7820408163265307,\n",
       " 0.7804081632653062,\n",
       " 0.7836734693877551,\n",
       " 0.7820408163265306,\n",
       " 0.7804081632653062,\n",
       " 0.7816326530612245,\n",
       " 0.7836734693877551,\n",
       " 0.7828571428571429,\n",
       " 0.7820408163265306,\n",
       " 0.7783673469387755,\n",
       " 0.7889795918367347,\n",
       " 0.7804081632653062,\n",
       " 0.7844897959183673,\n",
       " 0.7795918367346939,\n",
       " 0.7844897959183673,\n",
       " 0.7848979591836736,\n",
       " 0.7881632653061225,\n",
       " 0.7853061224489796,\n",
       " 0.7848979591836736,\n",
       " 0.7824489795918367,\n",
       " 0.7799999999999999,\n",
       " 0.7824489795918367,\n",
       " 0.783265306122449,\n",
       " 0.7816326530612244,\n",
       " 0.7771428571428571,\n",
       " 0.7828571428571428,\n",
       " 0.7832653061224489,\n",
       " 0.7755102040816326,\n",
       " 0.7787755102040816,\n",
       " 0.7853061224489796,\n",
       " 0.7820408163265306,\n",
       " 0.7771428571428571,\n",
       " 0.789795918367347,\n",
       " 0.7910204081632652,\n",
       " 0.7808163265306123,\n",
       " 0.7812244897959184,\n",
       " 0.7787755102040816,\n",
       " 0.7840816326530612,\n",
       " 0.7824489795918367,\n",
       " 0.7861224489795918,\n",
       " 0.7840816326530613,\n",
       " 0.7816326530612245,\n",
       " 0.7820408163265307,\n",
       " 0.7791836734693877,\n",
       " 0.7832653061224489,\n",
       " 0.7828571428571428,\n",
       " 0.7816326530612245,\n",
       " 0.7857142857142857,\n",
       " 0.7938775510204081,\n",
       " 0.7812244897959184,\n",
       " 0.7824489795918367,\n",
       " 0.7853061224489797,\n",
       " 0.7873469387755102,\n",
       " 0.7832653061224489,\n",
       " 0.7840816326530613,\n",
       " 0.7840816326530613,\n",
       " 0.786530612244898,\n",
       " 0.7808163265306123,\n",
       " 0.793877551020408,\n",
       " 0.78,\n",
       " 0.7848979591836734,\n",
       " 0.7861224489795918,\n",
       " 0.7853061224489796,\n",
       " 0.7844897959183673,\n",
       " 0.7848979591836734,\n",
       " 0.7893877551020408,\n",
       " 0.7853061224489796,\n",
       " 0.7808163265306123,\n",
       " 0.783265306122449,\n",
       " 0.7804081632653062,\n",
       " 0.7840816326530612,\n",
       " 0.7828571428571429,\n",
       " 0.7820408163265307,\n",
       " 0.7836734693877551,\n",
       " 0.7832653061224489]"
      ]
     },
     "execution_count": 21,
     "metadata": {},
     "output_type": "execute_result"
    }
   ],
   "source": [
    "auc_all"
   ]
  },
  {
   "cell_type": "code",
   "execution_count": 22,
   "metadata": {},
   "outputs": [
    {
     "data": {
      "text/plain": [
       "0.7830938775510202"
      ]
     },
     "execution_count": 22,
     "metadata": {},
     "output_type": "execute_result"
    }
   ],
   "source": [
    "np.mean(auc_all)\n"
   ]
  },
  {
   "cell_type": "code",
   "execution_count": 23,
   "metadata": {},
   "outputs": [
    {
     "data": {
      "text/plain": [
       "0.7830938775510202"
      ]
     },
     "execution_count": 23,
     "metadata": {},
     "output_type": "execute_result"
    }
   ],
   "source": [
    "np.mean(auc_all)"
   ]
  },
  {
   "cell_type": "code",
   "execution_count": 24,
   "metadata": {},
   "outputs": [
    {
     "name": "stdout",
     "output_type": "stream",
     "text": [
      "2\n",
      "12\n",
      "13\n",
      "14\n",
      "15\n",
      "17\n",
      "20\n",
      "21\n",
      "24\n",
      "39\n",
      "44\n",
      "45\n",
      "55\n",
      "56\n",
      "57\n",
      "58\n",
      "59\n",
      "60\n",
      "62\n",
      "65\n",
      "66\n",
      "72\n",
      "73\n",
      "76\n",
      "78\n",
      "89\n",
      "90\n",
      "92\n",
      "97\n",
      "99\n"
     ]
    }
   ],
   "source": [
    "# Get the weighted accuracy\n",
    "y_dict, y_scores = get_scores(best_scores)\n",
    "correct_weight = []\n",
    "wrong_weight = []\n",
    "for run_idx in list(y_dict.keys()):\n",
    "    curr_score = y_dict[run_idx]\n",
    "    if curr_score < 0:\n",
    "        print(run_idx)\n",
    "        wrong_weight.append(weight[run_idx])\n",
    "    if curr_score > 0:\n",
    "        correct_weight.append(weight[run_idx])"
   ]
  },
  {
   "cell_type": "code",
   "execution_count": 25,
   "metadata": {},
   "outputs": [
    {
     "name": "stdout",
     "output_type": "stream",
     "text": [
      "0.7607943005079173\n"
     ]
    }
   ],
   "source": [
    "# Find weighted accuracy\n",
    "correct_total_weight = np.sum(correct_weight)\n",
    "wrong_total_weight = np.sum(wrong_weight)\n",
    "accuracy = correct_total_weight / (correct_total_weight + wrong_total_weight)\n",
    "print(accuracy)"
   ]
  },
  {
   "cell_type": "code",
   "execution_count": null,
   "metadata": {},
   "outputs": [],
   "source": [
    "fpr, tpr, _ = roc_curve(-1 * target, -1 * y_scores)\n",
    "roc_auc = auc(fpr, tpr)"
   ]
  },
  {
   "cell_type": "code",
   "execution_count": null,
   "metadata": {},
   "outputs": [],
   "source": [
    "print(roc_auc)"
   ]
  },
  {
   "cell_type": "code",
   "execution_count": null,
   "metadata": {},
   "outputs": [],
   "source": [
    "random_choice = np.random.choice(len(y_labels), size=len(y_labels) // 2)\n",
    "for i in random_choice:\n",
    "    y_labels[i] *= -1\n",
    "    y_scores[i] *= -1"
   ]
  },
  {
   "cell_type": "code",
   "execution_count": null,
   "metadata": {},
   "outputs": [],
   "source": [
    "random_choice"
   ]
  },
  {
   "cell_type": "code",
   "execution_count": null,
   "metadata": {},
   "outputs": [],
   "source": [
    "from sklearn.metrics import roc_curve\n",
    "from sklearn.metrics import roc_curve, auc\n",
    "\n",
    "\n",
    "fpr, tpr, _ = roc_curve(y_labels, y_scores)\n",
    "roc_auc = auc(fpr, tpr)"
   ]
  },
  {
   "cell_type": "code",
   "execution_count": null,
   "metadata": {},
   "outputs": [],
   "source": [
    "from sklearn.metrics import roc_auc_score\n",
    "\n",
    "auc = roc_auc_score(y_labels, y_scores)\n",
    "print(auc)"
   ]
  },
  {
   "cell_type": "markdown",
   "metadata": {},
   "source": [
    " # GPLVM Data Results"
   ]
  },
  {
   "cell_type": "code",
   "execution_count": 1,
   "metadata": {},
   "outputs": [],
   "source": [
    "import sys\n",
    "sys.path.append(\"/vol/bitbucket/ad6013/Research/gp-causal\")"
   ]
  },
  {
   "cell_type": "code",
   "execution_count": 2,
   "metadata": {},
   "outputs": [],
   "source": [
    "import dill \n",
    "import matplotlib.pyplot as plt\n",
    "import numpy as np\n",
    "work_dir = \"/vol/bitbucket/ad6013/Research/gp-causal\"\n",
    "\n",
    "\n",
    "def get_files(data_name):\n",
    "    all_files = [\n",
    "        f\"fullscore-{data_name}-gplvmgeneralised-reinit10-numind200_start:{i}_end:{i + 10}.p\" for i in np.linspace(0, 90, 10, dtype=int)\n",
    "    ]\n",
    "    return all_files"
   ]
  },
  {
   "cell_type": "code",
   "execution_count": 3,
   "metadata": {},
   "outputs": [],
   "source": [
    "def get_result_files(all_files):\n",
    "    all_results = {}\n",
    "    for file in all_files:\n",
    "        with open(f\"{work_dir}/results/{file}\", \"rb\") as f:\n",
    "            results = dill.load(f)\n",
    "        all_results.update(results[\"final_scores\"])\n",
    "    return all_results"
   ]
  },
  {
   "cell_type": "code",
   "execution_count": 4,
   "metadata": {},
   "outputs": [
    {
     "ename": "FileNotFoundError",
     "evalue": "[Errno 2] No such file or directory: '/vol/bitbucket/ad6013/Research/gp-causal/results/fullscore-gplvm_pairs-gplvmgeneralised-reinit10-numind200_start:0_end:10.p'",
     "output_type": "error",
     "traceback": [
      "\u001b[0;31m---------------------------------------------------------------------------\u001b[0m",
      "\u001b[0;31mFileNotFoundError\u001b[0m                         Traceback (most recent call last)",
      "\u001b[1;32m/vol/bitbucket/ad6013/Research/gp-causal/notebooks/results_playground.ipynb Cell 124'\u001b[0m in \u001b[0;36m<cell line: 2>\u001b[0;34m()\u001b[0m\n\u001b[1;32m      <a href='vscode-notebook-cell://ssh-remote%2Bmiasma.doc.ic.ac.uk/vol/bitbucket/ad6013/Research/gp-causal/notebooks/results_playground.ipynb#ch0000123vscode-remote?line=0'>1</a>\u001b[0m all_files \u001b[39m=\u001b[39m get_files(\u001b[39m\"\u001b[39m\u001b[39mgplvm_pairs\u001b[39m\u001b[39m\"\u001b[39m)\n\u001b[0;32m----> <a href='vscode-notebook-cell://ssh-remote%2Bmiasma.doc.ic.ac.uk/vol/bitbucket/ad6013/Research/gp-causal/notebooks/results_playground.ipynb#ch0000123vscode-remote?line=1'>2</a>\u001b[0m all_results \u001b[39m=\u001b[39m get_result_files(all_files)\n",
      "\u001b[1;32m/vol/bitbucket/ad6013/Research/gp-causal/notebooks/results_playground.ipynb Cell 123'\u001b[0m in \u001b[0;36mget_result_files\u001b[0;34m(all_files)\u001b[0m\n\u001b[1;32m      <a href='vscode-notebook-cell://ssh-remote%2Bmiasma.doc.ic.ac.uk/vol/bitbucket/ad6013/Research/gp-causal/notebooks/results_playground.ipynb#ch0000122vscode-remote?line=1'>2</a>\u001b[0m all_results \u001b[39m=\u001b[39m {}\n\u001b[1;32m      <a href='vscode-notebook-cell://ssh-remote%2Bmiasma.doc.ic.ac.uk/vol/bitbucket/ad6013/Research/gp-causal/notebooks/results_playground.ipynb#ch0000122vscode-remote?line=2'>3</a>\u001b[0m \u001b[39mfor\u001b[39;00m file \u001b[39min\u001b[39;00m all_files:\n\u001b[0;32m----> <a href='vscode-notebook-cell://ssh-remote%2Bmiasma.doc.ic.ac.uk/vol/bitbucket/ad6013/Research/gp-causal/notebooks/results_playground.ipynb#ch0000122vscode-remote?line=3'>4</a>\u001b[0m     \u001b[39mwith\u001b[39;00m \u001b[39mopen\u001b[39;49m(\u001b[39mf\u001b[39;49m\u001b[39m\"\u001b[39;49m\u001b[39m{\u001b[39;49;00mwork_dir\u001b[39m}\u001b[39;49;00m\u001b[39m/results/\u001b[39;49m\u001b[39m{\u001b[39;49;00mfile\u001b[39m}\u001b[39;49;00m\u001b[39m\"\u001b[39;49m, \u001b[39m\"\u001b[39;49m\u001b[39mrb\u001b[39;49m\u001b[39m\"\u001b[39;49m) \u001b[39mas\u001b[39;00m f:\n\u001b[1;32m      <a href='vscode-notebook-cell://ssh-remote%2Bmiasma.doc.ic.ac.uk/vol/bitbucket/ad6013/Research/gp-causal/notebooks/results_playground.ipynb#ch0000122vscode-remote?line=4'>5</a>\u001b[0m         results \u001b[39m=\u001b[39m dill\u001b[39m.\u001b[39mload(f)\n\u001b[1;32m      <a href='vscode-notebook-cell://ssh-remote%2Bmiasma.doc.ic.ac.uk/vol/bitbucket/ad6013/Research/gp-causal/notebooks/results_playground.ipynb#ch0000122vscode-remote?line=5'>6</a>\u001b[0m     all_results\u001b[39m.\u001b[39mupdate(results[\u001b[39m\"\u001b[39m\u001b[39mfinal_scores\u001b[39m\u001b[39m\"\u001b[39m])\n",
      "\u001b[0;31mFileNotFoundError\u001b[0m: [Errno 2] No such file or directory: '/vol/bitbucket/ad6013/Research/gp-causal/results/fullscore-gplvm_pairs-gplvmgeneralised-reinit10-numind200_start:0_end:10.p'"
     ]
    }
   ],
   "source": [
    "all_files = get_files(\"gplvm_pairs\")\n",
    "all_results = get_result_files(all_files)"
   ]
  },
  {
   "cell_type": "code",
   "execution_count": null,
   "metadata": {},
   "outputs": [],
   "source": [
    "from utils import return_all_scores, return_best_causal_scores, get_correct\n",
    "\n",
    "\n",
    "all_x, all_y_x, all_y, all_x_y = return_all_scores(all_results)\n",
    "best_scores = return_best_causal_scores(all_x, all_y_x, all_y, all_x_y)"
   ]
  },
  {
   "cell_type": "code",
   "execution_count": null,
   "metadata": {},
   "outputs": [],
   "source": [
    "total_runs = len(list(best_scores.keys()))\n",
    "y_scores_gplvm = np.zeros(total_runs)\n",
    "for idx, run_idx in enumerate(list(best_scores.keys())):\n",
    "    current_run = best_scores[run_idx]\n",
    "    causal_score = current_run.best_loss_x + current_run.best_loss_y_x\n",
    "    anticausal_score = current_run.best_loss_y + current_run.best_loss_x_y\n",
    "    y_scores_gplvm[idx] = causal_score - anticausal_score "
   ]
  },
  {
   "cell_type": "code",
   "execution_count": null,
   "metadata": {},
   "outputs": [],
   "source": [
    "y_scores_linear"
   ]
  },
  {
   "cell_type": "code",
   "execution_count": null,
   "metadata": {},
   "outputs": [],
   "source": [
    "plt.bar(np.arange(total_runs), y_scores_linear, alpha=0.8)\n",
    "plt.bar(np.arange(-50, 0), y_scores_gplvm[:50], alpha=0.8)\n",
    "plt.bar(np.arange(100, 150), y_scores_gplvm[50:], alpha=0.8)\n",
    "plt.show()\n",
    "plt.close()"
   ]
  },
  {
   "cell_type": "code",
   "execution_count": null,
   "metadata": {},
   "outputs": [],
   "source": [
    "y_scores"
   ]
  },
  {
   "cell_type": "code",
   "execution_count": null,
   "metadata": {},
   "outputs": [],
   "source": [
    "np.max(y_scores)"
   ]
  },
  {
   "cell_type": "code",
   "execution_count": null,
   "metadata": {},
   "outputs": [],
   "source": [
    "correct_idx, wrong_idx = get_correct(best_scores, target)"
   ]
  },
  {
   "cell_type": "code",
   "execution_count": null,
   "metadata": {},
   "outputs": [],
   "source": [
    "from sklearn.metrics import roc_curve, auc\n",
    "\n",
    "fpr, tpr, _ = roc_curve(final_targets, y_scores)\n",
    "roc_auc = auc(fpr, tpr)"
   ]
  },
  {
   "cell_type": "code",
   "execution_count": null,
   "metadata": {},
   "outputs": [],
   "source": [
    "print(roc_auc)"
   ]
  },
  {
   "cell_type": "code",
   "execution_count": null,
   "metadata": {},
   "outputs": [],
   "source": [
    "y_scores"
   ]
  },
  {
   "cell_type": "code",
   "execution_count": null,
   "metadata": {},
   "outputs": [],
   "source": []
  }
 ],
 "metadata": {
  "interpreter": {
   "hash": "a29dfc3a58ca91141e6b31b77b731cbdeae0adeabff34291556b287f724fc891"
  },
  "kernelspec": {
   "display_name": "Python 3.9.5 ('gp-causal-env')",
   "language": "python",
   "name": "python3"
  },
  "language_info": {
   "codemirror_mode": {
    "name": "ipython",
    "version": 3
   },
   "file_extension": ".py",
   "mimetype": "text/x-python",
   "name": "python",
   "nbconvert_exporter": "python",
   "pygments_lexer": "ipython3",
   "version": "3.9.5"
  },
  "orig_nbformat": 4
 },
 "nbformat": 4,
 "nbformat_minor": 2
}
