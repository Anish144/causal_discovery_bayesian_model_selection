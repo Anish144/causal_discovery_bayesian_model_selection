{
 "cells": [
  {
   "cell_type": "code",
   "execution_count": 1,
   "metadata": {},
   "outputs": [],
   "source": [
    "import os\n",
    "os.environ[\"CUDA_VISIBLE_DEVICES\"]=\"0\"\n",
    "os.environ[\"LD_LIBRARY_PATH\"]\n",
    "import sys\n",
    "sys.path.append(\"/vol/bitbucket/ad6013/Research/gp-causal\")"
   ]
  },
  {
   "cell_type": "code",
   "execution_count": 2,
   "metadata": {},
   "outputs": [],
   "source": [
    "import gpflow\n",
    "import tensorflow as tf\n",
    "from gpflow.config import default_float\n",
    "import tensorflow_probability as tfp\n",
    "import matplotlib.pyplot as plt\n",
    "import numpy as np\n",
    "\n",
    "\n",
    "tf.random.set_seed(0)\n",
    "np.random.seed(0)"
   ]
  },
  {
   "cell_type": "code",
   "execution_count": 4,
   "metadata": {},
   "outputs": [],
   "source": [
    "import tensorflow as tf\n",
    "import numpy as np\n",
    "from gpflow.models import GPModel, SVGP\n",
    "from gpflow.base import Parameter\n",
    "from gpflow.models.training_mixins import ExternalDataTrainingLossMixin\n",
    "from gpflow.mean_functions import MeanFunction\n",
    "from gpflow import posteriors\n",
    "from gpflow.kullback_leiblers import gauss_kl\n",
    "from gpflow.config import default_jitter, default_float\n",
    "from gpflow.utilities import positive, triangular\n",
    "from gpflow.models.util import inducingpoint_wrapper\n",
    "from gpflow.conditionals.util import sample_mvn\n",
    "from gpflow.quadrature import NDiagGHQuadrature\n",
    "# from gparkme.posteriors import create_posterior\n",
    "from typing import Optional\n",
    "\n",
    "\n",
    "class GPCDE(SVGP):\n",
    "    def __init__(\n",
    "        self,\n",
    "        kernel,\n",
    "        likelihood,\n",
    "        inducing_variable,\n",
    "        mean_function: Optional[MeanFunction] = None,\n",
    "        num_quadrature: int = 10,\n",
    "        q_diag: bool = False,\n",
    "        whiten: bool = True,\n",
    "        q_mu=None,\n",
    "        q_sqrt=None,\n",
    "        num_latent_gps=1\n",
    "    ):\n",
    "        super().__init__(\n",
    "            kernel,\n",
    "            likelihood,\n",
    "            mean_function=mean_function,\n",
    "            num_latent_gps=num_latent_gps,\n",
    "            q_diag=q_diag,\n",
    "            whiten=whiten,\n",
    "            inducing_variable=inducing_variable,\n",
    "            q_mu=q_mu,\n",
    "            q_sqrt=q_sqrt,\n",
    "        )\n",
    "        self.num_quadrature = num_quadrature\n",
    "\n",
    "    def _init_quadrature(self, Y, num_minibatch = 100):\n",
    "        self.num_data= Y.shape[0]\n",
    "        self.num_dim = Y.shape[1]\n",
    "        self.num_minibatch = num_minibatch\n",
    "        self.quadrature = NDiagGHQuadrature(1, self.num_quadrature)\n",
    "        quadrature_locs, quadrature_weights = self.quadrature._build_X_W(np.zeros(1), np.ones(1))\n",
    "        self.quadrature_weights = quadrature_weights[:,0]\n",
    "        self.quadrature_weights = self.quadrature_weights[None, :]\n",
    "        quadrature_locs = tf.expand_dims(quadrature_locs, axis=0)\n",
    "        quadrature_locs = tf.tile(quadrature_locs, multiples=[Y.shape[0],1,1])\n",
    "        Y = Y[:,None,:]\n",
    "        Y = tf.tile(Y, multiples=[1, self.num_quadrature, 1])\n",
    "        X = quadrature_locs\n",
    "        ds = tf.data.Dataset.from_tensor_slices((X, Y))\n",
    "        ds_iter = iter(ds.repeat().shuffle(self.num_data).batch(num_minibatch))\n",
    "        return ds_iter\n",
    "\n",
    "    def predict_f_samples(\n",
    "        self,\n",
    "        Xnew,\n",
    "        obs_noise=False,\n",
    "        num_samples: Optional[int] = None,\n",
    "        full_cov: bool = False,\n",
    "        full_output_cov: bool = False,\n",
    "    ) -> tf.Tensor:\n",
    "        \"\"\"\n",
    "        Produce samples from the posterior latent function(s) at the input points.\n",
    "        :param Xnew: InputData\n",
    "            Input locations at which to draw samples, shape [..., N, D]\n",
    "            where N is the number of rows and D is the input dimension of each point.\n",
    "        :param num_samples:\n",
    "            Number of samples to draw.\n",
    "            If `None`, a single sample is drawn and the return shape is [..., N, P],\n",
    "            for any positive integer the return shape contains an extra batch\n",
    "            dimension, [..., S, N, P], with S = num_samples and P is the number of outputs.\n",
    "        :param full_cov:\n",
    "            If True, draw correlated samples over the inputs. Computes the Cholesky over the\n",
    "            dense covariance matrix of size [num_data, num_data].\n",
    "            If False, draw samples that are uncorrelated over the inputs.\n",
    "        :param full_output_cov:\n",
    "            If True, draw correlated samples over the outputs.\n",
    "            If False, draw samples that are uncorrelated over the outputs.\n",
    "        Currently, the method does not support `full_output_cov=True` and `full_cov=True`.\n",
    "        \"\"\"\n",
    "        if full_cov and full_output_cov:\n",
    "            raise NotImplementedError(\n",
    "                \"The combination of both `full_cov` and `full_output_cov` is not supported.\"\n",
    "            )\n",
    "\n",
    "        # check below for shape info\n",
    "        mean, cov = self.predict_f(Xnew, full_cov=full_cov, full_output_cov=full_output_cov)\n",
    "        if obs_noise is True and full_cov is False:\n",
    "            cov += self.likelihood.variance\n",
    "        if full_cov:\n",
    "            # mean: [..., N, P]\n",
    "            # cov: [..., P, N, N]\n",
    "            mean_for_sample = tf.linalg.adjoint(mean)  # [..., P, N]\n",
    "            samples = sample_mvn(\n",
    "                mean_for_sample, cov, full_cov, num_samples=num_samples\n",
    "            )  # [..., (S), P, N]\n",
    "            samples = tf.linalg.adjoint(samples)  # [..., (S), N, P]\n",
    "        else:\n",
    "            # mean: [..., N, P]\n",
    "            # cov: [..., N, P] or [..., N, P, P]\n",
    "            samples = sample_mvn(\n",
    "                mean, cov, full_output_cov, num_samples=num_samples\n",
    "            )  # [..., (S), N, P]\n",
    "        return samples  # [..., (S), N, P]\n",
    "\n",
    "    def predict_full_samples_layer(self, sample_size, obs_noise=False, num_latent_samples=50, num_gp_samples=50):\n",
    "        w = np.random.normal(size=(num_latent_samples, sample_size, 1))\n",
    "        sampling_func = lambda x: self.predict_f_samples(x, obs_noise=obs_noise, num_samples=num_gp_samples)\n",
    "\n",
    "        def sample_latent_gp(w_single):\n",
    "            X = w_single\n",
    "            samples = sampling_func(X)\n",
    "            return samples\n",
    "\n",
    "        samples = tf.map_fn(sample_latent_gp, w)\n",
    "\n",
    "        return samples\n",
    "\n",
    "    def predict_credible_layer(\n",
    "        self,\n",
    "        sample_size,\n",
    "        lower_quantile=2.5,\n",
    "        upper_quantile=97.5,\n",
    "        num_gp_samples=50,\n",
    "        num_latent_samples=50,\n",
    "        obs_noise=False,\n",
    "    ):\n",
    "\n",
    "        samples = self.predict_full_samples_layer(\n",
    "            sample_size=sample_size,\n",
    "            obs_noise=obs_noise,\n",
    "            num_gp_samples=num_gp_samples,\n",
    "            num_latent_samples=num_latent_samples,\n",
    "        )\n",
    "        lower = np.percentile(samples, lower_quantile, axis=[0,1])\n",
    "        median = np.percentile(samples, 50, axis=[0,1])\n",
    "        upper = np.percentile(samples, upper_quantile, axis=[0,1])\n",
    "\n",
    "        return lower, median, upper, samples\n",
    "\n",
    "\n",
    "    def maximum_log_likelihood_objective(self, data) -> tf.Tensor:\n",
    "        return self.elbo(data)\n",
    "\n",
    "    def elbo(self, data) -> tf.Tensor:\n",
    "        \"\"\"\n",
    "        This gives a variational bound (the evidence lower bound or ELBO) on\n",
    "        the log marginal likelihood of the model.\n",
    "        \"\"\"\n",
    "        X, Y = data\n",
    "        X = tf.reshape(X, (self.num_minibatch*self.num_quadrature, 1))\n",
    "        Y = tf.reshape(Y, (self.num_minibatch*self.num_quadrature, 1))\n",
    "        kl = self.prior_kl()\n",
    "        f_mean, f_var = self.predict_f(X)\n",
    "        var_exp = self.likelihood.variational_expectations(f_mean, f_var, Y)\n",
    "        # each var_exp is (num_minibatch, num_quadrature, 1)\n",
    "        var_exp = tf.reshape(var_exp, (self.num_minibatch, self.num_quadrature))\n",
    "        if self.num_data is not None:\n",
    "            num_data = tf.cast(self.num_data, kl.dtype)\n",
    "            minibatch_size = tf.cast(tf.shape(X)[0], kl.dtype)\n",
    "            scale = num_data / minibatch_size\n",
    "        else:\n",
    "            scale = tf.cast(1.0, kl.dtype)\n",
    "\n",
    "        # var_exp = tf.reduce_sum(var_exp, axis=0) * scale\n",
    "        quadrature_weights = self.quadrature_weights\n",
    "        term1 = tf.math.reduce_logsumexp(var_exp + tf.math.log(quadrature_weights),axis=1)\n",
    "        return tf.reduce_sum(term1) * scale - kl\n"
   ]
  },
  {
   "cell_type": "code",
   "execution_count": 3,
   "metadata": {},
   "outputs": [],
   "source": [
    "from tqdm import trange\n",
    "from gpflow.optimizers import NaturalGradient\n",
    "import gpflow\n",
    "import matplotlib.pyplot as plt\n",
    "\n",
    "\n",
    "def run_optimizer(model, ds_iter, iterations):\n",
    "    \"\"\"\n",
    "    Utility function running the Adam optimizer\n",
    "    Modified from https://gpflow.readthedocs.io/en/master/notebooks/advanced/gps_for_big_data.html\n",
    "    :param model: GPflow model\n",
    "    :param interations: number of iterations\n",
    "    \"\"\"\n",
    "    # Create an Adam Optimizer action\n",
    "    logf = []\n",
    "    training_loss = model.training_loss_closure(ds_iter, compile=True)\n",
    "    gpflow.set_trainable(model.q_mu, False)\n",
    "    gpflow.set_trainable(model.q_sqrt, False)\n",
    "    variational_params = [(model.q_mu, model.q_sqrt)]\n",
    "    natgrad_opt = NaturalGradient(gamma=0.1)\n",
    "    optimizer = tf.optimizers.Adam(0.005)\n",
    "    @tf.function\n",
    "    def optimization_step():\n",
    "        optimizer.minimize(training_loss, model.trainable_variables)\n",
    "        natgrad_opt.minimize(training_loss, variational_params)\n",
    "    iterator = trange(iterations) \n",
    "    for step in iterator:\n",
    "        optimization_step()\n",
    "        elbo = -training_loss().numpy()\n",
    "        logf.append(elbo)\n",
    "        if step % 1000 == 0:\n",
    "            # elbo = -training_loss().numpy()\n",
    "            # logf.append(elbo)\n",
    "            iterator.set_description(f\"EPOCH: {step}, ELBO: {elbo}\")\n",
    "\n",
    "\n",
    "\n",
    "            lower, median, upper, samples = model.predict_credible_layer(\n",
    "                obs_noise=True,\n",
    "                sample_size=1000\n",
    "            )\n",
    "            plt.hist(Y[:, 0], bins=100)\n",
    "            plt.hist(median, bins=100, alpha=0.5)\n",
    "            # plt.scatter(X[:, 0], Y[:, 0], c='r')\n",
    "            # plt.plot(obs_new, median, c='b', alpha=0.2)\n",
    "            # plt.scatter(obs_new[:, 0], samples[0, 0], alpha=0.5)\n",
    "            # plt.fill_between(obs_new[:, 0], upper[:, 0], lower[:, 0], alpha=0.5)\n",
    "            plt.show()\n",
    "            plt.close()\n",
    "\n",
    "            if np.abs(np.mean(logf[-5000:])) - np.abs(np.mean(logf[-100:])) < np.std(logf[-100:]):\n",
    "                print\n",
    "                break\n",
    "            \n",
    "    return logf"
   ]
  },
  {
   "cell_type": "code",
   "execution_count": 4,
   "metadata": {},
   "outputs": [],
   "source": [
    "from sklearn.preprocessing import StandardScaler\n",
    "\n",
    "# Get data\n",
    "X = np.random.randn(2000, 1)\n",
    "Y = (X ** 5)   * (np.random.randn(2000, 1))\n",
    "N = X.shape[0]\n",
    "num_minibatch = 100\n",
    "\n",
    "\n",
    "X = StandardScaler().fit_transform(X).astype(np.float64)\n",
    "Y = StandardScaler().fit_transform(Y).astype(np.float64)"
   ]
  },
  {
   "cell_type": "code",
   "execution_count": 5,
   "metadata": {},
   "outputs": [
    {
     "data": {
      "text/plain": [
       "(2000, 1)"
      ]
     },
     "execution_count": 5,
     "metadata": {},
     "output_type": "execute_result"
    }
   ],
   "source": [
    "Y.shape"
   ]
  },
  {
   "cell_type": "code",
   "execution_count": 6,
   "metadata": {},
   "outputs": [
    {
     "name": "stderr",
     "output_type": "stream",
     "text": [
      "2022-09-13 11:19:52.542599: I tensorflow/stream_executor/cuda/cuda_gpu_executor.cc:936] successful NUMA node read from SysFS had negative value (-1), but there must be at least one NUMA node, so returning NUMA node zero\n",
      "2022-09-13 11:19:52.556046: I tensorflow/stream_executor/cuda/cuda_gpu_executor.cc:936] successful NUMA node read from SysFS had negative value (-1), but there must be at least one NUMA node, so returning NUMA node zero\n",
      "2022-09-13 11:19:52.556163: I tensorflow/stream_executor/cuda/cuda_gpu_executor.cc:936] successful NUMA node read from SysFS had negative value (-1), but there must be at least one NUMA node, so returning NUMA node zero\n",
      "2022-09-13 11:19:52.556709: I tensorflow/core/platform/cpu_feature_guard.cc:151] This TensorFlow binary is optimized with oneAPI Deep Neural Network Library (oneDNN) to use the following CPU instructions in performance-critical operations:  AVX2 FMA\n",
      "To enable them in other operations, rebuild TensorFlow with the appropriate compiler flags.\n",
      "2022-09-13 11:19:52.557258: I tensorflow/stream_executor/cuda/cuda_gpu_executor.cc:936] successful NUMA node read from SysFS had negative value (-1), but there must be at least one NUMA node, so returning NUMA node zero\n",
      "2022-09-13 11:19:52.557356: I tensorflow/stream_executor/cuda/cuda_gpu_executor.cc:936] successful NUMA node read from SysFS had negative value (-1), but there must be at least one NUMA node, so returning NUMA node zero\n",
      "2022-09-13 11:19:52.557435: I tensorflow/stream_executor/cuda/cuda_gpu_executor.cc:936] successful NUMA node read from SysFS had negative value (-1), but there must be at least one NUMA node, so returning NUMA node zero\n",
      "2022-09-13 11:19:53.074525: I tensorflow/stream_executor/cuda/cuda_gpu_executor.cc:936] successful NUMA node read from SysFS had negative value (-1), but there must be at least one NUMA node, so returning NUMA node zero\n",
      "2022-09-13 11:19:53.074651: I tensorflow/stream_executor/cuda/cuda_gpu_executor.cc:936] successful NUMA node read from SysFS had negative value (-1), but there must be at least one NUMA node, so returning NUMA node zero\n",
      "2022-09-13 11:19:53.074738: I tensorflow/stream_executor/cuda/cuda_gpu_executor.cc:936] successful NUMA node read from SysFS had negative value (-1), but there must be at least one NUMA node, so returning NUMA node zero\n",
      "2022-09-13 11:19:53.074811: I tensorflow/core/common_runtime/gpu/gpu_device.cc:1525] Created device /job:localhost/replica:0/task:0/device:GPU:0 with 8072 MB memory:  -> device: 0, name: NVIDIA GeForce RTX 3080, pci bus id: 0000:01:00.0, compute capability: 8.6\n"
     ]
    }
   ],
   "source": [
    "from models.GPDE import GPDE\n",
    "\n",
    "\n",
    "M = 200  # Number of inducing locations\n",
    "\n",
    "kernel_1 = gpflow.kernels.SquaredExponential(\n",
    "    lengthscales=0.003\n",
    "    # lengthscales=[lengthscales[0], lengthscales[1]]\n",
    ")\n",
    "# kernel_1.variance.assign(kernl_var)\n",
    "kernel_2 = gpflow.kernels.Linear()\n",
    "kernel = gpflow.kernels.Sum([kernel_1, kernel_2])\n",
    "Z = np.random.randn(M, 1)\n",
    "model = GPDE(\n",
    "    kernel=kernel,\n",
    "    likelihood=gpflow.likelihoods.Gaussian(\n",
    "        variance=1e-5\n",
    "        # variance=m.likelihood.variance.numpy(),\n",
    "    ),\n",
    "    inducing_variable=Z,\n",
    "    num_quadrature=100,\n",
    "    whiten=True\n",
    ")\n",
    "ds_iter = model._init_quadrature(Y=Y, num_minibatch=num_minibatch)"
   ]
  },
  {
   "cell_type": "code",
   "execution_count": 7,
   "metadata": {},
   "outputs": [
    {
     "name": "stderr",
     "output_type": "stream",
     "text": [
      "2022-09-13 11:19:53.463665: W tensorflow/python/util/util.cc:368] Sets are not currently considered sequences, but this may change in the future, so consider avoiding using them.\n",
      "  0%|          | 0/50000 [00:00<?, ?it/s]"
     ]
    },
    {
     "name": "stdout",
     "output_type": "stream",
     "text": [
      "WARNING:tensorflow:Detected `pdb.set_trace()` in user code. The code generated by AutoGraph is not optimized for step-by-step debugging. See https://github.com/tensorflow/tensorflow/blob/master/tensorflow/python/autograph/g3doc/reference/debugging.md.\n",
      "WARNING: Detected `pdb.set_trace()` in user code. The code generated by AutoGraph is not optimized for step-by-step debugging. See https://github.com/tensorflow/tensorflow/blob/master/tensorflow/python/autograph/g3doc/reference/debugging.md.\n",
      "> \u001b[0;32m/tmp/__autograph_generated_file34ni72tw.py\u001b[0m(17)\u001b[0;36mtf__elbo\u001b[0;34m()\u001b[0m\n",
      "\u001b[0;32m     15 \u001b[0;31m                \u001b[0;32mimport\u001b[0m \u001b[0mpdb\u001b[0m\u001b[0;34m\u001b[0m\u001b[0;34m\u001b[0m\u001b[0m\n",
      "\u001b[0m\u001b[0;32m     16 \u001b[0;31m                \u001b[0mag__\u001b[0m\u001b[0;34m.\u001b[0m\u001b[0mld\u001b[0m\u001b[0;34m(\u001b[0m\u001b[0mpdb\u001b[0m\u001b[0;34m)\u001b[0m\u001b[0;34m.\u001b[0m\u001b[0mset_trace\u001b[0m\u001b[0;34m(\u001b[0m\u001b[0;34m)\u001b[0m\u001b[0;34m\u001b[0m\u001b[0;34m\u001b[0m\u001b[0m\n",
      "\u001b[0m\u001b[0;32m---> 17 \u001b[0;31m                \u001b[0;34m(\u001b[0m\u001b[0mf_mean\u001b[0m\u001b[0;34m,\u001b[0m \u001b[0mf_var\u001b[0m\u001b[0;34m)\u001b[0m \u001b[0;34m=\u001b[0m \u001b[0mag__\u001b[0m\u001b[0;34m.\u001b[0m\u001b[0mconverted_call\u001b[0m\u001b[0;34m(\u001b[0m\u001b[0mag__\u001b[0m\u001b[0;34m.\u001b[0m\u001b[0mld\u001b[0m\u001b[0;34m(\u001b[0m\u001b[0mself\u001b[0m\u001b[0;34m)\u001b[0m\u001b[0;34m.\u001b[0m\u001b[0mpredict_f\u001b[0m\u001b[0;34m,\u001b[0m \u001b[0;34m(\u001b[0m\u001b[0mag__\u001b[0m\u001b[0;34m.\u001b[0m\u001b[0mld\u001b[0m\u001b[0;34m(\u001b[0m\u001b[0mX\u001b[0m\u001b[0;34m)\u001b[0m\u001b[0;34m,\u001b[0m\u001b[0;34m)\u001b[0m\u001b[0;34m,\u001b[0m \u001b[0;32mNone\u001b[0m\u001b[0;34m,\u001b[0m \u001b[0mfscope\u001b[0m\u001b[0;34m)\u001b[0m\u001b[0;34m\u001b[0m\u001b[0;34m\u001b[0m\u001b[0m\n",
      "\u001b[0m\u001b[0;32m     18 \u001b[0;31m                \u001b[0mvar_exp\u001b[0m \u001b[0;34m=\u001b[0m \u001b[0mag__\u001b[0m\u001b[0;34m.\u001b[0m\u001b[0mconverted_call\u001b[0m\u001b[0;34m(\u001b[0m\u001b[0mag__\u001b[0m\u001b[0;34m.\u001b[0m\u001b[0mld\u001b[0m\u001b[0;34m(\u001b[0m\u001b[0mself\u001b[0m\u001b[0;34m)\u001b[0m\u001b[0;34m.\u001b[0m\u001b[0mlikelihood\u001b[0m\u001b[0;34m.\u001b[0m\u001b[0mvariational_expectations\u001b[0m\u001b[0;34m,\u001b[0m \u001b[0;34m(\u001b[0m\u001b[0mag__\u001b[0m\u001b[0;34m.\u001b[0m\u001b[0mld\u001b[0m\u001b[0;34m(\u001b[0m\u001b[0mf_mean\u001b[0m\u001b[0;34m)\u001b[0m\u001b[0;34m,\u001b[0m \u001b[0mag__\u001b[0m\u001b[0;34m.\u001b[0m\u001b[0mld\u001b[0m\u001b[0;34m(\u001b[0m\u001b[0mf_var\u001b[0m\u001b[0;34m)\u001b[0m\u001b[0;34m,\u001b[0m \u001b[0mag__\u001b[0m\u001b[0;34m.\u001b[0m\u001b[0mld\u001b[0m\u001b[0;34m(\u001b[0m\u001b[0mY\u001b[0m\u001b[0;34m)\u001b[0m\u001b[0;34m)\u001b[0m\u001b[0;34m,\u001b[0m \u001b[0;32mNone\u001b[0m\u001b[0;34m,\u001b[0m \u001b[0mfscope\u001b[0m\u001b[0;34m)\u001b[0m\u001b[0;34m\u001b[0m\u001b[0;34m\u001b[0m\u001b[0m\n",
      "\u001b[0m\u001b[0;32m     19 \u001b[0;31m                \u001b[0mvar_exp\u001b[0m \u001b[0;34m=\u001b[0m \u001b[0mag__\u001b[0m\u001b[0;34m.\u001b[0m\u001b[0mconverted_call\u001b[0m\u001b[0;34m(\u001b[0m\u001b[0mag__\u001b[0m\u001b[0;34m.\u001b[0m\u001b[0mld\u001b[0m\u001b[0;34m(\u001b[0m\u001b[0mtf\u001b[0m\u001b[0;34m)\u001b[0m\u001b[0;34m.\u001b[0m\u001b[0mreshape\u001b[0m\u001b[0;34m,\u001b[0m \u001b[0;34m(\u001b[0m\u001b[0mag__\u001b[0m\u001b[0;34m.\u001b[0m\u001b[0mld\u001b[0m\u001b[0;34m(\u001b[0m\u001b[0mvar_exp\u001b[0m\u001b[0;34m)\u001b[0m\u001b[0;34m,\u001b[0m \u001b[0;34m(\u001b[0m\u001b[0mag__\u001b[0m\u001b[0;34m.\u001b[0m\u001b[0mld\u001b[0m\u001b[0;34m(\u001b[0m\u001b[0mself\u001b[0m\u001b[0;34m)\u001b[0m\u001b[0;34m.\u001b[0m\u001b[0mnum_minibatch\u001b[0m\u001b[0;34m,\u001b[0m \u001b[0mag__\u001b[0m\u001b[0;34m.\u001b[0m\u001b[0mld\u001b[0m\u001b[0;34m(\u001b[0m\u001b[0mself\u001b[0m\u001b[0;34m)\u001b[0m\u001b[0;34m.\u001b[0m\u001b[0mnum_quadrature\u001b[0m\u001b[0;34m)\u001b[0m\u001b[0;34m)\u001b[0m\u001b[0;34m,\u001b[0m \u001b[0;32mNone\u001b[0m\u001b[0;34m,\u001b[0m \u001b[0mfscope\u001b[0m\u001b[0;34m)\u001b[0m\u001b[0;34m\u001b[0m\u001b[0;34m\u001b[0m\u001b[0m\n",
      "\u001b[0m\n",
      "\u001b[1;32m     12 \u001b[0m                \u001b[0mX\u001b[0m \u001b[0;34m=\u001b[0m \u001b[0mag__\u001b[0m\u001b[0;34m.\u001b[0m\u001b[0mconverted_call\u001b[0m\u001b[0;34m(\u001b[0m\u001b[0mag__\u001b[0m\u001b[0;34m.\u001b[0m\u001b[0mld\u001b[0m\u001b[0;34m(\u001b[0m\u001b[0mtf\u001b[0m\u001b[0;34m)\u001b[0m\u001b[0;34m.\u001b[0m\u001b[0mreshape\u001b[0m\u001b[0;34m,\u001b[0m \u001b[0;34m(\u001b[0m\u001b[0mag__\u001b[0m\u001b[0;34m.\u001b[0m\u001b[0mld\u001b[0m\u001b[0;34m(\u001b[0m\u001b[0mX\u001b[0m\u001b[0;34m)\u001b[0m\u001b[0;34m,\u001b[0m \u001b[0;34m(\u001b[0m\u001b[0;34m(\u001b[0m\u001b[0mag__\u001b[0m\u001b[0;34m.\u001b[0m\u001b[0mld\u001b[0m\u001b[0;34m(\u001b[0m\u001b[0mself\u001b[0m\u001b[0;34m)\u001b[0m\u001b[0;34m.\u001b[0m\u001b[0mnum_minibatch\u001b[0m \u001b[0;34m*\u001b[0m \u001b[0mag__\u001b[0m\u001b[0;34m.\u001b[0m\u001b[0mld\u001b[0m\u001b[0;34m(\u001b[0m\u001b[0mself\u001b[0m\u001b[0;34m)\u001b[0m\u001b[0;34m.\u001b[0m\u001b[0mnum_quadrature\u001b[0m\u001b[0;34m)\u001b[0m\u001b[0;34m,\u001b[0m \u001b[0;36m1\u001b[0m\u001b[0;34m)\u001b[0m\u001b[0;34m)\u001b[0m\u001b[0;34m,\u001b[0m \u001b[0;32mNone\u001b[0m\u001b[0;34m,\u001b[0m \u001b[0mfscope\u001b[0m\u001b[0;34m)\u001b[0m\u001b[0;34m\u001b[0m\u001b[0;34m\u001b[0m\u001b[0m\n",
      "\u001b[1;32m     13 \u001b[0m                \u001b[0mY\u001b[0m \u001b[0;34m=\u001b[0m \u001b[0mag__\u001b[0m\u001b[0;34m.\u001b[0m\u001b[0mconverted_call\u001b[0m\u001b[0;34m(\u001b[0m\u001b[0mag__\u001b[0m\u001b[0;34m.\u001b[0m\u001b[0mld\u001b[0m\u001b[0;34m(\u001b[0m\u001b[0mtf\u001b[0m\u001b[0;34m)\u001b[0m\u001b[0;34m.\u001b[0m\u001b[0mreshape\u001b[0m\u001b[0;34m,\u001b[0m \u001b[0;34m(\u001b[0m\u001b[0mag__\u001b[0m\u001b[0;34m.\u001b[0m\u001b[0mld\u001b[0m\u001b[0;34m(\u001b[0m\u001b[0mY\u001b[0m\u001b[0;34m)\u001b[0m\u001b[0;34m,\u001b[0m \u001b[0;34m(\u001b[0m\u001b[0;34m(\u001b[0m\u001b[0mag__\u001b[0m\u001b[0;34m.\u001b[0m\u001b[0mld\u001b[0m\u001b[0;34m(\u001b[0m\u001b[0mself\u001b[0m\u001b[0;34m)\u001b[0m\u001b[0;34m.\u001b[0m\u001b[0mnum_minibatch\u001b[0m \u001b[0;34m*\u001b[0m \u001b[0mag__\u001b[0m\u001b[0;34m.\u001b[0m\u001b[0mld\u001b[0m\u001b[0;34m(\u001b[0m\u001b[0mself\u001b[0m\u001b[0;34m)\u001b[0m\u001b[0;34m.\u001b[0m\u001b[0mnum_quadrature\u001b[0m\u001b[0;34m)\u001b[0m\u001b[0;34m,\u001b[0m \u001b[0;36m1\u001b[0m\u001b[0;34m)\u001b[0m\u001b[0;34m)\u001b[0m\u001b[0;34m,\u001b[0m \u001b[0;32mNone\u001b[0m\u001b[0;34m,\u001b[0m \u001b[0mfscope\u001b[0m\u001b[0;34m)\u001b[0m\u001b[0;34m\u001b[0m\u001b[0;34m\u001b[0m\u001b[0m\n",
      "\u001b[1;32m     14 \u001b[0m                \u001b[0mkl\u001b[0m \u001b[0;34m=\u001b[0m \u001b[0mag__\u001b[0m\u001b[0;34m.\u001b[0m\u001b[0mconverted_call\u001b[0m\u001b[0;34m(\u001b[0m\u001b[0mag__\u001b[0m\u001b[0;34m.\u001b[0m\u001b[0mld\u001b[0m\u001b[0;34m(\u001b[0m\u001b[0mself\u001b[0m\u001b[0;34m)\u001b[0m\u001b[0;34m.\u001b[0m\u001b[0mprior_kl\u001b[0m\u001b[0;34m,\u001b[0m \u001b[0;34m(\u001b[0m\u001b[0;34m)\u001b[0m\u001b[0;34m,\u001b[0m \u001b[0;32mNone\u001b[0m\u001b[0;34m,\u001b[0m \u001b[0mfscope\u001b[0m\u001b[0;34m)\u001b[0m\u001b[0;34m\u001b[0m\u001b[0;34m\u001b[0m\u001b[0m\n",
      "\u001b[1;32m     15 \u001b[0m                \u001b[0;32mimport\u001b[0m \u001b[0mpdb\u001b[0m\u001b[0;34m\u001b[0m\u001b[0;34m\u001b[0m\u001b[0m\n",
      "\u001b[1;32m     16 \u001b[0m                \u001b[0mag__\u001b[0m\u001b[0;34m.\u001b[0m\u001b[0mld\u001b[0m\u001b[0;34m(\u001b[0m\u001b[0mpdb\u001b[0m\u001b[0;34m)\u001b[0m\u001b[0;34m.\u001b[0m\u001b[0mset_trace\u001b[0m\u001b[0;34m(\u001b[0m\u001b[0;34m)\u001b[0m\u001b[0;34m\u001b[0m\u001b[0;34m\u001b[0m\u001b[0m\n",
      "\u001b[0;32m---> 17 \u001b[0;31m                \u001b[0;34m(\u001b[0m\u001b[0mf_mean\u001b[0m\u001b[0;34m,\u001b[0m \u001b[0mf_var\u001b[0m\u001b[0;34m)\u001b[0m \u001b[0;34m=\u001b[0m \u001b[0mag__\u001b[0m\u001b[0;34m.\u001b[0m\u001b[0mconverted_call\u001b[0m\u001b[0;34m(\u001b[0m\u001b[0mag__\u001b[0m\u001b[0;34m.\u001b[0m\u001b[0mld\u001b[0m\u001b[0;34m(\u001b[0m\u001b[0mself\u001b[0m\u001b[0;34m)\u001b[0m\u001b[0;34m.\u001b[0m\u001b[0mpredict_f\u001b[0m\u001b[0;34m,\u001b[0m \u001b[0;34m(\u001b[0m\u001b[0mag__\u001b[0m\u001b[0;34m.\u001b[0m\u001b[0mld\u001b[0m\u001b[0;34m(\u001b[0m\u001b[0mX\u001b[0m\u001b[0;34m)\u001b[0m\u001b[0;34m,\u001b[0m\u001b[0;34m)\u001b[0m\u001b[0;34m,\u001b[0m \u001b[0;32mNone\u001b[0m\u001b[0;34m,\u001b[0m \u001b[0mfscope\u001b[0m\u001b[0;34m)\u001b[0m\u001b[0;34m\u001b[0m\u001b[0;34m\u001b[0m\u001b[0m\n",
      "\u001b[0m\u001b[1;32m     18 \u001b[0m                \u001b[0mvar_exp\u001b[0m \u001b[0;34m=\u001b[0m \u001b[0mag__\u001b[0m\u001b[0;34m.\u001b[0m\u001b[0mconverted_call\u001b[0m\u001b[0;34m(\u001b[0m\u001b[0mag__\u001b[0m\u001b[0;34m.\u001b[0m\u001b[0mld\u001b[0m\u001b[0;34m(\u001b[0m\u001b[0mself\u001b[0m\u001b[0;34m)\u001b[0m\u001b[0;34m.\u001b[0m\u001b[0mlikelihood\u001b[0m\u001b[0;34m.\u001b[0m\u001b[0mvariational_expectations\u001b[0m\u001b[0;34m,\u001b[0m \u001b[0;34m(\u001b[0m\u001b[0mag__\u001b[0m\u001b[0;34m.\u001b[0m\u001b[0mld\u001b[0m\u001b[0;34m(\u001b[0m\u001b[0mf_mean\u001b[0m\u001b[0;34m)\u001b[0m\u001b[0;34m,\u001b[0m \u001b[0mag__\u001b[0m\u001b[0;34m.\u001b[0m\u001b[0mld\u001b[0m\u001b[0;34m(\u001b[0m\u001b[0mf_var\u001b[0m\u001b[0;34m)\u001b[0m\u001b[0;34m,\u001b[0m \u001b[0mag__\u001b[0m\u001b[0;34m.\u001b[0m\u001b[0mld\u001b[0m\u001b[0;34m(\u001b[0m\u001b[0mY\u001b[0m\u001b[0;34m)\u001b[0m\u001b[0;34m)\u001b[0m\u001b[0;34m,\u001b[0m \u001b[0;32mNone\u001b[0m\u001b[0;34m,\u001b[0m \u001b[0mfscope\u001b[0m\u001b[0;34m)\u001b[0m\u001b[0;34m\u001b[0m\u001b[0;34m\u001b[0m\u001b[0m\n",
      "\u001b[1;32m     19 \u001b[0m                \u001b[0mvar_exp\u001b[0m \u001b[0;34m=\u001b[0m \u001b[0mag__\u001b[0m\u001b[0;34m.\u001b[0m\u001b[0mconverted_call\u001b[0m\u001b[0;34m(\u001b[0m\u001b[0mag__\u001b[0m\u001b[0;34m.\u001b[0m\u001b[0mld\u001b[0m\u001b[0;34m(\u001b[0m\u001b[0mtf\u001b[0m\u001b[0;34m)\u001b[0m\u001b[0;34m.\u001b[0m\u001b[0mreshape\u001b[0m\u001b[0;34m,\u001b[0m \u001b[0;34m(\u001b[0m\u001b[0mag__\u001b[0m\u001b[0;34m.\u001b[0m\u001b[0mld\u001b[0m\u001b[0;34m(\u001b[0m\u001b[0mvar_exp\u001b[0m\u001b[0;34m)\u001b[0m\u001b[0;34m,\u001b[0m \u001b[0;34m(\u001b[0m\u001b[0mag__\u001b[0m\u001b[0;34m.\u001b[0m\u001b[0mld\u001b[0m\u001b[0;34m(\u001b[0m\u001b[0mself\u001b[0m\u001b[0;34m)\u001b[0m\u001b[0;34m.\u001b[0m\u001b[0mnum_minibatch\u001b[0m\u001b[0;34m,\u001b[0m \u001b[0mag__\u001b[0m\u001b[0;34m.\u001b[0m\u001b[0mld\u001b[0m\u001b[0;34m(\u001b[0m\u001b[0mself\u001b[0m\u001b[0;34m)\u001b[0m\u001b[0;34m.\u001b[0m\u001b[0mnum_quadrature\u001b[0m\u001b[0;34m)\u001b[0m\u001b[0;34m)\u001b[0m\u001b[0;34m,\u001b[0m \u001b[0;32mNone\u001b[0m\u001b[0;34m,\u001b[0m \u001b[0mfscope\u001b[0m\u001b[0;34m)\u001b[0m\u001b[0;34m\u001b[0m\u001b[0;34m\u001b[0m\u001b[0m\n",
      "\u001b[1;32m     20 \u001b[0m\u001b[0;34m\u001b[0m\u001b[0m\n",
      "\u001b[1;32m     21 \u001b[0m                \u001b[0;32mdef\u001b[0m \u001b[0mget_state\u001b[0m\u001b[0;34m(\u001b[0m\u001b[0;34m)\u001b[0m\u001b[0;34m:\u001b[0m\u001b[0;34m\u001b[0m\u001b[0;34m\u001b[0m\u001b[0m\n",
      "\u001b[1;32m     22 \u001b[0m                    \u001b[0;32mreturn\u001b[0m \u001b[0;34m(\u001b[0m\u001b[0mscale\u001b[0m\u001b[0;34m,\u001b[0m\u001b[0;34m)\u001b[0m\u001b[0;34m\u001b[0m\u001b[0;34m\u001b[0m\u001b[0m\n",
      "\n",
      "TensorShape([10000, 1])\n",
      "(<tf.Tensor 'add_8:0' shape=(10000, 1) dtype=float64>, <tf.Tensor 'adjoint_1/matrix_transpose/transpose:0' shape=(10000, 1) dtype=float64>)\n",
      "(<tf.Tensor 'add_15:0' shape=(10000, 1) dtype=float64>, <tf.Tensor 'adjoint_3/matrix_transpose/transpose:0' shape=(10000, 1) dtype=float64>)\n",
      "(<tf.Tensor 'add_22:0' shape=(10000, 1) dtype=float64>, <tf.Tensor 'adjoint_5/matrix_transpose/transpose:0' shape=(10000, 1) dtype=float64>)\n"
     ]
    },
    {
     "name": "stderr",
     "output_type": "stream",
     "text": [
      "  0%|          | 0/50000 [00:41<?, ?it/s]\n"
     ]
    }
   ],
   "source": [
    "logf = run_optimizer(\n",
    "    model=model,\n",
    "    ds_iter=ds_iter,\n",
    "    iterations=50000\n",
    ")"
   ]
  },
  {
   "cell_type": "code",
   "execution_count": 40,
   "metadata": {},
   "outputs": [
    {
     "name": "stdout",
     "output_type": "stream",
     "text": [
      "(50, 51, 1000, 1)\n"
     ]
    },
    {
     "data": {
      "image/png": "[encoded data removed]",
      "text/plain": [
       "<Figure size 432x288 with 1 Axes>"
      ]
     },
     "metadata": {
      "needs_background": "light"
     },
     "output_type": "display_data"
    }
   ],
   "source": [
    "lower, median, upper, samples = model.predict_credible_layer(\n",
    "    obs_noise=True,\n",
    "    sample_size=1000,\n",
    "    num_latent_samples=50,\n",
    "    num_gp_samples=51\n",
    ")\n",
    "print(samples.shape)\n",
    "mean = np.mean(samples, axis=0)[5, :, 0]\n",
    "plt.hist(Y, bins=10000)\n",
    "plt.hist(mean, bins=100, alpha=0.5)\n",
    "plt.xlim(-0.5,0.5)\n",
    "# plt.scatter(X[:, 0], Y[:, 0], c='r')\n",
    "# plt.plot(obs_new, median, c='b', alpha=0.2)\n",
    "# plt.scatter(obs_new[:, 0], samples[0, 0], alpha=0.5)\n",
    "# plt.fill_between(obs_new[:, 0], upper[:, 0], lower[:, 0], alpha=0.5)\n",
    "plt.show()\n",
    "plt.close()"
   ]
  },
  {
   "cell_type": "code",
   "execution_count": null,
   "metadata": {},
   "outputs": [
    {
     "data": {
      "image/png": "[encoded data removed]",
      "text/plain": [
       "<Figure size 432x288 with 1 Axes>"
      ]
     },
     "metadata": {},
     "output_type": "display_data"
    }
   ],
   "source": [
    "plt.plot(np.arange(len(logf)), logf)\n",
    "plt.show()"
   ]
  },
  {
   "cell_type": "code",
   "execution_count": 21,
   "metadata": {},
   "outputs": [
    {
     "data": {
      "text/plain": [
       "1.0"
      ]
     },
     "execution_count": 21,
     "metadata": {},
     "output_type": "execute_result"
    }
   ],
   "source": [
    "Y.std()"
   ]
  },
  {
   "cell_type": "code",
   "execution_count": 15,
   "metadata": {},
   "outputs": [
    {
     "data": {
      "image/png": "[encoded data removed]",
      "text/plain": [
       "<Figure size 432x288 with 1 Axes>"
      ]
     },
     "metadata": {
      "needs_background": "light"
     },
     "output_type": "display_data"
    }
   ],
   "source": [
    "\n",
    "Xnew = tfp.distributions.Normal(loc=0, scale=1).sample([2000, 1])\n",
    "Xnew = tf.cast(Xnew, dtype=default_float())\n",
    "# Xnew = np.linspace(-2, 2, 1000)[:, None]\n",
    "pred_f_mean, pred_f_var = model.predict_y(\n",
    "    Xnew=Xnew)\n",
    "plt.hist(pred_f_mean, bins=10)\n",
    "# plt.scatter(Xnew, pred_f_mean, c='b', alpha=0.2)\n",
    "# plt.scatter(inducing_in, np.zeros(100) )\n",
    "# plt.fill_between(Xnew[:, 0], (pred_f_mean + 2 * np.sqrt(pred_f_var))[:, 0], (pred_f_mean - 2 * np.sqrt(pred_f_var))[:,0], alpha=0.5)\n",
    "plt.show()\n",
    "plt.close()\n"
   ]
  },
  {
   "cell_type": "code",
   "execution_count": 16,
   "metadata": {},
   "outputs": [
    {
     "data": {
      "image/png": "[encoded data removed]",
      "text/plain": [
       "<Figure size 432x288 with 1 Axes>"
      ]
     },
     "metadata": {
      "needs_background": "light"
     },
     "output_type": "display_data"
    }
   ],
   "source": [
    "plt.hist(Y, bins=25)\n",
    "plt.show()"
   ]
  },
  {
   "cell_type": "code",
   "execution_count": 9,
   "metadata": {},
   "outputs": [
    {
     "ename": "InvalidArgumentError",
     "evalue": "Matrix size-incompatible: In[0]: [200,1], In[1]: [2,1000] [Op:MatMul]",
     "output_type": "error",
     "traceback": [
      "\u001b[0;31m---------------------------------------------------------------------------\u001b[0m",
      "\u001b[0;31mInvalidArgumentError\u001b[0m                      Traceback (most recent call last)",
      "\u001b[1;32m/vol/bitbucket/ad6013/Research/gp-causal/notebooks/gpde_playground.ipynb Cell 9'\u001b[0m in \u001b[0;36m<cell line: 8>\u001b[0;34m()\u001b[0m\n\u001b[1;32m      <a href='vscode-notebook-cell://ssh-remote%2Bphlogiston.doc.ic.ac.uk/vol/bitbucket/ad6013/Research/gp-causal/notebooks/gpde_playground.ipynb#ch0000008vscode-remote?line=3'>4</a>\u001b[0m Xnew \u001b[39m=\u001b[39m tf\u001b[39m.\u001b[39mcast(Xnew, dtype\u001b[39m=\u001b[39mdefault_float())\n\u001b[1;32m      <a href='vscode-notebook-cell://ssh-remote%2Bphlogiston.doc.ic.ac.uk/vol/bitbucket/ad6013/Research/gp-causal/notebooks/gpde_playground.ipynb#ch0000008vscode-remote?line=4'>5</a>\u001b[0m Xnew \u001b[39m=\u001b[39m tf\u001b[39m.\u001b[39mconcat(\n\u001b[1;32m      <a href='vscode-notebook-cell://ssh-remote%2Bphlogiston.doc.ic.ac.uk/vol/bitbucket/ad6013/Research/gp-causal/notebooks/gpde_playground.ipynb#ch0000008vscode-remote?line=5'>6</a>\u001b[0m     [obs_new, Xnew], axis\u001b[39m=\u001b[39m\u001b[39m1\u001b[39m\n\u001b[1;32m      <a href='vscode-notebook-cell://ssh-remote%2Bphlogiston.doc.ic.ac.uk/vol/bitbucket/ad6013/Research/gp-causal/notebooks/gpde_playground.ipynb#ch0000008vscode-remote?line=6'>7</a>\u001b[0m )\n\u001b[0;32m----> <a href='vscode-notebook-cell://ssh-remote%2Bphlogiston.doc.ic.ac.uk/vol/bitbucket/ad6013/Research/gp-causal/notebooks/gpde_playground.ipynb#ch0000008vscode-remote?line=7'>8</a>\u001b[0m pred_f_mean, pred_f_var \u001b[39m=\u001b[39m model\u001b[39m.\u001b[39;49mpredict_y(\n\u001b[1;32m      <a href='vscode-notebook-cell://ssh-remote%2Bphlogiston.doc.ic.ac.uk/vol/bitbucket/ad6013/Research/gp-causal/notebooks/gpde_playground.ipynb#ch0000008vscode-remote?line=8'>9</a>\u001b[0m     Xnew\u001b[39m=\u001b[39;49mXnew,\n\u001b[1;32m     <a href='vscode-notebook-cell://ssh-remote%2Bphlogiston.doc.ic.ac.uk/vol/bitbucket/ad6013/Research/gp-causal/notebooks/gpde_playground.ipynb#ch0000008vscode-remote?line=9'>10</a>\u001b[0m )\n\u001b[1;32m     <a href='vscode-notebook-cell://ssh-remote%2Bphlogiston.doc.ic.ac.uk/vol/bitbucket/ad6013/Research/gp-causal/notebooks/gpde_playground.ipynb#ch0000008vscode-remote?line=10'>11</a>\u001b[0m plt\u001b[39m.\u001b[39mscatter(X[:, \u001b[39m0\u001b[39m], Y[:, \u001b[39m0\u001b[39m], c\u001b[39m=\u001b[39m\u001b[39m'\u001b[39m\u001b[39mr\u001b[39m\u001b[39m'\u001b[39m)\n\u001b[1;32m     <a href='vscode-notebook-cell://ssh-remote%2Bphlogiston.doc.ic.ac.uk/vol/bitbucket/ad6013/Research/gp-causal/notebooks/gpde_playground.ipynb#ch0000008vscode-remote?line=11'>12</a>\u001b[0m plt\u001b[39m.\u001b[39mplot(obs_new, pred_f_mean, c\u001b[39m=\u001b[39m\u001b[39m'\u001b[39m\u001b[39mb\u001b[39m\u001b[39m'\u001b[39m, alpha\u001b[39m=\u001b[39m\u001b[39m0.2\u001b[39m)\n",
      "File \u001b[0;32m/vol/bitbucket/ad6013/envs/gp-causal-3.8/lib/python3.8/site-packages/gpflow/models/model.py:220\u001b[0m, in \u001b[0;36mGPModel.predict_y\u001b[0;34m(self, Xnew, full_cov, full_output_cov)\u001b[0m\n\u001b[1;32m    <a href='file:///vol/bitbucket/ad6013/envs/gp-causal-3.8/lib/python3.8/site-packages/gpflow/models/model.py?line=212'>213</a>\u001b[0m \u001b[39mif\u001b[39;00m full_cov \u001b[39mor\u001b[39;00m full_output_cov:\n\u001b[1;32m    <a href='file:///vol/bitbucket/ad6013/envs/gp-causal-3.8/lib/python3.8/site-packages/gpflow/models/model.py?line=213'>214</a>\u001b[0m     \u001b[39m# See https://github.com/GPflow/GPflow/issues/1461\u001b[39;00m\n\u001b[1;32m    <a href='file:///vol/bitbucket/ad6013/envs/gp-causal-3.8/lib/python3.8/site-packages/gpflow/models/model.py?line=214'>215</a>\u001b[0m     \u001b[39mraise\u001b[39;00m \u001b[39mNotImplementedError\u001b[39;00m(\n\u001b[1;32m    <a href='file:///vol/bitbucket/ad6013/envs/gp-causal-3.8/lib/python3.8/site-packages/gpflow/models/model.py?line=215'>216</a>\u001b[0m         \u001b[39m\"\u001b[39m\u001b[39mThe predict_y method currently supports only the argument values full_cov=False\u001b[39m\u001b[39m\"\u001b[39m\n\u001b[1;32m    <a href='file:///vol/bitbucket/ad6013/envs/gp-causal-3.8/lib/python3.8/site-packages/gpflow/models/model.py?line=216'>217</a>\u001b[0m         \u001b[39m\"\u001b[39m\u001b[39m and full_output_cov=False\u001b[39m\u001b[39m\"\u001b[39m\n\u001b[1;32m    <a href='file:///vol/bitbucket/ad6013/envs/gp-causal-3.8/lib/python3.8/site-packages/gpflow/models/model.py?line=217'>218</a>\u001b[0m     )\n\u001b[0;32m--> <a href='file:///vol/bitbucket/ad6013/envs/gp-causal-3.8/lib/python3.8/site-packages/gpflow/models/model.py?line=219'>220</a>\u001b[0m f_mean, f_var \u001b[39m=\u001b[39m \u001b[39mself\u001b[39;49m\u001b[39m.\u001b[39;49mpredict_f(Xnew, full_cov\u001b[39m=\u001b[39;49mfull_cov, full_output_cov\u001b[39m=\u001b[39;49mfull_output_cov)\n\u001b[1;32m    <a href='file:///vol/bitbucket/ad6013/envs/gp-causal-3.8/lib/python3.8/site-packages/gpflow/models/model.py?line=220'>221</a>\u001b[0m \u001b[39mreturn\u001b[39;00m \u001b[39mself\u001b[39m\u001b[39m.\u001b[39mlikelihood\u001b[39m.\u001b[39mpredict_mean_and_var(f_mean, f_var)\n",
      "File \u001b[0;32m/vol/bitbucket/ad6013/envs/gp-causal-3.8/lib/python3.8/site-packages/gpflow/models/svgp.py:232\u001b[0m, in \u001b[0;36mSVGP_with_posterior.predict_f\u001b[0;34m(self, Xnew, full_cov, full_output_cov)\u001b[0m\n\u001b[1;32m    <a href='file:///vol/bitbucket/ad6013/envs/gp-causal-3.8/lib/python3.8/site-packages/gpflow/models/svgp.py?line=221'>222</a>\u001b[0m \u001b[39mdef\u001b[39;00m \u001b[39mpredict_f\u001b[39m(\n\u001b[1;32m    <a href='file:///vol/bitbucket/ad6013/envs/gp-causal-3.8/lib/python3.8/site-packages/gpflow/models/svgp.py?line=222'>223</a>\u001b[0m     \u001b[39mself\u001b[39m, Xnew: InputData, full_cov: \u001b[39mbool\u001b[39m \u001b[39m=\u001b[39m \u001b[39mFalse\u001b[39;00m, full_output_cov: \u001b[39mbool\u001b[39m \u001b[39m=\u001b[39m \u001b[39mFalse\u001b[39;00m\n\u001b[1;32m    <a href='file:///vol/bitbucket/ad6013/envs/gp-causal-3.8/lib/python3.8/site-packages/gpflow/models/svgp.py?line=223'>224</a>\u001b[0m ) \u001b[39m-\u001b[39m\u001b[39m>\u001b[39m MeanAndVariance:\n\u001b[1;32m    <a href='file:///vol/bitbucket/ad6013/envs/gp-causal-3.8/lib/python3.8/site-packages/gpflow/models/svgp.py?line=224'>225</a>\u001b[0m     \u001b[39m\"\"\"\u001b[39;00m\n\u001b[1;32m    <a href='file:///vol/bitbucket/ad6013/envs/gp-causal-3.8/lib/python3.8/site-packages/gpflow/models/svgp.py?line=225'>226</a>\u001b[0m \u001b[39m    For backwards compatibility, SVGP's predict_f uses the fused (no-cache)\u001b[39;00m\n\u001b[1;32m    <a href='file:///vol/bitbucket/ad6013/envs/gp-causal-3.8/lib/python3.8/site-packages/gpflow/models/svgp.py?line=226'>227</a>\u001b[0m \u001b[39m    computation, which is more efficient during training.\u001b[39;00m\n\u001b[0;32m   (...)\u001b[0m\n\u001b[1;32m    <a href='file:///vol/bitbucket/ad6013/envs/gp-causal-3.8/lib/python3.8/site-packages/gpflow/models/svgp.py?line=229'>230</a>\u001b[0m \u001b[39m        model.posterior().predict_f(Xnew, ...)\u001b[39;00m\n\u001b[1;32m    <a href='file:///vol/bitbucket/ad6013/envs/gp-causal-3.8/lib/python3.8/site-packages/gpflow/models/svgp.py?line=230'>231</a>\u001b[0m \u001b[39m    \"\"\"\u001b[39;00m\n\u001b[0;32m--> <a href='file:///vol/bitbucket/ad6013/envs/gp-causal-3.8/lib/python3.8/site-packages/gpflow/models/svgp.py?line=231'>232</a>\u001b[0m     \u001b[39mreturn\u001b[39;00m \u001b[39mself\u001b[39;49m\u001b[39m.\u001b[39;49mposterior(posteriors\u001b[39m.\u001b[39;49mPrecomputeCacheType\u001b[39m.\u001b[39;49mNOCACHE)\u001b[39m.\u001b[39;49mfused_predict_f(\n\u001b[1;32m    <a href='file:///vol/bitbucket/ad6013/envs/gp-causal-3.8/lib/python3.8/site-packages/gpflow/models/svgp.py?line=232'>233</a>\u001b[0m         Xnew, full_cov\u001b[39m=\u001b[39;49mfull_cov, full_output_cov\u001b[39m=\u001b[39;49mfull_output_cov\n\u001b[1;32m    <a href='file:///vol/bitbucket/ad6013/envs/gp-causal-3.8/lib/python3.8/site-packages/gpflow/models/svgp.py?line=233'>234</a>\u001b[0m     )\n",
      "File \u001b[0;32m/vol/bitbucket/ad6013/envs/gp-causal-3.8/lib/python3.8/site-packages/gpflow/posteriors.py:210\u001b[0m, in \u001b[0;36mAbstractPosterior.fused_predict_f\u001b[0;34m(self, Xnew, full_cov, full_output_cov)\u001b[0m\n\u001b[1;32m    <a href='file:///vol/bitbucket/ad6013/envs/gp-causal-3.8/lib/python3.8/site-packages/gpflow/posteriors.py?line=202'>203</a>\u001b[0m \u001b[39mdef\u001b[39;00m \u001b[39mfused_predict_f\u001b[39m(\n\u001b[1;32m    <a href='file:///vol/bitbucket/ad6013/envs/gp-causal-3.8/lib/python3.8/site-packages/gpflow/posteriors.py?line=203'>204</a>\u001b[0m     \u001b[39mself\u001b[39m, Xnew: TensorType, full_cov: \u001b[39mbool\u001b[39m \u001b[39m=\u001b[39m \u001b[39mFalse\u001b[39;00m, full_output_cov: \u001b[39mbool\u001b[39m \u001b[39m=\u001b[39m \u001b[39mFalse\u001b[39;00m\n\u001b[1;32m    <a href='file:///vol/bitbucket/ad6013/envs/gp-causal-3.8/lib/python3.8/site-packages/gpflow/posteriors.py?line=204'>205</a>\u001b[0m ) \u001b[39m-\u001b[39m\u001b[39m>\u001b[39m MeanAndVariance:\n\u001b[1;32m    <a href='file:///vol/bitbucket/ad6013/envs/gp-causal-3.8/lib/python3.8/site-packages/gpflow/posteriors.py?line=205'>206</a>\u001b[0m     \u001b[39m\"\"\"\u001b[39;00m\n\u001b[1;32m    <a href='file:///vol/bitbucket/ad6013/envs/gp-causal-3.8/lib/python3.8/site-packages/gpflow/posteriors.py?line=206'>207</a>\u001b[0m \u001b[39m    Computes predictive mean and (co)variance at Xnew, including mean_function\u001b[39;00m\n\u001b[1;32m    <a href='file:///vol/bitbucket/ad6013/envs/gp-causal-3.8/lib/python3.8/site-packages/gpflow/posteriors.py?line=207'>208</a>\u001b[0m \u001b[39m    Does not make use of caching\u001b[39;00m\n\u001b[1;32m    <a href='file:///vol/bitbucket/ad6013/envs/gp-causal-3.8/lib/python3.8/site-packages/gpflow/posteriors.py?line=208'>209</a>\u001b[0m \u001b[39m    \"\"\"\u001b[39;00m\n\u001b[0;32m--> <a href='file:///vol/bitbucket/ad6013/envs/gp-causal-3.8/lib/python3.8/site-packages/gpflow/posteriors.py?line=209'>210</a>\u001b[0m     mean, cov \u001b[39m=\u001b[39m \u001b[39mself\u001b[39;49m\u001b[39m.\u001b[39;49m_conditional_fused(\n\u001b[1;32m    <a href='file:///vol/bitbucket/ad6013/envs/gp-causal-3.8/lib/python3.8/site-packages/gpflow/posteriors.py?line=210'>211</a>\u001b[0m         Xnew, full_cov\u001b[39m=\u001b[39;49mfull_cov, full_output_cov\u001b[39m=\u001b[39;49mfull_output_cov\n\u001b[1;32m    <a href='file:///vol/bitbucket/ad6013/envs/gp-causal-3.8/lib/python3.8/site-packages/gpflow/posteriors.py?line=211'>212</a>\u001b[0m     )\n\u001b[1;32m    <a href='file:///vol/bitbucket/ad6013/envs/gp-causal-3.8/lib/python3.8/site-packages/gpflow/posteriors.py?line=212'>213</a>\u001b[0m     \u001b[39mreturn\u001b[39;00m \u001b[39mself\u001b[39m\u001b[39m.\u001b[39m_add_mean_function(Xnew, mean), cov\n",
      "File \u001b[0;32m/vol/bitbucket/ad6013/envs/gp-causal-3.8/lib/python3.8/site-packages/gpflow/posteriors.py:766\u001b[0m, in \u001b[0;36mIndependentPosteriorSingleOutput._conditional_fused\u001b[0;34m(self, Xnew, full_cov, full_output_cov)\u001b[0m\n\u001b[1;32m    <a href='file:///vol/bitbucket/ad6013/envs/gp-causal-3.8/lib/python3.8/site-packages/gpflow/posteriors.py?line=762'>763</a>\u001b[0m Knn \u001b[39m=\u001b[39m \u001b[39mself\u001b[39m\u001b[39m.\u001b[39mkernel(Xnew, full_cov\u001b[39m=\u001b[39mfull_cov)\n\u001b[1;32m    <a href='file:///vol/bitbucket/ad6013/envs/gp-causal-3.8/lib/python3.8/site-packages/gpflow/posteriors.py?line=764'>765</a>\u001b[0m Kmm \u001b[39m=\u001b[39m covariances\u001b[39m.\u001b[39mKuu(\u001b[39mself\u001b[39m\u001b[39m.\u001b[39mX_data, \u001b[39mself\u001b[39m\u001b[39m.\u001b[39mkernel, jitter\u001b[39m=\u001b[39mdefault_jitter())  \u001b[39m# [M, M]\u001b[39;00m\n\u001b[0;32m--> <a href='file:///vol/bitbucket/ad6013/envs/gp-causal-3.8/lib/python3.8/site-packages/gpflow/posteriors.py?line=765'>766</a>\u001b[0m Kmn \u001b[39m=\u001b[39m covariances\u001b[39m.\u001b[39;49mKuf(\u001b[39mself\u001b[39;49m\u001b[39m.\u001b[39;49mX_data, \u001b[39mself\u001b[39;49m\u001b[39m.\u001b[39;49mkernel, Xnew)  \u001b[39m# [M, N]\u001b[39;00m\n\u001b[1;32m    <a href='file:///vol/bitbucket/ad6013/envs/gp-causal-3.8/lib/python3.8/site-packages/gpflow/posteriors.py?line=767'>768</a>\u001b[0m fmean, fvar \u001b[39m=\u001b[39m base_conditional(\n\u001b[1;32m    <a href='file:///vol/bitbucket/ad6013/envs/gp-causal-3.8/lib/python3.8/site-packages/gpflow/posteriors.py?line=768'>769</a>\u001b[0m     Kmn, Kmm, Knn, \u001b[39mself\u001b[39m\u001b[39m.\u001b[39mq_mu, full_cov\u001b[39m=\u001b[39mfull_cov, q_sqrt\u001b[39m=\u001b[39m\u001b[39mself\u001b[39m\u001b[39m.\u001b[39mq_sqrt, white\u001b[39m=\u001b[39m\u001b[39mself\u001b[39m\u001b[39m.\u001b[39mwhiten\n\u001b[1;32m    <a href='file:///vol/bitbucket/ad6013/envs/gp-causal-3.8/lib/python3.8/site-packages/gpflow/posteriors.py?line=769'>770</a>\u001b[0m )  \u001b[39m# [N, P],  [P, N, N] or [N, P]\u001b[39;00m\n\u001b[1;32m    <a href='file:///vol/bitbucket/ad6013/envs/gp-causal-3.8/lib/python3.8/site-packages/gpflow/posteriors.py?line=770'>771</a>\u001b[0m \u001b[39mreturn\u001b[39;00m \u001b[39mself\u001b[39m\u001b[39m.\u001b[39m_post_process_mean_and_cov(fmean, fvar, full_cov, full_output_cov)\n",
      "File \u001b[0;32m/vol/bitbucket/ad6013/envs/gp-causal-3.8/lib/python3.8/site-packages/multipledispatch/dispatcher.py:278\u001b[0m, in \u001b[0;36mDispatcher.__call__\u001b[0;34m(self, *args, **kwargs)\u001b[0m\n\u001b[1;32m    <a href='file:///vol/bitbucket/ad6013/envs/gp-causal-3.8/lib/python3.8/site-packages/multipledispatch/dispatcher.py?line=275'>276</a>\u001b[0m     \u001b[39mself\u001b[39m\u001b[39m.\u001b[39m_cache[types] \u001b[39m=\u001b[39m func\n\u001b[1;32m    <a href='file:///vol/bitbucket/ad6013/envs/gp-causal-3.8/lib/python3.8/site-packages/multipledispatch/dispatcher.py?line=276'>277</a>\u001b[0m \u001b[39mtry\u001b[39;00m:\n\u001b[0;32m--> <a href='file:///vol/bitbucket/ad6013/envs/gp-causal-3.8/lib/python3.8/site-packages/multipledispatch/dispatcher.py?line=277'>278</a>\u001b[0m     \u001b[39mreturn\u001b[39;00m func(\u001b[39m*\u001b[39;49margs, \u001b[39m*\u001b[39;49m\u001b[39m*\u001b[39;49mkwargs)\n\u001b[1;32m    <a href='file:///vol/bitbucket/ad6013/envs/gp-causal-3.8/lib/python3.8/site-packages/multipledispatch/dispatcher.py?line=279'>280</a>\u001b[0m \u001b[39mexcept\u001b[39;00m MDNotImplementedError:\n\u001b[1;32m    <a href='file:///vol/bitbucket/ad6013/envs/gp-causal-3.8/lib/python3.8/site-packages/multipledispatch/dispatcher.py?line=280'>281</a>\u001b[0m     funcs \u001b[39m=\u001b[39m \u001b[39mself\u001b[39m\u001b[39m.\u001b[39mdispatch_iter(\u001b[39m*\u001b[39mtypes)\n",
      "File \u001b[0;32m/vol/bitbucket/ad6013/envs/gp-causal-3.8/lib/python3.8/site-packages/gpflow/covariances/kufs.py:28\u001b[0m, in \u001b[0;36mKuf_kernel_inducingpoints\u001b[0;34m(inducing_variable, kernel, Xnew)\u001b[0m\n\u001b[1;32m     <a href='file:///vol/bitbucket/ad6013/envs/gp-causal-3.8/lib/python3.8/site-packages/gpflow/covariances/kufs.py?line=23'>24</a>\u001b[0m \u001b[39m@Kuf\u001b[39m\u001b[39m.\u001b[39mregister(InducingPoints, Kernel, TensorLike)\n\u001b[1;32m     <a href='file:///vol/bitbucket/ad6013/envs/gp-causal-3.8/lib/python3.8/site-packages/gpflow/covariances/kufs.py?line=24'>25</a>\u001b[0m \u001b[39mdef\u001b[39;00m \u001b[39mKuf_kernel_inducingpoints\u001b[39m(\n\u001b[1;32m     <a href='file:///vol/bitbucket/ad6013/envs/gp-causal-3.8/lib/python3.8/site-packages/gpflow/covariances/kufs.py?line=25'>26</a>\u001b[0m     inducing_variable: InducingPoints, kernel: Kernel, Xnew: TensorType\n\u001b[1;32m     <a href='file:///vol/bitbucket/ad6013/envs/gp-causal-3.8/lib/python3.8/site-packages/gpflow/covariances/kufs.py?line=26'>27</a>\u001b[0m ) \u001b[39m-\u001b[39m\u001b[39m>\u001b[39m tf\u001b[39m.\u001b[39mTensor:\n\u001b[0;32m---> <a href='file:///vol/bitbucket/ad6013/envs/gp-causal-3.8/lib/python3.8/site-packages/gpflow/covariances/kufs.py?line=27'>28</a>\u001b[0m     \u001b[39mreturn\u001b[39;00m kernel(inducing_variable\u001b[39m.\u001b[39;49mZ, Xnew)\n",
      "File \u001b[0;32m/vol/bitbucket/ad6013/envs/gp-causal-3.8/lib/python3.8/site-packages/gpflow/kernels/base.py:262\u001b[0m, in \u001b[0;36mReducingCombination.__call__\u001b[0;34m(self, X, X2, full_cov, presliced)\u001b[0m\n\u001b[1;32m    <a href='file:///vol/bitbucket/ad6013/envs/gp-causal-3.8/lib/python3.8/site-packages/gpflow/kernels/base.py?line=252'>253</a>\u001b[0m \u001b[39mdef\u001b[39;00m \u001b[39m__call__\u001b[39m(\n\u001b[1;32m    <a href='file:///vol/bitbucket/ad6013/envs/gp-causal-3.8/lib/python3.8/site-packages/gpflow/kernels/base.py?line=253'>254</a>\u001b[0m     \u001b[39mself\u001b[39m,\n\u001b[1;32m    <a href='file:///vol/bitbucket/ad6013/envs/gp-causal-3.8/lib/python3.8/site-packages/gpflow/kernels/base.py?line=254'>255</a>\u001b[0m     X: TensorType,\n\u001b[0;32m   (...)\u001b[0m\n\u001b[1;32m    <a href='file:///vol/bitbucket/ad6013/envs/gp-causal-3.8/lib/python3.8/site-packages/gpflow/kernels/base.py?line=258'>259</a>\u001b[0m     presliced: \u001b[39mbool\u001b[39m \u001b[39m=\u001b[39m \u001b[39mFalse\u001b[39;00m,\n\u001b[1;32m    <a href='file:///vol/bitbucket/ad6013/envs/gp-causal-3.8/lib/python3.8/site-packages/gpflow/kernels/base.py?line=259'>260</a>\u001b[0m ) \u001b[39m-\u001b[39m\u001b[39m>\u001b[39m tf\u001b[39m.\u001b[39mTensor:\n\u001b[1;32m    <a href='file:///vol/bitbucket/ad6013/envs/gp-causal-3.8/lib/python3.8/site-packages/gpflow/kernels/base.py?line=260'>261</a>\u001b[0m     \u001b[39mreturn\u001b[39;00m \u001b[39mself\u001b[39m\u001b[39m.\u001b[39m_reduce(\n\u001b[0;32m--> <a href='file:///vol/bitbucket/ad6013/envs/gp-causal-3.8/lib/python3.8/site-packages/gpflow/kernels/base.py?line=261'>262</a>\u001b[0m         [k(X, X2, full_cov\u001b[39m=\u001b[39mfull_cov, presliced\u001b[39m=\u001b[39mpresliced) \u001b[39mfor\u001b[39;00m k \u001b[39min\u001b[39;00m \u001b[39mself\u001b[39m\u001b[39m.\u001b[39mkernels]\n\u001b[1;32m    <a href='file:///vol/bitbucket/ad6013/envs/gp-causal-3.8/lib/python3.8/site-packages/gpflow/kernels/base.py?line=262'>263</a>\u001b[0m     )\n",
      "File \u001b[0;32m/vol/bitbucket/ad6013/envs/gp-causal-3.8/lib/python3.8/site-packages/gpflow/kernels/base.py:262\u001b[0m, in \u001b[0;36m<listcomp>\u001b[0;34m(.0)\u001b[0m\n\u001b[1;32m    <a href='file:///vol/bitbucket/ad6013/envs/gp-causal-3.8/lib/python3.8/site-packages/gpflow/kernels/base.py?line=252'>253</a>\u001b[0m \u001b[39mdef\u001b[39;00m \u001b[39m__call__\u001b[39m(\n\u001b[1;32m    <a href='file:///vol/bitbucket/ad6013/envs/gp-causal-3.8/lib/python3.8/site-packages/gpflow/kernels/base.py?line=253'>254</a>\u001b[0m     \u001b[39mself\u001b[39m,\n\u001b[1;32m    <a href='file:///vol/bitbucket/ad6013/envs/gp-causal-3.8/lib/python3.8/site-packages/gpflow/kernels/base.py?line=254'>255</a>\u001b[0m     X: TensorType,\n\u001b[0;32m   (...)\u001b[0m\n\u001b[1;32m    <a href='file:///vol/bitbucket/ad6013/envs/gp-causal-3.8/lib/python3.8/site-packages/gpflow/kernels/base.py?line=258'>259</a>\u001b[0m     presliced: \u001b[39mbool\u001b[39m \u001b[39m=\u001b[39m \u001b[39mFalse\u001b[39;00m,\n\u001b[1;32m    <a href='file:///vol/bitbucket/ad6013/envs/gp-causal-3.8/lib/python3.8/site-packages/gpflow/kernels/base.py?line=259'>260</a>\u001b[0m ) \u001b[39m-\u001b[39m\u001b[39m>\u001b[39m tf\u001b[39m.\u001b[39mTensor:\n\u001b[1;32m    <a href='file:///vol/bitbucket/ad6013/envs/gp-causal-3.8/lib/python3.8/site-packages/gpflow/kernels/base.py?line=260'>261</a>\u001b[0m     \u001b[39mreturn\u001b[39;00m \u001b[39mself\u001b[39m\u001b[39m.\u001b[39m_reduce(\n\u001b[0;32m--> <a href='file:///vol/bitbucket/ad6013/envs/gp-causal-3.8/lib/python3.8/site-packages/gpflow/kernels/base.py?line=261'>262</a>\u001b[0m         [k(X, X2, full_cov\u001b[39m=\u001b[39;49mfull_cov, presliced\u001b[39m=\u001b[39;49mpresliced) \u001b[39mfor\u001b[39;00m k \u001b[39min\u001b[39;00m \u001b[39mself\u001b[39m\u001b[39m.\u001b[39mkernels]\n\u001b[1;32m    <a href='file:///vol/bitbucket/ad6013/envs/gp-causal-3.8/lib/python3.8/site-packages/gpflow/kernels/base.py?line=262'>263</a>\u001b[0m     )\n",
      "File \u001b[0;32m/vol/bitbucket/ad6013/envs/gp-causal-3.8/lib/python3.8/site-packages/gpflow/kernels/base.py:189\u001b[0m, in \u001b[0;36mKernel.__call__\u001b[0;34m(self, X, X2, full_cov, presliced)\u001b[0m\n\u001b[1;32m    <a href='file:///vol/bitbucket/ad6013/envs/gp-causal-3.8/lib/python3.8/site-packages/gpflow/kernels/base.py?line=185'>186</a>\u001b[0m     \u001b[39mreturn\u001b[39;00m \u001b[39mself\u001b[39m\u001b[39m.\u001b[39mK_diag(X)\n\u001b[1;32m    <a href='file:///vol/bitbucket/ad6013/envs/gp-causal-3.8/lib/python3.8/site-packages/gpflow/kernels/base.py?line=187'>188</a>\u001b[0m \u001b[39melse\u001b[39;00m:\n\u001b[0;32m--> <a href='file:///vol/bitbucket/ad6013/envs/gp-causal-3.8/lib/python3.8/site-packages/gpflow/kernels/base.py?line=188'>189</a>\u001b[0m     \u001b[39mreturn\u001b[39;00m \u001b[39mself\u001b[39;49m\u001b[39m.\u001b[39;49mK(X, X2)\n",
      "File \u001b[0;32m/vol/bitbucket/ad6013/envs/gp-causal-3.8/lib/python3.8/site-packages/gpflow/kernels/stationaries.py:93\u001b[0m, in \u001b[0;36mIsotropicStationary.K\u001b[0;34m(self, X, X2)\u001b[0m\n\u001b[1;32m     <a href='file:///vol/bitbucket/ad6013/envs/gp-causal-3.8/lib/python3.8/site-packages/gpflow/kernels/stationaries.py?line=91'>92</a>\u001b[0m \u001b[39mdef\u001b[39;00m \u001b[39mK\u001b[39m(\u001b[39mself\u001b[39m, X: TensorType, X2: Optional[TensorType] \u001b[39m=\u001b[39m \u001b[39mNone\u001b[39;00m) \u001b[39m-\u001b[39m\u001b[39m>\u001b[39m tf\u001b[39m.\u001b[39mTensor:\n\u001b[0;32m---> <a href='file:///vol/bitbucket/ad6013/envs/gp-causal-3.8/lib/python3.8/site-packages/gpflow/kernels/stationaries.py?line=92'>93</a>\u001b[0m     r2 \u001b[39m=\u001b[39m \u001b[39mself\u001b[39;49m\u001b[39m.\u001b[39;49mscaled_squared_euclid_dist(X, X2)\n\u001b[1;32m     <a href='file:///vol/bitbucket/ad6013/envs/gp-causal-3.8/lib/python3.8/site-packages/gpflow/kernels/stationaries.py?line=93'>94</a>\u001b[0m     \u001b[39mreturn\u001b[39;00m \u001b[39mself\u001b[39m\u001b[39m.\u001b[39mK_r2(r2)\n",
      "File \u001b[0;32m/vol/bitbucket/ad6013/envs/gp-causal-3.8/lib/python3.8/site-packages/gpflow/kernels/stationaries.py:109\u001b[0m, in \u001b[0;36mIsotropicStationary.scaled_squared_euclid_dist\u001b[0;34m(self, X, X2)\u001b[0m\n\u001b[1;32m    <a href='file:///vol/bitbucket/ad6013/envs/gp-causal-3.8/lib/python3.8/site-packages/gpflow/kernels/stationaries.py?line=102'>103</a>\u001b[0m \u001b[39mdef\u001b[39;00m \u001b[39mscaled_squared_euclid_dist\u001b[39m(\n\u001b[1;32m    <a href='file:///vol/bitbucket/ad6013/envs/gp-causal-3.8/lib/python3.8/site-packages/gpflow/kernels/stationaries.py?line=103'>104</a>\u001b[0m     \u001b[39mself\u001b[39m, X: TensorType, X2: Optional[TensorType] \u001b[39m=\u001b[39m \u001b[39mNone\u001b[39;00m\n\u001b[1;32m    <a href='file:///vol/bitbucket/ad6013/envs/gp-causal-3.8/lib/python3.8/site-packages/gpflow/kernels/stationaries.py?line=104'>105</a>\u001b[0m ) \u001b[39m-\u001b[39m\u001b[39m>\u001b[39m tf\u001b[39m.\u001b[39mTensor:\n\u001b[1;32m    <a href='file:///vol/bitbucket/ad6013/envs/gp-causal-3.8/lib/python3.8/site-packages/gpflow/kernels/stationaries.py?line=105'>106</a>\u001b[0m     \u001b[39m\"\"\"\u001b[39;00m\n\u001b[1;32m    <a href='file:///vol/bitbucket/ad6013/envs/gp-causal-3.8/lib/python3.8/site-packages/gpflow/kernels/stationaries.py?line=106'>107</a>\u001b[0m \u001b[39m    Returns ‖(X - X2ᵀ) / ℓ‖², i.e. the squared L₂-norm.\u001b[39;00m\n\u001b[1;32m    <a href='file:///vol/bitbucket/ad6013/envs/gp-causal-3.8/lib/python3.8/site-packages/gpflow/kernels/stationaries.py?line=107'>108</a>\u001b[0m \u001b[39m    \"\"\"\u001b[39;00m\n\u001b[0;32m--> <a href='file:///vol/bitbucket/ad6013/envs/gp-causal-3.8/lib/python3.8/site-packages/gpflow/kernels/stationaries.py?line=108'>109</a>\u001b[0m     \u001b[39mreturn\u001b[39;00m square_distance(\u001b[39mself\u001b[39;49m\u001b[39m.\u001b[39;49mscale(X), \u001b[39mself\u001b[39;49m\u001b[39m.\u001b[39;49mscale(X2))\n",
      "File \u001b[0;32m/vol/bitbucket/ad6013/envs/gp-causal-3.8/lib/python3.8/site-packages/gpflow/utilities/ops.py:120\u001b[0m, in \u001b[0;36msquare_distance\u001b[0;34m(X, X2)\u001b[0m\n\u001b[1;32m    <a href='file:///vol/bitbucket/ad6013/envs/gp-causal-3.8/lib/python3.8/site-packages/gpflow/utilities/ops.py?line=117'>118</a>\u001b[0m Xs \u001b[39m=\u001b[39m tf\u001b[39m.\u001b[39mreduce_sum(tf\u001b[39m.\u001b[39msquare(X), axis\u001b[39m=\u001b[39m\u001b[39m-\u001b[39m\u001b[39m1\u001b[39m)\n\u001b[1;32m    <a href='file:///vol/bitbucket/ad6013/envs/gp-causal-3.8/lib/python3.8/site-packages/gpflow/utilities/ops.py?line=118'>119</a>\u001b[0m X2s \u001b[39m=\u001b[39m tf\u001b[39m.\u001b[39mreduce_sum(tf\u001b[39m.\u001b[39msquare(X2), axis\u001b[39m=\u001b[39m\u001b[39m-\u001b[39m\u001b[39m1\u001b[39m)\n\u001b[0;32m--> <a href='file:///vol/bitbucket/ad6013/envs/gp-causal-3.8/lib/python3.8/site-packages/gpflow/utilities/ops.py?line=119'>120</a>\u001b[0m dist \u001b[39m=\u001b[39m \u001b[39m-\u001b[39m\u001b[39m2\u001b[39m \u001b[39m*\u001b[39m tf\u001b[39m.\u001b[39;49mtensordot(X, X2, [[\u001b[39m-\u001b[39;49m\u001b[39m1\u001b[39;49m], [\u001b[39m-\u001b[39;49m\u001b[39m1\u001b[39;49m]])\n\u001b[1;32m    <a href='file:///vol/bitbucket/ad6013/envs/gp-causal-3.8/lib/python3.8/site-packages/gpflow/utilities/ops.py?line=120'>121</a>\u001b[0m dist \u001b[39m+\u001b[39m\u001b[39m=\u001b[39m broadcasting_elementwise(tf\u001b[39m.\u001b[39madd, Xs, X2s)\n\u001b[1;32m    <a href='file:///vol/bitbucket/ad6013/envs/gp-causal-3.8/lib/python3.8/site-packages/gpflow/utilities/ops.py?line=121'>122</a>\u001b[0m \u001b[39mreturn\u001b[39;00m dist\n",
      "File \u001b[0;32m/vol/bitbucket/ad6013/envs/gp-causal-3.8/lib/python3.8/site-packages/tensorflow/python/util/traceback_utils.py:153\u001b[0m, in \u001b[0;36mfilter_traceback.<locals>.error_handler\u001b[0;34m(*args, **kwargs)\u001b[0m\n\u001b[1;32m    <a href='file:///vol/bitbucket/ad6013/envs/gp-causal-3.8/lib/python3.8/site-packages/tensorflow/python/util/traceback_utils.py?line=150'>151</a>\u001b[0m \u001b[39mexcept\u001b[39;00m \u001b[39mException\u001b[39;00m \u001b[39mas\u001b[39;00m e:\n\u001b[1;32m    <a href='file:///vol/bitbucket/ad6013/envs/gp-causal-3.8/lib/python3.8/site-packages/tensorflow/python/util/traceback_utils.py?line=151'>152</a>\u001b[0m   filtered_tb \u001b[39m=\u001b[39m _process_traceback_frames(e\u001b[39m.\u001b[39m__traceback__)\n\u001b[0;32m--> <a href='file:///vol/bitbucket/ad6013/envs/gp-causal-3.8/lib/python3.8/site-packages/tensorflow/python/util/traceback_utils.py?line=152'>153</a>\u001b[0m   \u001b[39mraise\u001b[39;00m e\u001b[39m.\u001b[39mwith_traceback(filtered_tb) \u001b[39mfrom\u001b[39;00m \u001b[39mNone\u001b[39m\n\u001b[1;32m    <a href='file:///vol/bitbucket/ad6013/envs/gp-causal-3.8/lib/python3.8/site-packages/tensorflow/python/util/traceback_utils.py?line=153'>154</a>\u001b[0m \u001b[39mfinally\u001b[39;00m:\n\u001b[1;32m    <a href='file:///vol/bitbucket/ad6013/envs/gp-causal-3.8/lib/python3.8/site-packages/tensorflow/python/util/traceback_utils.py?line=154'>155</a>\u001b[0m   \u001b[39mdel\u001b[39;00m filtered_tb\n",
      "File \u001b[0;32m/vol/bitbucket/ad6013/envs/gp-causal-3.8/lib/python3.8/site-packages/tensorflow/python/framework/ops.py:7186\u001b[0m, in \u001b[0;36mraise_from_not_ok_status\u001b[0;34m(e, name)\u001b[0m\n\u001b[1;32m   <a href='file:///vol/bitbucket/ad6013/envs/gp-causal-3.8/lib/python3.8/site-packages/tensorflow/python/framework/ops.py?line=7183'>7184</a>\u001b[0m \u001b[39mdef\u001b[39;00m \u001b[39mraise_from_not_ok_status\u001b[39m(e, name):\n\u001b[1;32m   <a href='file:///vol/bitbucket/ad6013/envs/gp-causal-3.8/lib/python3.8/site-packages/tensorflow/python/framework/ops.py?line=7184'>7185</a>\u001b[0m   e\u001b[39m.\u001b[39mmessage \u001b[39m+\u001b[39m\u001b[39m=\u001b[39m (\u001b[39m\"\u001b[39m\u001b[39m name: \u001b[39m\u001b[39m\"\u001b[39m \u001b[39m+\u001b[39m name \u001b[39mif\u001b[39;00m name \u001b[39mis\u001b[39;00m \u001b[39mnot\u001b[39;00m \u001b[39mNone\u001b[39;00m \u001b[39melse\u001b[39;00m \u001b[39m\"\u001b[39m\u001b[39m\"\u001b[39m)\n\u001b[0;32m-> <a href='file:///vol/bitbucket/ad6013/envs/gp-causal-3.8/lib/python3.8/site-packages/tensorflow/python/framework/ops.py?line=7185'>7186</a>\u001b[0m   \u001b[39mraise\u001b[39;00m core\u001b[39m.\u001b[39m_status_to_exception(e) \u001b[39mfrom\u001b[39;00m \u001b[39mNone\u001b[39m\n",
      "\u001b[0;31mInvalidArgumentError\u001b[0m: Matrix size-incompatible: In[0]: [200,1], In[1]: [2,1000] [Op:MatMul]"
     ]
    }
   ],
   "source": [
    "obs_new = np.linspace(-5, 5, 1000)[:, None]\n",
    "\n",
    "Xnew = tfp.distributions.Normal(loc=0, scale=1).sample([obs_new.shape[0], 1])\n",
    "Xnew = tf.cast(Xnew, dtype=default_float())\n",
    "Xnew = tf.concat(\n",
    "    [obs_new, Xnew], axis=1\n",
    ")\n",
    "pred_f_mean, pred_f_var = model.predict_y(\n",
    "    Xnew=Xnew,\n",
    ")\n",
    "plt.scatter(X[:, 0], Y[:, 0], c='r')\n",
    "plt.plot(obs_new, pred_f_mean, c='b', alpha=0.2)\n",
    "# plt.scatter(inducing_in, np.zeros(100) )\n",
    "plt.fill_between(obs_new[:, 0], (pred_f_mean + 2 * np.sqrt(pred_f_var))[:, 0], (pred_f_mean - 2 * np.sqrt(pred_f_var))[:,0], alpha=0.5)\n",
    "plt.show()\n",
    "plt.close()\n"
   ]
  },
  {
   "cell_type": "code",
   "execution_count": null,
   "metadata": {},
   "outputs": [],
   "source": [
    "M = 200  # Number of inducing locations\n",
    "\n",
    "kernel_1 = gpflow.kernels.SquaredExponential(\n",
    "    lengthscales=[0.003]\n",
    "    # lengthscales=[lengthscales[0], lengthscales[1]]\n",
    ")\n",
    "# kernel_1.variance.assign(kernl_var)\n",
    "kernel_2 = gpflow.kernels.Linear()\n",
    "kernel = gpflow.kernels.Sum([kernel_1, kernel_2])\n",
    "Z = np.linspace(X.min(), X.max(), M).reshape(-1, 1)\n",
    "model =  gpflow.models.SVGP(\n",
    "    kernel, gpflow.likelihoods.Gaussian(variance=1e-5), Z, num_data=N)\n"
   ]
  },
  {
   "cell_type": "code",
   "execution_count": null,
   "metadata": {},
   "outputs": [],
   "source": [
    "minibatch_size = 100\n",
    "\n",
    "train_dataset = tf.data.Dataset.from_tensor_slices((X, Y)).repeat().shuffle(N)\n"
   ]
  },
  {
   "cell_type": "code",
   "execution_count": null,
   "metadata": {},
   "outputs": [],
   "source": [
    "def run_adam(model, iterations):\n",
    "    \"\"\"\n",
    "    Utility function running the Adam optimizer\n",
    "\n",
    "    :param model: GPflow model\n",
    "    :param interations: number of iterations\n",
    "    \"\"\"\n",
    "    # Create an Adam Optimizer action\n",
    "    logf = []\n",
    "    train_iter = iter(train_dataset.batch(minibatch_size))\n",
    "    training_loss = model.training_loss_closure(train_iter, compile=True)\n",
    "    gpflow.set_trainable(model.q_mu, False)\n",
    "    gpflow.set_trainable(model.q_sqrt, False)\n",
    "    variational_params = [(model.q_mu, model.q_sqrt)]\n",
    "    natgrad_opt = NaturalGradient(gamma=0.1)\n",
    "    optimizer = tf.optimizers.Adam(0.005)\n",
    "    @tf.function\n",
    "    def optimization_step():\n",
    "        optimizer.minimize(training_loss, model.trainable_variables)\n",
    "        natgrad_opt.minimize(training_loss, variational_params)\n",
    "\n",
    "    for step in range(iterations):\n",
    "        optimization_step()\n",
    "        if step % 10 == 0:\n",
    "            elbo = -training_loss().numpy()\n",
    "            logf.append(elbo)\n",
    "    return logf"
   ]
  },
  {
   "cell_type": "code",
   "execution_count": null,
   "metadata": {},
   "outputs": [],
   "source": [
    "_ = run_adam(\n",
    "    model, \n",
    "    iterations=30000\n",
    ")"
   ]
  },
  {
   "cell_type": "code",
   "execution_count": null,
   "metadata": {},
   "outputs": [
    {
     "data": {
      "image/png": "[encoded data removed]",
      "text/plain": [
       "<Figure size 432x288 with 1 Axes>"
      ]
     },
     "metadata": {
      "needs_background": "light"
     },
     "output_type": "display_data"
    }
   ],
   "source": [
    "obs_new = np.linspace(-5, 5, 1000)[:, None]\n",
    "\n",
    "Xnew = obs_new\n",
    "pred_f_mean, pred_f_var = model.predict_y(\n",
    "    Xnew=Xnew,\n",
    ")\n",
    "plt.scatter(X[:, 0], Y[:, 0], c='r')\n",
    "plt.plot(obs_new, pred_f_mean, c='b', alpha=0.2)\n",
    "# plt.scatter(inducing_in, np.zeros(100) )\n",
    "plt.fill_between(obs_new[:, 0], (pred_f_mean + 2 * np.sqrt(pred_f_var))[:, 0], (pred_f_mean - 2 * np.sqrt(pred_f_var))[:,0], alpha=0.5)\n",
    "plt.show()\n",
    "plt.close()"
   ]
  },
  {
   "cell_type": "code",
   "execution_count": null,
   "metadata": {},
   "outputs": [],
   "source": []
  },
  {
   "cell_type": "code",
   "execution_count": null,
   "metadata": {},
   "outputs": [],
   "source": []
  }
 ],
 "metadata": {
  "interpreter": {
   "hash": "a8d95aa7f610185758b0e4e87261a268c67bfd80b13e0d0c16090894e4422c34"
  },
  "kernelspec": {
   "display_name": "Python 3.8.10 ('gp-causal-3.8')",
   "language": "python",
   "name": "python3"
  },
  "language_info": {
   "codemirror_mode": {
    "name": "ipython",
    "version": 3
   },
   "file_extension": ".py",
   "mimetype": "text/x-python",
   "name": "python",
   "nbconvert_exporter": "python",
   "pygments_lexer": "ipython3",
   "version": "3.8.10"
  },
  "orig_nbformat": 4
 },
 "nbformat": 4,
 "nbformat_minor": 2
}
