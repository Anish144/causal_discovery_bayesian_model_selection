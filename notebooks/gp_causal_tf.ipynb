{
 "cells": [
  {
   "cell_type": "code",
   "execution_count": 4,
   "metadata": {},
   "outputs": [
    {
     "name": "stderr",
     "output_type": "stream",
     "text": [
      "Load cause-effect pairs: 100%|██████████| 100/100 [00:00<00:00, 212.10it/s]\n"
     ]
    }
   ],
   "source": [
    "import sys\n",
    "sys.path.append(\"/vol/bitbucket/ad6013/Research/gp-causal/data\")\n",
    "\n",
    "from pairs.generate_pairs import TubingenPairs\n",
    "\n",
    "\n",
    "data_gen = TubingenPairs(path='/vol/bitbucket/ad6013/Research/gp-causal/data/pairs/files')\n",
    "\n",
    "x, y, weight = [], [], []\n",
    "for i in data_gen.pairs_generator():\n",
    "    x.append(i[0])\n",
    "    y.append(i[1])\n",
    "    weight.append(i[2])"
   ]
  },
  {
   "cell_type": "code",
   "execution_count": 5,
   "metadata": {},
   "outputs": [],
   "source": [
    "import gpflow\n",
    "import tensorflow as tf\n",
    "import numpy as np\n",
    "\n",
    "\n",
    "rng = np.random.RandomState(0)\n",
    "tf.random.set_seed(0)"
   ]
  },
  {
   "cell_type": "code",
   "execution_count": 6,
   "metadata": {},
   "outputs": [
    {
     "name": "stdout",
     "output_type": "stream",
     "text": [
      "╒═══════════════════════╤═══════════╤═════════════╤═════════╤═════════════╤═════════╤═════════╤═════════╕\n",
      "│ name                  │ class     │ transform   │ prior   │ trainable   │ shape   │ dtype   │   value │\n",
      "╞═══════════════════════╪═══════════╪═════════════╪═════════╪═════════════╪═════════╪═════════╪═════════╡\n",
      "│ Matern52.variance     │ Parameter │ Softplus    │         │ True        │ ()      │ float64 │       1 │\n",
      "├───────────────────────┼───────────┼─────────────┼─────────┼─────────────┼─────────┼─────────┼─────────┤\n",
      "│ Matern52.lengthscales │ Parameter │ Softplus    │         │ True        │ ()      │ float64 │       1 │\n",
      "╘═══════════════════════╧═══════════╧═════════════╧═════════╧═════════════╧═════════╧═════════╧═════════╛\n"
     ]
    }
   ],
   "source": [
    "from gpflow.utilities import print_summary\n",
    "\n",
    "# SGPR Test\n",
    "k = gpflow.kernels.Matern52()\n",
    "print_summary(k)\n"
   ]
  },
  {
   "cell_type": "code",
   "execution_count": 7,
   "metadata": {},
   "outputs": [],
   "source": [
    "inducing = x[0][:500]\n",
    "m = gpflow.models.SGPR((x[0], y[0]), k, inducing)"
   ]
  },
  {
   "cell_type": "code",
   "execution_count": 8,
   "metadata": {},
   "outputs": [
    {
     "name": "stderr",
     "output_type": "stream",
     "text": [
      "2022-04-07 16:38:22.436149: W tensorflow/python/util/util.cc:368] Sets are not currently considered sequences, but this may change in the future, so consider avoiding using them.\n"
     ]
    },
    {
     "name": "stdout",
     "output_type": "stream",
     "text": [
      "╒══════════════════════════╤═══════════╤══════════════════╤═════════╤═════════════╤══════════╤═════════╤═════════════════════╕\n",
      "│ name                     │ class     │ transform        │ prior   │ trainable   │ shape    │ dtype   │ value               │\n",
      "╞══════════════════════════╪═══════════╪══════════════════╪═════════╪═════════════╪══════════╪═════════╪═════════════════════╡\n",
      "│ SGPR.kernel.variance     │ Parameter │ Softplus         │         │ True        │ ()       │ float64 │ 23.87485073313259   │\n",
      "├──────────────────────────┼───────────┼──────────────────┼─────────┼─────────────┼──────────┼─────────┼─────────────────────┤\n",
      "│ SGPR.kernel.lengthscales │ Parameter │ Softplus         │         │ True        │ ()       │ float64 │ 805.7702486310004   │\n",
      "├──────────────────────────┼───────────┼──────────────────┼─────────┼─────────────┼──────────┼─────────┼─────────────────────┤\n",
      "│ SGPR.likelihood.variance │ Parameter │ Softplus + Shift │         │ True        │ ()       │ float64 │ 0.41060381876132185 │\n",
      "├──────────────────────────┼───────────┼──────────────────┼─────────┼─────────────┼──────────┼─────────┼─────────────────────┤\n",
      "│ SGPR.inducing_variable.Z │ Parameter │ Identity         │         │ True        │ (349, 1) │ float64 │ [[2.04999760e+02... │\n",
      "╘══════════════════════════╧═══════════╧══════════════════╧═════════╧═════════════╧══════════╧═════════╧═════════════════════╛\n"
     ]
    }
   ],
   "source": [
    "opt = gpflow.optimizers.Scipy()\n",
    "opt_logs = opt.minimize(m.training_loss, m.trainable_variables, options=dict(maxiter=1000))\n",
    "print_summary(m)\n"
   ]
  },
  {
   "cell_type": "code",
   "execution_count": 9,
   "metadata": {},
   "outputs": [
    {
     "data": {
      "text/plain": [
       "array([ 2.04999760e+02,  4.59999945e+01,  7.94000014e+02,  3.25000036e+02,\n",
       "        5.00000839e+02,  2.14999872e+02,  3.83000149e+02,  5.40003837e+01,\n",
       "        6.29999988e+02,  4.13000537e+02,  4.81000388e+02,  4.19998166e+01,\n",
       "        2.41999976e+02,  1.63999956e+02,  4.61999972e+02,  5.59999819e+02,\n",
       "        4.00002156e+00,  6.21999684e+02,  2.39000008e+02,  4.00003727e+01,\n",
       "        3.29999950e+02,  7.89000064e+02,  4.49999610e+02,  4.00003728e+01,\n",
       "        2.51998508e+02,  4.45002920e+02,  6.00001036e+01,  5.79999462e+01,\n",
       "        3.60007448e+01,  4.89997936e+01,  8.40005065e+01,  1.20001015e+02,\n",
       "        3.62999240e+02,  2.89998555e+02,  4.11999074e+02,  7.99990879e+01,\n",
       "        2.10001693e+01,  4.50005386e+01,  1.50002582e+01,  6.19994738e+01,\n",
       "        8.74996049e+02,  4.99992298e+00,  3.72999509e+02,  9.99851817e-01,\n",
       "        9.00010954e+00,  6.07000597e+02,  8.79997683e+01,  4.99992298e+00,\n",
       "        6.99998704e+00,  1.14200011e+03,  5.49000444e+02,  3.09999043e+02,\n",
       "        3.39999492e+02,  7.69999351e+01,  6.79998736e+01,  3.90001240e+01,\n",
       "        3.95999992e+02,  4.18000003e+02,  5.66000028e+02,  6.89996884e+01,\n",
       "        4.99992298e+00,  1.32999953e+02,  4.79999945e+02,  6.96000233e+02,\n",
       "        9.70014123e+01,  6.76999456e+02,  2.27000447e+02,  1.91994907e+02,\n",
       "        6.91999919e+02,  3.69993252e+01,  3.69993252e+01,  1.23000004e+02,\n",
       "        1.46000031e+02,  4.59999959e+02,  8.50001822e+01,  1.20001502e+01,\n",
       "       -3.98145714e-04,  1.43999843e+02,  7.05000006e+02,  6.00000394e+02,\n",
       "        4.43598763e+02,  1.79999262e+01,  3.16000675e+02,  4.07998482e+02,\n",
       "        2.70000036e+02,  2.33999822e+02,  1.50000055e+02,  1.48600001e+03,\n",
       "        1.21299998e+03,  4.50005386e+01,  1.11999825e+02,  1.25000664e+02,\n",
       "        4.80001290e+01,  4.81000358e+02,  2.00006248e+00,  7.97000258e+02,\n",
       "        9.27999722e+02,  5.23000135e+02,  3.93998189e+02,  7.99998672e+00,\n",
       "        2.55001391e+02,  4.70000486e+01,  7.19000051e+02,  1.17999724e+02,\n",
       "        3.49996647e+01,  3.11000057e+02,  9.00001793e+01,  1.86000317e+02,\n",
       "        2.00006248e+00,  2.37999855e+02,  1.73000010e+02,  5.79999453e+01,\n",
       "        2.70003100e+01,  6.00009716e+00,  4.00003707e+01,  4.19998166e+01,\n",
       "        1.43599999e+03,  5.50000198e+01,  3.00003393e+02,  5.66999548e+02,\n",
       "        9.30002733e+01,  1.10002214e+01,  2.19999628e+01,  1.79999262e+01,\n",
       "        5.89999988e+01,  2.68999995e+02,  4.03997778e+02,  1.10999798e+02,\n",
       "        5.00000839e+02,  4.95999800e+02,  4.00002156e+00,  1.40000013e+02,\n",
       "        2.00006248e+00,  7.69999341e+01,  3.50000245e+02,  5.30001127e+02,\n",
       "        2.71999874e+02,  1.05300001e+03,  8.83001190e+02,  1.00800011e+03,\n",
       "        5.66999537e+02,  2.41999998e+02,  9.77000122e+02,  1.69997376e+01,\n",
       "        1.28000364e+02,  4.39999840e+02,  1.12499992e+03,  4.38000419e+02,\n",
       "        2.99994160e+00,  3.69993252e+01,  7.12000010e+02,  1.54999975e+02,\n",
       "        6.99998708e+00,  9.09995647e+01,  7.50000510e+01,  8.39003753e+02,\n",
       "        2.70000037e+02,  5.05000416e+02,  4.86999327e+02,  3.74000306e+02,\n",
       "        1.11999826e+02,  2.30998977e+02,  5.85000227e+02,  7.05000006e+02,\n",
       "        2.70003100e+01,  4.00002156e+00,  2.82000143e+02,  8.04999386e+02,\n",
       "        4.59999950e+01,  9.72999947e+02,  9.19998241e+01,  7.53999921e+02,\n",
       "        4.17000012e+02,  8.49999810e+02,  4.42995534e+02,  7.75999978e+02,\n",
       "        1.01999679e+02,  5.19999876e+02,  4.36000157e+02,  7.47000031e+02,\n",
       "        4.99992298e+00,  1.18999853e+02,  3.00003393e+02,  3.44500527e+02,\n",
       "        6.99998704e+00,  9.00010860e+00,  3.65000015e+02,  3.56000631e+02,\n",
       "        1.38000025e+02,  1.40999836e+02,  7.58000265e+02,  8.18000017e+02,\n",
       "        4.39999340e+01,  2.83999912e+02,  1.84999504e+02,  9.80001994e+01,\n",
       "        3.41002873e+02,  2.19999645e+01,  1.57000017e+02,  9.19998240e+01,\n",
       "        2.60000052e+01,  2.19999645e+01,  1.61000051e+02,  4.99992298e+00,\n",
       "        1.69997376e+01,  4.43999692e+02,  5.79999491e+01,  1.10002211e+01,\n",
       "        7.60000452e+01,  4.19000013e+02,  9.59995017e+01,  1.86000317e+02,\n",
       "        5.46998943e+02,  4.49999609e+02,  7.69999341e+01,  3.12999651e+02,\n",
       "        6.20999130e+02,  4.19998166e+01,  4.04999585e+02,  2.73001156e+02,\n",
       "        6.30006631e+01,  5.14999236e+02,  5.27999863e+02,  5.14999236e+02,\n",
       "        6.19994966e+01,  8.10012328e+01,  1.10999799e+02,  5.00000637e+02,\n",
       "        2.60000051e+01,  3.79997310e+01,  1.25000664e+02,  6.40003307e+01,\n",
       "        2.60000051e+01,  4.24999942e+02,  1.10002211e+01,  6.27000063e+02,\n",
       "        3.14000596e+02,  2.80000007e+02,  4.90001001e+02,  8.06000173e+02,\n",
       "        2.75999915e+02,  1.10000350e+02,  1.50000059e+02,  9.49998112e+01,\n",
       "        4.09000061e+02,  4.34999699e+02,  2.46000682e+02,  3.85999675e+02,\n",
       "        2.40001901e+01,  8.10012328e+01,  4.00003729e+01,  1.23000004e+02,\n",
       "        1.64000000e+03,  1.08999835e+02,  3.66000144e+02,  4.69999883e+02,\n",
       "        6.89999896e+02,  1.31000149e+02,  2.86998271e+02,  1.15999974e+02,\n",
       "        4.43999692e+02,  4.00002156e+00,  8.70002231e+01,  7.47000031e+02,\n",
       "        5.87999803e+02,  6.91999919e+02,  3.20001100e+02,  1.93007580e+02,\n",
       "        3.33001287e+02,  1.35000000e+02,  7.95000010e+02,  4.99992298e+00,\n",
       "        1.54999974e+02,  1.54999975e+02,  6.08999505e+02,  4.29991651e+01,\n",
       "        1.69999903e+02,  9.93000084e+02,  9.36999479e+02,  6.35000126e+02,\n",
       "        6.16001439e+02,  2.64999827e+02,  5.03997681e+02,  3.65000015e+02,\n",
       "        4.43999697e+02,  7.91999853e+02,  5.89999987e+01,  2.10001696e+01,\n",
       "        1.86000317e+02,  6.10999873e+02,  3.59999831e+02,  7.69999351e+01,\n",
       "        3.65000015e+02,  1.47000113e+02,  8.70002231e+01,  7.33999969e+02,\n",
       "        3.50000245e+02,  2.86000888e+02,  3.11000057e+02,  4.00998337e+02,\n",
       "        8.36994428e+02,  4.59999950e+01,  6.10004156e+01,  3.95999992e+02,\n",
       "        8.69999479e+02,  8.45999032e+02,  7.81000064e+02,  6.40000042e+02,\n",
       "        7.99990879e+01,  9.00010863e+00,  6.99999864e+02,  1.43999843e+02,\n",
       "        2.64999842e+02,  4.90001001e+02,  5.00000281e+01,  5.71001248e+02,\n",
       "        4.71000082e+02,  2.91000748e+02,  2.40000097e+02,  5.10001313e+01,\n",
       "        2.23000102e+02,  1.76000003e+02,  3.80000035e+02,  9.40000597e+02,\n",
       "        7.00010895e+01,  9.20999822e+02,  4.38000419e+02,  4.69999883e+02,\n",
       "        1.46000031e+02,  5.52999860e+02,  4.39999840e+02,  2.19000011e+02,\n",
       "        4.22000093e+02,  1.83200000e+03,  1.40000013e+02,  2.99994160e+00,\n",
       "        1.42000753e+02,  7.40000007e+02,  5.80000017e+02,  6.81000290e+02,\n",
       "        1.05000873e+02,  1.32999953e+02,  4.64000311e+02,  2.91000703e+02,\n",
       "        9.99851987e-01,  2.67999706e+02,  8.77004919e+02,  2.96000000e+03,\n",
       "        6.14999484e+02,  8.05770249e+02,  2.38748507e+01, -6.77812565e-01])"
      ]
     },
     "execution_count": 9,
     "metadata": {},
     "output_type": "execute_result"
    }
   ],
   "source": [
    "opt_logs.x"
   ]
  },
  {
   "cell_type": "code",
   "execution_count": 10,
   "metadata": {},
   "outputs": [
    {
     "data": {
      "image/png": "[encoded data removed]",
      "text/plain": [
       "<Figure size 432x288 with 1 Axes>"
      ]
     },
     "metadata": {
      "needs_background": "light"
     },
     "output_type": "display_data"
    }
   ],
   "source": [
    "import matplotlib.pyplot as plt\n",
    "plt.plot(np.arange(len(opt_logs.x)), opt_logs.x)\n",
    "plt.show()"
   ]
  },
  {
   "cell_type": "code",
   "execution_count": 11,
   "metadata": {},
   "outputs": [
    {
     "data": {
      "text/plain": [
       "<tf.Tensor: shape=(), dtype=float64, numpy=-361.0560678509103>"
      ]
     },
     "execution_count": 11,
     "metadata": {},
     "output_type": "execute_result"
    }
   ],
   "source": [
    "m.elbo()"
   ]
  },
  {
   "cell_type": "code",
   "execution_count": 12,
   "metadata": {},
   "outputs": [],
   "source": [
    "inducing = y[0][:500]\n",
    "m1 = gpflow.models.SGPR((y[0], x[0]), k, inducing)"
   ]
  },
  {
   "cell_type": "code",
   "execution_count": 13,
   "metadata": {},
   "outputs": [
    {
     "ename": "InvalidArgumentError",
     "evalue": "Graph execution error:\n\nDetected at node 'gradient_tape/triangular_solve_1/MatrixTriangularSolve' defined at (most recent call last):\n    File \"/usr/lib/python3.9/runpy.py\", line 197, in _run_module_as_main\n      return _run_code(code, main_globals, None,\n    File \"/usr/lib/python3.9/runpy.py\", line 87, in _run_code\n      exec(code, run_globals)\n    File \"/vol/bitbucket/ad6013/envs/gp-causal-env/lib/python3.9/site-packages/ipykernel_launcher.py\", line 17, in <module>\n      app.launch_new_instance()\n    File \"/vol/bitbucket/ad6013/envs/gp-causal-env/lib/python3.9/site-packages/traitlets/config/application.py\", line 846, in launch_instance\n      app.start()\n    File \"/vol/bitbucket/ad6013/envs/gp-causal-env/lib/python3.9/site-packages/ipykernel/kernelapp.py\", line 707, in start\n      self.io_loop.start()\n    File \"/vol/bitbucket/ad6013/envs/gp-causal-env/lib/python3.9/site-packages/tornado/platform/asyncio.py\", line 199, in start\n      self.asyncio_loop.run_forever()\n    File \"/usr/lib/python3.9/asyncio/base_events.py\", line 596, in run_forever\n      self._run_once()\n    File \"/usr/lib/python3.9/asyncio/base_events.py\", line 1890, in _run_once\n      handle._run()\n    File \"/usr/lib/python3.9/asyncio/events.py\", line 80, in _run\n      self._context.run(self._callback, *self._args)\n    File \"/vol/bitbucket/ad6013/envs/gp-causal-env/lib/python3.9/site-packages/ipykernel/kernelbase.py\", line 502, in dispatch_queue\n      await self.process_one()\n    File \"/vol/bitbucket/ad6013/envs/gp-causal-env/lib/python3.9/site-packages/ipykernel/kernelbase.py\", line 491, in process_one\n      await dispatch(*args)\n    File \"/vol/bitbucket/ad6013/envs/gp-causal-env/lib/python3.9/site-packages/ipykernel/kernelbase.py\", line 398, in dispatch_shell\n      await result\n    File \"/vol/bitbucket/ad6013/envs/gp-causal-env/lib/python3.9/site-packages/ipykernel/kernelbase.py\", line 722, in execute_request\n      reply_content = await reply_content\n    File \"/vol/bitbucket/ad6013/envs/gp-causal-env/lib/python3.9/site-packages/ipykernel/ipkernel.py\", line 389, in do_execute\n      res = shell.run_cell(code, store_history=store_history, silent=silent)\n    File \"/vol/bitbucket/ad6013/envs/gp-causal-env/lib/python3.9/site-packages/ipykernel/zmqshell.py\", line 528, in run_cell\n      return super().run_cell(*args, **kwargs)\n    File \"/vol/bitbucket/ad6013/envs/gp-causal-env/lib/python3.9/site-packages/IPython/core/interactiveshell.py\", line 2863, in run_cell\n      result = self._run_cell(\n    File \"/vol/bitbucket/ad6013/envs/gp-causal-env/lib/python3.9/site-packages/IPython/core/interactiveshell.py\", line 2909, in _run_cell\n      return runner(coro)\n    File \"/vol/bitbucket/ad6013/envs/gp-causal-env/lib/python3.9/site-packages/IPython/core/async_helpers.py\", line 129, in _pseudo_sync_runner\n      coro.send(None)\n    File \"/vol/bitbucket/ad6013/envs/gp-causal-env/lib/python3.9/site-packages/IPython/core/interactiveshell.py\", line 3106, in run_cell_async\n      has_raised = await self.run_ast_nodes(code_ast.body, cell_name,\n    File \"/vol/bitbucket/ad6013/envs/gp-causal-env/lib/python3.9/site-packages/IPython/core/interactiveshell.py\", line 3309, in run_ast_nodes\n      if await self.run_code(code, result, async_=asy):\n    File \"/vol/bitbucket/ad6013/envs/gp-causal-env/lib/python3.9/site-packages/IPython/core/interactiveshell.py\", line 3369, in run_code\n      exec(code_obj, self.user_global_ns, self.user_ns)\n    File \"/tmp/ipykernel_3766534/3421687111.py\", line 2, in <cell line: 2>\n      opt_logs = opt.minimize(m1.training_loss, m1.trainable_variables, options=dict(maxiter=1000))\n    File \"/vol/bitbucket/ad6013/envs/gp-causal-env/lib/python3.9/site-packages/gpflow/optimizers/scipy.py\", line 95, in minimize\n      return scipy.optimize.minimize(\n    File \"/vol/bitbucket/ad6013/envs/gp-causal-env/lib/python3.9/site-packages/scipy/optimize/_minimize.py\", line 681, in minimize\n      res = _minimize_lbfgsb(fun, x0, args, jac, bounds,\n    File \"/vol/bitbucket/ad6013/envs/gp-causal-env/lib/python3.9/site-packages/scipy/optimize/_lbfgsb_py.py\", line 308, in _minimize_lbfgsb\n      sf = _prepare_scalar_function(fun, x0, jac=jac, args=args, epsilon=eps,\n    File \"/vol/bitbucket/ad6013/envs/gp-causal-env/lib/python3.9/site-packages/scipy/optimize/_optimize.py\", line 263, in _prepare_scalar_function\n      sf = ScalarFunction(fun, x0, args, grad, hess,\n    File \"/vol/bitbucket/ad6013/envs/gp-causal-env/lib/python3.9/site-packages/scipy/optimize/_differentiable_functions.py\", line 158, in __init__\n      self._update_fun()\n    File \"/vol/bitbucket/ad6013/envs/gp-causal-env/lib/python3.9/site-packages/scipy/optimize/_differentiable_functions.py\", line 251, in _update_fun\n      self._update_fun_impl()\n    File \"/vol/bitbucket/ad6013/envs/gp-causal-env/lib/python3.9/site-packages/scipy/optimize/_differentiable_functions.py\", line 155, in update_fun\n      self.f = fun_wrapped(self.x)\n    File \"/vol/bitbucket/ad6013/envs/gp-causal-env/lib/python3.9/site-packages/scipy/optimize/_differentiable_functions.py\", line 137, in fun_wrapped\n      fx = fun(np.copy(x), *args)\n    File \"/vol/bitbucket/ad6013/envs/gp-causal-env/lib/python3.9/site-packages/scipy/optimize/_optimize.py\", line 76, in __call__\n      self._compute_if_needed(x, *args)\n    File \"/vol/bitbucket/ad6013/envs/gp-causal-env/lib/python3.9/site-packages/scipy/optimize/_optimize.py\", line 70, in _compute_if_needed\n      fg = self.fun(x, *args)\n    File \"/vol/bitbucket/ad6013/envs/gp-causal-env/lib/python3.9/site-packages/gpflow/optimizers/scipy.py\", line 137, in _eval\n      loss, grad = _tf_eval(tf.convert_to_tensor(x))\n    File \"/vol/bitbucket/ad6013/envs/gp-causal-env/lib/python3.9/site-packages/gpflow/optimizers/scipy.py\", line 119, in _tf_eval\n      if first_call:\n    File \"/vol/bitbucket/ad6013/envs/gp-causal-env/lib/python3.9/site-packages/gpflow/optimizers/scipy.py\", line 121, in _tf_eval\n      loss, grads = _compute_loss_and_gradients(\n    File \"/vol/bitbucket/ad6013/envs/gp-causal-env/lib/python3.9/site-packages/gpflow/optimizers/scipy.py\", line 225, in _compute_loss_and_gradients\n      grads = tape.gradient(loss, variables, unconnected_gradients=unconnected_gradients)\nNode: 'gradient_tape/triangular_solve_1/MatrixTriangularSolve'\nInput matrix is not invertible.\n\t [[{{node gradient_tape/triangular_solve_1/MatrixTriangularSolve}}]] [Op:__inference__tf_eval_2567]",
     "output_type": "error",
     "traceback": [
      "\u001b[0;31m---------------------------------------------------------------------------\u001b[0m",
      "\u001b[0;31mInvalidArgumentError\u001b[0m                      Traceback (most recent call last)",
      "Input \u001b[0;32mIn [13]\u001b[0m, in \u001b[0;36m<cell line: 2>\u001b[0;34m()\u001b[0m\n\u001b[1;32m      1\u001b[0m opt \u001b[38;5;241m=\u001b[39m gpflow\u001b[38;5;241m.\u001b[39moptimizers\u001b[38;5;241m.\u001b[39mScipy()\n\u001b[0;32m----> 2\u001b[0m opt_logs \u001b[38;5;241m=\u001b[39m \u001b[43mopt\u001b[49m\u001b[38;5;241;43m.\u001b[39;49m\u001b[43mminimize\u001b[49m\u001b[43m(\u001b[49m\u001b[43mm1\u001b[49m\u001b[38;5;241;43m.\u001b[39;49m\u001b[43mtraining_loss\u001b[49m\u001b[43m,\u001b[49m\u001b[43m \u001b[49m\u001b[43mm1\u001b[49m\u001b[38;5;241;43m.\u001b[39;49m\u001b[43mtrainable_variables\u001b[49m\u001b[43m,\u001b[49m\u001b[43m \u001b[49m\u001b[43moptions\u001b[49m\u001b[38;5;241;43m=\u001b[39;49m\u001b[38;5;28;43mdict\u001b[39;49m\u001b[43m(\u001b[49m\u001b[43mmaxiter\u001b[49m\u001b[38;5;241;43m=\u001b[39;49m\u001b[38;5;241;43m1000\u001b[39;49m\u001b[43m)\u001b[49m\u001b[43m)\u001b[49m\n\u001b[1;32m      3\u001b[0m print_summary(m1)\n",
      "File \u001b[0;32m/vol/bitbucket/ad6013/envs/gp-causal-env/lib/python3.9/site-packages/gpflow/optimizers/scipy.py:95\u001b[0m, in \u001b[0;36mScipy.minimize\u001b[0;34m(self, closure, variables, method, step_callback, compile, allow_unused_variables, **scipy_kwargs)\u001b[0m\n\u001b[1;32m     92\u001b[0m     callback \u001b[38;5;241m=\u001b[39m \u001b[38;5;28mself\u001b[39m\u001b[38;5;241m.\u001b[39mcallback_func(variables, step_callback)\n\u001b[1;32m     93\u001b[0m     scipy_kwargs\u001b[38;5;241m.\u001b[39mupdate(\u001b[38;5;28mdict\u001b[39m(callback\u001b[38;5;241m=\u001b[39mcallback))\n\u001b[0;32m---> 95\u001b[0m \u001b[38;5;28;01mreturn\u001b[39;00m \u001b[43mscipy\u001b[49m\u001b[38;5;241;43m.\u001b[39;49m\u001b[43moptimize\u001b[49m\u001b[38;5;241;43m.\u001b[39;49m\u001b[43mminimize\u001b[49m\u001b[43m(\u001b[49m\n\u001b[1;32m     96\u001b[0m \u001b[43m    \u001b[49m\u001b[43mfunc\u001b[49m\u001b[43m,\u001b[49m\u001b[43m \u001b[49m\u001b[43minitial_params\u001b[49m\u001b[43m,\u001b[49m\u001b[43m \u001b[49m\u001b[43mjac\u001b[49m\u001b[38;5;241;43m=\u001b[39;49m\u001b[38;5;28;43;01mTrue\u001b[39;49;00m\u001b[43m,\u001b[49m\u001b[43m \u001b[49m\u001b[43mmethod\u001b[49m\u001b[38;5;241;43m=\u001b[39;49m\u001b[43mmethod\u001b[49m\u001b[43m,\u001b[49m\u001b[43m \u001b[49m\u001b[38;5;241;43m*\u001b[39;49m\u001b[38;5;241;43m*\u001b[39;49m\u001b[43mscipy_kwargs\u001b[49m\n\u001b[1;32m     97\u001b[0m \u001b[43m\u001b[49m\u001b[43m)\u001b[49m\n",
      "File \u001b[0;32m/vol/bitbucket/ad6013/envs/gp-causal-env/lib/python3.9/site-packages/scipy/optimize/_minimize.py:681\u001b[0m, in \u001b[0;36mminimize\u001b[0;34m(fun, x0, args, method, jac, hess, hessp, bounds, constraints, tol, callback, options)\u001b[0m\n\u001b[1;32m    678\u001b[0m     res \u001b[38;5;241m=\u001b[39m _minimize_newtoncg(fun, x0, args, jac, hess, hessp, callback,\n\u001b[1;32m    679\u001b[0m                              \u001b[38;5;241m*\u001b[39m\u001b[38;5;241m*\u001b[39moptions)\n\u001b[1;32m    680\u001b[0m \u001b[38;5;28;01melif\u001b[39;00m meth \u001b[38;5;241m==\u001b[39m \u001b[38;5;124m'\u001b[39m\u001b[38;5;124ml-bfgs-b\u001b[39m\u001b[38;5;124m'\u001b[39m:\n\u001b[0;32m--> 681\u001b[0m     res \u001b[38;5;241m=\u001b[39m \u001b[43m_minimize_lbfgsb\u001b[49m\u001b[43m(\u001b[49m\u001b[43mfun\u001b[49m\u001b[43m,\u001b[49m\u001b[43m \u001b[49m\u001b[43mx0\u001b[49m\u001b[43m,\u001b[49m\u001b[43m \u001b[49m\u001b[43margs\u001b[49m\u001b[43m,\u001b[49m\u001b[43m \u001b[49m\u001b[43mjac\u001b[49m\u001b[43m,\u001b[49m\u001b[43m \u001b[49m\u001b[43mbounds\u001b[49m\u001b[43m,\u001b[49m\n\u001b[1;32m    682\u001b[0m \u001b[43m                           \u001b[49m\u001b[43mcallback\u001b[49m\u001b[38;5;241;43m=\u001b[39;49m\u001b[43mcallback\u001b[49m\u001b[43m,\u001b[49m\u001b[43m \u001b[49m\u001b[38;5;241;43m*\u001b[39;49m\u001b[38;5;241;43m*\u001b[39;49m\u001b[43moptions\u001b[49m\u001b[43m)\u001b[49m\n\u001b[1;32m    683\u001b[0m \u001b[38;5;28;01melif\u001b[39;00m meth \u001b[38;5;241m==\u001b[39m \u001b[38;5;124m'\u001b[39m\u001b[38;5;124mtnc\u001b[39m\u001b[38;5;124m'\u001b[39m:\n\u001b[1;32m    684\u001b[0m     res \u001b[38;5;241m=\u001b[39m _minimize_tnc(fun, x0, args, jac, bounds, callback\u001b[38;5;241m=\u001b[39mcallback,\n\u001b[1;32m    685\u001b[0m                         \u001b[38;5;241m*\u001b[39m\u001b[38;5;241m*\u001b[39moptions)\n",
      "File \u001b[0;32m/vol/bitbucket/ad6013/envs/gp-causal-env/lib/python3.9/site-packages/scipy/optimize/_lbfgsb_py.py:362\u001b[0m, in \u001b[0;36m_minimize_lbfgsb\u001b[0;34m(fun, x0, args, jac, bounds, disp, maxcor, ftol, gtol, eps, maxfun, maxiter, iprint, callback, maxls, finite_diff_rel_step, **unknown_options)\u001b[0m\n\u001b[1;32m    356\u001b[0m task_str \u001b[38;5;241m=\u001b[39m task\u001b[38;5;241m.\u001b[39mtobytes()\n\u001b[1;32m    357\u001b[0m \u001b[38;5;28;01mif\u001b[39;00m task_str\u001b[38;5;241m.\u001b[39mstartswith(\u001b[38;5;124mb\u001b[39m\u001b[38;5;124m'\u001b[39m\u001b[38;5;124mFG\u001b[39m\u001b[38;5;124m'\u001b[39m):\n\u001b[1;32m    358\u001b[0m     \u001b[38;5;66;03m# The minimization routine wants f and g at the current x.\u001b[39;00m\n\u001b[1;32m    359\u001b[0m     \u001b[38;5;66;03m# Note that interruptions due to maxfun are postponed\u001b[39;00m\n\u001b[1;32m    360\u001b[0m     \u001b[38;5;66;03m# until the completion of the current minimization iteration.\u001b[39;00m\n\u001b[1;32m    361\u001b[0m     \u001b[38;5;66;03m# Overwrite f and g:\u001b[39;00m\n\u001b[0;32m--> 362\u001b[0m     f, g \u001b[38;5;241m=\u001b[39m \u001b[43mfunc_and_grad\u001b[49m\u001b[43m(\u001b[49m\u001b[43mx\u001b[49m\u001b[43m)\u001b[49m\n\u001b[1;32m    363\u001b[0m \u001b[38;5;28;01melif\u001b[39;00m task_str\u001b[38;5;241m.\u001b[39mstartswith(\u001b[38;5;124mb\u001b[39m\u001b[38;5;124m'\u001b[39m\u001b[38;5;124mNEW_X\u001b[39m\u001b[38;5;124m'\u001b[39m):\n\u001b[1;32m    364\u001b[0m     \u001b[38;5;66;03m# new iteration\u001b[39;00m\n\u001b[1;32m    365\u001b[0m     n_iterations \u001b[38;5;241m+\u001b[39m\u001b[38;5;241m=\u001b[39m \u001b[38;5;241m1\u001b[39m\n",
      "File \u001b[0;32m/vol/bitbucket/ad6013/envs/gp-causal-env/lib/python3.9/site-packages/scipy/optimize/_differentiable_functions.py:285\u001b[0m, in \u001b[0;36mScalarFunction.fun_and_grad\u001b[0;34m(self, x)\u001b[0m\n\u001b[1;32m    283\u001b[0m \u001b[38;5;28;01mif\u001b[39;00m \u001b[38;5;129;01mnot\u001b[39;00m np\u001b[38;5;241m.\u001b[39marray_equal(x, \u001b[38;5;28mself\u001b[39m\u001b[38;5;241m.\u001b[39mx):\n\u001b[1;32m    284\u001b[0m     \u001b[38;5;28mself\u001b[39m\u001b[38;5;241m.\u001b[39m_update_x_impl(x)\n\u001b[0;32m--> 285\u001b[0m \u001b[38;5;28;43mself\u001b[39;49m\u001b[38;5;241;43m.\u001b[39;49m\u001b[43m_update_fun\u001b[49m\u001b[43m(\u001b[49m\u001b[43m)\u001b[49m\n\u001b[1;32m    286\u001b[0m \u001b[38;5;28mself\u001b[39m\u001b[38;5;241m.\u001b[39m_update_grad()\n\u001b[1;32m    287\u001b[0m \u001b[38;5;28;01mreturn\u001b[39;00m \u001b[38;5;28mself\u001b[39m\u001b[38;5;241m.\u001b[39mf, \u001b[38;5;28mself\u001b[39m\u001b[38;5;241m.\u001b[39mg\n",
      "File \u001b[0;32m/vol/bitbucket/ad6013/envs/gp-causal-env/lib/python3.9/site-packages/scipy/optimize/_differentiable_functions.py:251\u001b[0m, in \u001b[0;36mScalarFunction._update_fun\u001b[0;34m(self)\u001b[0m\n\u001b[1;32m    249\u001b[0m \u001b[38;5;28;01mdef\u001b[39;00m \u001b[38;5;21m_update_fun\u001b[39m(\u001b[38;5;28mself\u001b[39m):\n\u001b[1;32m    250\u001b[0m     \u001b[38;5;28;01mif\u001b[39;00m \u001b[38;5;129;01mnot\u001b[39;00m \u001b[38;5;28mself\u001b[39m\u001b[38;5;241m.\u001b[39mf_updated:\n\u001b[0;32m--> 251\u001b[0m         \u001b[38;5;28;43mself\u001b[39;49m\u001b[38;5;241;43m.\u001b[39;49m\u001b[43m_update_fun_impl\u001b[49m\u001b[43m(\u001b[49m\u001b[43m)\u001b[49m\n\u001b[1;32m    252\u001b[0m         \u001b[38;5;28mself\u001b[39m\u001b[38;5;241m.\u001b[39mf_updated \u001b[38;5;241m=\u001b[39m \u001b[38;5;28;01mTrue\u001b[39;00m\n",
      "File \u001b[0;32m/vol/bitbucket/ad6013/envs/gp-causal-env/lib/python3.9/site-packages/scipy/optimize/_differentiable_functions.py:155\u001b[0m, in \u001b[0;36mScalarFunction.__init__.<locals>.update_fun\u001b[0;34m()\u001b[0m\n\u001b[1;32m    154\u001b[0m \u001b[38;5;28;01mdef\u001b[39;00m \u001b[38;5;21mupdate_fun\u001b[39m():\n\u001b[0;32m--> 155\u001b[0m     \u001b[38;5;28mself\u001b[39m\u001b[38;5;241m.\u001b[39mf \u001b[38;5;241m=\u001b[39m \u001b[43mfun_wrapped\u001b[49m\u001b[43m(\u001b[49m\u001b[38;5;28;43mself\u001b[39;49m\u001b[38;5;241;43m.\u001b[39;49m\u001b[43mx\u001b[49m\u001b[43m)\u001b[49m\n",
      "File \u001b[0;32m/vol/bitbucket/ad6013/envs/gp-causal-env/lib/python3.9/site-packages/scipy/optimize/_differentiable_functions.py:137\u001b[0m, in \u001b[0;36mScalarFunction.__init__.<locals>.fun_wrapped\u001b[0;34m(x)\u001b[0m\n\u001b[1;32m    133\u001b[0m \u001b[38;5;28mself\u001b[39m\u001b[38;5;241m.\u001b[39mnfev \u001b[38;5;241m+\u001b[39m\u001b[38;5;241m=\u001b[39m \u001b[38;5;241m1\u001b[39m\n\u001b[1;32m    134\u001b[0m \u001b[38;5;66;03m# Send a copy because the user may overwrite it.\u001b[39;00m\n\u001b[1;32m    135\u001b[0m \u001b[38;5;66;03m# Overwriting results in undefined behaviour because\u001b[39;00m\n\u001b[1;32m    136\u001b[0m \u001b[38;5;66;03m# fun(self.x) will change self.x, with the two no longer linked.\u001b[39;00m\n\u001b[0;32m--> 137\u001b[0m fx \u001b[38;5;241m=\u001b[39m \u001b[43mfun\u001b[49m\u001b[43m(\u001b[49m\u001b[43mnp\u001b[49m\u001b[38;5;241;43m.\u001b[39;49m\u001b[43mcopy\u001b[49m\u001b[43m(\u001b[49m\u001b[43mx\u001b[49m\u001b[43m)\u001b[49m\u001b[43m,\u001b[49m\u001b[43m \u001b[49m\u001b[38;5;241;43m*\u001b[39;49m\u001b[43margs\u001b[49m\u001b[43m)\u001b[49m\n\u001b[1;32m    138\u001b[0m \u001b[38;5;66;03m# Make sure the function returns a true scalar\u001b[39;00m\n\u001b[1;32m    139\u001b[0m \u001b[38;5;28;01mif\u001b[39;00m \u001b[38;5;129;01mnot\u001b[39;00m np\u001b[38;5;241m.\u001b[39misscalar(fx):\n",
      "File \u001b[0;32m/vol/bitbucket/ad6013/envs/gp-causal-env/lib/python3.9/site-packages/scipy/optimize/_optimize.py:76\u001b[0m, in \u001b[0;36mMemoizeJac.__call__\u001b[0;34m(self, x, *args)\u001b[0m\n\u001b[1;32m     74\u001b[0m \u001b[38;5;28;01mdef\u001b[39;00m \u001b[38;5;21m__call__\u001b[39m(\u001b[38;5;28mself\u001b[39m, x, \u001b[38;5;241m*\u001b[39margs):\n\u001b[1;32m     75\u001b[0m     \u001b[38;5;124;03m\"\"\" returns the the function value \"\"\"\u001b[39;00m\n\u001b[0;32m---> 76\u001b[0m     \u001b[38;5;28;43mself\u001b[39;49m\u001b[38;5;241;43m.\u001b[39;49m\u001b[43m_compute_if_needed\u001b[49m\u001b[43m(\u001b[49m\u001b[43mx\u001b[49m\u001b[43m,\u001b[49m\u001b[43m \u001b[49m\u001b[38;5;241;43m*\u001b[39;49m\u001b[43margs\u001b[49m\u001b[43m)\u001b[49m\n\u001b[1;32m     77\u001b[0m     \u001b[38;5;28;01mreturn\u001b[39;00m \u001b[38;5;28mself\u001b[39m\u001b[38;5;241m.\u001b[39m_value\n",
      "File \u001b[0;32m/vol/bitbucket/ad6013/envs/gp-causal-env/lib/python3.9/site-packages/scipy/optimize/_optimize.py:70\u001b[0m, in \u001b[0;36mMemoizeJac._compute_if_needed\u001b[0;34m(self, x, *args)\u001b[0m\n\u001b[1;32m     68\u001b[0m \u001b[38;5;28;01mif\u001b[39;00m \u001b[38;5;129;01mnot\u001b[39;00m np\u001b[38;5;241m.\u001b[39mall(x \u001b[38;5;241m==\u001b[39m \u001b[38;5;28mself\u001b[39m\u001b[38;5;241m.\u001b[39mx) \u001b[38;5;129;01mor\u001b[39;00m \u001b[38;5;28mself\u001b[39m\u001b[38;5;241m.\u001b[39m_value \u001b[38;5;129;01mis\u001b[39;00m \u001b[38;5;28;01mNone\u001b[39;00m \u001b[38;5;129;01mor\u001b[39;00m \u001b[38;5;28mself\u001b[39m\u001b[38;5;241m.\u001b[39mjac \u001b[38;5;129;01mis\u001b[39;00m \u001b[38;5;28;01mNone\u001b[39;00m:\n\u001b[1;32m     69\u001b[0m     \u001b[38;5;28mself\u001b[39m\u001b[38;5;241m.\u001b[39mx \u001b[38;5;241m=\u001b[39m np\u001b[38;5;241m.\u001b[39masarray(x)\u001b[38;5;241m.\u001b[39mcopy()\n\u001b[0;32m---> 70\u001b[0m     fg \u001b[38;5;241m=\u001b[39m \u001b[38;5;28;43mself\u001b[39;49m\u001b[38;5;241;43m.\u001b[39;49m\u001b[43mfun\u001b[49m\u001b[43m(\u001b[49m\u001b[43mx\u001b[49m\u001b[43m,\u001b[49m\u001b[43m \u001b[49m\u001b[38;5;241;43m*\u001b[39;49m\u001b[43margs\u001b[49m\u001b[43m)\u001b[49m\n\u001b[1;32m     71\u001b[0m     \u001b[38;5;28mself\u001b[39m\u001b[38;5;241m.\u001b[39mjac \u001b[38;5;241m=\u001b[39m fg[\u001b[38;5;241m1\u001b[39m]\n\u001b[1;32m     72\u001b[0m     \u001b[38;5;28mself\u001b[39m\u001b[38;5;241m.\u001b[39m_value \u001b[38;5;241m=\u001b[39m fg[\u001b[38;5;241m0\u001b[39m]\n",
      "File \u001b[0;32m/vol/bitbucket/ad6013/envs/gp-causal-env/lib/python3.9/site-packages/gpflow/optimizers/scipy.py:137\u001b[0m, in \u001b[0;36mScipy.eval_func.<locals>._eval\u001b[0;34m(x)\u001b[0m\n\u001b[1;32m    136\u001b[0m \u001b[38;5;28;01mdef\u001b[39;00m \u001b[38;5;21m_eval\u001b[39m(x: np\u001b[38;5;241m.\u001b[39mndarray) \u001b[38;5;241m-\u001b[39m\u001b[38;5;241m>\u001b[39m Tuple[np\u001b[38;5;241m.\u001b[39mndarray, np\u001b[38;5;241m.\u001b[39mndarray]:\n\u001b[0;32m--> 137\u001b[0m     loss, grad \u001b[38;5;241m=\u001b[39m \u001b[43m_tf_eval\u001b[49m\u001b[43m(\u001b[49m\u001b[43mtf\u001b[49m\u001b[38;5;241;43m.\u001b[39;49m\u001b[43mconvert_to_tensor\u001b[49m\u001b[43m(\u001b[49m\u001b[43mx\u001b[49m\u001b[43m)\u001b[49m\u001b[43m)\u001b[49m\n\u001b[1;32m    138\u001b[0m     \u001b[38;5;28;01mreturn\u001b[39;00m loss\u001b[38;5;241m.\u001b[39mnumpy()\u001b[38;5;241m.\u001b[39mastype(np\u001b[38;5;241m.\u001b[39mfloat64), grad\u001b[38;5;241m.\u001b[39mnumpy()\u001b[38;5;241m.\u001b[39mastype(np\u001b[38;5;241m.\u001b[39mfloat64)\n",
      "File \u001b[0;32m/vol/bitbucket/ad6013/envs/gp-causal-env/lib/python3.9/site-packages/tensorflow/python/util/traceback_utils.py:153\u001b[0m, in \u001b[0;36mfilter_traceback.<locals>.error_handler\u001b[0;34m(*args, **kwargs)\u001b[0m\n\u001b[1;32m    151\u001b[0m \u001b[38;5;28;01mexcept\u001b[39;00m \u001b[38;5;167;01mException\u001b[39;00m \u001b[38;5;28;01mas\u001b[39;00m e:\n\u001b[1;32m    152\u001b[0m   filtered_tb \u001b[38;5;241m=\u001b[39m _process_traceback_frames(e\u001b[38;5;241m.\u001b[39m__traceback__)\n\u001b[0;32m--> 153\u001b[0m   \u001b[38;5;28;01mraise\u001b[39;00m e\u001b[38;5;241m.\u001b[39mwith_traceback(filtered_tb) \u001b[38;5;28;01mfrom\u001b[39;00m \u001b[38;5;28mNone\u001b[39m\n\u001b[1;32m    154\u001b[0m \u001b[38;5;28;01mfinally\u001b[39;00m:\n\u001b[1;32m    155\u001b[0m   \u001b[38;5;28;01mdel\u001b[39;00m filtered_tb\n",
      "File \u001b[0;32m/vol/bitbucket/ad6013/envs/gp-causal-env/lib/python3.9/site-packages/tensorflow/python/eager/execute.py:54\u001b[0m, in \u001b[0;36mquick_execute\u001b[0;34m(op_name, num_outputs, inputs, attrs, ctx, name)\u001b[0m\n\u001b[1;32m     52\u001b[0m \u001b[38;5;28;01mtry\u001b[39;00m:\n\u001b[1;32m     53\u001b[0m   ctx\u001b[38;5;241m.\u001b[39mensure_initialized()\n\u001b[0;32m---> 54\u001b[0m   tensors \u001b[38;5;241m=\u001b[39m pywrap_tfe\u001b[38;5;241m.\u001b[39mTFE_Py_Execute(ctx\u001b[38;5;241m.\u001b[39m_handle, device_name, op_name,\n\u001b[1;32m     55\u001b[0m                                       inputs, attrs, num_outputs)\n\u001b[1;32m     56\u001b[0m \u001b[38;5;28;01mexcept\u001b[39;00m core\u001b[38;5;241m.\u001b[39m_NotOkStatusException \u001b[38;5;28;01mas\u001b[39;00m e:\n\u001b[1;32m     57\u001b[0m   \u001b[38;5;28;01mif\u001b[39;00m name \u001b[38;5;129;01mis\u001b[39;00m \u001b[38;5;129;01mnot\u001b[39;00m \u001b[38;5;28;01mNone\u001b[39;00m:\n",
      "\u001b[0;31mInvalidArgumentError\u001b[0m: Graph execution error:\n\nDetected at node 'gradient_tape/triangular_solve_1/MatrixTriangularSolve' defined at (most recent call last):\n    File \"/usr/lib/python3.9/runpy.py\", line 197, in _run_module_as_main\n      return _run_code(code, main_globals, None,\n    File \"/usr/lib/python3.9/runpy.py\", line 87, in _run_code\n      exec(code, run_globals)\n    File \"/vol/bitbucket/ad6013/envs/gp-causal-env/lib/python3.9/site-packages/ipykernel_launcher.py\", line 17, in <module>\n      app.launch_new_instance()\n    File \"/vol/bitbucket/ad6013/envs/gp-causal-env/lib/python3.9/site-packages/traitlets/config/application.py\", line 846, in launch_instance\n      app.start()\n    File \"/vol/bitbucket/ad6013/envs/gp-causal-env/lib/python3.9/site-packages/ipykernel/kernelapp.py\", line 707, in start\n      self.io_loop.start()\n    File \"/vol/bitbucket/ad6013/envs/gp-causal-env/lib/python3.9/site-packages/tornado/platform/asyncio.py\", line 199, in start\n      self.asyncio_loop.run_forever()\n    File \"/usr/lib/python3.9/asyncio/base_events.py\", line 596, in run_forever\n      self._run_once()\n    File \"/usr/lib/python3.9/asyncio/base_events.py\", line 1890, in _run_once\n      handle._run()\n    File \"/usr/lib/python3.9/asyncio/events.py\", line 80, in _run\n      self._context.run(self._callback, *self._args)\n    File \"/vol/bitbucket/ad6013/envs/gp-causal-env/lib/python3.9/site-packages/ipykernel/kernelbase.py\", line 502, in dispatch_queue\n      await self.process_one()\n    File \"/vol/bitbucket/ad6013/envs/gp-causal-env/lib/python3.9/site-packages/ipykernel/kernelbase.py\", line 491, in process_one\n      await dispatch(*args)\n    File \"/vol/bitbucket/ad6013/envs/gp-causal-env/lib/python3.9/site-packages/ipykernel/kernelbase.py\", line 398, in dispatch_shell\n      await result\n    File \"/vol/bitbucket/ad6013/envs/gp-causal-env/lib/python3.9/site-packages/ipykernel/kernelbase.py\", line 722, in execute_request\n      reply_content = await reply_content\n    File \"/vol/bitbucket/ad6013/envs/gp-causal-env/lib/python3.9/site-packages/ipykernel/ipkernel.py\", line 389, in do_execute\n      res = shell.run_cell(code, store_history=store_history, silent=silent)\n    File \"/vol/bitbucket/ad6013/envs/gp-causal-env/lib/python3.9/site-packages/ipykernel/zmqshell.py\", line 528, in run_cell\n      return super().run_cell(*args, **kwargs)\n    File \"/vol/bitbucket/ad6013/envs/gp-causal-env/lib/python3.9/site-packages/IPython/core/interactiveshell.py\", line 2863, in run_cell\n      result = self._run_cell(\n    File \"/vol/bitbucket/ad6013/envs/gp-causal-env/lib/python3.9/site-packages/IPython/core/interactiveshell.py\", line 2909, in _run_cell\n      return runner(coro)\n    File \"/vol/bitbucket/ad6013/envs/gp-causal-env/lib/python3.9/site-packages/IPython/core/async_helpers.py\", line 129, in _pseudo_sync_runner\n      coro.send(None)\n    File \"/vol/bitbucket/ad6013/envs/gp-causal-env/lib/python3.9/site-packages/IPython/core/interactiveshell.py\", line 3106, in run_cell_async\n      has_raised = await self.run_ast_nodes(code_ast.body, cell_name,\n    File \"/vol/bitbucket/ad6013/envs/gp-causal-env/lib/python3.9/site-packages/IPython/core/interactiveshell.py\", line 3309, in run_ast_nodes\n      if await self.run_code(code, result, async_=asy):\n    File \"/vol/bitbucket/ad6013/envs/gp-causal-env/lib/python3.9/site-packages/IPython/core/interactiveshell.py\", line 3369, in run_code\n      exec(code_obj, self.user_global_ns, self.user_ns)\n    File \"/tmp/ipykernel_3766534/3421687111.py\", line 2, in <cell line: 2>\n      opt_logs = opt.minimize(m1.training_loss, m1.trainable_variables, options=dict(maxiter=1000))\n    File \"/vol/bitbucket/ad6013/envs/gp-causal-env/lib/python3.9/site-packages/gpflow/optimizers/scipy.py\", line 95, in minimize\n      return scipy.optimize.minimize(\n    File \"/vol/bitbucket/ad6013/envs/gp-causal-env/lib/python3.9/site-packages/scipy/optimize/_minimize.py\", line 681, in minimize\n      res = _minimize_lbfgsb(fun, x0, args, jac, bounds,\n    File \"/vol/bitbucket/ad6013/envs/gp-causal-env/lib/python3.9/site-packages/scipy/optimize/_lbfgsb_py.py\", line 308, in _minimize_lbfgsb\n      sf = _prepare_scalar_function(fun, x0, jac=jac, args=args, epsilon=eps,\n    File \"/vol/bitbucket/ad6013/envs/gp-causal-env/lib/python3.9/site-packages/scipy/optimize/_optimize.py\", line 263, in _prepare_scalar_function\n      sf = ScalarFunction(fun, x0, args, grad, hess,\n    File \"/vol/bitbucket/ad6013/envs/gp-causal-env/lib/python3.9/site-packages/scipy/optimize/_differentiable_functions.py\", line 158, in __init__\n      self._update_fun()\n    File \"/vol/bitbucket/ad6013/envs/gp-causal-env/lib/python3.9/site-packages/scipy/optimize/_differentiable_functions.py\", line 251, in _update_fun\n      self._update_fun_impl()\n    File \"/vol/bitbucket/ad6013/envs/gp-causal-env/lib/python3.9/site-packages/scipy/optimize/_differentiable_functions.py\", line 155, in update_fun\n      self.f = fun_wrapped(self.x)\n    File \"/vol/bitbucket/ad6013/envs/gp-causal-env/lib/python3.9/site-packages/scipy/optimize/_differentiable_functions.py\", line 137, in fun_wrapped\n      fx = fun(np.copy(x), *args)\n    File \"/vol/bitbucket/ad6013/envs/gp-causal-env/lib/python3.9/site-packages/scipy/optimize/_optimize.py\", line 76, in __call__\n      self._compute_if_needed(x, *args)\n    File \"/vol/bitbucket/ad6013/envs/gp-causal-env/lib/python3.9/site-packages/scipy/optimize/_optimize.py\", line 70, in _compute_if_needed\n      fg = self.fun(x, *args)\n    File \"/vol/bitbucket/ad6013/envs/gp-causal-env/lib/python3.9/site-packages/gpflow/optimizers/scipy.py\", line 137, in _eval\n      loss, grad = _tf_eval(tf.convert_to_tensor(x))\n    File \"/vol/bitbucket/ad6013/envs/gp-causal-env/lib/python3.9/site-packages/gpflow/optimizers/scipy.py\", line 119, in _tf_eval\n      if first_call:\n    File \"/vol/bitbucket/ad6013/envs/gp-causal-env/lib/python3.9/site-packages/gpflow/optimizers/scipy.py\", line 121, in _tf_eval\n      loss, grads = _compute_loss_and_gradients(\n    File \"/vol/bitbucket/ad6013/envs/gp-causal-env/lib/python3.9/site-packages/gpflow/optimizers/scipy.py\", line 225, in _compute_loss_and_gradients\n      grads = tape.gradient(loss, variables, unconnected_gradients=unconnected_gradients)\nNode: 'gradient_tape/triangular_solve_1/MatrixTriangularSolve'\nInput matrix is not invertible.\n\t [[{{node gradient_tape/triangular_solve_1/MatrixTriangularSolve}}]] [Op:__inference__tf_eval_2567]"
     ]
    }
   ],
   "source": [
    "opt = gpflow.optimizers.Scipy()\n",
    "opt_logs = opt.minimize(m1.training_loss, m1.trainable_variables, options=dict(maxiter=1000))\n",
    "print_summary(m1)\n"
   ]
  },
  {
   "cell_type": "code",
   "execution_count": 24,
   "metadata": {},
   "outputs": [],
   "source": [
    "elbo = tf.function(m.elbo)\n",
    "tensor_data = tuple(map(tf.convert_to_tensor, (x[0], y[0])))\n"
   ]
  },
  {
   "cell_type": "code",
   "execution_count": 25,
   "metadata": {},
   "outputs": [
    {
     "data": {
      "text/plain": [
       "(<tf.Tensor: shape=(1,), dtype=float64, numpy=array([9.7])>,\n",
       " <tf.Tensor: shape=(1,), dtype=float64, numpy=array([8.2])>,\n",
       " <tf.Tensor: shape=(1,), dtype=float64, numpy=array([6.4])>,\n",
       " <tf.Tensor: shape=(1,), dtype=float64, numpy=array([8.1])>,\n",
       " <tf.Tensor: shape=(1,), dtype=float64, numpy=array([6.2])>,\n",
       " <tf.Tensor: shape=(1,), dtype=float64, numpy=array([9.4])>,\n",
       " <tf.Tensor: shape=(1,), dtype=float64, numpy=array([7.8])>,\n",
       " <tf.Tensor: shape=(1,), dtype=float64, numpy=array([8.3])>,\n",
       " <tf.Tensor: shape=(1,), dtype=float64, numpy=array([6.6])>,\n",
       " <tf.Tensor: shape=(1,), dtype=float64, numpy=array([8.3])>,\n",
       " <tf.Tensor: shape=(1,), dtype=float64, numpy=array([7.5])>,\n",
       " <tf.Tensor: shape=(1,), dtype=float64, numpy=array([7.9])>,\n",
       " <tf.Tensor: shape=(1,), dtype=float64, numpy=array([8.4])>,\n",
       " <tf.Tensor: shape=(1,), dtype=float64, numpy=array([8.5])>,\n",
       " <tf.Tensor: shape=(1,), dtype=float64, numpy=array([8.])>,\n",
       " <tf.Tensor: shape=(1,), dtype=float64, numpy=array([7.6])>,\n",
       " <tf.Tensor: shape=(1,), dtype=float64, numpy=array([8.4])>,\n",
       " <tf.Tensor: shape=(1,), dtype=float64, numpy=array([7.2])>,\n",
       " <tf.Tensor: shape=(1,), dtype=float64, numpy=array([8.5])>,\n",
       " <tf.Tensor: shape=(1,), dtype=float64, numpy=array([8.6])>,\n",
       " <tf.Tensor: shape=(1,), dtype=float64, numpy=array([7.7])>,\n",
       " <tf.Tensor: shape=(1,), dtype=float64, numpy=array([6.6])>,\n",
       " <tf.Tensor: shape=(1,), dtype=float64, numpy=array([8.])>,\n",
       " <tf.Tensor: shape=(1,), dtype=float64, numpy=array([8.8])>,\n",
       " <tf.Tensor: shape=(1,), dtype=float64, numpy=array([9.8])>,\n",
       " <tf.Tensor: shape=(1,), dtype=float64, numpy=array([7.])>,\n",
       " <tf.Tensor: shape=(1,), dtype=float64, numpy=array([8.8])>,\n",
       " <tf.Tensor: shape=(1,), dtype=float64, numpy=array([8.9])>,\n",
       " <tf.Tensor: shape=(1,), dtype=float64, numpy=array([9.3])>,\n",
       " <tf.Tensor: shape=(1,), dtype=float64, numpy=array([9.4])>,\n",
       " <tf.Tensor: shape=(1,), dtype=float64, numpy=array([9.2])>,\n",
       " <tf.Tensor: shape=(1,), dtype=float64, numpy=array([10.1])>,\n",
       " <tf.Tensor: shape=(1,), dtype=float64, numpy=array([8.8])>,\n",
       " <tf.Tensor: shape=(1,), dtype=float64, numpy=array([7.7])>,\n",
       " <tf.Tensor: shape=(1,), dtype=float64, numpy=array([7.5])>,\n",
       " <tf.Tensor: shape=(1,), dtype=float64, numpy=array([10.])>,\n",
       " <tf.Tensor: shape=(1,), dtype=float64, numpy=array([9.4])>,\n",
       " <tf.Tensor: shape=(1,), dtype=float64, numpy=array([8.3])>,\n",
       " <tf.Tensor: shape=(1,), dtype=float64, numpy=array([8.4])>,\n",
       " <tf.Tensor: shape=(1,), dtype=float64, numpy=array([10.2])>,\n",
       " <tf.Tensor: shape=(1,), dtype=float64, numpy=array([6.8])>,\n",
       " <tf.Tensor: shape=(1,), dtype=float64, numpy=array([9.1])>,\n",
       " <tf.Tensor: shape=(1,), dtype=float64, numpy=array([8.3])>,\n",
       " <tf.Tensor: shape=(1,), dtype=float64, numpy=array([8.8])>,\n",
       " <tf.Tensor: shape=(1,), dtype=float64, numpy=array([8.1])>,\n",
       " <tf.Tensor: shape=(1,), dtype=float64, numpy=array([5.9])>,\n",
       " <tf.Tensor: shape=(1,), dtype=float64, numpy=array([8.8])>,\n",
       " <tf.Tensor: shape=(1,), dtype=float64, numpy=array([8.8])>,\n",
       " <tf.Tensor: shape=(1,), dtype=float64, numpy=array([9.])>,\n",
       " <tf.Tensor: shape=(1,), dtype=float64, numpy=array([2.9])>,\n",
       " <tf.Tensor: shape=(1,), dtype=float64, numpy=array([7.8])>,\n",
       " <tf.Tensor: shape=(1,), dtype=float64, numpy=array([7.8])>,\n",
       " <tf.Tensor: shape=(1,), dtype=float64, numpy=array([8.1])>,\n",
       " <tf.Tensor: shape=(1,), dtype=float64, numpy=array([7.8])>,\n",
       " <tf.Tensor: shape=(1,), dtype=float64, numpy=array([9.2])>,\n",
       " <tf.Tensor: shape=(1,), dtype=float64, numpy=array([8.9])>,\n",
       " <tf.Tensor: shape=(1,), dtype=float64, numpy=array([7.9])>,\n",
       " <tf.Tensor: shape=(1,), dtype=float64, numpy=array([7.9])>,\n",
       " <tf.Tensor: shape=(1,), dtype=float64, numpy=array([6.2])>,\n",
       " <tf.Tensor: shape=(1,), dtype=float64, numpy=array([8.9])>,\n",
       " <tf.Tensor: shape=(1,), dtype=float64, numpy=array([8.9])>,\n",
       " <tf.Tensor: shape=(1,), dtype=float64, numpy=array([10.])>,\n",
       " <tf.Tensor: shape=(1,), dtype=float64, numpy=array([7.9])>,\n",
       " <tf.Tensor: shape=(1,), dtype=float64, numpy=array([7.4])>,\n",
       " <tf.Tensor: shape=(1,), dtype=float64, numpy=array([8.5])>,\n",
       " <tf.Tensor: shape=(1,), dtype=float64, numpy=array([7.])>,\n",
       " <tf.Tensor: shape=(1,), dtype=float64, numpy=array([8.9])>,\n",
       " <tf.Tensor: shape=(1,), dtype=float64, numpy=array([8.3])>,\n",
       " <tf.Tensor: shape=(1,), dtype=float64, numpy=array([6.9])>,\n",
       " <tf.Tensor: shape=(1,), dtype=float64, numpy=array([10.3])>,\n",
       " <tf.Tensor: shape=(1,), dtype=float64, numpy=array([10.3])>,\n",
       " <tf.Tensor: shape=(1,), dtype=float64, numpy=array([8.8])>,\n",
       " <tf.Tensor: shape=(1,), dtype=float64, numpy=array([8.5])>,\n",
       " <tf.Tensor: shape=(1,), dtype=float64, numpy=array([7.7])>,\n",
       " <tf.Tensor: shape=(1,), dtype=float64, numpy=array([9.8])>,\n",
       " <tf.Tensor: shape=(1,), dtype=float64, numpy=array([9.1])>,\n",
       " <tf.Tensor: shape=(1,), dtype=float64, numpy=array([8.8])>,\n",
       " <tf.Tensor: shape=(1,), dtype=float64, numpy=array([8.6])>,\n",
       " <tf.Tensor: shape=(1,), dtype=float64, numpy=array([6.8])>,\n",
       " <tf.Tensor: shape=(1,), dtype=float64, numpy=array([6.8])>,\n",
       " <tf.Tensor: shape=(1,), dtype=float64, numpy=array([7.8])>,\n",
       " <tf.Tensor: shape=(1,), dtype=float64, numpy=array([8.3])>,\n",
       " <tf.Tensor: shape=(1,), dtype=float64, numpy=array([7.9])>,\n",
       " <tf.Tensor: shape=(1,), dtype=float64, numpy=array([8.8])>,\n",
       " <tf.Tensor: shape=(1,), dtype=float64, numpy=array([8.6])>,\n",
       " <tf.Tensor: shape=(1,), dtype=float64, numpy=array([10.1])>,\n",
       " <tf.Tensor: shape=(1,), dtype=float64, numpy=array([9.6])>,\n",
       " <tf.Tensor: shape=(1,), dtype=float64, numpy=array([3.3])>,\n",
       " <tf.Tensor: shape=(1,), dtype=float64, numpy=array([2.9])>,\n",
       " <tf.Tensor: shape=(1,), dtype=float64, numpy=array([8.2])>,\n",
       " <tf.Tensor: shape=(1,), dtype=float64, numpy=array([9.7])>,\n",
       " <tf.Tensor: shape=(1,), dtype=float64, numpy=array([9.7])>,\n",
       " <tf.Tensor: shape=(1,), dtype=float64, numpy=array([8.7])>,\n",
       " <tf.Tensor: shape=(1,), dtype=float64, numpy=array([9.1])>,\n",
       " <tf.Tensor: shape=(1,), dtype=float64, numpy=array([8.4])>,\n",
       " <tf.Tensor: shape=(1,), dtype=float64, numpy=array([6.6])>,\n",
       " <tf.Tensor: shape=(1,), dtype=float64, numpy=array([5.9])>,\n",
       " <tf.Tensor: shape=(1,), dtype=float64, numpy=array([6.7])>,\n",
       " <tf.Tensor: shape=(1,), dtype=float64, numpy=array([9.1])>,\n",
       " <tf.Tensor: shape=(1,), dtype=float64, numpy=array([8.7])>,\n",
       " <tf.Tensor: shape=(1,), dtype=float64, numpy=array([8.])>,\n",
       " <tf.Tensor: shape=(1,), dtype=float64, numpy=array([8.5])>,\n",
       " <tf.Tensor: shape=(1,), dtype=float64, numpy=array([6.5])>,\n",
       " <tf.Tensor: shape=(1,), dtype=float64, numpy=array([9.9])>,\n",
       " <tf.Tensor: shape=(1,), dtype=float64, numpy=array([8.6])>,\n",
       " <tf.Tensor: shape=(1,), dtype=float64, numpy=array([7.8])>,\n",
       " <tf.Tensor: shape=(1,), dtype=float64, numpy=array([10.])>,\n",
       " <tf.Tensor: shape=(1,), dtype=float64, numpy=array([9.1])>,\n",
       " <tf.Tensor: shape=(1,), dtype=float64, numpy=array([8.5])>,\n",
       " <tf.Tensor: shape=(1,), dtype=float64, numpy=array([8.2])>,\n",
       " <tf.Tensor: shape=(1,), dtype=float64, numpy=array([8.7])>,\n",
       " <tf.Tensor: shape=(1,), dtype=float64, numpy=array([8.1])>,\n",
       " <tf.Tensor: shape=(1,), dtype=float64, numpy=array([8.3])>,\n",
       " <tf.Tensor: shape=(1,), dtype=float64, numpy=array([8.1])>,\n",
       " <tf.Tensor: shape=(1,), dtype=float64, numpy=array([7.8])>,\n",
       " <tf.Tensor: shape=(1,), dtype=float64, numpy=array([8.7])>,\n",
       " <tf.Tensor: shape=(1,), dtype=float64, numpy=array([2.7])>,\n",
       " <tf.Tensor: shape=(1,), dtype=float64, numpy=array([7.9])>,\n",
       " <tf.Tensor: shape=(1,), dtype=float64, numpy=array([7.4])>,\n",
       " <tf.Tensor: shape=(1,), dtype=float64, numpy=array([6.1])>,\n",
       " <tf.Tensor: shape=(1,), dtype=float64, numpy=array([9.1])>,\n",
       " <tf.Tensor: shape=(1,), dtype=float64, numpy=array([8.6])>,\n",
       " <tf.Tensor: shape=(1,), dtype=float64, numpy=array([9.4])>,\n",
       " <tf.Tensor: shape=(1,), dtype=float64, numpy=array([9.])>,\n",
       " <tf.Tensor: shape=(1,), dtype=float64, numpy=array([8.9])>,\n",
       " <tf.Tensor: shape=(1,), dtype=float64, numpy=array([8.5])>,\n",
       " <tf.Tensor: shape=(1,), dtype=float64, numpy=array([6.8])>,\n",
       " <tf.Tensor: shape=(1,), dtype=float64, numpy=array([10.6])>,\n",
       " <tf.Tensor: shape=(1,), dtype=float64, numpy=array([6.8])>,\n",
       " <tf.Tensor: shape=(1,), dtype=float64, numpy=array([7.7])>,\n",
       " <tf.Tensor: shape=(1,), dtype=float64, numpy=array([9.1])>,\n",
       " <tf.Tensor: shape=(1,), dtype=float64, numpy=array([8.9])>,\n",
       " <tf.Tensor: shape=(1,), dtype=float64, numpy=array([8.2])>,\n",
       " <tf.Tensor: shape=(1,), dtype=float64, numpy=array([9.3])>,\n",
       " <tf.Tensor: shape=(1,), dtype=float64, numpy=array([8.5])>,\n",
       " <tf.Tensor: shape=(1,), dtype=float64, numpy=array([6.9])>,\n",
       " <tf.Tensor: shape=(1,), dtype=float64, numpy=array([8.7])>,\n",
       " <tf.Tensor: shape=(1,), dtype=float64, numpy=array([5.9])>,\n",
       " <tf.Tensor: shape=(1,), dtype=float64, numpy=array([5.6])>,\n",
       " <tf.Tensor: shape=(1,), dtype=float64, numpy=array([6.1])>,\n",
       " <tf.Tensor: shape=(1,), dtype=float64, numpy=array([6.4])>,\n",
       " <tf.Tensor: shape=(1,), dtype=float64, numpy=array([7.7])>,\n",
       " <tf.Tensor: shape=(1,), dtype=float64, numpy=array([6.5])>,\n",
       " <tf.Tensor: shape=(1,), dtype=float64, numpy=array([8.])>,\n",
       " <tf.Tensor: shape=(1,), dtype=float64, numpy=array([8.9])>,\n",
       " <tf.Tensor: shape=(1,), dtype=float64, numpy=array([6.9])>,\n",
       " <tf.Tensor: shape=(1,), dtype=float64, numpy=array([4.8])>,\n",
       " <tf.Tensor: shape=(1,), dtype=float64, numpy=array([7.6])>,\n",
       " <tf.Tensor: shape=(1,), dtype=float64, numpy=array([8.2])>,\n",
       " <tf.Tensor: shape=(1,), dtype=float64, numpy=array([7.8])>,\n",
       " <tf.Tensor: shape=(1,), dtype=float64, numpy=array([6.8])>,\n",
       " <tf.Tensor: shape=(1,), dtype=float64, numpy=array([9.3])>,\n",
       " <tf.Tensor: shape=(1,), dtype=float64, numpy=array([8.6])>,\n",
       " <tf.Tensor: shape=(1,), dtype=float64, numpy=array([9.6])>,\n",
       " <tf.Tensor: shape=(1,), dtype=float64, numpy=array([8.7])>,\n",
       " <tf.Tensor: shape=(1,), dtype=float64, numpy=array([4.9])>,\n",
       " <tf.Tensor: shape=(1,), dtype=float64, numpy=array([9.4])>,\n",
       " <tf.Tensor: shape=(1,), dtype=float64, numpy=array([7.3])>,\n",
       " <tf.Tensor: shape=(1,), dtype=float64, numpy=array([6.7])>,\n",
       " <tf.Tensor: shape=(1,), dtype=float64, numpy=array([7.8])>,\n",
       " <tf.Tensor: shape=(1,), dtype=float64, numpy=array([10.3])>,\n",
       " <tf.Tensor: shape=(1,), dtype=float64, numpy=array([8.5])>,\n",
       " <tf.Tensor: shape=(1,), dtype=float64, numpy=array([7.4])>,\n",
       " <tf.Tensor: shape=(1,), dtype=float64, numpy=array([6.9])>,\n",
       " <tf.Tensor: shape=(1,), dtype=float64, numpy=array([8.5])>,\n",
       " <tf.Tensor: shape=(1,), dtype=float64, numpy=array([8.3])>,\n",
       " <tf.Tensor: shape=(1,), dtype=float64, numpy=array([8.6])>,\n",
       " <tf.Tensor: shape=(1,), dtype=float64, numpy=array([5.6])>,\n",
       " <tf.Tensor: shape=(1,), dtype=float64, numpy=array([9.6])>,\n",
       " <tf.Tensor: shape=(1,), dtype=float64, numpy=array([6.2])>,\n",
       " <tf.Tensor: shape=(1,), dtype=float64, numpy=array([9.6])>,\n",
       " <tf.Tensor: shape=(1,), dtype=float64, numpy=array([6.6])>,\n",
       " <tf.Tensor: shape=(1,), dtype=float64, numpy=array([7.8])>,\n",
       " <tf.Tensor: shape=(1,), dtype=float64, numpy=array([6.9])>,\n",
       " <tf.Tensor: shape=(1,), dtype=float64, numpy=array([9.2])>,\n",
       " <tf.Tensor: shape=(1,), dtype=float64, numpy=array([6.5])>,\n",
       " <tf.Tensor: shape=(1,), dtype=float64, numpy=array([9.5])>,\n",
       " <tf.Tensor: shape=(1,), dtype=float64, numpy=array([7.7])>,\n",
       " <tf.Tensor: shape=(1,), dtype=float64, numpy=array([8.1])>,\n",
       " <tf.Tensor: shape=(1,), dtype=float64, numpy=array([6.7])>,\n",
       " <tf.Tensor: shape=(1,), dtype=float64, numpy=array([8.7])>,\n",
       " <tf.Tensor: shape=(1,), dtype=float64, numpy=array([8.9])>,\n",
       " <tf.Tensor: shape=(1,), dtype=float64, numpy=array([7.5])>,\n",
       " <tf.Tensor: shape=(1,), dtype=float64, numpy=array([8.1])>,\n",
       " <tf.Tensor: shape=(1,), dtype=float64, numpy=array([7.9])>,\n",
       " <tf.Tensor: shape=(1,), dtype=float64, numpy=array([8.2])>,\n",
       " <tf.Tensor: shape=(1,), dtype=float64, numpy=array([7.8])>,\n",
       " <tf.Tensor: shape=(1,), dtype=float64, numpy=array([7.5])>,\n",
       " <tf.Tensor: shape=(1,), dtype=float64, numpy=array([9.1])>,\n",
       " <tf.Tensor: shape=(1,), dtype=float64, numpy=array([8.8])>,\n",
       " <tf.Tensor: shape=(1,), dtype=float64, numpy=array([7.2])>,\n",
       " <tf.Tensor: shape=(1,), dtype=float64, numpy=array([6.1])>,\n",
       " <tf.Tensor: shape=(1,), dtype=float64, numpy=array([10.8])>,\n",
       " <tf.Tensor: shape=(1,), dtype=float64, numpy=array([8.9])>,\n",
       " <tf.Tensor: shape=(1,), dtype=float64, numpy=array([9.3])>,\n",
       " <tf.Tensor: shape=(1,), dtype=float64, numpy=array([8.6])>,\n",
       " <tf.Tensor: shape=(1,), dtype=float64, numpy=array([9.4])>,\n",
       " <tf.Tensor: shape=(1,), dtype=float64, numpy=array([9.4])>,\n",
       " <tf.Tensor: shape=(1,), dtype=float64, numpy=array([8.9])>,\n",
       " <tf.Tensor: shape=(1,), dtype=float64, numpy=array([9.3])>,\n",
       " <tf.Tensor: shape=(1,), dtype=float64, numpy=array([8.4])>,\n",
       " <tf.Tensor: shape=(1,), dtype=float64, numpy=array([9.])>,\n",
       " <tf.Tensor: shape=(1,), dtype=float64, numpy=array([8.6])>,\n",
       " <tf.Tensor: shape=(1,), dtype=float64, numpy=array([8.1])>,\n",
       " <tf.Tensor: shape=(1,), dtype=float64, numpy=array([8.6])>,\n",
       " <tf.Tensor: shape=(1,), dtype=float64, numpy=array([7.9])>,\n",
       " <tf.Tensor: shape=(1,), dtype=float64, numpy=array([9.4])>,\n",
       " <tf.Tensor: shape=(1,), dtype=float64, numpy=array([8.9])>,\n",
       " <tf.Tensor: shape=(1,), dtype=float64, numpy=array([8.7])>,\n",
       " <tf.Tensor: shape=(1,), dtype=float64, numpy=array([7.8])>,\n",
       " <tf.Tensor: shape=(1,), dtype=float64, numpy=array([10.2])>,\n",
       " <tf.Tensor: shape=(1,), dtype=float64, numpy=array([8.9])>,\n",
       " <tf.Tensor: shape=(1,), dtype=float64, numpy=array([6.8])>,\n",
       " <tf.Tensor: shape=(1,), dtype=float64, numpy=array([6.9])>,\n",
       " <tf.Tensor: shape=(1,), dtype=float64, numpy=array([8.])>,\n",
       " <tf.Tensor: shape=(1,), dtype=float64, numpy=array([7.7])>,\n",
       " <tf.Tensor: shape=(1,), dtype=float64, numpy=array([7.5])>,\n",
       " <tf.Tensor: shape=(1,), dtype=float64, numpy=array([8.4])>,\n",
       " <tf.Tensor: shape=(1,), dtype=float64, numpy=array([8.])>,\n",
       " <tf.Tensor: shape=(1,), dtype=float64, numpy=array([9.7])>,\n",
       " <tf.Tensor: shape=(1,), dtype=float64, numpy=array([8.3])>,\n",
       " <tf.Tensor: shape=(1,), dtype=float64, numpy=array([8.1])>,\n",
       " <tf.Tensor: shape=(1,), dtype=float64, numpy=array([7.8])>,\n",
       " <tf.Tensor: shape=(1,), dtype=float64, numpy=array([9.1])>,\n",
       " <tf.Tensor: shape=(1,), dtype=float64, numpy=array([9.2])>,\n",
       " <tf.Tensor: shape=(1,), dtype=float64, numpy=array([7.9])>,\n",
       " <tf.Tensor: shape=(1,), dtype=float64, numpy=array([9.8])>,\n",
       " <tf.Tensor: shape=(1,), dtype=float64, numpy=array([7.2])>,\n",
       " <tf.Tensor: shape=(1,), dtype=float64, numpy=array([8.4])>,\n",
       " <tf.Tensor: shape=(1,), dtype=float64, numpy=array([8.5])>,\n",
       " <tf.Tensor: shape=(1,), dtype=float64, numpy=array([10.1])>,\n",
       " <tf.Tensor: shape=(1,), dtype=float64, numpy=array([8.])>,\n",
       " <tf.Tensor: shape=(1,), dtype=float64, numpy=array([9.])>,\n",
       " <tf.Tensor: shape=(1,), dtype=float64, numpy=array([8.])>,\n",
       " <tf.Tensor: shape=(1,), dtype=float64, numpy=array([9.])>,\n",
       " <tf.Tensor: shape=(1,), dtype=float64, numpy=array([6.7])>,\n",
       " <tf.Tensor: shape=(1,), dtype=float64, numpy=array([8.8])>,\n",
       " <tf.Tensor: shape=(1,), dtype=float64, numpy=array([8.8])>,\n",
       " <tf.Tensor: shape=(1,), dtype=float64, numpy=array([7.7])>,\n",
       " <tf.Tensor: shape=(1,), dtype=float64, numpy=array([6.1])>,\n",
       " <tf.Tensor: shape=(1,), dtype=float64, numpy=array([9.1])>,\n",
       " <tf.Tensor: shape=(1,), dtype=float64, numpy=array([10.3])>,\n",
       " <tf.Tensor: shape=(1,), dtype=float64, numpy=array([8.6])>,\n",
       " <tf.Tensor: shape=(1,), dtype=float64, numpy=array([9.1])>,\n",
       " <tf.Tensor: shape=(1,), dtype=float64, numpy=array([8.])>,\n",
       " <tf.Tensor: shape=(1,), dtype=float64, numpy=array([7.6])>,\n",
       " <tf.Tensor: shape=(1,), dtype=float64, numpy=array([9.1])>,\n",
       " <tf.Tensor: shape=(1,), dtype=float64, numpy=array([7.5])>,\n",
       " <tf.Tensor: shape=(1,), dtype=float64, numpy=array([8.4])>,\n",
       " <tf.Tensor: shape=(1,), dtype=float64, numpy=array([8.7])>,\n",
       " <tf.Tensor: shape=(1,), dtype=float64, numpy=array([7.9])>,\n",
       " <tf.Tensor: shape=(1,), dtype=float64, numpy=array([8.8])>,\n",
       " <tf.Tensor: shape=(1,), dtype=float64, numpy=array([3.4])>,\n",
       " <tf.Tensor: shape=(1,), dtype=float64, numpy=array([9.6])>,\n",
       " <tf.Tensor: shape=(1,), dtype=float64, numpy=array([8.2])>,\n",
       " <tf.Tensor: shape=(1,), dtype=float64, numpy=array([8.])>,\n",
       " <tf.Tensor: shape=(1,), dtype=float64, numpy=array([6.2])>,\n",
       " <tf.Tensor: shape=(1,), dtype=float64, numpy=array([9.7])>,\n",
       " <tf.Tensor: shape=(1,), dtype=float64, numpy=array([10.])>,\n",
       " <tf.Tensor: shape=(1,), dtype=float64, numpy=array([9.8])>,\n",
       " <tf.Tensor: shape=(1,), dtype=float64, numpy=array([8.3])>,\n",
       " <tf.Tensor: shape=(1,), dtype=float64, numpy=array([8.4])>,\n",
       " <tf.Tensor: shape=(1,), dtype=float64, numpy=array([9.])>,\n",
       " <tf.Tensor: shape=(1,), dtype=float64, numpy=array([6.8])>,\n",
       " <tf.Tensor: shape=(1,), dtype=float64, numpy=array([7.3])>,\n",
       " <tf.Tensor: shape=(1,), dtype=float64, numpy=array([6.])>,\n",
       " <tf.Tensor: shape=(1,), dtype=float64, numpy=array([8.9])>,\n",
       " <tf.Tensor: shape=(1,), dtype=float64, numpy=array([10.4])>,\n",
       " <tf.Tensor: shape=(1,), dtype=float64, numpy=array([7.2])>,\n",
       " <tf.Tensor: shape=(1,), dtype=float64, numpy=array([9.2])>,\n",
       " <tf.Tensor: shape=(1,), dtype=float64, numpy=array([6.2])>,\n",
       " <tf.Tensor: shape=(1,), dtype=float64, numpy=array([8.5])>,\n",
       " <tf.Tensor: shape=(1,), dtype=float64, numpy=array([9.2])>,\n",
       " <tf.Tensor: shape=(1,), dtype=float64, numpy=array([8.6])>,\n",
       " <tf.Tensor: shape=(1,), dtype=float64, numpy=array([5.3])>,\n",
       " <tf.Tensor: shape=(1,), dtype=float64, numpy=array([8.])>,\n",
       " <tf.Tensor: shape=(1,), dtype=float64, numpy=array([9.2])>,\n",
       " <tf.Tensor: shape=(1,), dtype=float64, numpy=array([5.6])>,\n",
       " <tf.Tensor: shape=(1,), dtype=float64, numpy=array([4.4])>,\n",
       " <tf.Tensor: shape=(1,), dtype=float64, numpy=array([7.4])>,\n",
       " <tf.Tensor: shape=(1,), dtype=float64, numpy=array([7.2])>,\n",
       " <tf.Tensor: shape=(1,), dtype=float64, numpy=array([8.2])>,\n",
       " <tf.Tensor: shape=(1,), dtype=float64, numpy=array([6.2])>,\n",
       " <tf.Tensor: shape=(1,), dtype=float64, numpy=array([8.6])>,\n",
       " <tf.Tensor: shape=(1,), dtype=float64, numpy=array([7.7])>,\n",
       " <tf.Tensor: shape=(1,), dtype=float64, numpy=array([6.8])>,\n",
       " <tf.Tensor: shape=(1,), dtype=float64, numpy=array([8.4])>,\n",
       " <tf.Tensor: shape=(1,), dtype=float64, numpy=array([8.5])>,\n",
       " <tf.Tensor: shape=(1,), dtype=float64, numpy=array([8.5])>,\n",
       " <tf.Tensor: shape=(1,), dtype=float64, numpy=array([6.2])>,\n",
       " <tf.Tensor: shape=(1,), dtype=float64, numpy=array([8.])>,\n",
       " <tf.Tensor: shape=(1,), dtype=float64, numpy=array([8.4])>,\n",
       " <tf.Tensor: shape=(1,), dtype=float64, numpy=array([7.4])>,\n",
       " <tf.Tensor: shape=(1,), dtype=float64, numpy=array([8.8])>,\n",
       " <tf.Tensor: shape=(1,), dtype=float64, numpy=array([8.9])>,\n",
       " <tf.Tensor: shape=(1,), dtype=float64, numpy=array([6.8])>,\n",
       " <tf.Tensor: shape=(1,), dtype=float64, numpy=array([8.3])>,\n",
       " <tf.Tensor: shape=(1,), dtype=float64, numpy=array([10.1])>,\n",
       " <tf.Tensor: shape=(1,), dtype=float64, numpy=array([9.5])>,\n",
       " <tf.Tensor: shape=(1,), dtype=float64, numpy=array([8.7])>,\n",
       " <tf.Tensor: shape=(1,), dtype=float64, numpy=array([7.4])>,\n",
       " <tf.Tensor: shape=(1,), dtype=float64, numpy=array([8.1])>,\n",
       " <tf.Tensor: shape=(1,), dtype=float64, numpy=array([8.8])>,\n",
       " <tf.Tensor: shape=(1,), dtype=float64, numpy=array([8.4])>,\n",
       " <tf.Tensor: shape=(1,), dtype=float64, numpy=array([5.7])>,\n",
       " <tf.Tensor: shape=(1,), dtype=float64, numpy=array([5.6])>,\n",
       " <tf.Tensor: shape=(1,), dtype=float64, numpy=array([6.2])>,\n",
       " <tf.Tensor: shape=(1,), dtype=float64, numpy=array([7.2])>,\n",
       " <tf.Tensor: shape=(1,), dtype=float64, numpy=array([8.7])>,\n",
       " <tf.Tensor: shape=(1,), dtype=float64, numpy=array([8.6])>,\n",
       " <tf.Tensor: shape=(1,), dtype=float64, numpy=array([7.1])>,\n",
       " <tf.Tensor: shape=(1,), dtype=float64, numpy=array([9.9])>,\n",
       " <tf.Tensor: shape=(1,), dtype=float64, numpy=array([9.1])>,\n",
       " <tf.Tensor: shape=(1,), dtype=float64, numpy=array([8.7])>,\n",
       " <tf.Tensor: shape=(1,), dtype=float64, numpy=array([8.5])>,\n",
       " <tf.Tensor: shape=(1,), dtype=float64, numpy=array([7.9])>,\n",
       " <tf.Tensor: shape=(1,), dtype=float64, numpy=array([8.])>,\n",
       " <tf.Tensor: shape=(1,), dtype=float64, numpy=array([8.2])>,\n",
       " <tf.Tensor: shape=(1,), dtype=float64, numpy=array([8.2])>,\n",
       " <tf.Tensor: shape=(1,), dtype=float64, numpy=array([8.8])>,\n",
       " <tf.Tensor: shape=(1,), dtype=float64, numpy=array([10.1])>,\n",
       " <tf.Tensor: shape=(1,), dtype=float64, numpy=array([8.4])>,\n",
       " <tf.Tensor: shape=(1,), dtype=float64, numpy=array([8.1])>,\n",
       " <tf.Tensor: shape=(1,), dtype=float64, numpy=array([5.6])>,\n",
       " <tf.Tensor: shape=(1,), dtype=float64, numpy=array([8.1])>,\n",
       " <tf.Tensor: shape=(1,), dtype=float64, numpy=array([4.8])>,\n",
       " <tf.Tensor: shape=(1,), dtype=float64, numpy=array([7.4])>,\n",
       " <tf.Tensor: shape=(1,), dtype=float64, numpy=array([7.5])>,\n",
       " <tf.Tensor: shape=(1,), dtype=float64, numpy=array([9.6])>,\n",
       " <tf.Tensor: shape=(1,), dtype=float64, numpy=array([7.8])>,\n",
       " <tf.Tensor: shape=(1,), dtype=float64, numpy=array([8.7])>,\n",
       " <tf.Tensor: shape=(1,), dtype=float64, numpy=array([9.6])>,\n",
       " <tf.Tensor: shape=(1,), dtype=float64, numpy=array([8.1])>,\n",
       " <tf.Tensor: shape=(1,), dtype=float64, numpy=array([2.1])>,\n",
       " <tf.Tensor: shape=(1,), dtype=float64, numpy=array([9.1])>,\n",
       " <tf.Tensor: shape=(1,), dtype=float64, numpy=array([8.3])>,\n",
       " <tf.Tensor: shape=(1,), dtype=float64, numpy=array([9.8])>,\n",
       " <tf.Tensor: shape=(1,), dtype=float64, numpy=array([7.2])>,\n",
       " <tf.Tensor: shape=(1,), dtype=float64, numpy=array([6.4])>,\n",
       " <tf.Tensor: shape=(1,), dtype=float64, numpy=array([5.9])>,\n",
       " <tf.Tensor: shape=(1,), dtype=float64, numpy=array([8.7])>,\n",
       " <tf.Tensor: shape=(1,), dtype=float64, numpy=array([8.7])>,\n",
       " <tf.Tensor: shape=(1,), dtype=float64, numpy=array([7.5])>,\n",
       " <tf.Tensor: shape=(1,), dtype=float64, numpy=array([9.4])>,\n",
       " <tf.Tensor: shape=(1,), dtype=float64, numpy=array([8.4])>,\n",
       " <tf.Tensor: shape=(1,), dtype=float64, numpy=array([9.1])>,\n",
       " <tf.Tensor: shape=(1,), dtype=float64, numpy=array([4.3])>,\n",
       " <tf.Tensor: shape=(1,), dtype=float64, numpy=array([-4.8])>,\n",
       " <tf.Tensor: shape=(1,), dtype=float64, numpy=array([6.2])>)"
      ]
     },
     "execution_count": 25,
     "metadata": {},
     "output_type": "execute_result"
    }
   ],
   "source": [
    "tensor_data"
   ]
  },
  {
   "cell_type": "code",
   "execution_count": 26,
   "metadata": {},
   "outputs": [],
   "source": [
    "obj = tf.function(m.maximum_log_likelihood_objective)"
   ]
  },
  {
   "cell_type": "code",
   "execution_count": 27,
   "metadata": {},
   "outputs": [
    {
     "ename": "TypeError",
     "evalue": "in user code:\n\n\n    TypeError: tf__maximum_log_likelihood_objective() takes 1 positional argument but 2 were given\n",
     "output_type": "error",
     "traceback": [
      "\u001b[0;31m---------------------------------------------------------------------------\u001b[0m",
      "\u001b[0;31mTypeError\u001b[0m                                 Traceback (most recent call last)",
      "Input \u001b[0;32mIn [27]\u001b[0m, in \u001b[0;36m<cell line: 1>\u001b[0;34m()\u001b[0m\n\u001b[0;32m----> 1\u001b[0m \u001b[43mobj\u001b[49m\u001b[43m(\u001b[49m\u001b[43mtensor_data\u001b[49m\u001b[43m)\u001b[49m\n",
      "File \u001b[0;32m/vol/bitbucket/ad6013/envs/gp-causal-env/lib/python3.9/site-packages/tensorflow/python/util/traceback_utils.py:153\u001b[0m, in \u001b[0;36mfilter_traceback.<locals>.error_handler\u001b[0;34m(*args, **kwargs)\u001b[0m\n\u001b[1;32m    151\u001b[0m \u001b[38;5;28;01mexcept\u001b[39;00m \u001b[38;5;167;01mException\u001b[39;00m \u001b[38;5;28;01mas\u001b[39;00m e:\n\u001b[1;32m    152\u001b[0m   filtered_tb \u001b[38;5;241m=\u001b[39m _process_traceback_frames(e\u001b[38;5;241m.\u001b[39m__traceback__)\n\u001b[0;32m--> 153\u001b[0m   \u001b[38;5;28;01mraise\u001b[39;00m e\u001b[38;5;241m.\u001b[39mwith_traceback(filtered_tb) \u001b[38;5;28;01mfrom\u001b[39;00m \u001b[38;5;28mNone\u001b[39m\n\u001b[1;32m    154\u001b[0m \u001b[38;5;28;01mfinally\u001b[39;00m:\n\u001b[1;32m    155\u001b[0m   \u001b[38;5;28;01mdel\u001b[39;00m filtered_tb\n",
      "File \u001b[0;32m/vol/bitbucket/ad6013/envs/gp-causal-env/lib/python3.9/site-packages/tensorflow/python/framework/func_graph.py:1147\u001b[0m, in \u001b[0;36mfunc_graph_from_py_func.<locals>.autograph_handler\u001b[0;34m(*args, **kwargs)\u001b[0m\n\u001b[1;32m   1145\u001b[0m \u001b[38;5;28;01mexcept\u001b[39;00m \u001b[38;5;167;01mException\u001b[39;00m \u001b[38;5;28;01mas\u001b[39;00m e:  \u001b[38;5;66;03m# pylint:disable=broad-except\u001b[39;00m\n\u001b[1;32m   1146\u001b[0m   \u001b[38;5;28;01mif\u001b[39;00m \u001b[38;5;28mhasattr\u001b[39m(e, \u001b[38;5;124m\"\u001b[39m\u001b[38;5;124mag_error_metadata\u001b[39m\u001b[38;5;124m\"\u001b[39m):\n\u001b[0;32m-> 1147\u001b[0m     \u001b[38;5;28;01mraise\u001b[39;00m e\u001b[38;5;241m.\u001b[39mag_error_metadata\u001b[38;5;241m.\u001b[39mto_exception(e)\n\u001b[1;32m   1148\u001b[0m   \u001b[38;5;28;01melse\u001b[39;00m:\n\u001b[1;32m   1149\u001b[0m     \u001b[38;5;28;01mraise\u001b[39;00m\n",
      "\u001b[0;31mTypeError\u001b[0m: in user code:\n\n\n    TypeError: tf__maximum_log_likelihood_objective() takes 1 positional argument but 2 were given\n"
     ]
    }
   ],
   "source": [
    "obj(tensor_data)"
   ]
  },
  {
   "cell_type": "code",
   "execution_count": 15,
   "metadata": {},
   "outputs": [],
   "source": [
    "from tqdm import trange\n",
    "\n",
    "def run_adam(model, iterations, train_dataset, minibatch_size):\n",
    "    \"\"\"\n",
    "    Utility function running the Adam optimizer\n",
    "\n",
    "    :param model: GPflow model\n",
    "    :param interations: number of iterations\n",
    "    \"\"\"\n",
    "    t = trange(10000, desc=\"Running Model\", leave=True, position=0)\n",
    "\n",
    "    # Create an Adam Optimizer action\n",
    "    logf = []\n",
    "    train_iter = iter(train_dataset.batch(minibatch_size))\n",
    "    training_loss = model.training_loss_closure(train_iter, compile=True)\n",
    "    optimizer = tf.optimizers.Adam()\n",
    "\n",
    "    @tf.function\n",
    "    def optimization_step():\n",
    "        optimizer.minimize(training_loss, model.trainable_variables)\n",
    "\n",
    "    for step in trange(iterations):\n",
    "        optimization_step()\n",
    "        if step % 10 == 0:\n",
    "            elbo = -training_loss().numpy()\n",
    "            logf.append(elbo)\n",
    "        if step % 25 == 0:\n",
    "            t.set_description(f\"Loss: {elbo}\")\n",
    "            t.refresh()\n",
    "    return logf"
   ]
  },
  {
   "cell_type": "code",
   "execution_count": 16,
   "metadata": {},
   "outputs": [],
   "source": [
    "def train(x, y, num_inducing):\n",
    "    if len(x) < num_inducing + 1:\n",
    "        inducing = x\n",
    "    else:\n",
    "        # kmeans = KMeans(n_clusters=num_inducing).fit(x_train)\n",
    "        # inducing = kmeans.cluster_centers_\n",
    "        inducing_idx = np.random.choice(x.shape[0], replace=False)\n",
    "        inducing = np.take(x, inducing_idx, axis=0).float()\n",
    "\n",
    "    sq_exp = gpflow.kernels.SquaredExponential()\n",
    "    mat32 = gpflow.kernels.Matern32()\n",
    "    mat52 = gpflow.kernels.Matern52() \n",
    "    kernel = gpflow.kernels.Sum([sq_exp, mat32, mat52])\n",
    "\n",
    "    m = gpflow.models.SVGP(kernel, gpflow.likelihoods.Gaussian(), inducing, num_data=x.shape[0])\n",
    "\n",
    "    minibatch_size = 100\n",
    "\n",
    "    train_dataset = tf.data.Dataset.from_tensor_slices((x, y)).repeat().shuffle(x.shape[0])\n",
    "\n",
    "    train_iter = iter(train_dataset.batch(minibatch_size))\n",
    "\n",
    "    loss = run_adam(m, 10000, train_dataset, minibatch_size)\n",
    "    print(\"Loss:\", loss[-1])\n",
    "    return loss\n",
    "    "
   ]
  },
  {
   "cell_type": "markdown",
   "metadata": {},
   "source": []
  },
  {
   "cell_type": "code",
   "execution_count": 17,
   "metadata": {},
   "outputs": [
    {
     "name": "stderr",
     "output_type": "stream",
     "text": [
      "/tmp/ipykernel_3379371/3528438768.py:11: TqdmDeprecationWarning: This function will be removed in tqdm==5.0.0\n",
      "Please use `tqdm.notebook.tqdm` instead of `tqdm.tqdm_notebook`\n",
      "  for i in tqdm(range(len(x)), desc=\"Epochs\", leave=True, position=0):\n"
     ]
    },
    {
     "data": {
      "application/vnd.jupyter.widget-view+json": {
       "model_id": "a0f9ccea73b2410bae84d157384180ed",
       "version_major": 2,
       "version_minor": 0
      },
      "text/plain": [
       "Epochs:   0%|          | 0/100 [00:00<?, ?it/s]"
      ]
     },
     "metadata": {},
     "output_type": "display_data"
    },
    {
     "name": "stdout",
     "output_type": "stream",
     "text": [
      "\n",
      " 0\n"
     ]
    },
    {
     "name": "stderr",
     "output_type": "stream",
     "text": [
      "Loss: -648.8394604965431:   0%|          | 0/10000 [00:10<?, ?it/s]"
     ]
    }
   ],
   "source": [
    "from tqdm import tqdm_notebook as tqdm\n",
    "from sklearn.preprocessing import StandardScaler\n",
    "import numpy as np\n",
    "\n",
    "np.random.seed(0)\n",
    "\n",
    "correct_idx = []\n",
    "wrong_idx = []\n",
    "num_inducing = 500\n",
    "\n",
    "for i in tqdm(range(len(x)), desc=\"Epochs\", leave=True, position=0):\n",
    "    print(f'\\n {i}')\n",
    "    # Ignore the high dim\n",
    "    if x[i].shape[-1] > 1:\n",
    "        continue\n",
    "    else:\n",
    "        # Get data points\n",
    "        x_train, y_train, weight_train = x[i], y[i], weight[i]\n",
    "    # Make sure data is standardised \n",
    "    x_train = StandardScaler().fit_transform(x_train).astype(np.float64)\n",
    "    y_train = StandardScaler().fit_transform(y_train).astype(np.float64)\n",
    "    # x -> y score\n",
    "    # Draw uniform \n",
    "    unif_samples = tf.random.uniform(\n",
    "        shape=[x_train.shape[0], 1], dtype=tf.dtypes.float64,\n",
    "    )\n",
    "    loss_x = train(x=unif_samples, y=x_train, num_inducing=num_inducing)\n",
    "    loss_x_y = train(x=x_train, y=y_train, num_inducing=num_inducing)\n",
    "    # x <- y score\n",
    "    # Draw uniform \n",
    "    unif_samples = tf.random.uniform(\n",
    "        shape=[x_train.shape[0], 1], dtype=tf.dtypes.float64,\n",
    "    )\n",
    "    loss_y = train(x=unif_samples, y=y_train, num_inducing=num_inducing)\n",
    "    loss_y_x = train(x=y_train, y=x_train, num_inducing=num_inducing)\n",
    "    # Calculate losses\n",
    "    score_x_y = loss_x[-1] + loss_x_y[-1]\n",
    "    score_y_x = loss_y[-1] + loss_y_x[-1]\n",
    "    if score_x_y < score_y_x:\n",
    "        correct_idx.append(i)\n",
    "    else:\n",
    "        wrong_idx.append(i)"
   ]
  },
  {
   "cell_type": "code",
   "execution_count": null,
   "metadata": {},
   "outputs": [],
   "source": [
    "unif_samples = tf.random.uniform(\n",
    "    shape=[100, 1]\n",
    ")"
   ]
  },
  {
   "cell_type": "code",
   "execution_count": 15,
   "metadata": {},
   "outputs": [
    {
     "data": {
      "text/plain": [
       "100"
      ]
     },
     "execution_count": 15,
     "metadata": {},
     "output_type": "execute_result"
    }
   ],
   "source": [
    "unif_samples.shape[0]"
   ]
  },
  {
   "cell_type": "code",
   "execution_count": null,
   "metadata": {},
   "outputs": [],
   "source": []
  }
 ],
 "metadata": {
  "interpreter": {
   "hash": "f21397b1bb35b740f2cbc37da9cbbf78870a67f31e234f7bb39f26becec38a59"
  },
  "kernelspec": {
   "display_name": "Python 3 (ipykernel)",
   "language": "python",
   "name": "python3"
  },
  "language_info": {
   "codemirror_mode": {
    "name": "ipython",
    "version": 3
   },
   "file_extension": ".py",
   "mimetype": "text/x-python",
   "name": "python",
   "nbconvert_exporter": "python",
   "pygments_lexer": "ipython3",
   "version": "3.9.5"
  },
  "orig_nbformat": 4
 },
 "nbformat": 4,
 "nbformat_minor": 2
}
