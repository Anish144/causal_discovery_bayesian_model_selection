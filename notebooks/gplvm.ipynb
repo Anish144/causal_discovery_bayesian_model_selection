{
 "cells": [
  {
   "cell_type": "code",
   "execution_count": 6,
   "metadata": {},
   "outputs": [
    {
     "name": "stderr",
     "output_type": "stream",
     "text": [
      "2022-06-09 10:02:00.672090: W tensorflow/stream_executor/platform/default/dso_loader.cc:64] Could not load dynamic library 'libcudart.so.11.0'; dlerror: libcudart.so.11.0: cannot open shared object file: No such file or directory\n",
      "2022-06-09 10:02:00.672108: I tensorflow/stream_executor/cuda/cudart_stub.cc:29] Ignore above cudart dlerror if you do not have a GPU set up on your machine.\n"
     ]
    },
    {
     "ename": "KeyboardInterrupt",
     "evalue": "",
     "output_type": "error",
     "traceback": [
      "\u001b[0;31m---------------------------------------------------------------------------\u001b[0m",
      "\u001b[0;31mKeyboardInterrupt\u001b[0m                         Traceback (most recent call last)",
      "\u001b[1;32m/vol/bitbucket/ad6013/Research/gp-causal/notebooks/gplvm.ipynb Cell 1'\u001b[0m in \u001b[0;36m<cell line: 1>\u001b[0;34m()\u001b[0m\n\u001b[0;32m----> <a href='vscode-notebook-cell://ssh-remote%2Bmiasma.doc.ic.ac.uk/vol/bitbucket/ad6013/Research/gp-causal/notebooks/gplvm.ipynb#ch0000000vscode-remote?line=0'>1</a>\u001b[0m \u001b[39mimport\u001b[39;00m \u001b[39mgpflow\u001b[39;00m\n",
      "File \u001b[0;32m/vol/bitbucket/ad6013/envs/gp-causal-env/lib/python3.9/site-packages/gpflow/__init__.py:17\u001b[0m, in \u001b[0;36m<module>\u001b[0;34m\u001b[0m\n\u001b[1;32m      <a href='file:///vol/bitbucket/ad6013/envs/gp-causal-env/lib/python3.9/site-packages/gpflow/__init__.py?line=0'>1</a>\u001b[0m \u001b[39m# Copyright 2016-2020 The GPflow Contributors. All Rights Reserved.\u001b[39;00m\n\u001b[1;32m      <a href='file:///vol/bitbucket/ad6013/envs/gp-causal-env/lib/python3.9/site-packages/gpflow/__init__.py?line=1'>2</a>\u001b[0m \u001b[39m#\u001b[39;00m\n\u001b[1;32m      <a href='file:///vol/bitbucket/ad6013/envs/gp-causal-env/lib/python3.9/site-packages/gpflow/__init__.py?line=2'>3</a>\u001b[0m \u001b[39m# Licensed under the Apache License, Version 2.0 (the \"License\");\u001b[39;00m\n\u001b[0;32m   (...)\u001b[0m\n\u001b[1;32m     <a href='file:///vol/bitbucket/ad6013/envs/gp-causal-env/lib/python3.9/site-packages/gpflow/__init__.py?line=13'>14</a>\u001b[0m \n\u001b[1;32m     <a href='file:///vol/bitbucket/ad6013/envs/gp-causal-env/lib/python3.9/site-packages/gpflow/__init__.py?line=14'>15</a>\u001b[0m \u001b[39m# flake8: noqa\u001b[39;00m\n\u001b[0;32m---> <a href='file:///vol/bitbucket/ad6013/envs/gp-causal-env/lib/python3.9/site-packages/gpflow/__init__.py?line=16'>17</a>\u001b[0m \u001b[39mfrom\u001b[39;00m \u001b[39m.\u001b[39;00m \u001b[39mimport\u001b[39;00m (\n\u001b[1;32m     <a href='file:///vol/bitbucket/ad6013/envs/gp-causal-env/lib/python3.9/site-packages/gpflow/__init__.py?line=17'>18</a>\u001b[0m     conditionals,\n\u001b[1;32m     <a href='file:///vol/bitbucket/ad6013/envs/gp-causal-env/lib/python3.9/site-packages/gpflow/__init__.py?line=18'>19</a>\u001b[0m     config,\n\u001b[1;32m     <a href='file:///vol/bitbucket/ad6013/envs/gp-causal-env/lib/python3.9/site-packages/gpflow/__init__.py?line=19'>20</a>\u001b[0m     covariances,\n\u001b[1;32m     <a href='file:///vol/bitbucket/ad6013/envs/gp-causal-env/lib/python3.9/site-packages/gpflow/__init__.py?line=20'>21</a>\u001b[0m     expectations,\n\u001b[1;32m     <a href='file:///vol/bitbucket/ad6013/envs/gp-causal-env/lib/python3.9/site-packages/gpflow/__init__.py?line=21'>22</a>\u001b[0m     experimental,\n\u001b[1;32m     <a href='file:///vol/bitbucket/ad6013/envs/gp-causal-env/lib/python3.9/site-packages/gpflow/__init__.py?line=22'>23</a>\u001b[0m     inducing_variables,\n\u001b[1;32m     <a href='file:///vol/bitbucket/ad6013/envs/gp-causal-env/lib/python3.9/site-packages/gpflow/__init__.py?line=23'>24</a>\u001b[0m     kernels,\n\u001b[1;32m     <a href='file:///vol/bitbucket/ad6013/envs/gp-causal-env/lib/python3.9/site-packages/gpflow/__init__.py?line=24'>25</a>\u001b[0m     kullback_leiblers,\n\u001b[1;32m     <a href='file:///vol/bitbucket/ad6013/envs/gp-causal-env/lib/python3.9/site-packages/gpflow/__init__.py?line=25'>26</a>\u001b[0m     likelihoods,\n\u001b[1;32m     <a href='file:///vol/bitbucket/ad6013/envs/gp-causal-env/lib/python3.9/site-packages/gpflow/__init__.py?line=26'>27</a>\u001b[0m     logdensities,\n\u001b[1;32m     <a href='file:///vol/bitbucket/ad6013/envs/gp-causal-env/lib/python3.9/site-packages/gpflow/__init__.py?line=27'>28</a>\u001b[0m     mean_functions,\n\u001b[1;32m     <a href='file:///vol/bitbucket/ad6013/envs/gp-causal-env/lib/python3.9/site-packages/gpflow/__init__.py?line=28'>29</a>\u001b[0m     models,\n\u001b[1;32m     <a href='file:///vol/bitbucket/ad6013/envs/gp-causal-env/lib/python3.9/site-packages/gpflow/__init__.py?line=29'>30</a>\u001b[0m     monitor,\n\u001b[1;32m     <a href='file:///vol/bitbucket/ad6013/envs/gp-causal-env/lib/python3.9/site-packages/gpflow/__init__.py?line=30'>31</a>\u001b[0m     optimizers,\n\u001b[1;32m     <a href='file:///vol/bitbucket/ad6013/envs/gp-causal-env/lib/python3.9/site-packages/gpflow/__init__.py?line=31'>32</a>\u001b[0m     posteriors,\n\u001b[1;32m     <a href='file:///vol/bitbucket/ad6013/envs/gp-causal-env/lib/python3.9/site-packages/gpflow/__init__.py?line=32'>33</a>\u001b[0m     probability_distributions,\n\u001b[1;32m     <a href='file:///vol/bitbucket/ad6013/envs/gp-causal-env/lib/python3.9/site-packages/gpflow/__init__.py?line=33'>34</a>\u001b[0m     quadrature,\n\u001b[1;32m     <a href='file:///vol/bitbucket/ad6013/envs/gp-causal-env/lib/python3.9/site-packages/gpflow/__init__.py?line=34'>35</a>\u001b[0m     utilities,\n\u001b[1;32m     <a href='file:///vol/bitbucket/ad6013/envs/gp-causal-env/lib/python3.9/site-packages/gpflow/__init__.py?line=35'>36</a>\u001b[0m )\n\u001b[1;32m     <a href='file:///vol/bitbucket/ad6013/envs/gp-causal-env/lib/python3.9/site-packages/gpflow/__init__.py?line=36'>37</a>\u001b[0m \u001b[39mfrom\u001b[39;00m \u001b[39m.\u001b[39;00m\u001b[39mbase\u001b[39;00m \u001b[39mimport\u001b[39;00m Module, Parameter\n\u001b[1;32m     <a href='file:///vol/bitbucket/ad6013/envs/gp-causal-env/lib/python3.9/site-packages/gpflow/__init__.py?line=37'>38</a>\u001b[0m \u001b[39mfrom\u001b[39;00m \u001b[39m.\u001b[39;00m\u001b[39mconfig\u001b[39;00m \u001b[39mimport\u001b[39;00m default_float, default_int, default_jitter\n",
      "File \u001b[0;32m/vol/bitbucket/ad6013/envs/gp-causal-env/lib/python3.9/site-packages/gpflow/conditionals/__init__.py:1\u001b[0m, in \u001b[0;36m<module>\u001b[0;34m\u001b[0m\n\u001b[0;32m----> <a href='file:///vol/bitbucket/ad6013/envs/gp-causal-env/lib/python3.9/site-packages/gpflow/conditionals/__init__.py?line=0'>1</a>\u001b[0m \u001b[39mfrom\u001b[39;00m \u001b[39m.\u001b[39;00m \u001b[39mimport\u001b[39;00m conditionals, multioutput, sample_conditionals\n\u001b[1;32m      <a href='file:///vol/bitbucket/ad6013/envs/gp-causal-env/lib/python3.9/site-packages/gpflow/conditionals/__init__.py?line=1'>2</a>\u001b[0m \u001b[39mfrom\u001b[39;00m \u001b[39m.\u001b[39;00m\u001b[39mdispatch\u001b[39;00m \u001b[39mimport\u001b[39;00m conditional, sample_conditional\n\u001b[1;32m      <a href='file:///vol/bitbucket/ad6013/envs/gp-causal-env/lib/python3.9/site-packages/gpflow/conditionals/__init__.py?line=2'>3</a>\u001b[0m \u001b[39mfrom\u001b[39;00m \u001b[39m.\u001b[39;00m\u001b[39muncertain_conditionals\u001b[39;00m \u001b[39mimport\u001b[39;00m uncertain_conditional\n",
      "File \u001b[0;32m/vol/bitbucket/ad6013/envs/gp-causal-env/lib/python3.9/site-packages/gpflow/conditionals/conditionals.py:17\u001b[0m, in \u001b[0;36m<module>\u001b[0;34m\u001b[0m\n\u001b[1;32m      <a href='file:///vol/bitbucket/ad6013/envs/gp-causal-env/lib/python3.9/site-packages/gpflow/conditionals/conditionals.py?line=0'>1</a>\u001b[0m \u001b[39m# Copyright 2017-2020 The GPflow Contributors. All Rights Reserved.\u001b[39;00m\n\u001b[1;32m      <a href='file:///vol/bitbucket/ad6013/envs/gp-causal-env/lib/python3.9/site-packages/gpflow/conditionals/conditionals.py?line=1'>2</a>\u001b[0m \u001b[39m#\u001b[39;00m\n\u001b[1;32m      <a href='file:///vol/bitbucket/ad6013/envs/gp-causal-env/lib/python3.9/site-packages/gpflow/conditionals/conditionals.py?line=2'>3</a>\u001b[0m \u001b[39m# Licensed under the Apache License, Version 2.0 (the \"License\");\u001b[39;00m\n\u001b[0;32m   (...)\u001b[0m\n\u001b[1;32m     <a href='file:///vol/bitbucket/ad6013/envs/gp-causal-env/lib/python3.9/site-packages/gpflow/conditionals/conditionals.py?line=11'>12</a>\u001b[0m \u001b[39m# See the License for the specific language governing permissions and\u001b[39;00m\n\u001b[1;32m     <a href='file:///vol/bitbucket/ad6013/envs/gp-causal-env/lib/python3.9/site-packages/gpflow/conditionals/conditionals.py?line=12'>13</a>\u001b[0m \u001b[39m# limitations under the License.\u001b[39;00m\n\u001b[1;32m     <a href='file:///vol/bitbucket/ad6013/envs/gp-causal-env/lib/python3.9/site-packages/gpflow/conditionals/conditionals.py?line=14'>15</a>\u001b[0m \u001b[39mfrom\u001b[39;00m \u001b[39mtyping\u001b[39;00m \u001b[39mimport\u001b[39;00m Optional\n\u001b[0;32m---> <a href='file:///vol/bitbucket/ad6013/envs/gp-causal-env/lib/python3.9/site-packages/gpflow/conditionals/conditionals.py?line=16'>17</a>\u001b[0m \u001b[39mimport\u001b[39;00m \u001b[39mtensorflow\u001b[39;00m \u001b[39mas\u001b[39;00m \u001b[39mtf\u001b[39;00m\n\u001b[1;32m     <a href='file:///vol/bitbucket/ad6013/envs/gp-causal-env/lib/python3.9/site-packages/gpflow/conditionals/conditionals.py?line=18'>19</a>\u001b[0m \u001b[39mfrom\u001b[39;00m \u001b[39m.\u001b[39;00m\u001b[39m.\u001b[39;00m\u001b[39mbase\u001b[39;00m \u001b[39mimport\u001b[39;00m MeanAndVariance\n\u001b[1;32m     <a href='file:///vol/bitbucket/ad6013/envs/gp-causal-env/lib/python3.9/site-packages/gpflow/conditionals/conditionals.py?line=19'>20</a>\u001b[0m \u001b[39mfrom\u001b[39;00m \u001b[39m.\u001b[39;00m\u001b[39m.\u001b[39;00m\u001b[39minducing_variables\u001b[39;00m \u001b[39mimport\u001b[39;00m InducingVariables\n",
      "File \u001b[0;32m/vol/bitbucket/ad6013/envs/gp-causal-env/lib/python3.9/site-packages/tensorflow/__init__.py:88\u001b[0m, in \u001b[0;36m<module>\u001b[0;34m\u001b[0m\n\u001b[1;32m     <a href='file:///vol/bitbucket/ad6013/envs/gp-causal-env/lib/python3.9/site-packages/tensorflow/__init__.py?line=85'>86</a>\u001b[0m \u001b[39mfrom\u001b[39;00m \u001b[39m.\u001b[39;00m\u001b[39m_api\u001b[39;00m\u001b[39m.\u001b[39;00m\u001b[39mv2\u001b[39;00m \u001b[39mimport\u001b[39;00m types\n\u001b[1;32m     <a href='file:///vol/bitbucket/ad6013/envs/gp-causal-env/lib/python3.9/site-packages/tensorflow/__init__.py?line=86'>87</a>\u001b[0m \u001b[39mfrom\u001b[39;00m \u001b[39m.\u001b[39;00m\u001b[39m_api\u001b[39;00m\u001b[39m.\u001b[39;00m\u001b[39mv2\u001b[39;00m \u001b[39mimport\u001b[39;00m version\n\u001b[0;32m---> <a href='file:///vol/bitbucket/ad6013/envs/gp-causal-env/lib/python3.9/site-packages/tensorflow/__init__.py?line=87'>88</a>\u001b[0m \u001b[39mfrom\u001b[39;00m \u001b[39m.\u001b[39;00m\u001b[39m_api\u001b[39;00m\u001b[39m.\u001b[39;00m\u001b[39mv2\u001b[39;00m \u001b[39mimport\u001b[39;00m xla\n\u001b[1;32m     <a href='file:///vol/bitbucket/ad6013/envs/gp-causal-env/lib/python3.9/site-packages/tensorflow/__init__.py?line=88'>89</a>\u001b[0m \u001b[39mfrom\u001b[39;00m \u001b[39mtensorflow\u001b[39;00m\u001b[39m.\u001b[39;00m\u001b[39mpython\u001b[39;00m\u001b[39m.\u001b[39;00m\u001b[39mdata\u001b[39;00m\u001b[39m.\u001b[39;00m\u001b[39mops\u001b[39;00m\u001b[39m.\u001b[39;00m\u001b[39moptional_ops\u001b[39;00m \u001b[39mimport\u001b[39;00m OptionalSpec\n\u001b[1;32m     <a href='file:///vol/bitbucket/ad6013/envs/gp-causal-env/lib/python3.9/site-packages/tensorflow/__init__.py?line=89'>90</a>\u001b[0m \u001b[39mfrom\u001b[39;00m \u001b[39mtensorflow\u001b[39;00m\u001b[39m.\u001b[39;00m\u001b[39mpython\u001b[39;00m\u001b[39m.\u001b[39;00m\u001b[39meager\u001b[39;00m\u001b[39m.\u001b[39;00m\u001b[39mbackprop\u001b[39;00m \u001b[39mimport\u001b[39;00m GradientTape\n",
      "File \u001b[0;32m/vol/bitbucket/ad6013/envs/gp-causal-env/lib/python3.9/site-packages/tensorflow/_api/v2/xla/__init__.py:8\u001b[0m, in \u001b[0;36m<module>\u001b[0;34m\u001b[0m\n\u001b[1;32m      <a href='file:///vol/bitbucket/ad6013/envs/gp-causal-env/lib/python3.9/site-packages/tensorflow/_api/v2/xla/__init__.py?line=2'>3</a>\u001b[0m \u001b[39m\"\"\"Public API for tf.xla namespace.\u001b[39;00m\n\u001b[1;32m      <a href='file:///vol/bitbucket/ad6013/envs/gp-causal-env/lib/python3.9/site-packages/tensorflow/_api/v2/xla/__init__.py?line=3'>4</a>\u001b[0m \u001b[39m\"\"\"\u001b[39;00m\n\u001b[1;32m      <a href='file:///vol/bitbucket/ad6013/envs/gp-causal-env/lib/python3.9/site-packages/tensorflow/_api/v2/xla/__init__.py?line=5'>6</a>\u001b[0m \u001b[39mimport\u001b[39;00m \u001b[39msys\u001b[39;00m \u001b[39mas\u001b[39;00m \u001b[39m_sys\u001b[39;00m\n\u001b[0;32m----> <a href='file:///vol/bitbucket/ad6013/envs/gp-causal-env/lib/python3.9/site-packages/tensorflow/_api/v2/xla/__init__.py?line=7'>8</a>\u001b[0m \u001b[39mfrom\u001b[39;00m \u001b[39m.\u001b[39;00m \u001b[39mimport\u001b[39;00m experimental\n",
      "File \u001b[0;32m<frozen importlib._bootstrap>:1007\u001b[0m, in \u001b[0;36m_find_and_load\u001b[0;34m(name, import_)\u001b[0m\n",
      "File \u001b[0;32m<frozen importlib._bootstrap>:986\u001b[0m, in \u001b[0;36m_find_and_load_unlocked\u001b[0;34m(name, import_)\u001b[0m\n",
      "File \u001b[0;32m<frozen importlib._bootstrap>:680\u001b[0m, in \u001b[0;36m_load_unlocked\u001b[0;34m(spec)\u001b[0m\n",
      "File \u001b[0;32m<frozen importlib._bootstrap_external>:851\u001b[0m, in \u001b[0;36mexec_module\u001b[0;34m(self, module)\u001b[0m\n",
      "File \u001b[0;32m<frozen importlib._bootstrap_external>:946\u001b[0m, in \u001b[0;36mget_code\u001b[0;34m(self, fullname)\u001b[0m\n",
      "File \u001b[0;32m<frozen importlib._bootstrap_external>:1044\u001b[0m, in \u001b[0;36mget_data\u001b[0;34m(self, path)\u001b[0m\n",
      "\u001b[0;31mKeyboardInterrupt\u001b[0m: "
     ]
    }
   ],
   "source": [
    "import gpflow"
   ]
  },
  {
   "cell_type": "code",
   "execution_count": null,
   "metadata": {},
   "outputs": [],
   "source": [
    "from gpflow import covariances, kernels, likelihoods\n"
   ]
  },
  {
   "cell_type": "code",
   "execution_count": null,
   "metadata": {},
   "outputs": [],
   "source": [
    "from typing import Optional\n",
    "\n",
    "import numpy as np\n",
    "import tensorflow as tf\n",
    "\n",
    "from gpflow import covariances, kernels, likelihoods\n",
    "from gpflow.base import Parameter, _cast_to_dtype\n",
    "from gpflow.config import default_float, default_jitter\n",
    "from gpflow.expectations import expectation\n",
    "from gpflow.inducing_variables import InducingPoints\n",
    "from gpflow.kernels import Kernel\n",
    "from gpflow.mean_functions import MeanFunction, Zero\n",
    "from gpflow.probability_distributions import DiagonalGaussian\n",
    "from gpflow.utilities import positive, to_default_float\n",
    "from gpflow.utilities.ops import pca_reduce\n",
    "from gpflow.models.gpr import GPR\n",
    "from gpflow.models.model import GPModel, MeanAndVariance\n",
    "from gpflow.models.training_mixins import InputData, InternalDataTrainingLossMixin, OutputData\n",
    "from gpflow.models.util import data_input_to_tensor, inducingpoint_wrapper\n",
    "from gpflow.covariances.dispatch import Kuf, Kuu\n",
    "\n",
    "\n",
    "class LVMOGP_(GPR):\n",
    "    \"\"\"\n",
    "    Latent Variable model where there are both observed and unobserved data.\n",
    "    \"\"\"\n",
    "\n",
    "    def __init__(\n",
    "        self,\n",
    "        data: OutputData,\n",
    "        latent_dim: int,\n",
    "        X_data_mean: Optional[tf.Tensor] = None,\n",
    "        kernel: Optional[Kernel] = None,\n",
    "        mean_function: Optional[MeanFunction] = None,\n",
    "    ):\n",
    "        \"\"\"\n",
    "        Initialise LVMOGP object. This method only works with a Gaussian likelihood.\n",
    "        :param data: y data matrix, size N (number of points) x D (dimensions)\n",
    "        :param latent_dim: the number of latent dimensions (Q)\n",
    "        :param X_data_mean: latent positions ([N, Q]), for the initialisation of the latent space.\n",
    "        :param kernel: kernel specification, by default Squared Exponential\n",
    "        :param mean_function: mean function, by default None.\n",
    "        \"\"\"\n",
    "        if X_data_mean is None:\n",
    "            X_data_mean = pca_reduce(data, latent_dim)\n",
    "\n",
    "        num_latent_gps = X_data_mean.shape[1]\n",
    "        if num_latent_gps != latent_dim:\n",
    "            msg = \"Passed in number of latent {0} does not match initial X {1}.\"\n",
    "            raise ValueError(msg.format(latent_dim, num_latent_gps))\n",
    "\n",
    "        if mean_function is None:\n",
    "            mean_function = Zero()\n",
    "\n",
    "        if kernel is None:\n",
    "            kernel = kernels.SquaredExponential(lengthscales=tf.ones((latent_dim,)))\n",
    "\n",
    "        if data.shape[1] < num_latent_gps:\n",
    "            raise ValueError(\"More latent dimensions than observed.\")\n",
    "\n",
    "        gpr_data = (Parameter(X_data_mean), data_input_to_tensor(data))\n",
    "        super().__init__(gpr_data, kernel, mean_function=mean_function)\n",
    "\n",
    "\n",
    "class LVMOGP(GPModel, InternalDataTrainingLossMixin):\n",
    "    def __init__(\n",
    "        self,\n",
    "        data: OutputData,\n",
    "        X_data: tf.Tensor,\n",
    "        X_data_fn: tf.Tensor,\n",
    "        H_data_mean: tf.Tensor,\n",
    "        H_data_var: tf.Tensor,\n",
    "        kernel: Kernel,\n",
    "        num_inducing_variables: Optional[int] = None,\n",
    "        inducing_variable=None,\n",
    "        H_prior_mean=None,\n",
    "        H_prior_var=None,\n",
    "    ):\n",
    "        \"\"\"\n",
    "        Initialise Bayesian LVMOGP object. This method only works with a Gaussian likelihood.\n",
    "        :param data: data matrix, size N (number of points) x D (dimensions)\n",
    "        :param X_data: initial latent positions, size N (number of points) x Q (latent dimensions).\n",
    "        :param X_data_var: variance of latent positions ([N, Q]), for the initialisation of the latent space.\n",
    "        :param kernel: kernel specification, by default Squared Exponential\n",
    "        :param num_inducing_variables: number of inducing points, M\n",
    "        :param inducing_variable: matrix of inducing points, size M (inducing points) x Q (latent dimensions). By default\n",
    "            random permutation of X_data_mean.\n",
    "        :param H_prior_mean: prior mean used in KL term of bound. By default 0. Same size as X_data_mean.\n",
    "        :param H_prior_var: prior variance used in KL term of bound. By default 1.\n",
    "        \"\"\"\n",
    "        num_data, num_latent_gps = X_data.shape\n",
    "        num_fns, num_latent_dims = H_data_mean.shape\n",
    "        super().__init__(kernel, likelihoods.Gaussian(), num_latent_gps=num_latent_gps)\n",
    "        self.data = data_input_to_tensor(data)\n",
    "\n",
    "        self.X_data = Parameter(X_data, trainable=False)\n",
    "        self.X_data_fn = Parameter(X_data_fn, trainable=False)\n",
    "        self.H_data_mean = Parameter(H_data_mean)\n",
    "        self.H_data_var = Parameter(H_data_var, transform=positive())\n",
    "\n",
    "        self.num_fns = num_fns\n",
    "        self.num_latent_dims = num_latent_dims\n",
    "        self.num_data = num_data\n",
    "        self.output_dim = self.data.shape[-1]\n",
    "\n",
    "        assert X_data.shape[0] == self.data.shape[0], \"X mean and Y must be same size.\"\n",
    "        assert H_data_mean.shape[0] == H_data_var.shape[0], \"H mean and var should be the same length\"\n",
    "\n",
    "        if (inducing_variable is None) == (num_inducing_variables is None):\n",
    "            raise ValueError(\n",
    "                \"BayesianGPLVM needs exactly one of `inducing_variable` and `num_inducing_variables`\"\n",
    "            )\n",
    "\n",
    "        if inducing_variable is None:\n",
    "            # By default we initialize by subset of initial latent points\n",
    "            # Note that tf.random.shuffle returns a copy, it does not shuffle in-\n",
    "            X_mean_tilde, X_var_tilde = self.fill_Hs()\n",
    "            Z = tf.random.shuffle(X_mean_tilde)[:num_inducing_variables]\n",
    "            inducing_variable = InducingPoints(Z)\n",
    "\n",
    "        self.inducing_variable = inducingpoint_wrapper(inducing_variable)\n",
    "\n",
    "        assert X_data.shape[1] == self.num_latent_gps\n",
    "\n",
    "        # deal with parameters for the prior mean variance of X\n",
    "        if H_prior_mean is None:\n",
    "            H_prior_mean = tf.zeros((self.num_fns, self.num_latent_dims), dtype=default_float())\n",
    "        if H_prior_var is None:\n",
    "            H_prior_var = tf.ones((self.num_fns, self.num_latent_dims))\n",
    "\n",
    "        self.H_prior_mean = tf.convert_to_tensor(np.atleast_1d(H_prior_mean), dtype=default_float())\n",
    "        self.H_prior_var = tf.convert_to_tensor(np.atleast_1d(H_prior_var), dtype=default_float())\n",
    "\n",
    "        assert self.H_prior_mean.shape[0] == self.num_fns\n",
    "        assert self.H_prior_mean.shape[1] == self.num_latent_dims\n",
    "        assert self.H_prior_var.shape[0] == self.num_fns\n",
    "        assert self.H_prior_var.shape[1] == self.num_latent_dims\n",
    "\n",
    "    def fill_Hs(self):\n",
    "        \"\"\"append Hs to Xs by function number\"\"\"\n",
    "\n",
    "        H_mean_vect = tf.reshape(tf.gather(_cast_to_dtype(self.H_data_mean, dtype=default_float()),\n",
    "                                      _cast_to_dtype(self.X_data_fn, dtype=tf.int64)),\n",
    "                                   [self.num_data, self.num_latent_dims])\n",
    "        H_var_vect = tf.reshape(tf.gather(_cast_to_dtype(self.H_data_var, dtype=default_float()),\n",
    "                                           _cast_to_dtype(self.X_data_fn, dtype=tf.int64)),\n",
    "                                   [self.num_data, self.num_latent_dims])\n",
    "\n",
    "        return tf.concat([self.X_data, H_mean_vect], axis=1),  \\\n",
    "               tf.concat([tf.zeros(self.X_data.shape, dtype=default_float()), H_var_vect], axis=1)\n",
    "\n",
    "    def maximum_log_likelihood_objective(self) -> tf.Tensor:\n",
    "        return self.elbo()\n",
    "\n",
    "    def elbo(self) -> tf.Tensor:\n",
    "        \"\"\"\n",
    "        Construct a tensorflow function to compute the bound on the marginal\n",
    "        likelihood.\n",
    "        \"\"\"\n",
    "        Y_data = self.data\n",
    "        mu, var = self.fill_Hs()\n",
    "        pH = DiagonalGaussian(mu, var)\n",
    "        # pX = DiagonalGaussian(self.X_data, self.X_data_var)\n",
    "\n",
    "        num_inducing = self.inducing_variable.num_inducing\n",
    "        psi0 = tf.reduce_sum(expectation(pH, self.kernel))\n",
    "        psi1 = expectation(pH, (self.kernel, self.inducing_variable))\n",
    "        psi2 = tf.reduce_sum(\n",
    "            expectation(\n",
    "                pH, (self.kernel, self.inducing_variable), (self.kernel, self.inducing_variable)\n",
    "            ),\n",
    "            axis=0,\n",
    "        )\n",
    "        cov_uu = covariances.Kuu(self.inducing_variable, self.kernel, jitter=default_jitter())\n",
    "        L = tf.linalg.cholesky(cov_uu)\n",
    "        sigma2 = self.likelihood.variance\n",
    "        sigma = tf.sqrt(sigma2)\n",
    "\n",
    "        # Compute intermediate matrices\n",
    "        A = tf.linalg.triangular_solve(L, tf.transpose(psi1), lower=True) / sigma\n",
    "        tmp = tf.linalg.triangular_solve(L, psi2, lower=True)\n",
    "        AAT = tf.linalg.triangular_solve(L, tf.transpose(tmp), lower=True) / sigma2\n",
    "        B = AAT + tf.eye(num_inducing, dtype=default_float())\n",
    "        # tf.print(B)\n",
    "        LB = tf.linalg.cholesky(B)\n",
    "        log_det_B = 2.0 * tf.reduce_sum(tf.math.log(tf.linalg.diag_part(LB)))\n",
    "        c = tf.linalg.triangular_solve(LB, tf.linalg.matmul(A, Y_data), lower=True) / sigma\n",
    "\n",
    "        # KL[q(x) || p(x)]\n",
    "        dH_data_var = (\n",
    "            self.H_data_var\n",
    "            if self.H_data_var.shape.ndims == 2\n",
    "            else tf.linalg.diag_part(self.H_data_var)\n",
    "        )\n",
    "        NQ = to_default_float(tf.size(self.H_data_mean))\n",
    "        D = to_default_float(tf.shape(Y_data)[1])\n",
    "        KL = -0.5 * tf.reduce_sum(tf.math.log(dH_data_var))\n",
    "        KL += 0.5 * tf.reduce_sum(tf.math.log(self.H_prior_var))\n",
    "        KL -= 0.5 * NQ\n",
    "        KL += 0.5 * tf.reduce_sum(\n",
    "            (tf.square(self.H_data_mean - self.H_prior_mean) + dH_data_var) / self.H_prior_var\n",
    "        )\n",
    "\n",
    "        # compute log marginal bound\n",
    "        ND = to_default_float(tf.size(Y_data))\n",
    "        bound = -0.5 * ND * tf.math.log(2 * np.pi * sigma2)\n",
    "        bound += -0.5 * D * log_det_B\n",
    "        bound += -0.5 * tf.reduce_sum(tf.square(Y_data)) / sigma2\n",
    "        bound += 0.5 * tf.reduce_sum(tf.square(c))\n",
    "        bound += -0.5 * D * (tf.reduce_sum(psi0) / sigma2 - tf.reduce_sum(tf.linalg.diag_part(AAT)))\n",
    "        bound -= KL\n",
    "        # tf.print(bound)\n",
    "        return bound\n",
    "\n",
    "    def predict_f(self, Xnew: InputData, full_cov=False, full_output_cov=False) -> MeanAndVariance:\n",
    "        \"\"\"\n",
    "        Compute the mean and variance of the latent function at some new points\n",
    "        Xnew. For a derivation of the terms in here, see the associated SGPR\n",
    "        notebook.\n",
    "        \"\"\"\n",
    "        Y_data = self.data\n",
    "        X_data = self.X_data\n",
    "        X_mean_tilde, X_var_tilde = self.fill_Hs()\n",
    "        num_inducing = self.inducing_variable.num_inducing\n",
    "        err = Y_data - self.mean_function(X_data)\n",
    "        kuf = Kuf(self.inducing_variable, self.kernel, X_mean_tilde)\n",
    "        kuu = Kuu(self.inducing_variable, self.kernel, jitter=default_jitter())\n",
    "        Kus = Kuf(self.inducing_variable, self.kernel, Xnew)\n",
    "        sigma = tf.sqrt(self.likelihood.variance)\n",
    "        L = tf.linalg.cholesky(kuu)\n",
    "        A = tf.linalg.triangular_solve(L, kuf, lower=True) / sigma\n",
    "        B = tf.linalg.matmul(A, A, transpose_b=True) + tf.eye(num_inducing, dtype=default_float())\n",
    "        LB = tf.linalg.cholesky(B)\n",
    "        Aerr = tf.linalg.matmul(A, err)\n",
    "        c = tf.linalg.triangular_solve(LB, Aerr, lower=True) / sigma\n",
    "        tmp1 = tf.linalg.triangular_solve(L, Kus, lower=True)\n",
    "        tmp2 = tf.linalg.triangular_solve(LB, tmp1, lower=True)\n",
    "        mean = tf.linalg.matmul(tmp2, c, transpose_a=True)\n",
    "        if full_cov:\n",
    "            var = (\n",
    "                self.kernel(Xnew)\n",
    "                + tf.linalg.matmul(tmp2, tmp2, transpose_a=True)\n",
    "                - tf.linalg.matmul(tmp1, tmp1, transpose_a=True)\n",
    "            )\n",
    "            var = tf.tile(var[None, ...], [self.num_latent_gps, 1, 1])  # [P, N, N]\n",
    "        else:\n",
    "            var = (\n",
    "                self.kernel(Xnew, full_cov=False)\n",
    "                + tf.reduce_sum(tf.square(tmp2), 0)\n",
    "                - tf.reduce_sum(tf.square(tmp1), 0)\n",
    "            )\n",
    "            var = tf.tile(var[:, None], [1, 1]) # self.num_latent_gps\n",
    "        # tf.print(self.kernel(Xnew, full_cov=False), summarize=-1)\n",
    "        # tf.print(A, summarize=-1)\n",
    "        # tf.print(B, summarize=-1)\n",
    "        return mean + self.mean_function(Xnew), var\n",
    "\n",
    "\n",
    "    def predict_log_density(self, data: OutputData) -> tf.Tensor:\n",
    "        raise NotImplementedError"
   ]
  },
  {
   "cell_type": "code",
   "execution_count": null,
   "metadata": {},
   "outputs": [],
   "source": []
  },
  {
   "cell_type": "code",
   "execution_count": 146,
   "metadata": {},
   "outputs": [],
   "source": [
    "from scipy.stats import norm\n",
    "def ml_estimate(x):\n",
    "    \"\"\"\n",
    "    Find the log likelihood.\n",
    "\n",
    "    This doesn't make sense after I have normalised the data.\n",
    "    \"\"\"\n",
    "    score = - np.sum(\n",
    "            norm.logpdf(x, loc=0, scale=1)\n",
    "    )\n",
    "    return score"
   ]
  },
  {
   "cell_type": "code",
   "execution_count": 160,
   "metadata": {},
   "outputs": [],
   "source": [
    "import numpy as np\n",
    "\n",
    "\n",
    "x = np.random.normal(0, 1, 1000)\n",
    "y = np.random.laplace(1, 1, 1000)\n",
    "# y = x**2 \n",
    "\n",
    "x = (x - x.mean()) / x.std()\n",
    "y_meaned = (y - y.mean()) / y.std()"
   ]
  },
  {
   "cell_type": "code",
   "execution_count": 161,
   "metadata": {},
   "outputs": [
    {
     "name": "stdout",
     "output_type": "stream",
     "text": [
      "1418.9385332046727 1418.9385332046727\n",
      "3128.417953430414\n"
     ]
    }
   ],
   "source": [
    "print(ml_estimate(x), ml_estimate(y_meaned))\n",
    "\n",
    "from scipy.stats import laplace\n",
    "print( - np.sum(laplace.logpdf(y, 0, 10)))"
   ]
  },
  {
   "cell_type": "code",
   "execution_count": 24,
   "metadata": {},
   "outputs": [
    {
     "name": "stderr",
     "output_type": "stream",
     "text": [
      "Load cause-effect pairs: 100%|██████████| 100/100 [00:00<00:00, 196.73it/s]\n"
     ]
    }
   ],
   "source": [
    "\n",
    "import sys\n",
    "sys.path.append(\"/vol/bitbucket/ad6013/Research/gp-causal\")\n",
    "from data.get_data import get_tubingen_pairs_dataset, get_synthetic_dataset\n",
    "x, y, weight = get_tubingen_pairs_dataset(\n",
    "    data_path='/vol/bitbucket/ad6013/Research/gp-causal/data/pairs/files'\n",
    ")\n",
    "input, output = x[0], y[0]\n",
    "input = (input - input.mean(axis=0)[:, None]) / input.std(axis=0)[:, None]\n",
    "output = (output - output.mean(axis=0)[:, None]) / output.std(axis=0)[:, None]"
   ]
  },
  {
   "cell_type": "code",
   "execution_count": 25,
   "metadata": {},
   "outputs": [
    {
     "name": "stdout",
     "output_type": "stream",
     "text": [
      "495.2095480884308 495.2095480884308\n"
     ]
    }
   ],
   "source": [
    "print(ml_estimate(input), ml_estimate(output))"
   ]
  },
  {
   "cell_type": "code",
   "execution_count": 26,
   "metadata": {},
   "outputs": [
    {
     "data": {
      "text/plain": [
       "-1.068868012246569e-16"
      ]
     },
     "execution_count": 26,
     "metadata": {},
     "output_type": "execute_result"
    }
   ],
   "source": [
    "input.mean()"
   ]
  },
  {
   "cell_type": "code",
   "execution_count": 19,
   "metadata": {},
   "outputs": [
    {
     "data": {
      "image/png": "[encoded data removed]",
      "text/plain": [
       "<Figure size 432x288 with 1 Axes>"
      ]
     },
     "metadata": {
      "needs_background": "light"
     },
     "output_type": "display_data"
    }
   ],
   "source": [
    "import matplotlib.pyplot as plt\n",
    "plt.hist(input, bins=100)\n",
    "plt.show()"
   ]
  },
  {
   "cell_type": "code",
   "execution_count": 20,
   "metadata": {},
   "outputs": [
    {
     "data": {
      "image/png": "[encoded data removed]",
      "text/plain": [
       "<Figure size 432x288 with 1 Axes>"
      ]
     },
     "metadata": {
      "needs_background": "light"
     },
     "output_type": "display_data"
    }
   ],
   "source": [
    "import matplotlib.pyplot as plt\n",
    "plt.hist(output, bins=100)\n",
    "plt.show()"
   ]
  },
  {
   "cell_type": "code",
   "execution_count": 55,
   "metadata": {},
   "outputs": [],
   "source": [
    "import pickle\n",
    "\n",
    "\n",
    "file = \"/vol/bitbucket/ad6013/Research/gp-causal/working_hyper.p\"\n",
    "\n",
    "with open(file, \"rb\") as f:\n",
    "    results = pickle.load(f)"
   ]
  },
  {
   "cell_type": "code",
   "execution_count": 56,
   "metadata": {},
   "outputs": [],
   "source": [
    "results\n",
    "\n",
    "kern_var = []\n",
    "prior_noise = []\n",
    "post_noise = []\n",
    "for tuples in results:\n",
    "    kern_var.append(tuples[0])\n",
    "    prior_noise.append(float(tuples[1]))\n",
    "    post_noise.append(float(tuples[2]))"
   ]
  },
  {
   "cell_type": "code",
   "execution_count": 64,
   "metadata": {},
   "outputs": [
    {
     "data": {
      "text/plain": [
       "0.8396646813844957"
      ]
     },
     "execution_count": 64,
     "metadata": {},
     "output_type": "execute_result"
    }
   ],
   "source": [
    "max(prior_noise)"
   ]
  },
  {
   "cell_type": "code",
   "execution_count": 58,
   "metadata": {},
   "outputs": [
    {
     "data": {
      "image/png": "[encoded data removed]",
      "text/plain": [
       "<Figure size 432x288 with 1 Axes>"
      ]
     },
     "metadata": {
      "needs_background": "light"
     },
     "output_type": "display_data"
    }
   ],
   "source": [
    "import matplotlib.pyplot as plt\n",
    "\n",
    "plt.hist(kern_var, bins=100)\n",
    "plt.show()"
   ]
  },
  {
   "cell_type": "code",
   "execution_count": 63,
   "metadata": {},
   "outputs": [
    {
     "data": {
      "image/png": "[encoded data removed]",
      "text/plain": [
       "<Figure size 432x288 with 1 Axes>"
      ]
     },
     "metadata": {
      "needs_background": "light"
     },
     "output_type": "display_data"
    }
   ],
   "source": [
    "import numpy as np\n",
    "hist, bins, _ = plt.hist(prior_noise, bins=100)\n",
    "logbins = np.logspace(np.log10(bins[0]),np.log10(bins[-1]),len(bins))\n",
    "plt.clf()\n",
    "plt.hist(prior_noise, bins=logbins)\n",
    "plt.xscale('log')\n",
    "plt.show()"
   ]
  },
  {
   "cell_type": "code",
   "execution_count": 54,
   "metadata": {},
   "outputs": [
    {
     "data": {
      "image/png": "[encoded data removed]",
      "text/plain": [
       "<Figure size 432x288 with 1 Axes>"
      ]
     },
     "metadata": {
      "needs_background": "light"
     },
     "output_type": "display_data"
    }
   ],
   "source": [
    "import numpy as np\n",
    "hist, bins, _ = plt.hist(post_noise, bins=20)\n",
    "logbins = np.logspace(np.log10(bins[0]),np.log10(bins[-1]),len(bins))\n",
    "plt.clf()\n",
    "plt.hist(post_noise, bins=logbins)\n",
    "plt.xscale('log')\n",
    "plt.show()"
   ]
  },
  {
   "cell_type": "code",
   "execution_count": null,
   "metadata": {},
   "outputs": [],
   "source": []
  }
 ],
 "metadata": {
  "interpreter": {
   "hash": "a29dfc3a58ca91141e6b31b77b731cbdeae0adeabff34291556b287f724fc891"
  },
  "kernelspec": {
   "display_name": "Python 3.9.5 ('gp-causal-env')",
   "language": "python",
   "name": "python3"
  },
  "language_info": {
   "codemirror_mode": {
    "name": "ipython",
    "version": 3
   },
   "file_extension": ".py",
   "mimetype": "text/x-python",
   "name": "python",
   "nbconvert_exporter": "python",
   "pygments_lexer": "ipython3",
   "version": "3.9.5"
  },
  "orig_nbformat": 4
 },
 "nbformat": 4,
 "nbformat_minor": 2
}
