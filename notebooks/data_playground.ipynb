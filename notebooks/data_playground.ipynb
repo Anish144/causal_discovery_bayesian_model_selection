{
 "cells": [
  {
   "cell_type": "code",
   "execution_count": null,
   "metadata": {},
   "outputs": [],
   "source": [
    "import sys\n",
    "sys.path.append(\"/vol/bitbucket/ad6013/Research/gp-causal/data\")\n",
    "\n",
    "from pairs.generate_pairs import TubingenPairs\n",
    "\n",
    "\n",
    "data_gen = TubingenPairs(path='/vol/bitbucket/ad6013/Research/gp-causal/data/pairs/files')\n",
    "\n",
    "x, y, weight = [], [], []\n",
    "for i in data_gen.pairs_generator():\n",
    "    x.append(i[0])\n",
    "    y.append(i[1])\n",
    "    weight.append(i[2])"
   ]
  },
  {
   "cell_type": "code",
   "execution_count": null,
   "metadata": {},
   "outputs": [],
   "source": []
  }
 ],
 "metadata": {
  "kernelspec": {
   "display_name": "Python 3 (ipykernel)",
   "language": "python",
   "name": "python3"
  },
  "orig_nbformat": 4
 },
 "nbformat": 4,
 "nbformat_minor": 2
}
