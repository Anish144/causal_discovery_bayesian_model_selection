{
 "cells": [
  {
   "cell_type": "code",
   "execution_count": 1,
   "metadata": {},
   "outputs": [
    {
     "data": {
      "text/plain": [
       "'/vol/cuda/11.2.1-cudnn8.1.0.77/targets/x86_64-linux/lib:/vol/cuda/11.2.1-cudnn8.1.0.77/lib64:'"
      ]
     },
     "execution_count": 1,
     "metadata": {},
     "output_type": "execute_result"
    }
   ],
   "source": [
    "import os\n",
    "os.environ[\"CUDA_VISIBLE_DEVICES\"]=\" \"\n",
    "os.environ[\"LD_LIBRARY_PATH\"]"
   ]
  },
  {
   "cell_type": "code",
   "execution_count": 4,
   "metadata": {},
   "outputs": [],
   "source": [
    "\n",
    "import sys\n",
    "sys.path.append(\"/vol/bitbucket/ad6013/Research/gp-causal\")\n",
    "from models.PartObsBayesianGPLVM import PartObsBayesianGPLVM\n",
    "import gpflow\n",
    "import tensorflow as tf\n",
    "from gpflow.config import default_float\n",
    "import tensorflow_probability as tfp\n",
    "from data.get_data import get_tubingen_pairs_dataset, get_synthetic_dataset\n",
    "import numpy as np\n",
    "import matplotlib.pyplot as plt\n",
    "import numpy as np\n",
    "\n",
    "tf.random.set_seed(0)\n",
    "np.random.seed(0)"
   ]
  },
  {
   "cell_type": "code",
   "execution_count": 29,
   "metadata": {},
   "outputs": [],
   "source": [
    "from sklearn.preprocessing import MinMaxScaler\n",
    "\n",
    "x, y, weight = get_synthetic_dataset(\n",
    "    num_datasets=100,\n",
    "    sample_size=1000,\n",
    "    func_string=\"mult_c\",\n",
    "    noise=\"exp\"\n",
    ")\n",
    "input, output = x[0], y[0]\n",
    "input = MinMaxScaler(feature_range=(-1, 1)).fit_transform(input)\n",
    "output = MinMaxScaler(feature_range=(-1, 1)).fit_transform(output)\n",
    "\n",
    "input = input - np.mean(input)\n",
    "output = output - np.mean(output)"
   ]
  },
  {
   "cell_type": "code",
   "execution_count": 45,
   "metadata": {},
   "outputs": [
    {
     "name": "stderr",
     "output_type": "stream",
     "text": [
      "Load cause-effect pairs: 100%|██████████| 100/100 [00:00<00:00, 225.16it/s]\n"
     ]
    }
   ],
   "source": [
    "x, y, weight = get_tubingen_pairs_dataset(\n",
    "    data_path='/vol/bitbucket/ad6013/Research/gp-causal/data/pairs/files'\n",
    ")\n",
    "input, output = x[0], y[0]\n",
    "input = (input - input.mean(axis=0)[:, None]) / input.std(axis=0)[:, None]\n",
    "output = (output - output.mean(axis=0)[:, None]) / output.std(axis=0)[:, None]"
   ]
  },
  {
   "cell_type": "code",
   "execution_count": 15,
   "metadata": {},
   "outputs": [
    {
     "name": "stderr",
     "output_type": "stream",
     "text": [
      "2022-06-14 08:56:16.665044: E tensorflow/stream_executor/cuda/cuda_driver.cc:271] failed call to cuInit: CUDA_ERROR_NO_DEVICE: no CUDA-capable device is detected\n",
      "2022-06-14 08:56:16.665068: I tensorflow/stream_executor/cuda/cuda_diagnostics.cc:169] retrieving CUDA diagnostic information for host: phlogiston.doc.ic.ac.uk\n",
      "2022-06-14 08:56:16.665073: I tensorflow/stream_executor/cuda/cuda_diagnostics.cc:176] hostname: phlogiston.doc.ic.ac.uk\n",
      "2022-06-14 08:56:16.665120: I tensorflow/stream_executor/cuda/cuda_diagnostics.cc:200] libcuda reported version is: 470.103.1\n",
      "2022-06-14 08:56:16.665136: I tensorflow/stream_executor/cuda/cuda_diagnostics.cc:204] kernel reported version is: 470.103.1\n",
      "2022-06-14 08:56:16.665139: I tensorflow/stream_executor/cuda/cuda_diagnostics.cc:310] kernel version seems to match DSO: 470.103.1\n"
     ]
    },
    {
     "data": {
      "text/plain": [
       "[]"
      ]
     },
     "execution_count": 15,
     "metadata": {},
     "output_type": "execute_result"
    }
   ],
   "source": [
    "tf.config.list_physical_devices('GPU')"
   ]
  },
  {
   "cell_type": "code",
   "execution_count": 30,
   "metadata": {},
   "outputs": [
    {
     "data": {
      "image/png": "[encoded data removed]",
      "text/plain": [
       "<Figure size 432x288 with 1 Axes>"
      ]
     },
     "metadata": {
      "needs_background": "light"
     },
     "output_type": "display_data"
    }
   ],
   "source": [
    "import matplotlib.pyplot as plt\n",
    "import numpy as np\n",
    "\n",
    "\n",
    "plt.hist(output[:, 0], bins=100)\n",
    "plt.show()"
   ]
  },
  {
   "cell_type": "code",
   "execution_count": 31,
   "metadata": {},
   "outputs": [
    {
     "data": {
      "text/plain": [
       "0.08216430252954929"
      ]
     },
     "execution_count": 31,
     "metadata": {},
     "output_type": "execute_result"
    }
   ],
   "source": [
    "output.std()"
   ]
  },
  {
   "cell_type": "code",
   "execution_count": 23,
   "metadata": {},
   "outputs": [
    {
     "data": {
      "image/png": "[encoded data removed]",
      "text/plain": [
       "<Figure size 432x288 with 1 Axes>"
      ]
     },
     "metadata": {
      "needs_background": "light"
     },
     "output_type": "display_data"
    }
   ],
   "source": [
    "plt.hist(input[:, 0], bins=100)\n",
    "plt.show()"
   ]
  },
  {
   "cell_type": "code",
   "execution_count": 24,
   "metadata": {},
   "outputs": [
    {
     "data": {
      "text/plain": [
       "3.019806626980426e-17"
      ]
     },
     "execution_count": 24,
     "metadata": {},
     "output_type": "execute_result"
    }
   ],
   "source": [
    "input.mean()"
   ]
  },
  {
   "cell_type": "code",
   "execution_count": 25,
   "metadata": {},
   "outputs": [
    {
     "data": {
      "image/png": "[encoded data removed]",
      "text/plain": [
       "<Figure size 432x288 with 1 Axes>"
      ]
     },
     "metadata": {
      "needs_background": "light"
     },
     "output_type": "display_data"
    }
   ],
   "source": [
    "plt.scatter(input[:, 0], output[:, 0])\n",
    "plt.show()"
   ]
  },
  {
   "cell_type": "code",
   "execution_count": 19,
   "metadata": {},
   "outputs": [
    {
     "data": {
      "image/png": "[encoded data removed]",
      "text/plain": [
       "<Figure size 432x288 with 1 Axes>"
      ]
     },
     "metadata": {
      "needs_background": "light"
     },
     "output_type": "display_data"
    }
   ],
   "source": [
    "plt.scatter(output[:, 0], input[:, 0])\n",
    "plt.show()"
   ]
  },
  {
   "cell_type": "code",
   "execution_count": 89,
   "metadata": {},
   "outputs": [],
   "source": [
    "from gpflow.base import Parameter\n",
    "from gpflow.utilities import positive\n",
    "\n",
    "\n",
    "\n",
    "\n",
    "num_inducing = 349\n",
    "\n",
    "kernel_variance = 10\n",
    "kernel_lengthscale = 1. / 4\n",
    "# likelihood_variance = 1\n",
    "likelihood_variance = Parameter( 1. / (0.2 ** 2), transform=positive(lower=0.01))\n",
    "\n",
    "sq_exp = gpflow.kernels.SquaredExponential()\n",
    "sq_exp.variance.assign(kernel_variance)\n",
    "    # lambda = 5 in this\n",
    "sq_exp.lengthscales.assign(kernel_lengthscale)\n",
    "\n",
    "m_gpr = gpflow.models.GPR(data=(input, output), kernel=sq_exp, mean_function=None)\n",
    "m_gpr.likelihood.variance = likelihood_variance\n",
    "opt = gpflow.optimizers.Scipy()\n",
    "opt_logs = opt.minimize(\n",
    "    m_gpr.training_loss, m_gpr.trainable_variables, options=dict(maxiter=10000)\n",
    ")"
   ]
  },
  {
   "cell_type": "code",
   "execution_count": 90,
   "metadata": {},
   "outputs": [],
   "source": [
    "x_new = np.linspace(-10, 10, 1000)[:, None]\n",
    "pred_f, var_f = m_gpr.predict_y(x_new)"
   ]
  },
  {
   "cell_type": "code",
   "execution_count": 91,
   "metadata": {},
   "outputs": [
    {
     "name": "stdout",
     "output_type": "stream",
     "text": [
      "╒═════════════════════════╤═══════════╤══════════════════╤═════════╤═════════════╤═════════╤═════════╤═══════════╕\n",
      "│ name                    │ class     │ transform        │ prior   │ trainable   │ shape   │ dtype   │     value │\n",
      "╞═════════════════════════╪═══════════╪══════════════════╪═════════╪═════════════╪═════════╪═════════╪═══════════╡\n",
      "│ GPR.kernel.variance     │ Parameter │ Softplus         │         │ True        │ ()      │ float64 │ 12.8212   │\n",
      "├─────────────────────────┼───────────┼──────────────────┼─────────┼─────────────┼─────────┼─────────┼───────────┤\n",
      "│ GPR.kernel.lengthscales │ Parameter │ Softplus         │         │ True        │ ()      │ float64 │  1.19102  │\n",
      "├─────────────────────────┼───────────┼──────────────────┼─────────┼─────────────┼─────────┼─────────┼───────────┤\n",
      "│ GPR.likelihood.variance │ Parameter │ Softplus + Shift │         │ True        │ ()      │ float64 │  0.177178 │\n",
      "╘═════════════════════════╧═══════════╧══════════════════╧═════════╧═════════════╧═════════╧═════════╧═══════════╛\n"
     ]
    }
   ],
   "source": [
    "from gpflow.utilities import print_summary\n",
    "print_summary(m_gpr)"
   ]
  },
  {
   "cell_type": "code",
   "execution_count": 74,
   "metadata": {},
   "outputs": [
    {
     "data": {
      "image/png": "[encoded data removed]",
      "text/plain": [
       "<Figure size 432x288 with 1 Axes>"
      ]
     },
     "metadata": {
      "needs_background": "light"
     },
     "output_type": "display_data"
    }
   ],
   "source": [
    "plt.scatter(input[:, 0], output[:, 0], c='r')\n",
    "plt.plot(x_new, pred_f, c='b', alpha=0.5)\n",
    "plt.fill_between(x_new[:, 0], (pred_f + 2 * np.sqrt(var_f))[:, 0], (pred_f - 2 * np.sqrt(var_f))[:, 0], alpha=0.5)\n",
    "plt.show()"
   ]
  },
  {
   "cell_type": "code",
   "execution_count": 75,
   "metadata": {},
   "outputs": [
    {
     "data": {
      "text/plain": [
       "218.84750858357233"
      ]
     },
     "execution_count": 75,
     "metadata": {},
     "output_type": "execute_result"
    }
   ],
   "source": [
    " - m_gpr.log_marginal_likelihood().numpy()"
   ]
  },
  {
   "cell_type": "code",
   "execution_count": 92,
   "metadata": {},
   "outputs": [
    {
     "data": {
      "image/png": "[encoded data removed]",
      "text/plain": [
       "<Figure size 432x288 with 1 Axes>"
      ]
     },
     "metadata": {
      "needs_background": "light"
     },
     "output_type": "display_data"
    }
   ],
   "source": [
    "plt.scatter(input[:, 0], output[:, 0], c='r')\n",
    "plt.plot(x_new, pred_f, c='b', alpha=0.5)\n",
    "plt.fill_between(x_new[:, 0], (pred_f + 2 * np.sqrt(var_f))[:, 0], (pred_f - 2 * np.sqrt(var_f))[:, 0], alpha=0.5)\n",
    "plt.show()"
   ]
  },
  {
   "cell_type": "code",
   "execution_count": null,
   "metadata": {},
   "outputs": [],
   "source": []
  },
  {
   "cell_type": "code",
   "execution_count": 93,
   "metadata": {},
   "outputs": [
    {
     "data": {
      "text/plain": [
       "217.66095511847294"
      ]
     },
     "execution_count": 93,
     "metadata": {},
     "output_type": "execute_result"
    }
   ],
   "source": [
    "- m_gpr.log_marginal_likelihood().numpy()"
   ]
  },
  {
   "cell_type": "code",
   "execution_count": 6,
   "metadata": {},
   "outputs": [
    {
     "name": "stderr",
     "output_type": "stream",
     "text": [
      "2022-05-24 17:39:07.953504: I tensorflow/stream_executor/cuda/cuda_gpu_executor.cc:975] successful NUMA node read from SysFS had negative value (-1), but there must be at least one NUMA node, so returning NUMA node zero\n",
      "2022-05-24 17:39:07.954158: W tensorflow/stream_executor/platform/default/dso_loader.cc:64] Could not load dynamic library 'libcudart.so.11.0'; dlerror: libcudart.so.11.0: cannot open shared object file: No such file or directory\n",
      "2022-05-24 17:39:07.954198: W tensorflow/stream_executor/platform/default/dso_loader.cc:64] Could not load dynamic library 'libcublas.so.11'; dlerror: libcublas.so.11: cannot open shared object file: No such file or directory\n",
      "2022-05-24 17:39:07.954232: W tensorflow/stream_executor/platform/default/dso_loader.cc:64] Could not load dynamic library 'libcublasLt.so.11'; dlerror: libcublasLt.so.11: cannot open shared object file: No such file or directory\n",
      "2022-05-24 17:39:07.954265: W tensorflow/stream_executor/platform/default/dso_loader.cc:64] Could not load dynamic library 'libcufft.so.10'; dlerror: libcufft.so.10: cannot open shared object file: No such file or directory\n",
      "2022-05-24 17:39:07.954296: W tensorflow/stream_executor/platform/default/dso_loader.cc:64] Could not load dynamic library 'libcurand.so.10'; dlerror: libcurand.so.10: cannot open shared object file: No such file or directory\n",
      "2022-05-24 17:39:07.954329: W tensorflow/stream_executor/platform/default/dso_loader.cc:64] Could not load dynamic library 'libcusolver.so.11'; dlerror: libcusolver.so.11: cannot open shared object file: No such file or directory\n",
      "2022-05-24 17:39:07.954360: W tensorflow/stream_executor/platform/default/dso_loader.cc:64] Could not load dynamic library 'libcusparse.so.11'; dlerror: libcusparse.so.11: cannot open shared object file: No such file or directory\n",
      "2022-05-24 17:39:07.954392: W tensorflow/stream_executor/platform/default/dso_loader.cc:64] Could not load dynamic library 'libcudnn.so.8'; dlerror: libcudnn.so.8: cannot open shared object file: No such file or directory\n",
      "2022-05-24 17:39:07.954397: W tensorflow/core/common_runtime/gpu/gpu_device.cc:1850] Cannot dlopen some GPU libraries. Please make sure the missing libraries mentioned above are installed properly if you would like to use GPU. Follow the guide at https://www.tensorflow.org/install/gpu for how to download and setup the required libraries for your platform.\n",
      "Skipping registering GPU devices...\n"
     ]
    },
    {
     "data": {
      "text/plain": [
       "[]"
      ]
     },
     "execution_count": 6,
     "metadata": {},
     "output_type": "execute_result"
    }
   ],
   "source": [
    "import os\n",
    "os.environ[\"CUDA_VISIBLE_DEVICES\"]=\"0\"\n",
    "\n",
    "tf.config.list_physical_devices('GPU')"
   ]
  },
  {
   "cell_type": "code",
   "execution_count": 98,
   "metadata": {},
   "outputs": [
    {
     "name": "stdout",
     "output_type": "stream",
     "text": [
      "Initial hyper: lengthscale - [0.61883171 0.13313174], variance - [0.00054382]\n"
     ]
    }
   ],
   "source": [
    "from gpflow.base import Parameter\n",
    "from gpflow.utilities import positive\n",
    "\n",
    "tf.config.run_functions_eagerly(False)\n",
    "\n",
    "# for i in range(500):\n",
    "# x, y, weight = get_synthetic_dataset(\n",
    "#     num_datasets=100,\n",
    "#     sample_size=100,\n",
    "#     func_string=\"mult_a\",\n",
    "#     noise=\"uniform\"\n",
    "# )\n",
    "# x = (x - x.mean(axis=1)[:, None, :]) / x.std(axis=1)[:, None, :]\n",
    "# y = (y - y.mean(axis=1)[:, None, :]) / y.std(axis=1)[:, None, :]\n",
    "\n",
    "# input, output = x[0], y[0]\n",
    "\n",
    "kernel_variance = 1.0\n",
    "# Likelihood variance\n",
    "kappa = np.random.uniform(\n",
    "    low=1.0, high=100, size=[1]\n",
    ")\n",
    "# Kernel lengthscale\n",
    "lamda = np.random.uniform(\n",
    "    low=1.0, high=10, size=[2]\n",
    ")\n",
    "\n",
    "latent_dim = 1\n",
    "num_inducing = 349\n",
    "\n",
    "kernel_lengthscale = 1. / lamda\n",
    "likelihood_variance = Parameter( 1. / (kappa ** 2), transform=positive(lower=1e-6))\n",
    "\n",
    "print(f\"Initial hyper: lengthscale - {kernel_lengthscale}, variance - {likelihood_variance.numpy()}\")\n",
    "\n",
    "sq_exp = gpflow.kernels.SquaredExponential()\n",
    "sq_exp.variance.assign(kernel_variance)\n",
    "    # lambda = 5 in this\n",
    "sq_exp.lengthscales.assign(kernel_lengthscale[0])\n",
    "\n",
    "m = gpflow.models.GPR(data=(input, output), kernel=sq_exp, mean_function=None)\n",
    "m.likelihood.variance = likelihood_variance[0]\n",
    "opt = gpflow.optimizers.Scipy()\n",
    "opt_logs = opt.minimize(\n",
    "    m.training_loss, m.trainable_variables, options=dict(maxiter=10000)\n",
    ")\n",
    "# found_lengthscales = [m.kernel.kernels[0].lengthscales.numpy(), m.kernel.kernels[1].lengthscales.numpy(), m.kernel.kernels[2].lengthscales.numpy()]\n",
    "found_lengthscale = m.kernel.lengthscales.numpy()\n",
    "found_lik_var = m.likelihood.variance.numpy()\n",
    "\n",
    "X_mean_init = output - m.predict_f(input)[0]\n",
    "# X_mean_init = tfp.distributions.Normal(loc=0, scale=1).sample([y.shape[0], latent_dim])\n",
    "# X_mean_init = tf.cast(X_mean_init, dtype=default_float())\n",
    "X_var_init = tf.ones((input.shape[0], latent_dim), dtype=default_float())\n",
    "kernel = gpflow.kernels.SquaredExponential(lengthscales=[found_lengthscale] + [kernel_lengthscale[1]] * latent_dim)\n",
    "\n",
    "m = PartObsBayesianGPLVM(\n",
    "    data=output,\n",
    "    in_data=input,\n",
    "    kernel=kernel,\n",
    "    X_data_mean=X_mean_init,\n",
    "    X_data_var=X_var_init,\n",
    "    num_inducing_variables=num_inducing,\n",
    ")\n",
    "m.likelihood.variance = Parameter( found_lik_var, transform=positive(lower=1e-6))\n",
    "\n",
    "# Train only inducing variables\n",
    "gpflow.utilities.set_trainable(m.kernel, False)\n",
    "gpflow.utilities.set_trainable(m.likelihood, False)\n",
    "gpflow.utilities.set_trainable(m.X_data_mean , False)\n",
    "gpflow.utilities.set_trainable(m.X_data_var, False)\n",
    "opt = gpflow.optimizers.Scipy()\n",
    "opt_logs = opt.minimize(\n",
    "    m.training_loss,\n",
    "    m.trainable_variables,\n",
    "    options=dict(maxiter=10000),\n",
    ")\n",
    "\n",
    "# Train only x_var\n",
    "gpflow.utilities.set_trainable(m.kernel, False)\n",
    "gpflow.utilities.set_trainable(m.likelihood, False)\n",
    "gpflow.utilities.set_trainable(m.X_data_mean , False)\n",
    "gpflow.utilities.set_trainable(m.X_data_var, True)\n",
    "gpflow.utilities.set_trainable(m.inducing_variable, False)\n",
    "opt = gpflow.optimizers.Scipy()\n",
    "opt_logs = opt.minimize(\n",
    "    m.training_loss,\n",
    "    m.trainable_variables,\n",
    "    options=dict(maxiter=10000),\n",
    ")\n",
    "\n",
    "# Train all the hyperparameters\n",
    "gpflow.utilities.set_trainable(m.kernel, True)\n",
    "gpflow.utilities.set_trainable(m.likelihood, True)\n",
    "gpflow.utilities.set_trainable(m.X_data_mean , False)\n",
    "gpflow.utilities.set_trainable(m.X_data_var, False)\n",
    "gpflow.utilities.set_trainable(m.inducing_variable, False)\n",
    "opt = gpflow.optimizers.Scipy()\n",
    "opt_logs = opt.minimize(\n",
    "    m.training_loss,\n",
    "    m.trainable_variables,\n",
    "    options=dict(maxiter=10000),\n",
    ")\n",
    "\n",
    "# Train everything\n",
    "gpflow.utilities.set_trainable(m.kernel, True)\n",
    "gpflow.utilities.set_trainable(m.likelihood, True)\n",
    "gpflow.utilities.set_trainable(m.X_data_mean , True)\n",
    "gpflow.utilities.set_trainable(m.X_data_var, True)\n",
    "gpflow.utilities.set_trainable(m.inducing_variable, True)\n",
    "opt = gpflow.optimizers.Scipy()\n",
    "opt_logs = opt.minimize(\n",
    "    m.training_loss,\n",
    "    m.trainable_variables,\n",
    "    options=dict(maxiter=10000),\n",
    ")"
   ]
  },
  {
   "cell_type": "code",
   "execution_count": null,
   "metadata": {},
   "outputs": [
    {
     "name": "stdout",
     "output_type": "stream",
     "text": [
      "╒══════════════════════════════════════════╤═══════════╤══════════════════╤═════════╤═════════════╤══════════╤═════════╤══════════════════════════════════════╕\n",
      "│ name                                     │ class     │ transform        │ prior   │ trainable   │ shape    │ dtype   │ value                                │\n",
      "╞══════════════════════════════════════════╪═══════════╪══════════════════╪═════════╪═════════════╪══════════╪═════════╪══════════════════════════════════════╡\n",
      "│ PartObsBayesianGPLVM.kernel.variance     │ Parameter │ Softplus         │         │ True        │ ()       │ float64 │ 4.8897554654502314e-08               │\n",
      "├──────────────────────────────────────────┼───────────┼──────────────────┼─────────┼─────────────┼──────────┼─────────┼──────────────────────────────────────┤\n",
      "│ PartObsBayesianGPLVM.kernel.lengthscales │ Parameter │ Softplus         │         │ True        │ (2,)     │ float64 │ [3.70035018e-05 5.05022419e-01]      │\n",
      "├──────────────────────────────────────────┼───────────┼──────────────────┼─────────┼─────────────┼──────────┼─────────┼──────────────────────────────────────┤\n",
      "│ PartObsBayesianGPLVM.likelihood.variance │ Parameter │ Softplus + Shift │         │ True        │ ()       │ float64 │ 1.0000043435989567                   │\n",
      "├──────────────────────────────────────────┼───────────┼──────────────────┼─────────┼─────────────┼──────────┼─────────┼──────────────────────────────────────┤\n",
      "│ PartObsBayesianGPLVM.in_data             │ Parameter │ Identity         │         │ False       │ (349, 1) │ float64 │ [[1.22609246e-01...                  │\n",
      "├──────────────────────────────────────────┼───────────┼──────────────────┼─────────┼─────────────┼──────────┼─────────┼──────────────────────────────────────┤\n",
      "│ PartObsBayesianGPLVM.X_data_mean         │ Parameter │ Identity         │         │ True        │ (349, 1) │ float64 │ [[2.86754823e-08...                  │\n",
      "├──────────────────────────────────────────┼───────────┼──────────────────┼─────────┼─────────────┼──────────┼─────────┼──────────────────────────────────────┤\n",
      "│ PartObsBayesianGPLVM.X_data_var          │ Parameter │ Softplus         │         │ True        │ (349, 1) │ float64 │ [[0.9999973...                       │\n",
      "├──────────────────────────────────────────┼───────────┼──────────────────┼─────────┼─────────────┼──────────┼─────────┼──────────────────────────────────────┤\n",
      "│ PartObsBayesianGPLVM.inducing_variable.Z │ Parameter │ Identity         │         │ True        │ (300, 2) │ float64 │ [[-1.43459503e+00, 1.28659689e-03... │\n",
      "╘══════════════════════════════════════════╧═══════════╧══════════════════╧═════════╧═════════════╧══════════╧═════════╧══════════════════════════════════════╛\n"
     ]
    }
   ],
   "source": [
    "from gpflow.utilities import print_summary\n",
    "print_summary(m)"
   ]
  },
  {
   "cell_type": "code",
   "execution_count": 44,
   "metadata": {},
   "outputs": [
    {
     "data": {
      "text/plain": [
       "<tf.Tensor: shape=(), dtype=float64, numpy=454.35240666297375>"
      ]
     },
     "execution_count": 44,
     "metadata": {},
     "output_type": "execute_result"
    }
   ],
   "source": [
    "- m.elbo()"
   ]
  },
  {
   "cell_type": "code",
   "execution_count": null,
   "metadata": {},
   "outputs": [],
   "source": [
    "obs_new = np.linspace(-20, 20, 4000)[:, None]\n",
    "\n",
    "Xnew = tfp.distributions.Normal(loc=0, scale=1).sample([obs_new.shape[0], latent_dim])\n",
    "Xnew = tf.cast(Xnew, dtype=default_float())\n",
    "Xnew = tf.concat(\n",
    "    [obs_new, Xnew], axis=1\n",
    ")\n",
    "pred_f_mean, pred_f_var = m.predict_y(\n",
    "    in_data_new=input,\n",
    "    Xnew=Xnew,\n",
    ")"
   ]
  },
  {
   "cell_type": "code",
   "execution_count": null,
   "metadata": {},
   "outputs": [
    {
     "data": {
      "image/png": "[encoded data removed]",
      "text/plain": [
       "<Figure size 432x288 with 1 Axes>"
      ]
     },
     "metadata": {
      "needs_background": "light"
     },
     "output_type": "display_data"
    }
   ],
   "source": [
    "plt.scatter(input[:, 0], output[:, 0], c='r')\n",
    "plt.scatter(obs_new, pred_f_mean, c='b', alpha=0.1)\n",
    "# plt.scatter(inducing_in, np.zeros(100) )\n",
    "plt.fill_between(obs_new[:, 0], (pred_f_mean + 2 * np.sqrt(pred_f_var))[:, 0], (pred_f_mean - 2 * np.sqrt(pred_f_var))[:,0], alpha=0.5)\n",
    "plt.show()"
   ]
  },
  {
   "cell_type": "code",
   "execution_count": 38,
   "metadata": {},
   "outputs": [
    {
     "data": {
      "text/plain": [
       "687.4419320636074"
      ]
     },
     "execution_count": 38,
     "metadata": {},
     "output_type": "execute_result"
    }
   ],
   "source": [
    "-m.elbo().numpy()"
   ]
  },
  {
   "cell_type": "code",
   "execution_count": 22,
   "metadata": {},
   "outputs": [
    {
     "data": {
      "text/plain": [
       "-499.09120544465554"
      ]
     },
     "execution_count": 22,
     "metadata": {},
     "output_type": "execute_result"
    }
   ],
   "source": [
    "-m.elbo().numpy()"
   ]
  },
  {
   "cell_type": "code",
   "execution_count": 87,
   "metadata": {},
   "outputs": [
    {
     "data": {
      "text/plain": [
       "True"
      ]
     },
     "execution_count": 87,
     "metadata": {},
     "output_type": "execute_result"
    }
   ],
   "source": [
    "-945.981557225954 < -751.9391785862274"
   ]
  },
  {
   "cell_type": "code",
   "execution_count": 24,
   "metadata": {},
   "outputs": [
    {
     "ename": "IndexError",
     "evalue": "too many indices for array: array is 2-dimensional, but 3 were indexed",
     "output_type": "error",
     "traceback": [
      "\u001b[0;31m---------------------------------------------------------------------------\u001b[0m",
      "\u001b[0;31mIndexError\u001b[0m                                Traceback (most recent call last)",
      "\u001b[1;32m/vol/bitbucket/ad6013/Research/gp-causal/notebooks/data_playground.ipynb Cell 13'\u001b[0m in \u001b[0;36m<cell line: 1>\u001b[0;34m()\u001b[0m\n\u001b[0;32m----> <a href='vscode-notebook-cell://ssh-remote%2Bphlogiston.doc.ic.ac.uk/vol/bitbucket/ad6013/Research/gp-causal/notebooks/data_playground.ipynb#ch0000008vscode-remote?line=0'>1</a>\u001b[0m plt\u001b[39m.\u001b[39mscatter(x[\u001b[39m0\u001b[39;49m, :, \u001b[39m0\u001b[39;49m], y[\u001b[39m0\u001b[39m, :, \u001b[39m0\u001b[39m], c\u001b[39m=\u001b[39m\u001b[39m'\u001b[39m\u001b[39mr\u001b[39m\u001b[39m'\u001b[39m)\n\u001b[1;32m      <a href='vscode-notebook-cell://ssh-remote%2Bphlogiston.doc.ic.ac.uk/vol/bitbucket/ad6013/Research/gp-causal/notebooks/data_playground.ipynb#ch0000008vscode-remote?line=1'>2</a>\u001b[0m plt\u001b[39m.\u001b[39mscatter(x[\u001b[39m0\u001b[39m], pred_f_mean, c\u001b[39m=\u001b[39m\u001b[39m'\u001b[39m\u001b[39mb\u001b[39m\u001b[39m'\u001b[39m, alpha\u001b[39m=\u001b[39m\u001b[39m0.5\u001b[39m)\n\u001b[1;32m      <a href='vscode-notebook-cell://ssh-remote%2Bphlogiston.doc.ic.ac.uk/vol/bitbucket/ad6013/Research/gp-causal/notebooks/data_playground.ipynb#ch0000008vscode-remote?line=2'>3</a>\u001b[0m plt\u001b[39m.\u001b[39mylim(\u001b[39m-\u001b[39m\u001b[39m20\u001b[39m, \u001b[39m20\u001b[39m)\n",
      "\u001b[0;31mIndexError\u001b[0m: too many indices for array: array is 2-dimensional, but 3 were indexed"
     ]
    }
   ],
   "source": [
    "plt.scatter(x[0, :, 0], y[0, :, 0], c='r')\n",
    "plt.scatter(x[0], pred_f_mean, c='b', alpha=0.5)\n",
    "plt.ylim(-20, 20)\n",
    "plt.show()"
   ]
  },
  {
   "cell_type": "code",
   "execution_count": 15,
   "metadata": {},
   "outputs": [
    {
     "data": {
      "text/plain": [
       "119.29262107485727"
      ]
     },
     "execution_count": 15,
     "metadata": {},
     "output_type": "execute_result"
    }
   ],
   "source": [
    "- m.elbo().numpy()"
   ]
  },
  {
   "cell_type": "code",
   "execution_count": 8,
   "metadata": {},
   "outputs": [
    {
     "name": "stderr",
     "output_type": "stream",
     "text": [
      "2022-06-13 20:27:53.681101: I tensorflow/stream_executor/cuda/cuda_gpu_executor.cc:975] successful NUMA node read from SysFS had negative value (-1), but there must be at least one NUMA node, so returning NUMA node zero\n",
      "2022-06-13 20:27:53.693152: I tensorflow/stream_executor/cuda/cuda_gpu_executor.cc:975] successful NUMA node read from SysFS had negative value (-1), but there must be at least one NUMA node, so returning NUMA node zero\n",
      "2022-06-13 20:27:53.693306: I tensorflow/stream_executor/cuda/cuda_gpu_executor.cc:975] successful NUMA node read from SysFS had negative value (-1), but there must be at least one NUMA node, so returning NUMA node zero\n",
      "2022-06-13 20:27:53.694020: I tensorflow/core/platform/cpu_feature_guard.cc:193] This TensorFlow binary is optimized with oneAPI Deep Neural Network Library (oneDNN) to use the following CPU instructions in performance-critical operations:  AVX2 FMA\n",
      "To enable them in other operations, rebuild TensorFlow with the appropriate compiler flags.\n",
      "2022-06-13 20:27:53.694459: I tensorflow/stream_executor/cuda/cuda_gpu_executor.cc:975] successful NUMA node read from SysFS had negative value (-1), but there must be at least one NUMA node, so returning NUMA node zero\n",
      "2022-06-13 20:27:53.694613: I tensorflow/stream_executor/cuda/cuda_gpu_executor.cc:975] successful NUMA node read from SysFS had negative value (-1), but there must be at least one NUMA node, so returning NUMA node zero\n",
      "2022-06-13 20:27:53.694750: I tensorflow/stream_executor/cuda/cuda_gpu_executor.cc:975] successful NUMA node read from SysFS had negative value (-1), but there must be at least one NUMA node, so returning NUMA node zero\n",
      "2022-06-13 20:27:54.568258: I tensorflow/stream_executor/cuda/cuda_gpu_executor.cc:975] successful NUMA node read from SysFS had negative value (-1), but there must be at least one NUMA node, so returning NUMA node zero\n",
      "2022-06-13 20:27:54.568448: I tensorflow/stream_executor/cuda/cuda_gpu_executor.cc:975] successful NUMA node read from SysFS had negative value (-1), but there must be at least one NUMA node, so returning NUMA node zero\n",
      "2022-06-13 20:27:54.568625: I tensorflow/stream_executor/cuda/cuda_gpu_executor.cc:975] successful NUMA node read from SysFS had negative value (-1), but there must be at least one NUMA node, so returning NUMA node zero\n",
      "2022-06-13 20:27:54.568805: I tensorflow/core/common_runtime/gpu/gpu_device.cc:1532] Created device /job:localhost/replica:0/task:0/device:GPU:0 with 496 MB memory:  -> device: 0, name: NVIDIA GeForce RTX 3080, pci bus id: 0000:01:00.0, compute capability: 8.6\n",
      "2022-06-13 20:28:09.928236: W tensorflow/core/common_runtime/bfc_allocator.cc:479] Allocator (GPU_0_bfc) ran out of memory trying to allocate 762.94MiB (rounded to 800000000)requested by op gradient_tape/eye/diag\n",
      "If the cause is memory fragmentation maybe the environment variable 'TF_GPU_ALLOCATOR=cuda_malloc_async' will improve the situation. \n",
      "Current allocation summary follows.\n",
      "Current allocation summary follows.\n",
      "2022-06-13 20:28:09.928256: I tensorflow/core/common_runtime/bfc_allocator.cc:1027] BFCAllocator dump for GPU_0_bfc\n",
      "2022-06-13 20:28:09.928261: I tensorflow/core/common_runtime/bfc_allocator.cc:1034] Bin (256): \tTotal Chunks: 29, Chunks in use: 27. 7.2KiB allocated for chunks. 6.8KiB in use in bin. 552B client-requested in use in bin.\n",
      "2022-06-13 20:28:09.928265: I tensorflow/core/common_runtime/bfc_allocator.cc:1034] Bin (512): \tTotal Chunks: 2, Chunks in use: 0. 1.0KiB allocated for chunks. 0B in use in bin. 0B client-requested in use in bin.\n",
      "2022-06-13 20:28:09.928268: I tensorflow/core/common_runtime/bfc_allocator.cc:1034] Bin (1024): \tTotal Chunks: 1, Chunks in use: 1. 1.2KiB allocated for chunks. 1.2KiB in use in bin. 1.0KiB client-requested in use in bin.\n",
      "2022-06-13 20:28:09.928271: I tensorflow/core/common_runtime/bfc_allocator.cc:1034] Bin (2048): \tTotal Chunks: 0, Chunks in use: 0. 0B allocated for chunks. 0B in use in bin. 0B client-requested in use in bin.\n",
      "2022-06-13 20:28:09.928274: I tensorflow/core/common_runtime/bfc_allocator.cc:1034] Bin (4096): \tTotal Chunks: 0, Chunks in use: 0. 0B allocated for chunks. 0B in use in bin. 0B client-requested in use in bin.\n",
      "2022-06-13 20:28:09.928277: I tensorflow/core/common_runtime/bfc_allocator.cc:1034] Bin (8192): \tTotal Chunks: 0, Chunks in use: 0. 0B allocated for chunks. 0B in use in bin. 0B client-requested in use in bin.\n",
      "2022-06-13 20:28:09.928280: I tensorflow/core/common_runtime/bfc_allocator.cc:1034] Bin (16384): \tTotal Chunks: 0, Chunks in use: 0. 0B allocated for chunks. 0B in use in bin. 0B client-requested in use in bin.\n",
      "2022-06-13 20:28:09.928283: I tensorflow/core/common_runtime/bfc_allocator.cc:1034] Bin (32768): \tTotal Chunks: 0, Chunks in use: 0. 0B allocated for chunks. 0B in use in bin. 0B client-requested in use in bin.\n",
      "2022-06-13 20:28:09.928287: I tensorflow/core/common_runtime/bfc_allocator.cc:1034] Bin (65536): \tTotal Chunks: 8, Chunks in use: 8. 626.0KiB allocated for chunks. 626.0KiB in use in bin. 625.0KiB client-requested in use in bin.\n",
      "2022-06-13 20:28:09.928290: I tensorflow/core/common_runtime/bfc_allocator.cc:1034] Bin (131072): \tTotal Chunks: 0, Chunks in use: 0. 0B allocated for chunks. 0B in use in bin. 0B client-requested in use in bin.\n",
      "2022-06-13 20:28:09.928293: I tensorflow/core/common_runtime/bfc_allocator.cc:1034] Bin (262144): \tTotal Chunks: 0, Chunks in use: 0. 0B allocated for chunks. 0B in use in bin. 0B client-requested in use in bin.\n",
      "2022-06-13 20:28:09.928296: I tensorflow/core/common_runtime/bfc_allocator.cc:1034] Bin (524288): \tTotal Chunks: 0, Chunks in use: 0. 0B allocated for chunks. 0B in use in bin. 0B client-requested in use in bin.\n",
      "2022-06-13 20:28:09.928298: I tensorflow/core/common_runtime/bfc_allocator.cc:1034] Bin (1048576): \tTotal Chunks: 0, Chunks in use: 0. 0B allocated for chunks. 0B in use in bin. 0B client-requested in use in bin.\n",
      "2022-06-13 20:28:09.928301: I tensorflow/core/common_runtime/bfc_allocator.cc:1034] Bin (2097152): \tTotal Chunks: 0, Chunks in use: 0. 0B allocated for chunks. 0B in use in bin. 0B client-requested in use in bin.\n",
      "2022-06-13 20:28:09.928304: I tensorflow/core/common_runtime/bfc_allocator.cc:1034] Bin (4194304): \tTotal Chunks: 0, Chunks in use: 0. 0B allocated for chunks. 0B in use in bin. 0B client-requested in use in bin.\n",
      "2022-06-13 20:28:09.928307: I tensorflow/core/common_runtime/bfc_allocator.cc:1034] Bin (8388608): \tTotal Chunks: 0, Chunks in use: 0. 0B allocated for chunks. 0B in use in bin. 0B client-requested in use in bin.\n",
      "2022-06-13 20:28:09.928310: I tensorflow/core/common_runtime/bfc_allocator.cc:1034] Bin (16777216): \tTotal Chunks: 0, Chunks in use: 0. 0B allocated for chunks. 0B in use in bin. 0B client-requested in use in bin.\n",
      "2022-06-13 20:28:09.928313: I tensorflow/core/common_runtime/bfc_allocator.cc:1034] Bin (33554432): \tTotal Chunks: 0, Chunks in use: 0. 0B allocated for chunks. 0B in use in bin. 0B client-requested in use in bin.\n",
      "2022-06-13 20:28:09.928316: I tensorflow/core/common_runtime/bfc_allocator.cc:1034] Bin (67108864): \tTotal Chunks: 0, Chunks in use: 0. 0B allocated for chunks. 0B in use in bin. 0B client-requested in use in bin.\n",
      "2022-06-13 20:28:09.928319: I tensorflow/core/common_runtime/bfc_allocator.cc:1034] Bin (134217728): \tTotal Chunks: 0, Chunks in use: 0. 0B allocated for chunks. 0B in use in bin. 0B client-requested in use in bin.\n",
      "2022-06-13 20:28:09.928322: I tensorflow/core/common_runtime/bfc_allocator.cc:1034] Bin (268435456): \tTotal Chunks: 1, Chunks in use: 0. 496.07MiB allocated for chunks. 0B in use in bin. 0B client-requested in use in bin.\n",
      "2022-06-13 20:28:09.928326: I tensorflow/core/common_runtime/bfc_allocator.cc:1050] Bin for 762.94MiB was 256.00MiB, Chunk State: \n",
      "2022-06-13 20:28:09.928332: I tensorflow/core/common_runtime/bfc_allocator.cc:1056]   Size: 496.07MiB | Requested Size: 8B | in_use: 0 | bin_num: 20, prev:   Size: 78.2KiB | Requested Size: 78.1KiB | in_use: 1 | bin_num: -1\n",
      "2022-06-13 20:28:09.928335: I tensorflow/core/common_runtime/bfc_allocator.cc:1063] Next region of size 520814592\n",
      "2022-06-13 20:28:09.928339: I tensorflow/core/common_runtime/bfc_allocator.cc:1083] InUse at 7f5090000000 of size 256 next 1\n",
      "2022-06-13 20:28:09.928342: I tensorflow/core/common_runtime/bfc_allocator.cc:1083] InUse at 7f5090000100 of size 1280 next 2\n",
      "2022-06-13 20:28:09.928345: I tensorflow/core/common_runtime/bfc_allocator.cc:1083] InUse at 7f5090000600 of size 256 next 3\n",
      "2022-06-13 20:28:09.928365: I tensorflow/core/common_runtime/bfc_allocator.cc:1083] InUse at 7f5090000700 of size 256 next 4\n",
      "2022-06-13 20:28:09.928368: I tensorflow/core/common_runtime/bfc_allocator.cc:1083] InUse at 7f5090000800 of size 256 next 5\n",
      "2022-06-13 20:28:09.928370: I tensorflow/core/common_runtime/bfc_allocator.cc:1083] InUse at 7f5090000900 of size 256 next 14\n",
      "2022-06-13 20:28:09.928373: I tensorflow/core/common_runtime/bfc_allocator.cc:1083] InUse at 7f5090000a00 of size 256 next 15\n",
      "2022-06-13 20:28:09.928375: I tensorflow/core/common_runtime/bfc_allocator.cc:1083] InUse at 7f5090000b00 of size 256 next 8\n",
      "2022-06-13 20:28:09.928378: I tensorflow/core/common_runtime/bfc_allocator.cc:1083] InUse at 7f5090000c00 of size 256 next 9\n",
      "2022-06-13 20:28:09.928380: I tensorflow/core/common_runtime/bfc_allocator.cc:1083] InUse at 7f5090000d00 of size 256 next 23\n",
      "2022-06-13 20:28:09.928383: I tensorflow/core/common_runtime/bfc_allocator.cc:1083] InUse at 7f5090000e00 of size 256 next 6\n",
      "2022-06-13 20:28:09.928385: I tensorflow/core/common_runtime/bfc_allocator.cc:1083] InUse at 7f5090000f00 of size 256 next 10\n",
      "2022-06-13 20:28:09.928387: I tensorflow/core/common_runtime/bfc_allocator.cc:1083] InUse at 7f5090001000 of size 256 next 7\n",
      "2022-06-13 20:28:09.928390: I tensorflow/core/common_runtime/bfc_allocator.cc:1083] InUse at 7f5090001100 of size 256 next 12\n",
      "2022-06-13 20:28:09.928392: I tensorflow/core/common_runtime/bfc_allocator.cc:1083] InUse at 7f5090001200 of size 256 next 11\n",
      "2022-06-13 20:28:09.928395: I tensorflow/core/common_runtime/bfc_allocator.cc:1083] InUse at 7f5090001300 of size 256 next 16\n",
      "2022-06-13 20:28:09.928397: I tensorflow/core/common_runtime/bfc_allocator.cc:1083] Free  at 7f5090001400 of size 512 next 18\n",
      "2022-06-13 20:28:09.928399: I tensorflow/core/common_runtime/bfc_allocator.cc:1083] InUse at 7f5090001600 of size 256 next 24\n",
      "2022-06-13 20:28:09.928402: I tensorflow/core/common_runtime/bfc_allocator.cc:1083] InUse at 7f5090001700 of size 256 next 25\n",
      "2022-06-13 20:28:09.928404: I tensorflow/core/common_runtime/bfc_allocator.cc:1083] InUse at 7f5090001800 of size 256 next 26\n",
      "2022-06-13 20:28:09.928407: I tensorflow/core/common_runtime/bfc_allocator.cc:1083] InUse at 7f5090001900 of size 256 next 20\n",
      "2022-06-13 20:28:09.928410: I tensorflow/core/common_runtime/bfc_allocator.cc:1083] InUse at 7f5090001a00 of size 80128 next 21\n",
      "2022-06-13 20:28:09.928413: I tensorflow/core/common_runtime/bfc_allocator.cc:1083] InUse at 7f5090015300 of size 80128 next 13\n",
      "2022-06-13 20:28:09.928415: I tensorflow/core/common_runtime/bfc_allocator.cc:1083] InUse at 7f5090028c00 of size 80128 next 22\n",
      "2022-06-13 20:28:09.928418: I tensorflow/core/common_runtime/bfc_allocator.cc:1083] InUse at 7f509003c500 of size 80128 next 19\n",
      "2022-06-13 20:28:09.928420: I tensorflow/core/common_runtime/bfc_allocator.cc:1083] InUse at 7f509004fe00 of size 256 next 27\n",
      "2022-06-13 20:28:09.928422: I tensorflow/core/common_runtime/bfc_allocator.cc:1083] InUse at 7f509004ff00 of size 256 next 28\n",
      "2022-06-13 20:28:09.928425: I tensorflow/core/common_runtime/bfc_allocator.cc:1083] InUse at 7f5090050000 of size 256 next 29\n",
      "2022-06-13 20:28:09.928427: I tensorflow/core/common_runtime/bfc_allocator.cc:1083] InUse at 7f5090050100 of size 256 next 30\n",
      "2022-06-13 20:28:09.928430: I tensorflow/core/common_runtime/bfc_allocator.cc:1083] InUse at 7f5090050200 of size 80128 next 31\n",
      "2022-06-13 20:28:09.928432: I tensorflow/core/common_runtime/bfc_allocator.cc:1083] InUse at 7f5090063b00 of size 256 next 32\n",
      "2022-06-13 20:28:09.928434: I tensorflow/core/common_runtime/bfc_allocator.cc:1083] InUse at 7f5090063c00 of size 256 next 33\n",
      "2022-06-13 20:28:09.928437: I tensorflow/core/common_runtime/bfc_allocator.cc:1083] Free  at 7f5090063d00 of size 256 next 34\n",
      "2022-06-13 20:28:09.928439: I tensorflow/core/common_runtime/bfc_allocator.cc:1083] InUse at 7f5090063e00 of size 256 next 35\n",
      "2022-06-13 20:28:09.928441: I tensorflow/core/common_runtime/bfc_allocator.cc:1083] Free  at 7f5090063f00 of size 256 next 36\n",
      "2022-06-13 20:28:09.928444: I tensorflow/core/common_runtime/bfc_allocator.cc:1083] InUse at 7f5090064000 of size 256 next 37\n",
      "2022-06-13 20:28:09.928446: I tensorflow/core/common_runtime/bfc_allocator.cc:1083] Free  at 7f5090064100 of size 512 next 39\n",
      "2022-06-13 20:28:09.928449: I tensorflow/core/common_runtime/bfc_allocator.cc:1083] InUse at 7f5090064300 of size 80128 next 40\n",
      "2022-06-13 20:28:09.928451: I tensorflow/core/common_runtime/bfc_allocator.cc:1083] InUse at 7f5090077c00 of size 80128 next 17\n",
      "2022-06-13 20:28:09.928453: I tensorflow/core/common_runtime/bfc_allocator.cc:1083] InUse at 7f509008b500 of size 80128 next 38\n",
      "2022-06-13 20:28:09.928457: I tensorflow/core/common_runtime/bfc_allocator.cc:1083] Free  at 7f509009ee00 of size 520163840 next 18446744073709551615\n",
      "2022-06-13 20:28:09.928460: I tensorflow/core/common_runtime/bfc_allocator.cc:1088]      Summary of in-use Chunks by size: \n",
      "2022-06-13 20:28:09.928464: I tensorflow/core/common_runtime/bfc_allocator.cc:1091] 27 Chunks of size 256 totalling 6.8KiB\n",
      "2022-06-13 20:28:09.928467: I tensorflow/core/common_runtime/bfc_allocator.cc:1091] 1 Chunks of size 1280 totalling 1.2KiB\n",
      "2022-06-13 20:28:09.928470: I tensorflow/core/common_runtime/bfc_allocator.cc:1091] 8 Chunks of size 80128 totalling 626.0KiB\n",
      "2022-06-13 20:28:09.928473: I tensorflow/core/common_runtime/bfc_allocator.cc:1095] Sum Total of in-use chunks: 634.0KiB\n",
      "2022-06-13 20:28:09.928475: I tensorflow/core/common_runtime/bfc_allocator.cc:1097] total_region_allocated_bytes_: 520814592 memory_limit_: 520814592 available bytes: 0 curr_region_allocation_bytes_: 1041629184\n",
      "2022-06-13 20:28:09.928480: I tensorflow/core/common_runtime/bfc_allocator.cc:1103] Stats: \n",
      "Limit:                       520814592\n",
      "InUse:                          649216\n",
      "MaxInUse:                       649216\n",
      "NumAllocs:                         193\n",
      "MaxAllocSize:                    80128\n",
      "Reserved:                            0\n",
      "PeakReserved:                        0\n",
      "LargestFreeBlock:                    0\n",
      "\n",
      "2022-06-13 20:28:09.928485: W tensorflow/core/common_runtime/bfc_allocator.cc:491] *___________________________________________________________________________________________________\n",
      "2022-06-13 20:28:09.928507: W tensorflow/core/framework/op_kernel.cc:1745] OP_REQUIRES failed at matrix_diag_op.cc:275 : RESOURCE_EXHAUSTED: OOM when allocating tensor with shape[10000,10000] and type double on /job:localhost/replica:0/task:0/device:GPU:0 by allocator GPU_0_bfc\n",
      "2022-06-13 20:28:09.958771: W tensorflow/core/common_runtime/bfc_allocator.cc:479] Allocator (GPU_0_bfc) ran out of memory trying to allocate 762.94MiB (rounded to 800000000)requested by op MatMul\n",
      "If the cause is memory fragmentation maybe the environment variable 'TF_GPU_ALLOCATOR=cuda_malloc_async' will improve the situation. \n",
      "Current allocation summary follows.\n",
      "Current allocation summary follows.\n",
      "2022-06-13 20:28:09.958792: I tensorflow/core/common_runtime/bfc_allocator.cc:1027] BFCAllocator dump for GPU_0_bfc\n",
      "2022-06-13 20:28:09.958798: I tensorflow/core/common_runtime/bfc_allocator.cc:1034] Bin (256): \tTotal Chunks: 29, Chunks in use: 27. 7.2KiB allocated for chunks. 6.8KiB in use in bin. 552B client-requested in use in bin.\n",
      "2022-06-13 20:28:09.958802: I tensorflow/core/common_runtime/bfc_allocator.cc:1034] Bin (512): \tTotal Chunks: 2, Chunks in use: 0. 1.0KiB allocated for chunks. 0B in use in bin. 0B client-requested in use in bin.\n",
      "2022-06-13 20:28:09.958806: I tensorflow/core/common_runtime/bfc_allocator.cc:1034] Bin (1024): \tTotal Chunks: 1, Chunks in use: 1. 1.2KiB allocated for chunks. 1.2KiB in use in bin. 1.0KiB client-requested in use in bin.\n",
      "2022-06-13 20:28:09.958811: I tensorflow/core/common_runtime/bfc_allocator.cc:1034] Bin (2048): \tTotal Chunks: 0, Chunks in use: 0. 0B allocated for chunks. 0B in use in bin. 0B client-requested in use in bin.\n",
      "2022-06-13 20:28:09.958816: I tensorflow/core/common_runtime/bfc_allocator.cc:1034] Bin (4096): \tTotal Chunks: 0, Chunks in use: 0. 0B allocated for chunks. 0B in use in bin. 0B client-requested in use in bin.\n",
      "2022-06-13 20:28:09.958819: I tensorflow/core/common_runtime/bfc_allocator.cc:1034] Bin (8192): \tTotal Chunks: 0, Chunks in use: 0. 0B allocated for chunks. 0B in use in bin. 0B client-requested in use in bin.\n",
      "2022-06-13 20:28:09.958822: I tensorflow/core/common_runtime/bfc_allocator.cc:1034] Bin (16384): \tTotal Chunks: 0, Chunks in use: 0. 0B allocated for chunks. 0B in use in bin. 0B client-requested in use in bin.\n",
      "2022-06-13 20:28:09.958825: I tensorflow/core/common_runtime/bfc_allocator.cc:1034] Bin (32768): \tTotal Chunks: 0, Chunks in use: 0. 0B allocated for chunks. 0B in use in bin. 0B client-requested in use in bin.\n",
      "2022-06-13 20:28:09.958829: I tensorflow/core/common_runtime/bfc_allocator.cc:1034] Bin (65536): \tTotal Chunks: 8, Chunks in use: 8. 626.0KiB allocated for chunks. 626.0KiB in use in bin. 625.0KiB client-requested in use in bin.\n",
      "2022-06-13 20:28:09.958832: I tensorflow/core/common_runtime/bfc_allocator.cc:1034] Bin (131072): \tTotal Chunks: 0, Chunks in use: 0. 0B allocated for chunks. 0B in use in bin. 0B client-requested in use in bin.\n",
      "2022-06-13 20:28:09.958835: I tensorflow/core/common_runtime/bfc_allocator.cc:1034] Bin (262144): \tTotal Chunks: 0, Chunks in use: 0. 0B allocated for chunks. 0B in use in bin. 0B client-requested in use in bin.\n",
      "2022-06-13 20:28:09.958838: I tensorflow/core/common_runtime/bfc_allocator.cc:1034] Bin (524288): \tTotal Chunks: 0, Chunks in use: 0. 0B allocated for chunks. 0B in use in bin. 0B client-requested in use in bin.\n",
      "2022-06-13 20:28:09.958842: I tensorflow/core/common_runtime/bfc_allocator.cc:1034] Bin (1048576): \tTotal Chunks: 0, Chunks in use: 0. 0B allocated for chunks. 0B in use in bin. 0B client-requested in use in bin.\n",
      "2022-06-13 20:28:09.958845: I tensorflow/core/common_runtime/bfc_allocator.cc:1034] Bin (2097152): \tTotal Chunks: 0, Chunks in use: 0. 0B allocated for chunks. 0B in use in bin. 0B client-requested in use in bin.\n",
      "2022-06-13 20:28:09.958848: I tensorflow/core/common_runtime/bfc_allocator.cc:1034] Bin (4194304): \tTotal Chunks: 0, Chunks in use: 0. 0B allocated for chunks. 0B in use in bin. 0B client-requested in use in bin.\n",
      "2022-06-13 20:28:09.958850: I tensorflow/core/common_runtime/bfc_allocator.cc:1034] Bin (8388608): \tTotal Chunks: 0, Chunks in use: 0. 0B allocated for chunks. 0B in use in bin. 0B client-requested in use in bin.\n",
      "2022-06-13 20:28:09.958853: I tensorflow/core/common_runtime/bfc_allocator.cc:1034] Bin (16777216): \tTotal Chunks: 0, Chunks in use: 0. 0B allocated for chunks. 0B in use in bin. 0B client-requested in use in bin.\n",
      "2022-06-13 20:28:09.958856: I tensorflow/core/common_runtime/bfc_allocator.cc:1034] Bin (33554432): \tTotal Chunks: 0, Chunks in use: 0. 0B allocated for chunks. 0B in use in bin. 0B client-requested in use in bin.\n",
      "2022-06-13 20:28:09.958859: I tensorflow/core/common_runtime/bfc_allocator.cc:1034] Bin (67108864): \tTotal Chunks: 0, Chunks in use: 0. 0B allocated for chunks. 0B in use in bin. 0B client-requested in use in bin.\n",
      "2022-06-13 20:28:09.958862: I tensorflow/core/common_runtime/bfc_allocator.cc:1034] Bin (134217728): \tTotal Chunks: 0, Chunks in use: 0. 0B allocated for chunks. 0B in use in bin. 0B client-requested in use in bin.\n",
      "2022-06-13 20:28:09.958866: I tensorflow/core/common_runtime/bfc_allocator.cc:1034] Bin (268435456): \tTotal Chunks: 1, Chunks in use: 0. 496.07MiB allocated for chunks. 0B in use in bin. 0B client-requested in use in bin.\n",
      "2022-06-13 20:28:09.958871: I tensorflow/core/common_runtime/bfc_allocator.cc:1050] Bin for 762.94MiB was 256.00MiB, Chunk State: \n",
      "2022-06-13 20:28:09.958879: I tensorflow/core/common_runtime/bfc_allocator.cc:1056]   Size: 496.07MiB | Requested Size: 8B | in_use: 0 | bin_num: 20, prev:   Size: 78.2KiB | Requested Size: 78.1KiB | in_use: 1 | bin_num: -1\n",
      "2022-06-13 20:28:09.958884: I tensorflow/core/common_runtime/bfc_allocator.cc:1063] Next region of size 520814592\n",
      "2022-06-13 20:28:09.958888: I tensorflow/core/common_runtime/bfc_allocator.cc:1083] InUse at 7f5090000000 of size 256 next 1\n",
      "2022-06-13 20:28:09.958891: I tensorflow/core/common_runtime/bfc_allocator.cc:1083] InUse at 7f5090000100 of size 1280 next 2\n",
      "2022-06-13 20:28:09.958893: I tensorflow/core/common_runtime/bfc_allocator.cc:1083] InUse at 7f5090000600 of size 256 next 3\n",
      "2022-06-13 20:28:09.958896: I tensorflow/core/common_runtime/bfc_allocator.cc:1083] InUse at 7f5090000700 of size 256 next 4\n",
      "2022-06-13 20:28:09.958898: I tensorflow/core/common_runtime/bfc_allocator.cc:1083] InUse at 7f5090000800 of size 256 next 5\n",
      "2022-06-13 20:28:09.958901: I tensorflow/core/common_runtime/bfc_allocator.cc:1083] InUse at 7f5090000900 of size 256 next 14\n",
      "2022-06-13 20:28:09.958903: I tensorflow/core/common_runtime/bfc_allocator.cc:1083] InUse at 7f5090000a00 of size 256 next 15\n",
      "2022-06-13 20:28:09.958905: I tensorflow/core/common_runtime/bfc_allocator.cc:1083] InUse at 7f5090000b00 of size 256 next 8\n",
      "2022-06-13 20:28:09.958908: I tensorflow/core/common_runtime/bfc_allocator.cc:1083] InUse at 7f5090000c00 of size 256 next 9\n",
      "2022-06-13 20:28:09.958910: I tensorflow/core/common_runtime/bfc_allocator.cc:1083] InUse at 7f5090000d00 of size 256 next 23\n",
      "2022-06-13 20:28:09.958912: I tensorflow/core/common_runtime/bfc_allocator.cc:1083] InUse at 7f5090000e00 of size 256 next 6\n",
      "2022-06-13 20:28:09.958915: I tensorflow/core/common_runtime/bfc_allocator.cc:1083] InUse at 7f5090000f00 of size 256 next 10\n",
      "2022-06-13 20:28:09.958917: I tensorflow/core/common_runtime/bfc_allocator.cc:1083] InUse at 7f5090001000 of size 256 next 7\n",
      "2022-06-13 20:28:09.958920: I tensorflow/core/common_runtime/bfc_allocator.cc:1083] InUse at 7f5090001100 of size 256 next 12\n",
      "2022-06-13 20:28:09.958922: I tensorflow/core/common_runtime/bfc_allocator.cc:1083] InUse at 7f5090001200 of size 256 next 11\n",
      "2022-06-13 20:28:09.958924: I tensorflow/core/common_runtime/bfc_allocator.cc:1083] InUse at 7f5090001300 of size 256 next 16\n",
      "2022-06-13 20:28:09.958927: I tensorflow/core/common_runtime/bfc_allocator.cc:1083] Free  at 7f5090001400 of size 512 next 18\n",
      "2022-06-13 20:28:09.958929: I tensorflow/core/common_runtime/bfc_allocator.cc:1083] InUse at 7f5090001600 of size 256 next 24\n",
      "2022-06-13 20:28:09.958932: I tensorflow/core/common_runtime/bfc_allocator.cc:1083] InUse at 7f5090001700 of size 256 next 25\n",
      "2022-06-13 20:28:09.958934: I tensorflow/core/common_runtime/bfc_allocator.cc:1083] InUse at 7f5090001800 of size 256 next 26\n",
      "2022-06-13 20:28:09.958937: I tensorflow/core/common_runtime/bfc_allocator.cc:1083] InUse at 7f5090001900 of size 256 next 20\n",
      "2022-06-13 20:28:09.958941: I tensorflow/core/common_runtime/bfc_allocator.cc:1083] InUse at 7f5090001a00 of size 80128 next 21\n",
      "2022-06-13 20:28:09.958945: I tensorflow/core/common_runtime/bfc_allocator.cc:1083] InUse at 7f5090015300 of size 80128 next 13\n",
      "2022-06-13 20:28:09.958948: I tensorflow/core/common_runtime/bfc_allocator.cc:1083] InUse at 7f5090028c00 of size 80128 next 22\n",
      "2022-06-13 20:28:09.958950: I tensorflow/core/common_runtime/bfc_allocator.cc:1083] InUse at 7f509003c500 of size 80128 next 19\n",
      "2022-06-13 20:28:09.958952: I tensorflow/core/common_runtime/bfc_allocator.cc:1083] InUse at 7f509004fe00 of size 256 next 27\n",
      "2022-06-13 20:28:09.958955: I tensorflow/core/common_runtime/bfc_allocator.cc:1083] InUse at 7f509004ff00 of size 256 next 28\n",
      "2022-06-13 20:28:09.958957: I tensorflow/core/common_runtime/bfc_allocator.cc:1083] InUse at 7f5090050000 of size 256 next 29\n",
      "2022-06-13 20:28:09.958960: I tensorflow/core/common_runtime/bfc_allocator.cc:1083] InUse at 7f5090050100 of size 256 next 30\n",
      "2022-06-13 20:28:09.958962: I tensorflow/core/common_runtime/bfc_allocator.cc:1083] InUse at 7f5090050200 of size 80128 next 31\n",
      "2022-06-13 20:28:09.958965: I tensorflow/core/common_runtime/bfc_allocator.cc:1083] InUse at 7f5090063b00 of size 256 next 32\n",
      "2022-06-13 20:28:09.958967: I tensorflow/core/common_runtime/bfc_allocator.cc:1083] InUse at 7f5090063c00 of size 256 next 33\n",
      "2022-06-13 20:28:09.958969: I tensorflow/core/common_runtime/bfc_allocator.cc:1083] Free  at 7f5090063d00 of size 256 next 34\n",
      "2022-06-13 20:28:09.958972: I tensorflow/core/common_runtime/bfc_allocator.cc:1083] InUse at 7f5090063e00 of size 256 next 35\n",
      "2022-06-13 20:28:09.958974: I tensorflow/core/common_runtime/bfc_allocator.cc:1083] Free  at 7f5090063f00 of size 256 next 36\n",
      "2022-06-13 20:28:09.958977: I tensorflow/core/common_runtime/bfc_allocator.cc:1083] InUse at 7f5090064000 of size 256 next 37\n",
      "2022-06-13 20:28:09.958979: I tensorflow/core/common_runtime/bfc_allocator.cc:1083] Free  at 7f5090064100 of size 512 next 39\n",
      "2022-06-13 20:28:09.958981: I tensorflow/core/common_runtime/bfc_allocator.cc:1083] InUse at 7f5090064300 of size 80128 next 40\n",
      "2022-06-13 20:28:09.958984: I tensorflow/core/common_runtime/bfc_allocator.cc:1083] InUse at 7f5090077c00 of size 80128 next 17\n",
      "2022-06-13 20:28:09.958986: I tensorflow/core/common_runtime/bfc_allocator.cc:1083] InUse at 7f509008b500 of size 80128 next 38\n",
      "2022-06-13 20:28:09.958989: I tensorflow/core/common_runtime/bfc_allocator.cc:1083] Free  at 7f509009ee00 of size 520163840 next 18446744073709551615\n",
      "2022-06-13 20:28:09.958991: I tensorflow/core/common_runtime/bfc_allocator.cc:1088]      Summary of in-use Chunks by size: \n",
      "2022-06-13 20:28:09.958995: I tensorflow/core/common_runtime/bfc_allocator.cc:1091] 27 Chunks of size 256 totalling 6.8KiB\n",
      "2022-06-13 20:28:09.958998: I tensorflow/core/common_runtime/bfc_allocator.cc:1091] 1 Chunks of size 1280 totalling 1.2KiB\n",
      "2022-06-13 20:28:09.959003: I tensorflow/core/common_runtime/bfc_allocator.cc:1091] 8 Chunks of size 80128 totalling 626.0KiB\n",
      "2022-06-13 20:28:09.959008: I tensorflow/core/common_runtime/bfc_allocator.cc:1095] Sum Total of in-use chunks: 634.0KiB\n",
      "2022-06-13 20:28:09.959012: I tensorflow/core/common_runtime/bfc_allocator.cc:1097] total_region_allocated_bytes_: 520814592 memory_limit_: 520814592 available bytes: 0 curr_region_allocation_bytes_: 1041629184\n",
      "2022-06-13 20:28:09.959017: I tensorflow/core/common_runtime/bfc_allocator.cc:1103] Stats: \n",
      "Limit:                       520814592\n",
      "InUse:                          649216\n",
      "MaxInUse:                       649216\n",
      "NumAllocs:                         193\n",
      "MaxAllocSize:                    80128\n",
      "Reserved:                            0\n",
      "PeakReserved:                        0\n",
      "LargestFreeBlock:                    0\n",
      "\n",
      "2022-06-13 20:28:09.959022: W tensorflow/core/common_runtime/bfc_allocator.cc:491] *___________________________________________________________________________________________________\n",
      "2022-06-13 20:28:09.959038: W tensorflow/core/framework/op_kernel.cc:1745] OP_REQUIRES failed at matmul_op_impl.h:681 : RESOURCE_EXHAUSTED: OOM when allocating tensor with shape[10000,10000] and type double on /job:localhost/replica:0/task:0/device:GPU:0 by allocator GPU_0_bfc\n",
      "2022-06-13 20:28:09.969555: W tensorflow/core/common_runtime/bfc_allocator.cc:479] Allocator (GPU_0_bfc) ran out of memory trying to allocate 762.94MiB (rounded to 800000000)requested by op ArithmeticOptimizer/AddOpsRewrite_Internal_0_add_7\n",
      "If the cause is memory fragmentation maybe the environment variable 'TF_GPU_ALLOCATOR=cuda_malloc_async' will improve the situation. \n",
      "Current allocation summary follows.\n",
      "Current allocation summary follows.\n",
      "2022-06-13 20:28:09.969567: I tensorflow/core/common_runtime/bfc_allocator.cc:1027] BFCAllocator dump for GPU_0_bfc\n",
      "2022-06-13 20:28:09.969573: I tensorflow/core/common_runtime/bfc_allocator.cc:1034] Bin (256): \tTotal Chunks: 29, Chunks in use: 27. 7.2KiB allocated for chunks. 6.8KiB in use in bin. 552B client-requested in use in bin.\n",
      "2022-06-13 20:28:09.969577: I tensorflow/core/common_runtime/bfc_allocator.cc:1034] Bin (512): \tTotal Chunks: 2, Chunks in use: 0. 1.0KiB allocated for chunks. 0B in use in bin. 0B client-requested in use in bin.\n",
      "2022-06-13 20:28:09.969580: I tensorflow/core/common_runtime/bfc_allocator.cc:1034] Bin (1024): \tTotal Chunks: 1, Chunks in use: 1. 1.2KiB allocated for chunks. 1.2KiB in use in bin. 1.0KiB client-requested in use in bin.\n",
      "2022-06-13 20:28:09.969584: I tensorflow/core/common_runtime/bfc_allocator.cc:1034] Bin (2048): \tTotal Chunks: 0, Chunks in use: 0. 0B allocated for chunks. 0B in use in bin. 0B client-requested in use in bin.\n",
      "2022-06-13 20:28:09.969586: I tensorflow/core/common_runtime/bfc_allocator.cc:1034] Bin (4096): \tTotal Chunks: 0, Chunks in use: 0. 0B allocated for chunks. 0B in use in bin. 0B client-requested in use in bin.\n",
      "2022-06-13 20:28:09.969589: I tensorflow/core/common_runtime/bfc_allocator.cc:1034] Bin (8192): \tTotal Chunks: 0, Chunks in use: 0. 0B allocated for chunks. 0B in use in bin. 0B client-requested in use in bin.\n",
      "2022-06-13 20:28:09.969592: I tensorflow/core/common_runtime/bfc_allocator.cc:1034] Bin (16384): \tTotal Chunks: 0, Chunks in use: 0. 0B allocated for chunks. 0B in use in bin. 0B client-requested in use in bin.\n",
      "2022-06-13 20:28:09.969595: I tensorflow/core/common_runtime/bfc_allocator.cc:1034] Bin (32768): \tTotal Chunks: 0, Chunks in use: 0. 0B allocated for chunks. 0B in use in bin. 0B client-requested in use in bin.\n",
      "2022-06-13 20:28:09.969599: I tensorflow/core/common_runtime/bfc_allocator.cc:1034] Bin (65536): \tTotal Chunks: 8, Chunks in use: 7. 626.0KiB allocated for chunks. 547.8KiB in use in bin. 546.9KiB client-requested in use in bin.\n",
      "2022-06-13 20:28:09.969602: I tensorflow/core/common_runtime/bfc_allocator.cc:1034] Bin (131072): \tTotal Chunks: 0, Chunks in use: 0. 0B allocated for chunks. 0B in use in bin. 0B client-requested in use in bin.\n",
      "2022-06-13 20:28:09.969605: I tensorflow/core/common_runtime/bfc_allocator.cc:1034] Bin (262144): \tTotal Chunks: 0, Chunks in use: 0. 0B allocated for chunks. 0B in use in bin. 0B client-requested in use in bin.\n",
      "2022-06-13 20:28:09.969608: I tensorflow/core/common_runtime/bfc_allocator.cc:1034] Bin (524288): \tTotal Chunks: 0, Chunks in use: 0. 0B allocated for chunks. 0B in use in bin. 0B client-requested in use in bin.\n",
      "2022-06-13 20:28:09.969611: I tensorflow/core/common_runtime/bfc_allocator.cc:1034] Bin (1048576): \tTotal Chunks: 0, Chunks in use: 0. 0B allocated for chunks. 0B in use in bin. 0B client-requested in use in bin.\n",
      "2022-06-13 20:28:09.969614: I tensorflow/core/common_runtime/bfc_allocator.cc:1034] Bin (2097152): \tTotal Chunks: 0, Chunks in use: 0. 0B allocated for chunks. 0B in use in bin. 0B client-requested in use in bin.\n",
      "2022-06-13 20:28:09.969617: I tensorflow/core/common_runtime/bfc_allocator.cc:1034] Bin (4194304): \tTotal Chunks: 0, Chunks in use: 0. 0B allocated for chunks. 0B in use in bin. 0B client-requested in use in bin.\n",
      "2022-06-13 20:28:09.969620: I tensorflow/core/common_runtime/bfc_allocator.cc:1034] Bin (8388608): \tTotal Chunks: 0, Chunks in use: 0. 0B allocated for chunks. 0B in use in bin. 0B client-requested in use in bin.\n",
      "2022-06-13 20:28:09.969623: I tensorflow/core/common_runtime/bfc_allocator.cc:1034] Bin (16777216): \tTotal Chunks: 0, Chunks in use: 0. 0B allocated for chunks. 0B in use in bin. 0B client-requested in use in bin.\n",
      "2022-06-13 20:28:09.969625: I tensorflow/core/common_runtime/bfc_allocator.cc:1034] Bin (33554432): \tTotal Chunks: 0, Chunks in use: 0. 0B allocated for chunks. 0B in use in bin. 0B client-requested in use in bin.\n",
      "2022-06-13 20:28:09.969628: I tensorflow/core/common_runtime/bfc_allocator.cc:1034] Bin (67108864): \tTotal Chunks: 0, Chunks in use: 0. 0B allocated for chunks. 0B in use in bin. 0B client-requested in use in bin.\n",
      "2022-06-13 20:28:09.969631: I tensorflow/core/common_runtime/bfc_allocator.cc:1034] Bin (134217728): \tTotal Chunks: 0, Chunks in use: 0. 0B allocated for chunks. 0B in use in bin. 0B client-requested in use in bin.\n",
      "2022-06-13 20:28:09.969635: I tensorflow/core/common_runtime/bfc_allocator.cc:1034] Bin (268435456): \tTotal Chunks: 1, Chunks in use: 0. 496.07MiB allocated for chunks. 0B in use in bin. 0B client-requested in use in bin.\n",
      "2022-06-13 20:28:09.969639: I tensorflow/core/common_runtime/bfc_allocator.cc:1050] Bin for 762.94MiB was 256.00MiB, Chunk State: \n",
      "2022-06-13 20:28:09.969644: I tensorflow/core/common_runtime/bfc_allocator.cc:1056]   Size: 496.07MiB | Requested Size: 8B | in_use: 0 | bin_num: 20, prev:   Size: 78.2KiB | Requested Size: 78.1KiB | in_use: 1 | bin_num: -1\n",
      "2022-06-13 20:28:09.969648: I tensorflow/core/common_runtime/bfc_allocator.cc:1063] Next region of size 520814592\n",
      "2022-06-13 20:28:09.969651: I tensorflow/core/common_runtime/bfc_allocator.cc:1083] InUse at 7f5090000000 of size 256 next 1\n",
      "2022-06-13 20:28:09.969654: I tensorflow/core/common_runtime/bfc_allocator.cc:1083] InUse at 7f5090000100 of size 1280 next 2\n",
      "2022-06-13 20:28:09.969657: I tensorflow/core/common_runtime/bfc_allocator.cc:1083] InUse at 7f5090000600 of size 256 next 3\n",
      "2022-06-13 20:28:09.969659: I tensorflow/core/common_runtime/bfc_allocator.cc:1083] InUse at 7f5090000700 of size 256 next 4\n",
      "2022-06-13 20:28:09.969662: I tensorflow/core/common_runtime/bfc_allocator.cc:1083] InUse at 7f5090000800 of size 256 next 5\n",
      "2022-06-13 20:28:09.969664: I tensorflow/core/common_runtime/bfc_allocator.cc:1083] InUse at 7f5090000900 of size 256 next 14\n",
      "2022-06-13 20:28:09.969666: I tensorflow/core/common_runtime/bfc_allocator.cc:1083] InUse at 7f5090000a00 of size 256 next 15\n",
      "2022-06-13 20:28:09.969669: I tensorflow/core/common_runtime/bfc_allocator.cc:1083] InUse at 7f5090000b00 of size 256 next 8\n",
      "2022-06-13 20:28:09.969671: I tensorflow/core/common_runtime/bfc_allocator.cc:1083] InUse at 7f5090000c00 of size 256 next 9\n",
      "2022-06-13 20:28:09.969674: I tensorflow/core/common_runtime/bfc_allocator.cc:1083] InUse at 7f5090000d00 of size 256 next 23\n",
      "2022-06-13 20:28:09.969676: I tensorflow/core/common_runtime/bfc_allocator.cc:1083] InUse at 7f5090000e00 of size 256 next 6\n",
      "2022-06-13 20:28:09.969679: I tensorflow/core/common_runtime/bfc_allocator.cc:1083] InUse at 7f5090000f00 of size 256 next 10\n",
      "2022-06-13 20:28:09.969681: I tensorflow/core/common_runtime/bfc_allocator.cc:1083] InUse at 7f5090001000 of size 256 next 7\n",
      "2022-06-13 20:28:09.969683: I tensorflow/core/common_runtime/bfc_allocator.cc:1083] InUse at 7f5090001100 of size 256 next 12\n",
      "2022-06-13 20:28:09.969686: I tensorflow/core/common_runtime/bfc_allocator.cc:1083] InUse at 7f5090001200 of size 256 next 11\n",
      "2022-06-13 20:28:09.969688: I tensorflow/core/common_runtime/bfc_allocator.cc:1083] InUse at 7f5090001300 of size 256 next 16\n",
      "2022-06-13 20:28:09.969691: I tensorflow/core/common_runtime/bfc_allocator.cc:1083] Free  at 7f5090001400 of size 512 next 18\n",
      "2022-06-13 20:28:09.969693: I tensorflow/core/common_runtime/bfc_allocator.cc:1083] InUse at 7f5090001600 of size 256 next 24\n",
      "2022-06-13 20:28:09.969696: I tensorflow/core/common_runtime/bfc_allocator.cc:1083] InUse at 7f5090001700 of size 256 next 25\n",
      "2022-06-13 20:28:09.969698: I tensorflow/core/common_runtime/bfc_allocator.cc:1083] InUse at 7f5090001800 of size 256 next 26\n",
      "2022-06-13 20:28:09.969700: I tensorflow/core/common_runtime/bfc_allocator.cc:1083] InUse at 7f5090001900 of size 256 next 20\n",
      "2022-06-13 20:28:09.969703: I tensorflow/core/common_runtime/bfc_allocator.cc:1083] InUse at 7f5090001a00 of size 80128 next 21\n",
      "2022-06-13 20:28:09.969705: I tensorflow/core/common_runtime/bfc_allocator.cc:1083] InUse at 7f5090015300 of size 80128 next 13\n",
      "2022-06-13 20:28:09.969708: I tensorflow/core/common_runtime/bfc_allocator.cc:1083] InUse at 7f5090028c00 of size 80128 next 22\n",
      "2022-06-13 20:28:09.969710: I tensorflow/core/common_runtime/bfc_allocator.cc:1083] InUse at 7f509003c500 of size 80128 next 19\n",
      "2022-06-13 20:28:09.969713: I tensorflow/core/common_runtime/bfc_allocator.cc:1083] InUse at 7f509004fe00 of size 256 next 27\n",
      "2022-06-13 20:28:09.969715: I tensorflow/core/common_runtime/bfc_allocator.cc:1083] InUse at 7f509004ff00 of size 256 next 28\n",
      "2022-06-13 20:28:09.969718: I tensorflow/core/common_runtime/bfc_allocator.cc:1083] InUse at 7f5090050000 of size 256 next 29\n",
      "2022-06-13 20:28:09.969721: I tensorflow/core/common_runtime/bfc_allocator.cc:1083] InUse at 7f5090050100 of size 256 next 30\n",
      "2022-06-13 20:28:09.969723: I tensorflow/core/common_runtime/bfc_allocator.cc:1083] InUse at 7f5090050200 of size 80128 next 31\n",
      "2022-06-13 20:28:09.969726: I tensorflow/core/common_runtime/bfc_allocator.cc:1083] InUse at 7f5090063b00 of size 256 next 32\n",
      "2022-06-13 20:28:09.969728: I tensorflow/core/common_runtime/bfc_allocator.cc:1083] InUse at 7f5090063c00 of size 256 next 33\n",
      "2022-06-13 20:28:09.969731: I tensorflow/core/common_runtime/bfc_allocator.cc:1083] Free  at 7f5090063d00 of size 256 next 34\n",
      "2022-06-13 20:28:09.969733: I tensorflow/core/common_runtime/bfc_allocator.cc:1083] InUse at 7f5090063e00 of size 256 next 35\n",
      "2022-06-13 20:28:09.969735: I tensorflow/core/common_runtime/bfc_allocator.cc:1083] Free  at 7f5090063f00 of size 256 next 36\n",
      "2022-06-13 20:28:09.969738: I tensorflow/core/common_runtime/bfc_allocator.cc:1083] InUse at 7f5090064000 of size 256 next 37\n",
      "2022-06-13 20:28:09.969740: I tensorflow/core/common_runtime/bfc_allocator.cc:1083] Free  at 7f5090064100 of size 512 next 39\n",
      "2022-06-13 20:28:09.969743: I tensorflow/core/common_runtime/bfc_allocator.cc:1083] InUse at 7f5090064300 of size 80128 next 40\n",
      "2022-06-13 20:28:09.969745: I tensorflow/core/common_runtime/bfc_allocator.cc:1083] Free  at 7f5090077c00 of size 80128 next 17\n",
      "2022-06-13 20:28:09.969748: I tensorflow/core/common_runtime/bfc_allocator.cc:1083] InUse at 7f509008b500 of size 80128 next 38\n",
      "2022-06-13 20:28:09.969750: I tensorflow/core/common_runtime/bfc_allocator.cc:1083] Free  at 7f509009ee00 of size 520163840 next 18446744073709551615\n",
      "2022-06-13 20:28:09.969753: I tensorflow/core/common_runtime/bfc_allocator.cc:1088]      Summary of in-use Chunks by size: \n",
      "2022-06-13 20:28:09.969756: I tensorflow/core/common_runtime/bfc_allocator.cc:1091] 27 Chunks of size 256 totalling 6.8KiB\n",
      "2022-06-13 20:28:09.969759: I tensorflow/core/common_runtime/bfc_allocator.cc:1091] 1 Chunks of size 1280 totalling 1.2KiB\n",
      "2022-06-13 20:28:09.969762: I tensorflow/core/common_runtime/bfc_allocator.cc:1091] 7 Chunks of size 80128 totalling 547.8KiB\n",
      "2022-06-13 20:28:09.969766: I tensorflow/core/common_runtime/bfc_allocator.cc:1095] Sum Total of in-use chunks: 555.8KiB\n",
      "2022-06-13 20:28:09.969769: I tensorflow/core/common_runtime/bfc_allocator.cc:1097] total_region_allocated_bytes_: 520814592 memory_limit_: 520814592 available bytes: 0 curr_region_allocation_bytes_: 1041629184\n",
      "2022-06-13 20:28:09.969773: I tensorflow/core/common_runtime/bfc_allocator.cc:1103] Stats: \n",
      "Limit:                       520814592\n",
      "InUse:                          569088\n",
      "MaxInUse:                       649216\n",
      "NumAllocs:                         193\n",
      "MaxAllocSize:                    80128\n",
      "Reserved:                            0\n",
      "PeakReserved:                        0\n",
      "LargestFreeBlock:                    0\n",
      "\n",
      "2022-06-13 20:28:09.969778: W tensorflow/core/common_runtime/bfc_allocator.cc:491] *___________________________________________________________________________________________________\n",
      "2022-06-13 20:28:09.969793: W tensorflow/core/framework/op_kernel.cc:1733] RESOURCE_EXHAUSTED: failed to allocate memory\n"
     ]
    },
    {
     "ename": "ResourceExhaustedError",
     "evalue": "Graph execution error:\n\nDetected at node 'gradient_tape/eye/diag' defined at (most recent call last):\n    File \"/usr/lib/python3.9/runpy.py\", line 197, in _run_module_as_main\n      return _run_code(code, main_globals, None,\n    File \"/usr/lib/python3.9/runpy.py\", line 87, in _run_code\n      exec(code, run_globals)\n    File \"/vol/bitbucket/ad6013/envs/gp-causal-env/lib/python3.9/site-packages/ipykernel_launcher.py\", line 17, in <module>\n      app.launch_new_instance()\n    File \"/vol/bitbucket/ad6013/envs/gp-causal-env/lib/python3.9/site-packages/traitlets/config/application.py\", line 846, in launch_instance\n      app.start()\n    File \"/vol/bitbucket/ad6013/envs/gp-causal-env/lib/python3.9/site-packages/ipykernel/kernelapp.py\", line 707, in start\n      self.io_loop.start()\n    File \"/vol/bitbucket/ad6013/envs/gp-causal-env/lib/python3.9/site-packages/tornado/platform/asyncio.py\", line 199, in start\n      self.asyncio_loop.run_forever()\n    File \"/usr/lib/python3.9/asyncio/base_events.py\", line 596, in run_forever\n      self._run_once()\n    File \"/usr/lib/python3.9/asyncio/base_events.py\", line 1890, in _run_once\n      handle._run()\n    File \"/usr/lib/python3.9/asyncio/events.py\", line 80, in _run\n      self._context.run(self._callback, *self._args)\n    File \"/vol/bitbucket/ad6013/envs/gp-causal-env/lib/python3.9/site-packages/ipykernel/kernelbase.py\", line 502, in dispatch_queue\n      await self.process_one()\n    File \"/vol/bitbucket/ad6013/envs/gp-causal-env/lib/python3.9/site-packages/ipykernel/kernelbase.py\", line 491, in process_one\n      await dispatch(*args)\n    File \"/vol/bitbucket/ad6013/envs/gp-causal-env/lib/python3.9/site-packages/ipykernel/kernelbase.py\", line 398, in dispatch_shell\n      await result\n    File \"/vol/bitbucket/ad6013/envs/gp-causal-env/lib/python3.9/site-packages/ipykernel/kernelbase.py\", line 722, in execute_request\n      reply_content = await reply_content\n    File \"/vol/bitbucket/ad6013/envs/gp-causal-env/lib/python3.9/site-packages/ipykernel/ipkernel.py\", line 389, in do_execute\n      res = shell.run_cell(code, store_history=store_history, silent=silent)\n    File \"/vol/bitbucket/ad6013/envs/gp-causal-env/lib/python3.9/site-packages/ipykernel/zmqshell.py\", line 528, in run_cell\n      return super().run_cell(*args, **kwargs)\n    File \"/vol/bitbucket/ad6013/envs/gp-causal-env/lib/python3.9/site-packages/IPython/core/interactiveshell.py\", line 2863, in run_cell\n      result = self._run_cell(\n    File \"/vol/bitbucket/ad6013/envs/gp-causal-env/lib/python3.9/site-packages/IPython/core/interactiveshell.py\", line 2909, in _run_cell\n      return runner(coro)\n    File \"/vol/bitbucket/ad6013/envs/gp-causal-env/lib/python3.9/site-packages/IPython/core/async_helpers.py\", line 129, in _pseudo_sync_runner\n      coro.send(None)\n    File \"/vol/bitbucket/ad6013/envs/gp-causal-env/lib/python3.9/site-packages/IPython/core/interactiveshell.py\", line 3106, in run_cell_async\n      has_raised = await self.run_ast_nodes(code_ast.body, cell_name,\n    File \"/vol/bitbucket/ad6013/envs/gp-causal-env/lib/python3.9/site-packages/IPython/core/interactiveshell.py\", line 3309, in run_ast_nodes\n      if await self.run_code(code, result, async_=asy):\n    File \"/vol/bitbucket/ad6013/envs/gp-causal-env/lib/python3.9/site-packages/IPython/core/interactiveshell.py\", line 3369, in run_code\n      exec(code_obj, self.user_global_ns, self.user_ns)\n    File \"/tmp/ipykernel_3981788/1272654224.py\", line 20, in <cell line: 20>\n      opt_logs = opt.minimize(\n    File \"/vol/bitbucket/ad6013/envs/gp-causal-env/lib/python3.9/site-packages/gpflow/optimizers/scipy.py\", line 94, in minimize\n      return scipy.optimize.minimize(\n    File \"/vol/bitbucket/ad6013/envs/gp-causal-env/lib/python3.9/site-packages/scipy/optimize/_minimize.py\", line 681, in minimize\n      res = _minimize_lbfgsb(fun, x0, args, jac, bounds,\n    File \"/vol/bitbucket/ad6013/envs/gp-causal-env/lib/python3.9/site-packages/scipy/optimize/_lbfgsb_py.py\", line 308, in _minimize_lbfgsb\n      sf = _prepare_scalar_function(fun, x0, jac=jac, args=args, epsilon=eps,\n    File \"/vol/bitbucket/ad6013/envs/gp-causal-env/lib/python3.9/site-packages/scipy/optimize/_optimize.py\", line 263, in _prepare_scalar_function\n      sf = ScalarFunction(fun, x0, args, grad, hess,\n    File \"/vol/bitbucket/ad6013/envs/gp-causal-env/lib/python3.9/site-packages/scipy/optimize/_differentiable_functions.py\", line 158, in __init__\n      self._update_fun()\n    File \"/vol/bitbucket/ad6013/envs/gp-causal-env/lib/python3.9/site-packages/scipy/optimize/_differentiable_functions.py\", line 251, in _update_fun\n      self._update_fun_impl()\n    File \"/vol/bitbucket/ad6013/envs/gp-causal-env/lib/python3.9/site-packages/scipy/optimize/_differentiable_functions.py\", line 155, in update_fun\n      self.f = fun_wrapped(self.x)\n    File \"/vol/bitbucket/ad6013/envs/gp-causal-env/lib/python3.9/site-packages/scipy/optimize/_differentiable_functions.py\", line 137, in fun_wrapped\n      fx = fun(np.copy(x), *args)\n    File \"/vol/bitbucket/ad6013/envs/gp-causal-env/lib/python3.9/site-packages/scipy/optimize/_optimize.py\", line 76, in __call__\n      self._compute_if_needed(x, *args)\n    File \"/vol/bitbucket/ad6013/envs/gp-causal-env/lib/python3.9/site-packages/scipy/optimize/_optimize.py\", line 70, in _compute_if_needed\n      fg = self.fun(x, *args)\n    File \"/vol/bitbucket/ad6013/envs/gp-causal-env/lib/python3.9/site-packages/gpflow/optimizers/scipy.py\", line 136, in _eval\n      loss, grad = _tf_eval(tf.convert_to_tensor(x))\n    File \"/vol/bitbucket/ad6013/envs/gp-causal-env/lib/python3.9/site-packages/gpflow/optimizers/scipy.py\", line 118, in _tf_eval\n      if first_call:\n    File \"/vol/bitbucket/ad6013/envs/gp-causal-env/lib/python3.9/site-packages/gpflow/optimizers/scipy.py\", line 120, in _tf_eval\n      loss, grads = _compute_loss_and_gradients(\n    File \"/vol/bitbucket/ad6013/envs/gp-causal-env/lib/python3.9/site-packages/gpflow/optimizers/scipy.py\", line 224, in _compute_loss_and_gradients\n      grads = tape.gradient(loss, variables, unconnected_gradients=unconnected_gradients)\nNode: 'gradient_tape/eye/diag'\nOOM when allocating tensor with shape[10000,10000] and type double on /job:localhost/replica:0/task:0/device:GPU:0 by allocator GPU_0_bfc\n\t [[{{node gradient_tape/eye/diag}}]]\nHint: If you want to see a list of allocated tensors when OOM happens, add report_tensor_allocations_upon_oom to RunOptions for current allocation info. This isn't available when running in Eager mode.\n [Op:__inference__tf_eval_601]",
     "output_type": "error",
     "traceback": [
      "\u001b[0;31m---------------------------------------------------------------------------\u001b[0m",
      "\u001b[0;31mResourceExhaustedError\u001b[0m                    Traceback (most recent call last)",
      "\u001b[1;32m/vol/bitbucket/ad6013/Research/gp-causal/notebooks/data_playground.ipynb Cell 30'\u001b[0m in \u001b[0;36m<cell line: 20>\u001b[0;34m()\u001b[0m\n\u001b[1;32m     <a href='vscode-notebook-cell://ssh-remote%2Bphlogiston.doc.ic.ac.uk/vol/bitbucket/ad6013/Research/gp-causal/notebooks/data_playground.ipynb#ch0000027vscode-remote?line=17'>18</a>\u001b[0m m_gpr\u001b[39m.\u001b[39mlikelihood\u001b[39m.\u001b[39mvariance \u001b[39m=\u001b[39m likelihood_variance\n\u001b[1;32m     <a href='vscode-notebook-cell://ssh-remote%2Bphlogiston.doc.ic.ac.uk/vol/bitbucket/ad6013/Research/gp-causal/notebooks/data_playground.ipynb#ch0000027vscode-remote?line=18'>19</a>\u001b[0m opt \u001b[39m=\u001b[39m gpflow\u001b[39m.\u001b[39moptimizers\u001b[39m.\u001b[39mScipy()\n\u001b[0;32m---> <a href='vscode-notebook-cell://ssh-remote%2Bphlogiston.doc.ic.ac.uk/vol/bitbucket/ad6013/Research/gp-causal/notebooks/data_playground.ipynb#ch0000027vscode-remote?line=19'>20</a>\u001b[0m opt_logs \u001b[39m=\u001b[39m opt\u001b[39m.\u001b[39;49mminimize(\n\u001b[1;32m     <a href='vscode-notebook-cell://ssh-remote%2Bphlogiston.doc.ic.ac.uk/vol/bitbucket/ad6013/Research/gp-causal/notebooks/data_playground.ipynb#ch0000027vscode-remote?line=20'>21</a>\u001b[0m     m_gpr\u001b[39m.\u001b[39;49mtraining_loss, m_gpr\u001b[39m.\u001b[39;49mtrainable_variables, options\u001b[39m=\u001b[39;49m\u001b[39mdict\u001b[39;49m(maxiter\u001b[39m=\u001b[39;49m\u001b[39m10000\u001b[39;49m)\n\u001b[1;32m     <a href='vscode-notebook-cell://ssh-remote%2Bphlogiston.doc.ic.ac.uk/vol/bitbucket/ad6013/Research/gp-causal/notebooks/data_playground.ipynb#ch0000027vscode-remote?line=21'>22</a>\u001b[0m )\n",
      "File \u001b[0;32m/vol/bitbucket/ad6013/envs/gp-causal-env/lib/python3.9/site-packages/gpflow/optimizers/scipy.py:94\u001b[0m, in \u001b[0;36mScipy.minimize\u001b[0;34m(self, closure, variables, method, step_callback, compile, allow_unused_variables, **scipy_kwargs)\u001b[0m\n\u001b[1;32m     <a href='file:///vol/bitbucket/ad6013/envs/gp-causal-env/lib/python3.9/site-packages/gpflow/optimizers/scipy.py?line=90'>91</a>\u001b[0m     callback \u001b[39m=\u001b[39m \u001b[39mself\u001b[39m\u001b[39m.\u001b[39mcallback_func(variables, step_callback)\n\u001b[1;32m     <a href='file:///vol/bitbucket/ad6013/envs/gp-causal-env/lib/python3.9/site-packages/gpflow/optimizers/scipy.py?line=91'>92</a>\u001b[0m     scipy_kwargs\u001b[39m.\u001b[39mupdate(\u001b[39mdict\u001b[39m(callback\u001b[39m=\u001b[39mcallback))\n\u001b[0;32m---> <a href='file:///vol/bitbucket/ad6013/envs/gp-causal-env/lib/python3.9/site-packages/gpflow/optimizers/scipy.py?line=93'>94</a>\u001b[0m \u001b[39mreturn\u001b[39;00m scipy\u001b[39m.\u001b[39;49moptimize\u001b[39m.\u001b[39;49mminimize(\n\u001b[1;32m     <a href='file:///vol/bitbucket/ad6013/envs/gp-causal-env/lib/python3.9/site-packages/gpflow/optimizers/scipy.py?line=94'>95</a>\u001b[0m     func, initial_params, jac\u001b[39m=\u001b[39;49m\u001b[39mTrue\u001b[39;49;00m, method\u001b[39m=\u001b[39;49mmethod, \u001b[39m*\u001b[39;49m\u001b[39m*\u001b[39;49mscipy_kwargs\n\u001b[1;32m     <a href='file:///vol/bitbucket/ad6013/envs/gp-causal-env/lib/python3.9/site-packages/gpflow/optimizers/scipy.py?line=95'>96</a>\u001b[0m )\n",
      "File \u001b[0;32m/vol/bitbucket/ad6013/envs/gp-causal-env/lib/python3.9/site-packages/scipy/optimize/_minimize.py:681\u001b[0m, in \u001b[0;36mminimize\u001b[0;34m(fun, x0, args, method, jac, hess, hessp, bounds, constraints, tol, callback, options)\u001b[0m\n\u001b[1;32m    <a href='file:///vol/bitbucket/ad6013/envs/gp-causal-env/lib/python3.9/site-packages/scipy/optimize/_minimize.py?line=677'>678</a>\u001b[0m     res \u001b[39m=\u001b[39m _minimize_newtoncg(fun, x0, args, jac, hess, hessp, callback,\n\u001b[1;32m    <a href='file:///vol/bitbucket/ad6013/envs/gp-causal-env/lib/python3.9/site-packages/scipy/optimize/_minimize.py?line=678'>679</a>\u001b[0m                              \u001b[39m*\u001b[39m\u001b[39m*\u001b[39moptions)\n\u001b[1;32m    <a href='file:///vol/bitbucket/ad6013/envs/gp-causal-env/lib/python3.9/site-packages/scipy/optimize/_minimize.py?line=679'>680</a>\u001b[0m \u001b[39melif\u001b[39;00m meth \u001b[39m==\u001b[39m \u001b[39m'\u001b[39m\u001b[39ml-bfgs-b\u001b[39m\u001b[39m'\u001b[39m:\n\u001b[0;32m--> <a href='file:///vol/bitbucket/ad6013/envs/gp-causal-env/lib/python3.9/site-packages/scipy/optimize/_minimize.py?line=680'>681</a>\u001b[0m     res \u001b[39m=\u001b[39m _minimize_lbfgsb(fun, x0, args, jac, bounds,\n\u001b[1;32m    <a href='file:///vol/bitbucket/ad6013/envs/gp-causal-env/lib/python3.9/site-packages/scipy/optimize/_minimize.py?line=681'>682</a>\u001b[0m                            callback\u001b[39m=\u001b[39;49mcallback, \u001b[39m*\u001b[39;49m\u001b[39m*\u001b[39;49moptions)\n\u001b[1;32m    <a href='file:///vol/bitbucket/ad6013/envs/gp-causal-env/lib/python3.9/site-packages/scipy/optimize/_minimize.py?line=682'>683</a>\u001b[0m \u001b[39melif\u001b[39;00m meth \u001b[39m==\u001b[39m \u001b[39m'\u001b[39m\u001b[39mtnc\u001b[39m\u001b[39m'\u001b[39m:\n\u001b[1;32m    <a href='file:///vol/bitbucket/ad6013/envs/gp-causal-env/lib/python3.9/site-packages/scipy/optimize/_minimize.py?line=683'>684</a>\u001b[0m     res \u001b[39m=\u001b[39m _minimize_tnc(fun, x0, args, jac, bounds, callback\u001b[39m=\u001b[39mcallback,\n\u001b[1;32m    <a href='file:///vol/bitbucket/ad6013/envs/gp-causal-env/lib/python3.9/site-packages/scipy/optimize/_minimize.py?line=684'>685</a>\u001b[0m                         \u001b[39m*\u001b[39m\u001b[39m*\u001b[39moptions)\n",
      "File \u001b[0;32m/vol/bitbucket/ad6013/envs/gp-causal-env/lib/python3.9/site-packages/scipy/optimize/_lbfgsb_py.py:308\u001b[0m, in \u001b[0;36m_minimize_lbfgsb\u001b[0;34m(fun, x0, args, jac, bounds, disp, maxcor, ftol, gtol, eps, maxfun, maxiter, iprint, callback, maxls, finite_diff_rel_step, **unknown_options)\u001b[0m\n\u001b[1;32m    <a href='file:///vol/bitbucket/ad6013/envs/gp-causal-env/lib/python3.9/site-packages/scipy/optimize/_lbfgsb_py.py?line=304'>305</a>\u001b[0m     \u001b[39melse\u001b[39;00m:\n\u001b[1;32m    <a href='file:///vol/bitbucket/ad6013/envs/gp-causal-env/lib/python3.9/site-packages/scipy/optimize/_lbfgsb_py.py?line=305'>306</a>\u001b[0m         iprint \u001b[39m=\u001b[39m disp\n\u001b[0;32m--> <a href='file:///vol/bitbucket/ad6013/envs/gp-causal-env/lib/python3.9/site-packages/scipy/optimize/_lbfgsb_py.py?line=307'>308</a>\u001b[0m sf \u001b[39m=\u001b[39m _prepare_scalar_function(fun, x0, jac\u001b[39m=\u001b[39;49mjac, args\u001b[39m=\u001b[39;49margs, epsilon\u001b[39m=\u001b[39;49meps,\n\u001b[1;32m    <a href='file:///vol/bitbucket/ad6013/envs/gp-causal-env/lib/python3.9/site-packages/scipy/optimize/_lbfgsb_py.py?line=308'>309</a>\u001b[0m                               bounds\u001b[39m=\u001b[39;49mnew_bounds,\n\u001b[1;32m    <a href='file:///vol/bitbucket/ad6013/envs/gp-causal-env/lib/python3.9/site-packages/scipy/optimize/_lbfgsb_py.py?line=309'>310</a>\u001b[0m                               finite_diff_rel_step\u001b[39m=\u001b[39;49mfinite_diff_rel_step)\n\u001b[1;32m    <a href='file:///vol/bitbucket/ad6013/envs/gp-causal-env/lib/python3.9/site-packages/scipy/optimize/_lbfgsb_py.py?line=311'>312</a>\u001b[0m func_and_grad \u001b[39m=\u001b[39m sf\u001b[39m.\u001b[39mfun_and_grad\n\u001b[1;32m    <a href='file:///vol/bitbucket/ad6013/envs/gp-causal-env/lib/python3.9/site-packages/scipy/optimize/_lbfgsb_py.py?line=313'>314</a>\u001b[0m fortran_int \u001b[39m=\u001b[39m _lbfgsb\u001b[39m.\u001b[39mtypes\u001b[39m.\u001b[39mintvar\u001b[39m.\u001b[39mdtype\n",
      "File \u001b[0;32m/vol/bitbucket/ad6013/envs/gp-causal-env/lib/python3.9/site-packages/scipy/optimize/_optimize.py:263\u001b[0m, in \u001b[0;36m_prepare_scalar_function\u001b[0;34m(fun, x0, jac, args, bounds, epsilon, finite_diff_rel_step, hess)\u001b[0m\n\u001b[1;32m    <a href='file:///vol/bitbucket/ad6013/envs/gp-causal-env/lib/python3.9/site-packages/scipy/optimize/_optimize.py?line=258'>259</a>\u001b[0m     bounds \u001b[39m=\u001b[39m (\u001b[39m-\u001b[39mnp\u001b[39m.\u001b[39minf, np\u001b[39m.\u001b[39minf)\n\u001b[1;32m    <a href='file:///vol/bitbucket/ad6013/envs/gp-causal-env/lib/python3.9/site-packages/scipy/optimize/_optimize.py?line=260'>261</a>\u001b[0m \u001b[39m# ScalarFunction caches. Reuse of fun(x) during grad\u001b[39;00m\n\u001b[1;32m    <a href='file:///vol/bitbucket/ad6013/envs/gp-causal-env/lib/python3.9/site-packages/scipy/optimize/_optimize.py?line=261'>262</a>\u001b[0m \u001b[39m# calculation reduces overall function evaluations.\u001b[39;00m\n\u001b[0;32m--> <a href='file:///vol/bitbucket/ad6013/envs/gp-causal-env/lib/python3.9/site-packages/scipy/optimize/_optimize.py?line=262'>263</a>\u001b[0m sf \u001b[39m=\u001b[39m ScalarFunction(fun, x0, args, grad, hess,\n\u001b[1;32m    <a href='file:///vol/bitbucket/ad6013/envs/gp-causal-env/lib/python3.9/site-packages/scipy/optimize/_optimize.py?line=263'>264</a>\u001b[0m                     finite_diff_rel_step, bounds, epsilon\u001b[39m=\u001b[39;49mepsilon)\n\u001b[1;32m    <a href='file:///vol/bitbucket/ad6013/envs/gp-causal-env/lib/python3.9/site-packages/scipy/optimize/_optimize.py?line=265'>266</a>\u001b[0m \u001b[39mreturn\u001b[39;00m sf\n",
      "File \u001b[0;32m/vol/bitbucket/ad6013/envs/gp-causal-env/lib/python3.9/site-packages/scipy/optimize/_differentiable_functions.py:158\u001b[0m, in \u001b[0;36mScalarFunction.__init__\u001b[0;34m(self, fun, x0, args, grad, hess, finite_diff_rel_step, finite_diff_bounds, epsilon)\u001b[0m\n\u001b[1;32m    <a href='file:///vol/bitbucket/ad6013/envs/gp-causal-env/lib/python3.9/site-packages/scipy/optimize/_differentiable_functions.py?line=154'>155</a>\u001b[0m     \u001b[39mself\u001b[39m\u001b[39m.\u001b[39mf \u001b[39m=\u001b[39m fun_wrapped(\u001b[39mself\u001b[39m\u001b[39m.\u001b[39mx)\n\u001b[1;32m    <a href='file:///vol/bitbucket/ad6013/envs/gp-causal-env/lib/python3.9/site-packages/scipy/optimize/_differentiable_functions.py?line=156'>157</a>\u001b[0m \u001b[39mself\u001b[39m\u001b[39m.\u001b[39m_update_fun_impl \u001b[39m=\u001b[39m update_fun\n\u001b[0;32m--> <a href='file:///vol/bitbucket/ad6013/envs/gp-causal-env/lib/python3.9/site-packages/scipy/optimize/_differentiable_functions.py?line=157'>158</a>\u001b[0m \u001b[39mself\u001b[39;49m\u001b[39m.\u001b[39;49m_update_fun()\n\u001b[1;32m    <a href='file:///vol/bitbucket/ad6013/envs/gp-causal-env/lib/python3.9/site-packages/scipy/optimize/_differentiable_functions.py?line=159'>160</a>\u001b[0m \u001b[39m# Gradient evaluation\u001b[39;00m\n\u001b[1;32m    <a href='file:///vol/bitbucket/ad6013/envs/gp-causal-env/lib/python3.9/site-packages/scipy/optimize/_differentiable_functions.py?line=160'>161</a>\u001b[0m \u001b[39mif\u001b[39;00m callable(grad):\n",
      "File \u001b[0;32m/vol/bitbucket/ad6013/envs/gp-causal-env/lib/python3.9/site-packages/scipy/optimize/_differentiable_functions.py:251\u001b[0m, in \u001b[0;36mScalarFunction._update_fun\u001b[0;34m(self)\u001b[0m\n\u001b[1;32m    <a href='file:///vol/bitbucket/ad6013/envs/gp-causal-env/lib/python3.9/site-packages/scipy/optimize/_differentiable_functions.py?line=248'>249</a>\u001b[0m \u001b[39mdef\u001b[39;00m \u001b[39m_update_fun\u001b[39m(\u001b[39mself\u001b[39m):\n\u001b[1;32m    <a href='file:///vol/bitbucket/ad6013/envs/gp-causal-env/lib/python3.9/site-packages/scipy/optimize/_differentiable_functions.py?line=249'>250</a>\u001b[0m     \u001b[39mif\u001b[39;00m \u001b[39mnot\u001b[39;00m \u001b[39mself\u001b[39m\u001b[39m.\u001b[39mf_updated:\n\u001b[0;32m--> <a href='file:///vol/bitbucket/ad6013/envs/gp-causal-env/lib/python3.9/site-packages/scipy/optimize/_differentiable_functions.py?line=250'>251</a>\u001b[0m         \u001b[39mself\u001b[39;49m\u001b[39m.\u001b[39;49m_update_fun_impl()\n\u001b[1;32m    <a href='file:///vol/bitbucket/ad6013/envs/gp-causal-env/lib/python3.9/site-packages/scipy/optimize/_differentiable_functions.py?line=251'>252</a>\u001b[0m         \u001b[39mself\u001b[39m\u001b[39m.\u001b[39mf_updated \u001b[39m=\u001b[39m \u001b[39mTrue\u001b[39;00m\n",
      "File \u001b[0;32m/vol/bitbucket/ad6013/envs/gp-causal-env/lib/python3.9/site-packages/scipy/optimize/_differentiable_functions.py:155\u001b[0m, in \u001b[0;36mScalarFunction.__init__.<locals>.update_fun\u001b[0;34m()\u001b[0m\n\u001b[1;32m    <a href='file:///vol/bitbucket/ad6013/envs/gp-causal-env/lib/python3.9/site-packages/scipy/optimize/_differentiable_functions.py?line=153'>154</a>\u001b[0m \u001b[39mdef\u001b[39;00m \u001b[39mupdate_fun\u001b[39m():\n\u001b[0;32m--> <a href='file:///vol/bitbucket/ad6013/envs/gp-causal-env/lib/python3.9/site-packages/scipy/optimize/_differentiable_functions.py?line=154'>155</a>\u001b[0m     \u001b[39mself\u001b[39m\u001b[39m.\u001b[39mf \u001b[39m=\u001b[39m fun_wrapped(\u001b[39mself\u001b[39;49m\u001b[39m.\u001b[39;49mx)\n",
      "File \u001b[0;32m/vol/bitbucket/ad6013/envs/gp-causal-env/lib/python3.9/site-packages/scipy/optimize/_differentiable_functions.py:137\u001b[0m, in \u001b[0;36mScalarFunction.__init__.<locals>.fun_wrapped\u001b[0;34m(x)\u001b[0m\n\u001b[1;32m    <a href='file:///vol/bitbucket/ad6013/envs/gp-causal-env/lib/python3.9/site-packages/scipy/optimize/_differentiable_functions.py?line=132'>133</a>\u001b[0m \u001b[39mself\u001b[39m\u001b[39m.\u001b[39mnfev \u001b[39m+\u001b[39m\u001b[39m=\u001b[39m \u001b[39m1\u001b[39m\n\u001b[1;32m    <a href='file:///vol/bitbucket/ad6013/envs/gp-causal-env/lib/python3.9/site-packages/scipy/optimize/_differentiable_functions.py?line=133'>134</a>\u001b[0m \u001b[39m# Send a copy because the user may overwrite it.\u001b[39;00m\n\u001b[1;32m    <a href='file:///vol/bitbucket/ad6013/envs/gp-causal-env/lib/python3.9/site-packages/scipy/optimize/_differentiable_functions.py?line=134'>135</a>\u001b[0m \u001b[39m# Overwriting results in undefined behaviour because\u001b[39;00m\n\u001b[1;32m    <a href='file:///vol/bitbucket/ad6013/envs/gp-causal-env/lib/python3.9/site-packages/scipy/optimize/_differentiable_functions.py?line=135'>136</a>\u001b[0m \u001b[39m# fun(self.x) will change self.x, with the two no longer linked.\u001b[39;00m\n\u001b[0;32m--> <a href='file:///vol/bitbucket/ad6013/envs/gp-causal-env/lib/python3.9/site-packages/scipy/optimize/_differentiable_functions.py?line=136'>137</a>\u001b[0m fx \u001b[39m=\u001b[39m fun(np\u001b[39m.\u001b[39;49mcopy(x), \u001b[39m*\u001b[39;49margs)\n\u001b[1;32m    <a href='file:///vol/bitbucket/ad6013/envs/gp-causal-env/lib/python3.9/site-packages/scipy/optimize/_differentiable_functions.py?line=137'>138</a>\u001b[0m \u001b[39m# Make sure the function returns a true scalar\u001b[39;00m\n\u001b[1;32m    <a href='file:///vol/bitbucket/ad6013/envs/gp-causal-env/lib/python3.9/site-packages/scipy/optimize/_differentiable_functions.py?line=138'>139</a>\u001b[0m \u001b[39mif\u001b[39;00m \u001b[39mnot\u001b[39;00m np\u001b[39m.\u001b[39misscalar(fx):\n",
      "File \u001b[0;32m/vol/bitbucket/ad6013/envs/gp-causal-env/lib/python3.9/site-packages/scipy/optimize/_optimize.py:76\u001b[0m, in \u001b[0;36mMemoizeJac.__call__\u001b[0;34m(self, x, *args)\u001b[0m\n\u001b[1;32m     <a href='file:///vol/bitbucket/ad6013/envs/gp-causal-env/lib/python3.9/site-packages/scipy/optimize/_optimize.py?line=73'>74</a>\u001b[0m \u001b[39mdef\u001b[39;00m \u001b[39m__call__\u001b[39m(\u001b[39mself\u001b[39m, x, \u001b[39m*\u001b[39margs):\n\u001b[1;32m     <a href='file:///vol/bitbucket/ad6013/envs/gp-causal-env/lib/python3.9/site-packages/scipy/optimize/_optimize.py?line=74'>75</a>\u001b[0m     \u001b[39m\"\"\" returns the the function value \"\"\"\u001b[39;00m\n\u001b[0;32m---> <a href='file:///vol/bitbucket/ad6013/envs/gp-causal-env/lib/python3.9/site-packages/scipy/optimize/_optimize.py?line=75'>76</a>\u001b[0m     \u001b[39mself\u001b[39;49m\u001b[39m.\u001b[39;49m_compute_if_needed(x, \u001b[39m*\u001b[39;49margs)\n\u001b[1;32m     <a href='file:///vol/bitbucket/ad6013/envs/gp-causal-env/lib/python3.9/site-packages/scipy/optimize/_optimize.py?line=76'>77</a>\u001b[0m     \u001b[39mreturn\u001b[39;00m \u001b[39mself\u001b[39m\u001b[39m.\u001b[39m_value\n",
      "File \u001b[0;32m/vol/bitbucket/ad6013/envs/gp-causal-env/lib/python3.9/site-packages/scipy/optimize/_optimize.py:70\u001b[0m, in \u001b[0;36mMemoizeJac._compute_if_needed\u001b[0;34m(self, x, *args)\u001b[0m\n\u001b[1;32m     <a href='file:///vol/bitbucket/ad6013/envs/gp-causal-env/lib/python3.9/site-packages/scipy/optimize/_optimize.py?line=67'>68</a>\u001b[0m \u001b[39mif\u001b[39;00m \u001b[39mnot\u001b[39;00m np\u001b[39m.\u001b[39mall(x \u001b[39m==\u001b[39m \u001b[39mself\u001b[39m\u001b[39m.\u001b[39mx) \u001b[39mor\u001b[39;00m \u001b[39mself\u001b[39m\u001b[39m.\u001b[39m_value \u001b[39mis\u001b[39;00m \u001b[39mNone\u001b[39;00m \u001b[39mor\u001b[39;00m \u001b[39mself\u001b[39m\u001b[39m.\u001b[39mjac \u001b[39mis\u001b[39;00m \u001b[39mNone\u001b[39;00m:\n\u001b[1;32m     <a href='file:///vol/bitbucket/ad6013/envs/gp-causal-env/lib/python3.9/site-packages/scipy/optimize/_optimize.py?line=68'>69</a>\u001b[0m     \u001b[39mself\u001b[39m\u001b[39m.\u001b[39mx \u001b[39m=\u001b[39m np\u001b[39m.\u001b[39masarray(x)\u001b[39m.\u001b[39mcopy()\n\u001b[0;32m---> <a href='file:///vol/bitbucket/ad6013/envs/gp-causal-env/lib/python3.9/site-packages/scipy/optimize/_optimize.py?line=69'>70</a>\u001b[0m     fg \u001b[39m=\u001b[39m \u001b[39mself\u001b[39;49m\u001b[39m.\u001b[39;49mfun(x, \u001b[39m*\u001b[39;49margs)\n\u001b[1;32m     <a href='file:///vol/bitbucket/ad6013/envs/gp-causal-env/lib/python3.9/site-packages/scipy/optimize/_optimize.py?line=70'>71</a>\u001b[0m     \u001b[39mself\u001b[39m\u001b[39m.\u001b[39mjac \u001b[39m=\u001b[39m fg[\u001b[39m1\u001b[39m]\n\u001b[1;32m     <a href='file:///vol/bitbucket/ad6013/envs/gp-causal-env/lib/python3.9/site-packages/scipy/optimize/_optimize.py?line=71'>72</a>\u001b[0m     \u001b[39mself\u001b[39m\u001b[39m.\u001b[39m_value \u001b[39m=\u001b[39m fg[\u001b[39m0\u001b[39m]\n",
      "File \u001b[0;32m/vol/bitbucket/ad6013/envs/gp-causal-env/lib/python3.9/site-packages/gpflow/optimizers/scipy.py:136\u001b[0m, in \u001b[0;36mScipy.eval_func.<locals>._eval\u001b[0;34m(x)\u001b[0m\n\u001b[1;32m    <a href='file:///vol/bitbucket/ad6013/envs/gp-causal-env/lib/python3.9/site-packages/gpflow/optimizers/scipy.py?line=134'>135</a>\u001b[0m \u001b[39mdef\u001b[39;00m \u001b[39m_eval\u001b[39m(x: AnyNDArray) \u001b[39m-\u001b[39m\u001b[39m>\u001b[39m Tuple[AnyNDArray, AnyNDArray]:\n\u001b[0;32m--> <a href='file:///vol/bitbucket/ad6013/envs/gp-causal-env/lib/python3.9/site-packages/gpflow/optimizers/scipy.py?line=135'>136</a>\u001b[0m     loss, grad \u001b[39m=\u001b[39m _tf_eval(tf\u001b[39m.\u001b[39;49mconvert_to_tensor(x))\n\u001b[1;32m    <a href='file:///vol/bitbucket/ad6013/envs/gp-causal-env/lib/python3.9/site-packages/gpflow/optimizers/scipy.py?line=136'>137</a>\u001b[0m     \u001b[39mreturn\u001b[39;00m loss\u001b[39m.\u001b[39mnumpy()\u001b[39m.\u001b[39mastype(np\u001b[39m.\u001b[39mfloat64), grad\u001b[39m.\u001b[39mnumpy()\u001b[39m.\u001b[39mastype(np\u001b[39m.\u001b[39mfloat64)\n",
      "File \u001b[0;32m/vol/bitbucket/ad6013/envs/gp-causal-env/lib/python3.9/site-packages/tensorflow/python/util/traceback_utils.py:153\u001b[0m, in \u001b[0;36mfilter_traceback.<locals>.error_handler\u001b[0;34m(*args, **kwargs)\u001b[0m\n\u001b[1;32m    <a href='file:///vol/bitbucket/ad6013/envs/gp-causal-env/lib/python3.9/site-packages/tensorflow/python/util/traceback_utils.py?line=150'>151</a>\u001b[0m \u001b[39mexcept\u001b[39;00m \u001b[39mException\u001b[39;00m \u001b[39mas\u001b[39;00m e:\n\u001b[1;32m    <a href='file:///vol/bitbucket/ad6013/envs/gp-causal-env/lib/python3.9/site-packages/tensorflow/python/util/traceback_utils.py?line=151'>152</a>\u001b[0m   filtered_tb \u001b[39m=\u001b[39m _process_traceback_frames(e\u001b[39m.\u001b[39m__traceback__)\n\u001b[0;32m--> <a href='file:///vol/bitbucket/ad6013/envs/gp-causal-env/lib/python3.9/site-packages/tensorflow/python/util/traceback_utils.py?line=152'>153</a>\u001b[0m   \u001b[39mraise\u001b[39;00m e\u001b[39m.\u001b[39mwith_traceback(filtered_tb) \u001b[39mfrom\u001b[39;00m \u001b[39mNone\u001b[39m\n\u001b[1;32m    <a href='file:///vol/bitbucket/ad6013/envs/gp-causal-env/lib/python3.9/site-packages/tensorflow/python/util/traceback_utils.py?line=153'>154</a>\u001b[0m \u001b[39mfinally\u001b[39;00m:\n\u001b[1;32m    <a href='file:///vol/bitbucket/ad6013/envs/gp-causal-env/lib/python3.9/site-packages/tensorflow/python/util/traceback_utils.py?line=154'>155</a>\u001b[0m   \u001b[39mdel\u001b[39;00m filtered_tb\n",
      "File \u001b[0;32m/vol/bitbucket/ad6013/envs/gp-causal-env/lib/python3.9/site-packages/tensorflow/python/eager/execute.py:54\u001b[0m, in \u001b[0;36mquick_execute\u001b[0;34m(op_name, num_outputs, inputs, attrs, ctx, name)\u001b[0m\n\u001b[1;32m     <a href='file:///vol/bitbucket/ad6013/envs/gp-causal-env/lib/python3.9/site-packages/tensorflow/python/eager/execute.py?line=51'>52</a>\u001b[0m \u001b[39mtry\u001b[39;00m:\n\u001b[1;32m     <a href='file:///vol/bitbucket/ad6013/envs/gp-causal-env/lib/python3.9/site-packages/tensorflow/python/eager/execute.py?line=52'>53</a>\u001b[0m   ctx\u001b[39m.\u001b[39mensure_initialized()\n\u001b[0;32m---> <a href='file:///vol/bitbucket/ad6013/envs/gp-causal-env/lib/python3.9/site-packages/tensorflow/python/eager/execute.py?line=53'>54</a>\u001b[0m   tensors \u001b[39m=\u001b[39m pywrap_tfe\u001b[39m.\u001b[39mTFE_Py_Execute(ctx\u001b[39m.\u001b[39m_handle, device_name, op_name,\n\u001b[1;32m     <a href='file:///vol/bitbucket/ad6013/envs/gp-causal-env/lib/python3.9/site-packages/tensorflow/python/eager/execute.py?line=54'>55</a>\u001b[0m                                       inputs, attrs, num_outputs)\n\u001b[1;32m     <a href='file:///vol/bitbucket/ad6013/envs/gp-causal-env/lib/python3.9/site-packages/tensorflow/python/eager/execute.py?line=55'>56</a>\u001b[0m \u001b[39mexcept\u001b[39;00m core\u001b[39m.\u001b[39m_NotOkStatusException \u001b[39mas\u001b[39;00m e:\n\u001b[1;32m     <a href='file:///vol/bitbucket/ad6013/envs/gp-causal-env/lib/python3.9/site-packages/tensorflow/python/eager/execute.py?line=56'>57</a>\u001b[0m   \u001b[39mif\u001b[39;00m name \u001b[39mis\u001b[39;00m \u001b[39mnot\u001b[39;00m \u001b[39mNone\u001b[39;00m:\n",
      "\u001b[0;31mResourceExhaustedError\u001b[0m: Graph execution error:\n\nDetected at node 'gradient_tape/eye/diag' defined at (most recent call last):\n    File \"/usr/lib/python3.9/runpy.py\", line 197, in _run_module_as_main\n      return _run_code(code, main_globals, None,\n    File \"/usr/lib/python3.9/runpy.py\", line 87, in _run_code\n      exec(code, run_globals)\n    File \"/vol/bitbucket/ad6013/envs/gp-causal-env/lib/python3.9/site-packages/ipykernel_launcher.py\", line 17, in <module>\n      app.launch_new_instance()\n    File \"/vol/bitbucket/ad6013/envs/gp-causal-env/lib/python3.9/site-packages/traitlets/config/application.py\", line 846, in launch_instance\n      app.start()\n    File \"/vol/bitbucket/ad6013/envs/gp-causal-env/lib/python3.9/site-packages/ipykernel/kernelapp.py\", line 707, in start\n      self.io_loop.start()\n    File \"/vol/bitbucket/ad6013/envs/gp-causal-env/lib/python3.9/site-packages/tornado/platform/asyncio.py\", line 199, in start\n      self.asyncio_loop.run_forever()\n    File \"/usr/lib/python3.9/asyncio/base_events.py\", line 596, in run_forever\n      self._run_once()\n    File \"/usr/lib/python3.9/asyncio/base_events.py\", line 1890, in _run_once\n      handle._run()\n    File \"/usr/lib/python3.9/asyncio/events.py\", line 80, in _run\n      self._context.run(self._callback, *self._args)\n    File \"/vol/bitbucket/ad6013/envs/gp-causal-env/lib/python3.9/site-packages/ipykernel/kernelbase.py\", line 502, in dispatch_queue\n      await self.process_one()\n    File \"/vol/bitbucket/ad6013/envs/gp-causal-env/lib/python3.9/site-packages/ipykernel/kernelbase.py\", line 491, in process_one\n      await dispatch(*args)\n    File \"/vol/bitbucket/ad6013/envs/gp-causal-env/lib/python3.9/site-packages/ipykernel/kernelbase.py\", line 398, in dispatch_shell\n      await result\n    File \"/vol/bitbucket/ad6013/envs/gp-causal-env/lib/python3.9/site-packages/ipykernel/kernelbase.py\", line 722, in execute_request\n      reply_content = await reply_content\n    File \"/vol/bitbucket/ad6013/envs/gp-causal-env/lib/python3.9/site-packages/ipykernel/ipkernel.py\", line 389, in do_execute\n      res = shell.run_cell(code, store_history=store_history, silent=silent)\n    File \"/vol/bitbucket/ad6013/envs/gp-causal-env/lib/python3.9/site-packages/ipykernel/zmqshell.py\", line 528, in run_cell\n      return super().run_cell(*args, **kwargs)\n    File \"/vol/bitbucket/ad6013/envs/gp-causal-env/lib/python3.9/site-packages/IPython/core/interactiveshell.py\", line 2863, in run_cell\n      result = self._run_cell(\n    File \"/vol/bitbucket/ad6013/envs/gp-causal-env/lib/python3.9/site-packages/IPython/core/interactiveshell.py\", line 2909, in _run_cell\n      return runner(coro)\n    File \"/vol/bitbucket/ad6013/envs/gp-causal-env/lib/python3.9/site-packages/IPython/core/async_helpers.py\", line 129, in _pseudo_sync_runner\n      coro.send(None)\n    File \"/vol/bitbucket/ad6013/envs/gp-causal-env/lib/python3.9/site-packages/IPython/core/interactiveshell.py\", line 3106, in run_cell_async\n      has_raised = await self.run_ast_nodes(code_ast.body, cell_name,\n    File \"/vol/bitbucket/ad6013/envs/gp-causal-env/lib/python3.9/site-packages/IPython/core/interactiveshell.py\", line 3309, in run_ast_nodes\n      if await self.run_code(code, result, async_=asy):\n    File \"/vol/bitbucket/ad6013/envs/gp-causal-env/lib/python3.9/site-packages/IPython/core/interactiveshell.py\", line 3369, in run_code\n      exec(code_obj, self.user_global_ns, self.user_ns)\n    File \"/tmp/ipykernel_3981788/1272654224.py\", line 20, in <cell line: 20>\n      opt_logs = opt.minimize(\n    File \"/vol/bitbucket/ad6013/envs/gp-causal-env/lib/python3.9/site-packages/gpflow/optimizers/scipy.py\", line 94, in minimize\n      return scipy.optimize.minimize(\n    File \"/vol/bitbucket/ad6013/envs/gp-causal-env/lib/python3.9/site-packages/scipy/optimize/_minimize.py\", line 681, in minimize\n      res = _minimize_lbfgsb(fun, x0, args, jac, bounds,\n    File \"/vol/bitbucket/ad6013/envs/gp-causal-env/lib/python3.9/site-packages/scipy/optimize/_lbfgsb_py.py\", line 308, in _minimize_lbfgsb\n      sf = _prepare_scalar_function(fun, x0, jac=jac, args=args, epsilon=eps,\n    File \"/vol/bitbucket/ad6013/envs/gp-causal-env/lib/python3.9/site-packages/scipy/optimize/_optimize.py\", line 263, in _prepare_scalar_function\n      sf = ScalarFunction(fun, x0, args, grad, hess,\n    File \"/vol/bitbucket/ad6013/envs/gp-causal-env/lib/python3.9/site-packages/scipy/optimize/_differentiable_functions.py\", line 158, in __init__\n      self._update_fun()\n    File \"/vol/bitbucket/ad6013/envs/gp-causal-env/lib/python3.9/site-packages/scipy/optimize/_differentiable_functions.py\", line 251, in _update_fun\n      self._update_fun_impl()\n    File \"/vol/bitbucket/ad6013/envs/gp-causal-env/lib/python3.9/site-packages/scipy/optimize/_differentiable_functions.py\", line 155, in update_fun\n      self.f = fun_wrapped(self.x)\n    File \"/vol/bitbucket/ad6013/envs/gp-causal-env/lib/python3.9/site-packages/scipy/optimize/_differentiable_functions.py\", line 137, in fun_wrapped\n      fx = fun(np.copy(x), *args)\n    File \"/vol/bitbucket/ad6013/envs/gp-causal-env/lib/python3.9/site-packages/scipy/optimize/_optimize.py\", line 76, in __call__\n      self._compute_if_needed(x, *args)\n    File \"/vol/bitbucket/ad6013/envs/gp-causal-env/lib/python3.9/site-packages/scipy/optimize/_optimize.py\", line 70, in _compute_if_needed\n      fg = self.fun(x, *args)\n    File \"/vol/bitbucket/ad6013/envs/gp-causal-env/lib/python3.9/site-packages/gpflow/optimizers/scipy.py\", line 136, in _eval\n      loss, grad = _tf_eval(tf.convert_to_tensor(x))\n    File \"/vol/bitbucket/ad6013/envs/gp-causal-env/lib/python3.9/site-packages/gpflow/optimizers/scipy.py\", line 118, in _tf_eval\n      if first_call:\n    File \"/vol/bitbucket/ad6013/envs/gp-causal-env/lib/python3.9/site-packages/gpflow/optimizers/scipy.py\", line 120, in _tf_eval\n      loss, grads = _compute_loss_and_gradients(\n    File \"/vol/bitbucket/ad6013/envs/gp-causal-env/lib/python3.9/site-packages/gpflow/optimizers/scipy.py\", line 224, in _compute_loss_and_gradients\n      grads = tape.gradient(loss, variables, unconnected_gradients=unconnected_gradients)\nNode: 'gradient_tape/eye/diag'\nOOM when allocating tensor with shape[10000,10000] and type double on /job:localhost/replica:0/task:0/device:GPU:0 by allocator GPU_0_bfc\n\t [[{{node gradient_tape/eye/diag}}]]\nHint: If you want to see a list of allocated tensors when OOM happens, add report_tensor_allocations_upon_oom to RunOptions for current allocation info. This isn't available when running in Eager mode.\n [Op:__inference__tf_eval_601]"
     ]
    }
   ],
   "source": [
    "from gpflow.base import Parameter\n",
    "from gpflow.utilities import positive\n",
    "\n",
    "input_2 = np.random.normal(0, 1, size=input.shape)\n",
    "\n",
    "num_inducing = 349\n",
    "\n",
    "kernel_variance = 1.\n",
    "kernel_lengthscale = 1. / 4\n",
    "likelihood_variance = Parameter( 1. / (20 ** 2), transform=positive())\n",
    "\n",
    "sq_exp = gpflow.kernels.SquaredExponential()\n",
    "sq_exp.variance.assign(kernel_variance)\n",
    "    # lambda = 5 in this\n",
    "sq_exp.lengthscales.assign(kernel_lengthscale)\n",
    "\n",
    "m_gpr = gpflow.models.GPR(data=(input_2, input), kernel=sq_exp, mean_function=None)\n",
    "m_gpr.likelihood.variance = likelihood_variance\n",
    "opt = gpflow.optimizers.Scipy()\n",
    "opt_logs = opt.minimize(\n",
    "    m_gpr.training_loss, m_gpr.trainable_variables, options=dict(maxiter=10000)\n",
    ")"
   ]
  },
  {
   "cell_type": "code",
   "execution_count": 184,
   "metadata": {},
   "outputs": [
    {
     "data": {
      "image/png": "[encoded data removed]",
      "text/plain": [
       "<Figure size 432x288 with 1 Axes>"
      ]
     },
     "metadata": {
      "needs_background": "light"
     },
     "output_type": "display_data"
    }
   ],
   "source": [
    "plt.scatter(input_2, input)\n",
    "plt.show()"
   ]
  },
  {
   "cell_type": "code",
   "execution_count": 16,
   "metadata": {},
   "outputs": [
    {
     "name": "stdout",
     "output_type": "stream",
     "text": [
      "Kern_len: 0.23723733328587435, Like_var: 0.00448662938253596\n"
     ]
    }
   ],
   "source": [
    "with tf.device(\"cpu\"):\n",
    "    lamda = np.random.uniform(1, 10)\n",
    "    kernel_lengthscale = 1 / lamda\n",
    "\n",
    "    kappa = np.random.uniform(10, 50)\n",
    "    likelihood_variance = 1 / (kappa **2)\n",
    "\n",
    "    num_inducing = 100\n",
    "    latent_dim = 1\n",
    "    kernel_variance =  2.\n",
    "    # 0.0031185030135707325, 1.0383980119634681,  0.036263924352202444\n",
    "\n",
    "\n",
    "    tf.print(f\"Kern_len: {kernel_lengthscale}, Like_var: {likelihood_variance}\")\n",
    "\n",
    "    X_mean_init = input\n",
    "    # X_mean_init = tf.cast(input, dtype=default_float())\n",
    "    # X_mean_init = tf.zeros((input.shape[0], latent_dim), dtype=default_float())\n",
    "    X_var_init = tf.ones((input.shape[0], latent_dim), dtype=default_float())  \n",
    "\n",
    "    x_prior_var = tf.ones((input.shape[0], latent_dim), dtype=default_float()) * 1\n",
    "    sq_exp = gpflow.kernels.SquaredExponential() \n",
    "    sq_exp.variance.assign(kernel_variance)\n",
    "    sq_exp.lengthscales.assign(kernel_lengthscale)\n",
    "\n",
    "    kernel = sq_exp\n",
    "\n",
    "    m = gpflow.models.BayesianGPLVM(\n",
    "        data=input,\n",
    "        kernel=kernel,\n",
    "        X_data_mean=X_mean_init,\n",
    "        X_data_var=X_var_init,\n",
    "        num_inducing_variables=num_inducing,\n",
    "        X_prior_var=x_prior_var,\n",
    "        jitter=1e-4\n",
    "        )\n",
    "    m.likelihood.variance.assign(likelihood_variance)"
   ]
  },
  {
   "cell_type": "code",
   "execution_count": 17,
   "metadata": {},
   "outputs": [],
   "source": [
    "with tf.device(\"cpu\"):\n",
    "    # Train only inducing variables\n",
    "    gpflow.utilities.set_trainable(m.kernel, False)\n",
    "    gpflow.utilities.set_trainable(m.likelihood, False)\n",
    "    gpflow.utilities.set_trainable(m.X_data_mean , False)\n",
    "    gpflow.utilities.set_trainable(m.X_data_var, False)\n",
    "    opt = gpflow.optimizers.Scipy()\n",
    "    opt_logs = opt.minimize(\n",
    "        m.training_loss,\n",
    "        m.trainable_variables,\n",
    "        options=dict(maxiter=10000),\n",
    "    )\n",
    "\n",
    "    # Train only x_var\n",
    "    gpflow.utilities.set_trainable(m.kernel, False)\n",
    "    gpflow.utilities.set_trainable(m.likelihood, False)\n",
    "    gpflow.utilities.set_trainable(m.X_data_mean , False)\n",
    "    gpflow.utilities.set_trainable(m.X_data_var, True)\n",
    "    gpflow.utilities.set_trainable(m.inducing_variable, False)\n",
    "    opt = gpflow.optimizers.Scipy()\n",
    "    opt_logs = opt.minimize(\n",
    "        m.training_loss,\n",
    "        m.trainable_variables,\n",
    "        options=dict(maxiter=10000),\n",
    "    )\n",
    "\n",
    "    # Train all the hyperparameters\n",
    "    gpflow.utilities.set_trainable(m.kernel, True)\n",
    "    gpflow.utilities.set_trainable(m.likelihood, True)\n",
    "    gpflow.utilities.set_trainable(m.X_data_mean , False)\n",
    "    gpflow.utilities.set_trainable(m.X_data_var, False)\n",
    "    gpflow.utilities.set_trainable(m.inducing_variable, False)\n",
    "    opt = gpflow.optimizers.Scipy()\n",
    "    opt_logs = opt.minimize(\n",
    "        m.training_loss,\n",
    "        m.trainable_variables,\n",
    "        options=dict(maxiter=10000),\n",
    "    )\n",
    "\n",
    "    # Train everything\n",
    "    gpflow.utilities.set_trainable(m.kernel, True)\n",
    "    gpflow.utilities.set_trainable(m.likelihood, True)\n",
    "    gpflow.utilities.set_trainable(m.X_data_mean , True)\n",
    "    gpflow.utilities.set_trainable(m.X_data_var, True)\n",
    "    gpflow.utilities.set_trainable(m.inducing_variable, True)\n",
    "    opt = gpflow.optimizers.Scipy()\n",
    "    opt_logs = opt.minimize(\n",
    "        m.training_loss,\n",
    "        m.trainable_variables,\n",
    "        options=dict(maxiter=10000),\n",
    "    )\n",
    "    loss = - m.elbo()"
   ]
  },
  {
   "cell_type": "code",
   "execution_count": 18,
   "metadata": {},
   "outputs": [
    {
     "name": "stdout",
     "output_type": "stream",
     "text": [
      "╒═══════════════════════════════════╤═══════════╤══════════════════╤═════════╤═════════════╤═══════════╤═════════╤══════════════════════╕\n",
      "│ name                              │ class     │ transform        │ prior   │ trainable   │ shape     │ dtype   │ value                │\n",
      "╞═══════════════════════════════════╪═══════════╪══════════════════╪═════════╪═════════════╪═══════════╪═════════╪══════════════════════╡\n",
      "│ BayesianGPLVM.kernel.variance     │ Parameter │ Softplus         │         │ True        │ ()        │ float64 │ 3.3537760044870857   │\n",
      "├───────────────────────────────────┼───────────┼──────────────────┼─────────┼─────────────┼───────────┼─────────┼──────────────────────┤\n",
      "│ BayesianGPLVM.kernel.lengthscales │ Parameter │ Softplus         │         │ True        │ ()        │ float64 │ 2.582272150419165    │\n",
      "├───────────────────────────────────┼───────────┼──────────────────┼─────────┼─────────────┼───────────┼─────────┼──────────────────────┤\n",
      "│ BayesianGPLVM.likelihood.variance │ Parameter │ Softplus + Shift │         │ True        │ ()        │ float64 │ 0.01984332085608437  │\n",
      "├───────────────────────────────────┼───────────┼──────────────────┼─────────┼─────────────┼───────────┼─────────┼──────────────────────┤\n",
      "│ BayesianGPLVM.X_data_mean         │ Parameter │ Identity         │         │ True        │ (1000, 1) │ float64 │ [[-5.07927845e-01... │\n",
      "├───────────────────────────────────┼───────────┼──────────────────┼─────────┼─────────────┼───────────┼─────────┼──────────────────────┤\n",
      "│ BayesianGPLVM.X_data_var          │ Parameter │ Softplus         │         │ True        │ (1000, 1) │ float64 │ [[0.02305561...      │\n",
      "├───────────────────────────────────┼───────────┼──────────────────┼─────────┼─────────────┼───────────┼─────────┼──────────────────────┤\n",
      "│ BayesianGPLVM.inducing_variable.Z │ Parameter │ Identity         │         │ True        │ (100, 1)  │ float64 │ [[2.97389167e-03...  │\n",
      "╘═══════════════════════════════════╧═══════════╧══════════════════╧═════════╧═════════════╧═══════════╧═════════╧══════════════════════╛\n"
     ]
    }
   ],
   "source": [
    "from gpflow.utilities import print_summary\n",
    "print_summary(m)"
   ]
  },
  {
   "cell_type": "code",
   "execution_count": 19,
   "metadata": {},
   "outputs": [],
   "source": [
    "obs_new = np.linspace(-5, 5, 40)[:, None]\n",
    "pred_y_mean, pred_y_var = m.predict_y(Xnew=obs_new)"
   ]
  },
  {
   "cell_type": "code",
   "execution_count": 20,
   "metadata": {},
   "outputs": [
    {
     "data": {
      "image/png": "[encoded data removed]",
      "text/plain": [
       "<Figure size 432x288 with 1 Axes>"
      ]
     },
     "metadata": {
      "needs_background": "light"
     },
     "output_type": "display_data"
    }
   ],
   "source": [
    "ind = np.argsort(m.X_data_mean[:, 0])\n",
    "x_values = np.take_along_axis(m.X_data_mean.numpy()[:, 0], ind, axis=0)\n",
    "# pred_y_mean_new = np.take_along_axis(pred_y_mean.numpy()[:, 0], ind, axis=0) \n",
    "# pred_y_var_new = np.take_along_axis(pred_y_var.numpy()[:, 0], ind, axis=0)\n",
    "\n",
    "plt.scatter(m.X_data_mean, input)\n",
    "plt.plot(obs_new, pred_y_mean, alpha=0.6)\n",
    "plt.fill_between(obs_new[:, 0], (pred_y_mean + 2 * np.sqrt(pred_y_var))[:, 0], (pred_y_mean - 2 * np.sqrt(pred_y_var))[:, 0], alpha=0.3)\n",
    "plt.show()"
   ]
  },
  {
   "cell_type": "code",
   "execution_count": 21,
   "metadata": {},
   "outputs": [
    {
     "data": {
      "image/png": "[encoded data removed]",
      "text/plain": [
       "<Figure size 432x288 with 1 Axes>"
      ]
     },
     "metadata": {
      "needs_background": "light"
     },
     "output_type": "display_data"
    }
   ],
   "source": [
    "plt.hist(input, bins=100)\n",
    "plt.show()"
   ]
  },
  {
   "cell_type": "code",
   "execution_count": 13,
   "metadata": {},
   "outputs": [
    {
     "data": {
      "text/plain": [
       "1408.8150497471183"
      ]
     },
     "execution_count": 13,
     "metadata": {},
     "output_type": "execute_result"
    }
   ],
   "source": [
    "-m.elbo().numpy()"
   ]
  },
  {
   "cell_type": "code",
   "execution_count": 23,
   "metadata": {},
   "outputs": [
    {
     "data": {
      "text/plain": [
       "1389.4006814392305"
      ]
     },
     "execution_count": 23,
     "metadata": {},
     "output_type": "execute_result"
    }
   ],
   "source": [
    "-m.elbo().numpy()"
   ]
  },
  {
   "cell_type": "code",
   "execution_count": null,
   "metadata": {},
   "outputs": [],
   "source": [
    "407.47064394770905\n",
    "391.04231501580705"
   ]
  },
  {
   "cell_type": "code",
   "execution_count": 98,
   "metadata": {},
   "outputs": [],
   "source": [
    "from scipy.stats import norm\n",
    "def ml_estimate(x):\n",
    "    \"\"\"\n",
    "    Find the log likelihood.\n",
    "\n",
    "    This doesn't make sense after I have normalised the data.\n",
    "    \"\"\"\n",
    "    score = - np.sum( np.log(\n",
    "            norm.pdf(x, loc=x.mean(), scale=x.std())\n",
    "\n",
    "    ))\n",
    "    print(norm.pdf(x, loc=x.mean(), scale=x.std()))\n",
    "    return score"
   ]
  },
  {
   "cell_type": "code",
   "execution_count": 86,
   "metadata": {},
   "outputs": [
    {
     "name": "stdout",
     "output_type": "stream",
     "text": [
      "[[0.2326027 ]\n",
      " [0.31852053]\n",
      " [0.13892459]\n",
      " ...\n",
      " [0.35506125]\n",
      " [0.39891987]\n",
      " [0.17203474]]\n",
      "[[0.36215618]\n",
      " [0.38905551]\n",
      " [0.28767247]\n",
      " ...\n",
      " [0.3981433 ]\n",
      " [0.39889956]\n",
      " [0.258324  ]]\n",
      "[0.17355695 0.26539336 0.1214141  ... 0.23633496 0.25741284 0.03818973]\n",
      "14189.385332046726 14189.385332046728 18214.40122066285\n"
     ]
    }
   ],
   "source": [
    "print( ml_estimate(x[2]), ml_estimate(y[2]), ml_estimate(np.random.normal(0, 1.5, 10000)))"
   ]
  },
  {
   "cell_type": "code",
   "execution_count": 8,
   "metadata": {},
   "outputs": [
    {
     "data": {
      "text/plain": [
       "[]"
      ]
     },
     "execution_count": 8,
     "metadata": {},
     "output_type": "execute_result"
    }
   ],
   "source": [
    "tf.config.list_physical_devices('GPU')\n"
   ]
  },
  {
   "cell_type": "code",
   "execution_count": 251,
   "metadata": {},
   "outputs": [
    {
     "data": {
      "image/png": "[encoded data removed]",
      "text/plain": [
       "<Figure size 432x288 with 1 Axes>"
      ]
     },
     "metadata": {
      "needs_background": "light"
     },
     "output_type": "display_data"
    }
   ],
   "source": [
    "plt.hist(y[2], bins=100)\n",
    "plt.show()"
   ]
  },
  {
   "cell_type": "code",
   "execution_count": 75,
   "metadata": {},
   "outputs": [
    {
     "data": {
      "image/png": "[encoded data removed]",
      "text/plain": [
       "<Figure size 432x288 with 1 Axes>"
      ]
     },
     "metadata": {
      "needs_background": "light"
     },
     "output_type": "display_data"
    }
   ],
   "source": [
    "plt.hist(x[2], bins=100)\n",
    "plt.show()"
   ]
  },
  {
   "cell_type": "code",
   "execution_count": 14,
   "metadata": {},
   "outputs": [
    {
     "ename": "InvalidArgumentError",
     "evalue": "Checking b : Tensor had NaN values [Op:CheckNumerics]",
     "output_type": "error",
     "traceback": [
      "\u001b[0;31m---------------------------------------------------------------------------\u001b[0m",
      "\u001b[0;31mInvalidArgumentError\u001b[0m                      Traceback (most recent call last)",
      "\u001b[1;32m/vol/bitbucket/ad6013/Research/gp-causal/notebooks/data_playground.ipynb Cell 45'\u001b[0m in \u001b[0;36m<cell line: 6>\u001b[0;34m()\u001b[0m\n\u001b[1;32m      <a href='vscode-notebook-cell://ssh-remote%2Bmiasma.doc.ic.ac.uk/vol/bitbucket/ad6013/Research/gp-causal/notebooks/data_playground.ipynb#ch0000044vscode-remote?line=3'>4</a>\u001b[0m b \u001b[39m=\u001b[39m tf\u001b[39m.\u001b[39mVariable(np\u001b[39m.\u001b[39mnan)\n\u001b[1;32m      <a href='vscode-notebook-cell://ssh-remote%2Bmiasma.doc.ic.ac.uk/vol/bitbucket/ad6013/Research/gp-causal/notebooks/data_playground.ipynb#ch0000044vscode-remote?line=4'>5</a>\u001b[0m \u001b[39m# try:\u001b[39;00m\n\u001b[0;32m----> <a href='vscode-notebook-cell://ssh-remote%2Bmiasma.doc.ic.ac.uk/vol/bitbucket/ad6013/Research/gp-causal/notebooks/data_playground.ipynb#ch0000044vscode-remote?line=5'>6</a>\u001b[0m tf\u001b[39m.\u001b[39;49mdebugging\u001b[39m.\u001b[39;49mcheck_numerics(b, message\u001b[39m=\u001b[39;49m\u001b[39m'\u001b[39;49m\u001b[39mChecking b\u001b[39;49m\u001b[39m'\u001b[39;49m)\n\u001b[1;32m      <a href='vscode-notebook-cell://ssh-remote%2Bmiasma.doc.ic.ac.uk/vol/bitbucket/ad6013/Research/gp-causal/notebooks/data_playground.ipynb#ch0000044vscode-remote?line=6'>7</a>\u001b[0m \u001b[39m# except Exception as e:\u001b[39;00m\n\u001b[1;32m      <a href='vscode-notebook-cell://ssh-remote%2Bmiasma.doc.ic.ac.uk/vol/bitbucket/ad6013/Research/gp-causal/notebooks/data_playground.ipynb#ch0000044vscode-remote?line=7'>8</a>\u001b[0m \u001b[39m#   assert \"Checking b : Tensor had NaN values\" in e.message\u001b[39;00m\n\u001b[1;32m     <a href='vscode-notebook-cell://ssh-remote%2Bmiasma.doc.ic.ac.uk/vol/bitbucket/ad6013/Research/gp-causal/notebooks/data_playground.ipynb#ch0000044vscode-remote?line=9'>10</a>\u001b[0m c \u001b[39m=\u001b[39m tf\u001b[39m.\u001b[39mVariable(np\u001b[39m.\u001b[39minf)\n",
      "File \u001b[0;32m/vol/bitbucket/ad6013/envs/gp-causal-env/lib/python3.9/site-packages/tensorflow/python/ops/gen_array_ops.py:959\u001b[0m, in \u001b[0;36mcheck_numerics\u001b[0;34m(tensor, message, name)\u001b[0m\n\u001b[1;32m    <a href='file:///vol/bitbucket/ad6013/envs/gp-causal-env/lib/python3.9/site-packages/tensorflow/python/ops/gen_array_ops.py?line=956'>957</a>\u001b[0m   \u001b[39mreturn\u001b[39;00m _result\n\u001b[1;32m    <a href='file:///vol/bitbucket/ad6013/envs/gp-causal-env/lib/python3.9/site-packages/tensorflow/python/ops/gen_array_ops.py?line=957'>958</a>\u001b[0m \u001b[39mexcept\u001b[39;00m _core\u001b[39m.\u001b[39m_NotOkStatusException \u001b[39mas\u001b[39;00m e:\n\u001b[0;32m--> <a href='file:///vol/bitbucket/ad6013/envs/gp-causal-env/lib/python3.9/site-packages/tensorflow/python/ops/gen_array_ops.py?line=958'>959</a>\u001b[0m   _ops\u001b[39m.\u001b[39;49mraise_from_not_ok_status(e, name)\n\u001b[1;32m    <a href='file:///vol/bitbucket/ad6013/envs/gp-causal-env/lib/python3.9/site-packages/tensorflow/python/ops/gen_array_ops.py?line=959'>960</a>\u001b[0m \u001b[39mexcept\u001b[39;00m _core\u001b[39m.\u001b[39m_FallbackException:\n\u001b[1;32m    <a href='file:///vol/bitbucket/ad6013/envs/gp-causal-env/lib/python3.9/site-packages/tensorflow/python/ops/gen_array_ops.py?line=960'>961</a>\u001b[0m   \u001b[39mpass\u001b[39;00m\n",
      "File \u001b[0;32m/vol/bitbucket/ad6013/envs/gp-causal-env/lib/python3.9/site-packages/tensorflow/python/framework/ops.py:7164\u001b[0m, in \u001b[0;36mraise_from_not_ok_status\u001b[0;34m(e, name)\u001b[0m\n\u001b[1;32m   <a href='file:///vol/bitbucket/ad6013/envs/gp-causal-env/lib/python3.9/site-packages/tensorflow/python/framework/ops.py?line=7161'>7162</a>\u001b[0m \u001b[39mdef\u001b[39;00m \u001b[39mraise_from_not_ok_status\u001b[39m(e, name):\n\u001b[1;32m   <a href='file:///vol/bitbucket/ad6013/envs/gp-causal-env/lib/python3.9/site-packages/tensorflow/python/framework/ops.py?line=7162'>7163</a>\u001b[0m   e\u001b[39m.\u001b[39mmessage \u001b[39m+\u001b[39m\u001b[39m=\u001b[39m (\u001b[39m\"\u001b[39m\u001b[39m name: \u001b[39m\u001b[39m\"\u001b[39m \u001b[39m+\u001b[39m name \u001b[39mif\u001b[39;00m name \u001b[39mis\u001b[39;00m \u001b[39mnot\u001b[39;00m \u001b[39mNone\u001b[39;00m \u001b[39melse\u001b[39;00m \u001b[39m\"\u001b[39m\u001b[39m\"\u001b[39m)\n\u001b[0;32m-> <a href='file:///vol/bitbucket/ad6013/envs/gp-causal-env/lib/python3.9/site-packages/tensorflow/python/framework/ops.py?line=7163'>7164</a>\u001b[0m   \u001b[39mraise\u001b[39;00m core\u001b[39m.\u001b[39m_status_to_exception(e) \u001b[39mfrom\u001b[39;00m \u001b[39mNone\u001b[39m\n",
      "\u001b[0;31mInvalidArgumentError\u001b[0m: Checking b : Tensor had NaN values [Op:CheckNumerics]"
     ]
    }
   ],
   "source": [
    "a = tf.Variable(1.0)\n",
    "tf.debugging.check_numerics(a, message='')\n",
    "\n",
    "b = tf.Variable(np.nan)\n",
    "# try:\n",
    "tf.debugging.check_numerics(b, message='Checking b')\n",
    "# except Exception as e:\n",
    "#   assert \"Checking b : Tensor had NaN values\" in e.message\n",
    "\n",
    "c = tf.Variable(np.inf)\n",
    "try:\n",
    "  tf.debugging.check_numerics(c, message='Checking c')\n",
    "except Exception as e:\n",
    "  assert \"Checking c : Tensor had Inf values\" in e.message"
   ]
  },
  {
   "cell_type": "code",
   "execution_count": 9,
   "metadata": {},
   "outputs": [
    {
     "data": {
      "text/plain": [
       "18471693.4727468"
      ]
     },
     "execution_count": 9,
     "metadata": {},
     "output_type": "execute_result"
    }
   ],
   "source": [
    "5541508.04182404 / 0.3"
   ]
  },
  {
   "cell_type": "code",
   "execution_count": 10,
   "metadata": {},
   "outputs": [
    {
     "data": {
      "text/plain": [
       "18471693.4727468"
      ]
     },
     "execution_count": 10,
     "metadata": {},
     "output_type": "execute_result"
    }
   ],
   "source": [
    "18471693.4727468"
   ]
  },
  {
   "cell_type": "code",
   "execution_count": null,
   "metadata": {},
   "outputs": [],
   "source": []
  }
 ],
 "metadata": {
  "kernelspec": {
   "display_name": "Python 3 (ipykernel)",
   "language": "python",
   "name": "python3"
  },
  "language_info": {
   "codemirror_mode": {
    "name": "ipython",
    "version": 3
   },
   "file_extension": ".py",
   "mimetype": "text/x-python",
   "name": "python",
   "nbconvert_exporter": "python",
   "pygments_lexer": "ipython3",
   "version": "3.9.5"
  },
  "orig_nbformat": 4
 },
 "nbformat": 4,
 "nbformat_minor": 2
}
