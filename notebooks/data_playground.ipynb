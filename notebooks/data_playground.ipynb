{
 "cells": [
  {
   "cell_type": "code",
   "execution_count": 94,
   "metadata": {},
   "outputs": [],
   "source": [
    "import os\n",
    "os.environ[\"CUDA_VISIBLE_DEVICES\"]=\"0\""
   ]
  },
  {
   "cell_type": "code",
   "execution_count": 95,
   "metadata": {},
   "outputs": [],
   "source": [
    "\n",
    "import sys\n",
    "sys.path.append(\"/vol/bitbucket/ad6013/Research/gp-causal\")\n",
    "from models.PartObsBayesianGPLVM import PartObsBayesianGPLVM\n",
    "import gpflow\n",
    "import tensorflow as tf\n",
    "from gpflow.config import default_float\n",
    "import tensorflow_probability as tfp\n",
    "from data.get_data import get_tubingen_pairs_dataset, get_synthetic_dataset\n",
    "import numpy as np\n",
    "import matplotlib.pyplot as plt\n",
    "import numpy as np\n",
    "\n",
    "tf.random.set_seed(0)\n",
    "np.random.seed(0)"
   ]
  },
  {
   "cell_type": "code",
   "execution_count": 96,
   "metadata": {},
   "outputs": [],
   "source": [
    "x, y, weight = get_synthetic_dataset(\n",
    "    num_datasets=100,\n",
    "    sample_size=100,\n",
    "    func_string=\"mult_a\",\n",
    "    noise=\"uniform\"\n",
    ")\n",
    "x = (x - x.mean(axis=1)[:, None, :]) / x.std(axis=1)[:, None, :]\n",
    "y = (y - y.mean(axis=1)[:, None, :]) / y.std(axis=1)[:, None, :]\n",
    "input, output = y[3], x[3]"
   ]
  },
  {
   "cell_type": "code",
   "execution_count": 97,
   "metadata": {},
   "outputs": [
    {
     "name": "stderr",
     "output_type": "stream",
     "text": [
      "Load cause-effect pairs: 100%|██████████| 100/100 [00:00<00:00, 192.12it/s]\n"
     ]
    }
   ],
   "source": [
    "x, y, weight = get_tubingen_pairs_dataset(\n",
    "    data_path='/vol/bitbucket/ad6013/Research/gp-causal/data/pairs/files'\n",
    ")\n",
    "input, output = y[0], x[0]\n",
    "input = (input - input.mean(axis=0)[:, None]) / input.std(axis=0)[:, None]\n",
    "output = (output - output.mean(axis=0)[:, None]) / output.std(axis=0)[:, None]"
   ]
  },
  {
   "cell_type": "code",
   "execution_count": 77,
   "metadata": {},
   "outputs": [
    {
     "data": {
      "text/plain": [
       "(349, 1)"
      ]
     },
     "execution_count": 77,
     "metadata": {},
     "output_type": "execute_result"
    }
   ],
   "source": [
    "input.shape"
   ]
  },
  {
   "cell_type": "code",
   "execution_count": 78,
   "metadata": {},
   "outputs": [
    {
     "data": {
      "image/png": "[encoded data removed]",
      "text/plain": [
       "<Figure size 432x288 with 1 Axes>"
      ]
     },
     "metadata": {
      "needs_background": "light"
     },
     "output_type": "display_data"
    }
   ],
   "source": [
    "import matplotlib.pyplot as plt\n",
    "import numpy as np\n",
    "\n",
    "\n",
    "plt.hist(output[:, 0], bins=100)\n",
    "plt.show()"
   ]
  },
  {
   "cell_type": "code",
   "execution_count": 79,
   "metadata": {},
   "outputs": [
    {
     "data": {
      "image/png": "[encoded data removed]",
      "text/plain": [
       "<Figure size 432x288 with 1 Axes>"
      ]
     },
     "metadata": {
      "needs_background": "light"
     },
     "output_type": "display_data"
    }
   ],
   "source": [
    "plt.scatter(input[:, 0], output[:, 0])\n",
    "plt.show()"
   ]
  },
  {
   "cell_type": "code",
   "execution_count": 80,
   "metadata": {},
   "outputs": [
    {
     "data": {
      "image/png": "[encoded data removed]",
      "text/plain": [
       "<Figure size 432x288 with 1 Axes>"
      ]
     },
     "metadata": {
      "needs_background": "light"
     },
     "output_type": "display_data"
    }
   ],
   "source": [
    "plt.scatter(output[:, 0], input[:, 0])\n",
    "plt.show()"
   ]
  },
  {
   "cell_type": "code",
   "execution_count": 89,
   "metadata": {},
   "outputs": [],
   "source": [
    "from gpflow.base import Parameter\n",
    "from gpflow.utilities import positive\n",
    "\n",
    "\n",
    "\n",
    "\n",
    "num_inducing = 349\n",
    "\n",
    "kernel_variance = 10\n",
    "kernel_lengthscale = 1. / 4\n",
    "# likelihood_variance = 1\n",
    "likelihood_variance = Parameter( 1. / (0.2 ** 2), transform=positive(lower=0.01))\n",
    "\n",
    "sq_exp = gpflow.kernels.SquaredExponential()\n",
    "sq_exp.variance.assign(kernel_variance)\n",
    "    # lambda = 5 in this\n",
    "sq_exp.lengthscales.assign(kernel_lengthscale)\n",
    "\n",
    "m_gpr = gpflow.models.GPR(data=(input, output), kernel=sq_exp, mean_function=None)\n",
    "m_gpr.likelihood.variance = likelihood_variance\n",
    "opt = gpflow.optimizers.Scipy()\n",
    "opt_logs = opt.minimize(\n",
    "    m_gpr.training_loss, m_gpr.trainable_variables, options=dict(maxiter=10000)\n",
    ")"
   ]
  },
  {
   "cell_type": "code",
   "execution_count": 90,
   "metadata": {},
   "outputs": [],
   "source": [
    "x_new = np.linspace(-10, 10, 1000)[:, None]\n",
    "pred_f, var_f = m_gpr.predict_y(x_new)"
   ]
  },
  {
   "cell_type": "code",
   "execution_count": 91,
   "metadata": {},
   "outputs": [
    {
     "name": "stdout",
     "output_type": "stream",
     "text": [
      "╒═════════════════════════╤═══════════╤══════════════════╤═════════╤═════════════╤═════════╤═════════╤═══════════╕\n",
      "│ name                    │ class     │ transform        │ prior   │ trainable   │ shape   │ dtype   │     value │\n",
      "╞═════════════════════════╪═══════════╪══════════════════╪═════════╪═════════════╪═════════╪═════════╪═══════════╡\n",
      "│ GPR.kernel.variance     │ Parameter │ Softplus         │         │ True        │ ()      │ float64 │ 12.8212   │\n",
      "├─────────────────────────┼───────────┼──────────────────┼─────────┼─────────────┼─────────┼─────────┼───────────┤\n",
      "│ GPR.kernel.lengthscales │ Parameter │ Softplus         │         │ True        │ ()      │ float64 │  1.19102  │\n",
      "├─────────────────────────┼───────────┼──────────────────┼─────────┼─────────────┼─────────┼─────────┼───────────┤\n",
      "│ GPR.likelihood.variance │ Parameter │ Softplus + Shift │         │ True        │ ()      │ float64 │  0.177178 │\n",
      "╘═════════════════════════╧═══════════╧══════════════════╧═════════╧═════════════╧═════════╧═════════╧═══════════╛\n"
     ]
    }
   ],
   "source": [
    "from gpflow.utilities import print_summary\n",
    "print_summary(m_gpr)"
   ]
  },
  {
   "cell_type": "code",
   "execution_count": 74,
   "metadata": {},
   "outputs": [
    {
     "data": {
      "image/png": "[encoded data removed]",
      "text/plain": [
       "<Figure size 432x288 with 1 Axes>"
      ]
     },
     "metadata": {
      "needs_background": "light"
     },
     "output_type": "display_data"
    }
   ],
   "source": [
    "plt.scatter(input[:, 0], output[:, 0], c='r')\n",
    "plt.plot(x_new, pred_f, c='b', alpha=0.5)\n",
    "plt.fill_between(x_new[:, 0], (pred_f + 2 * np.sqrt(var_f))[:, 0], (pred_f - 2 * np.sqrt(var_f))[:, 0], alpha=0.5)\n",
    "plt.show()"
   ]
  },
  {
   "cell_type": "code",
   "execution_count": 75,
   "metadata": {},
   "outputs": [
    {
     "data": {
      "text/plain": [
       "218.84750858357233"
      ]
     },
     "execution_count": 75,
     "metadata": {},
     "output_type": "execute_result"
    }
   ],
   "source": [
    " - m_gpr.log_marginal_likelihood().numpy()"
   ]
  },
  {
   "cell_type": "code",
   "execution_count": 92,
   "metadata": {},
   "outputs": [
    {
     "data": {
      "image/png": "[encoded data removed]",
      "text/plain": [
       "<Figure size 432x288 with 1 Axes>"
      ]
     },
     "metadata": {
      "needs_background": "light"
     },
     "output_type": "display_data"
    }
   ],
   "source": [
    "plt.scatter(input[:, 0], output[:, 0], c='r')\n",
    "plt.plot(x_new, pred_f, c='b', alpha=0.5)\n",
    "plt.fill_between(x_new[:, 0], (pred_f + 2 * np.sqrt(var_f))[:, 0], (pred_f - 2 * np.sqrt(var_f))[:, 0], alpha=0.5)\n",
    "plt.show()"
   ]
  },
  {
   "cell_type": "code",
   "execution_count": null,
   "metadata": {},
   "outputs": [],
   "source": []
  },
  {
   "cell_type": "code",
   "execution_count": 93,
   "metadata": {},
   "outputs": [
    {
     "data": {
      "text/plain": [
       "217.66095511847294"
      ]
     },
     "execution_count": 93,
     "metadata": {},
     "output_type": "execute_result"
    }
   ],
   "source": [
    "- m_gpr.log_marginal_likelihood().numpy()"
   ]
  },
  {
   "cell_type": "code",
   "execution_count": 6,
   "metadata": {},
   "outputs": [
    {
     "name": "stderr",
     "output_type": "stream",
     "text": [
      "2022-05-24 17:39:07.953504: I tensorflow/stream_executor/cuda/cuda_gpu_executor.cc:975] successful NUMA node read from SysFS had negative value (-1), but there must be at least one NUMA node, so returning NUMA node zero\n",
      "2022-05-24 17:39:07.954158: W tensorflow/stream_executor/platform/default/dso_loader.cc:64] Could not load dynamic library 'libcudart.so.11.0'; dlerror: libcudart.so.11.0: cannot open shared object file: No such file or directory\n",
      "2022-05-24 17:39:07.954198: W tensorflow/stream_executor/platform/default/dso_loader.cc:64] Could not load dynamic library 'libcublas.so.11'; dlerror: libcublas.so.11: cannot open shared object file: No such file or directory\n",
      "2022-05-24 17:39:07.954232: W tensorflow/stream_executor/platform/default/dso_loader.cc:64] Could not load dynamic library 'libcublasLt.so.11'; dlerror: libcublasLt.so.11: cannot open shared object file: No such file or directory\n",
      "2022-05-24 17:39:07.954265: W tensorflow/stream_executor/platform/default/dso_loader.cc:64] Could not load dynamic library 'libcufft.so.10'; dlerror: libcufft.so.10: cannot open shared object file: No such file or directory\n",
      "2022-05-24 17:39:07.954296: W tensorflow/stream_executor/platform/default/dso_loader.cc:64] Could not load dynamic library 'libcurand.so.10'; dlerror: libcurand.so.10: cannot open shared object file: No such file or directory\n",
      "2022-05-24 17:39:07.954329: W tensorflow/stream_executor/platform/default/dso_loader.cc:64] Could not load dynamic library 'libcusolver.so.11'; dlerror: libcusolver.so.11: cannot open shared object file: No such file or directory\n",
      "2022-05-24 17:39:07.954360: W tensorflow/stream_executor/platform/default/dso_loader.cc:64] Could not load dynamic library 'libcusparse.so.11'; dlerror: libcusparse.so.11: cannot open shared object file: No such file or directory\n",
      "2022-05-24 17:39:07.954392: W tensorflow/stream_executor/platform/default/dso_loader.cc:64] Could not load dynamic library 'libcudnn.so.8'; dlerror: libcudnn.so.8: cannot open shared object file: No such file or directory\n",
      "2022-05-24 17:39:07.954397: W tensorflow/core/common_runtime/gpu/gpu_device.cc:1850] Cannot dlopen some GPU libraries. Please make sure the missing libraries mentioned above are installed properly if you would like to use GPU. Follow the guide at https://www.tensorflow.org/install/gpu for how to download and setup the required libraries for your platform.\n",
      "Skipping registering GPU devices...\n"
     ]
    },
    {
     "data": {
      "text/plain": [
       "[]"
      ]
     },
     "execution_count": 6,
     "metadata": {},
     "output_type": "execute_result"
    }
   ],
   "source": [
    "import os\n",
    "os.environ[\"CUDA_VISIBLE_DEVICES\"]=\"0\"\n",
    "\n",
    "tf.config.list_physical_devices('GPU')"
   ]
  },
  {
   "cell_type": "code",
   "execution_count": 98,
   "metadata": {},
   "outputs": [
    {
     "name": "stdout",
     "output_type": "stream",
     "text": [
      "Initial hyper: lengthscale - [0.61883171 0.13313174], variance - [0.00054382]\n"
     ]
    }
   ],
   "source": [
    "from gpflow.base import Parameter\n",
    "from gpflow.utilities import positive\n",
    "\n",
    "tf.config.run_functions_eagerly(False)\n",
    "\n",
    "# for i in range(500):\n",
    "# x, y, weight = get_synthetic_dataset(\n",
    "#     num_datasets=100,\n",
    "#     sample_size=100,\n",
    "#     func_string=\"mult_a\",\n",
    "#     noise=\"uniform\"\n",
    "# )\n",
    "# x = (x - x.mean(axis=1)[:, None, :]) / x.std(axis=1)[:, None, :]\n",
    "# y = (y - y.mean(axis=1)[:, None, :]) / y.std(axis=1)[:, None, :]\n",
    "\n",
    "# input, output = x[0], y[0]\n",
    "\n",
    "kernel_variance = 1.0\n",
    "# Likelihood variance\n",
    "kappa = np.random.uniform(\n",
    "    low=1.0, high=100, size=[1]\n",
    ")\n",
    "# Kernel lengthscale\n",
    "lamda = np.random.uniform(\n",
    "    low=1.0, high=10, size=[2]\n",
    ")\n",
    "\n",
    "latent_dim = 1\n",
    "num_inducing = 349\n",
    "\n",
    "kernel_lengthscale = 1. / lamda\n",
    "likelihood_variance = Parameter( 1. / (kappa ** 2), transform=positive(lower=1e-6))\n",
    "\n",
    "print(f\"Initial hyper: lengthscale - {kernel_lengthscale}, variance - {likelihood_variance.numpy()}\")\n",
    "\n",
    "sq_exp = gpflow.kernels.SquaredExponential()\n",
    "sq_exp.variance.assign(kernel_variance)\n",
    "    # lambda = 5 in this\n",
    "sq_exp.lengthscales.assign(kernel_lengthscale[0])\n",
    "\n",
    "m = gpflow.models.GPR(data=(input, output), kernel=sq_exp, mean_function=None)\n",
    "m.likelihood.variance = likelihood_variance[0]\n",
    "opt = gpflow.optimizers.Scipy()\n",
    "opt_logs = opt.minimize(\n",
    "    m.training_loss, m.trainable_variables, options=dict(maxiter=10000)\n",
    ")\n",
    "# found_lengthscales = [m.kernel.kernels[0].lengthscales.numpy(), m.kernel.kernels[1].lengthscales.numpy(), m.kernel.kernels[2].lengthscales.numpy()]\n",
    "found_lengthscale = m.kernel.lengthscales.numpy()\n",
    "found_lik_var = m.likelihood.variance.numpy()\n",
    "\n",
    "X_mean_init = output - m.predict_f(input)[0]\n",
    "# X_mean_init = tfp.distributions.Normal(loc=0, scale=1).sample([y.shape[0], latent_dim])\n",
    "# X_mean_init = tf.cast(X_mean_init, dtype=default_float())\n",
    "X_var_init = tf.ones((input.shape[0], latent_dim), dtype=default_float())\n",
    "kernel = gpflow.kernels.SquaredExponential(lengthscales=[found_lengthscale] + [kernel_lengthscale[1]] * latent_dim)\n",
    "\n",
    "m = PartObsBayesianGPLVM(\n",
    "    data=output,\n",
    "    in_data=input,\n",
    "    kernel=kernel,\n",
    "    X_data_mean=X_mean_init,\n",
    "    X_data_var=X_var_init,\n",
    "    num_inducing_variables=num_inducing,\n",
    ")\n",
    "m.likelihood.variance = Parameter( found_lik_var, transform=positive(lower=1e-6))\n",
    "\n",
    "# Train only inducing variables\n",
    "gpflow.utilities.set_trainable(m.kernel, False)\n",
    "gpflow.utilities.set_trainable(m.likelihood, False)\n",
    "gpflow.utilities.set_trainable(m.X_data_mean , False)\n",
    "gpflow.utilities.set_trainable(m.X_data_var, False)\n",
    "opt = gpflow.optimizers.Scipy()\n",
    "opt_logs = opt.minimize(\n",
    "    m.training_loss,\n",
    "    m.trainable_variables,\n",
    "    options=dict(maxiter=10000),\n",
    ")\n",
    "\n",
    "# Train only x_var\n",
    "gpflow.utilities.set_trainable(m.kernel, False)\n",
    "gpflow.utilities.set_trainable(m.likelihood, False)\n",
    "gpflow.utilities.set_trainable(m.X_data_mean , False)\n",
    "gpflow.utilities.set_trainable(m.X_data_var, True)\n",
    "gpflow.utilities.set_trainable(m.inducing_variable, False)\n",
    "opt = gpflow.optimizers.Scipy()\n",
    "opt_logs = opt.minimize(\n",
    "    m.training_loss,\n",
    "    m.trainable_variables,\n",
    "    options=dict(maxiter=10000),\n",
    ")\n",
    "\n",
    "# Train all the hyperparameters\n",
    "gpflow.utilities.set_trainable(m.kernel, True)\n",
    "gpflow.utilities.set_trainable(m.likelihood, True)\n",
    "gpflow.utilities.set_trainable(m.X_data_mean , False)\n",
    "gpflow.utilities.set_trainable(m.X_data_var, False)\n",
    "gpflow.utilities.set_trainable(m.inducing_variable, False)\n",
    "opt = gpflow.optimizers.Scipy()\n",
    "opt_logs = opt.minimize(\n",
    "    m.training_loss,\n",
    "    m.trainable_variables,\n",
    "    options=dict(maxiter=10000),\n",
    ")\n",
    "\n",
    "# Train everything\n",
    "gpflow.utilities.set_trainable(m.kernel, True)\n",
    "gpflow.utilities.set_trainable(m.likelihood, True)\n",
    "gpflow.utilities.set_trainable(m.X_data_mean , True)\n",
    "gpflow.utilities.set_trainable(m.X_data_var, True)\n",
    "gpflow.utilities.set_trainable(m.inducing_variable, True)\n",
    "opt = gpflow.optimizers.Scipy()\n",
    "opt_logs = opt.minimize(\n",
    "    m.training_loss,\n",
    "    m.trainable_variables,\n",
    "    options=dict(maxiter=10000),\n",
    ")"
   ]
  },
  {
   "cell_type": "code",
   "execution_count": null,
   "metadata": {},
   "outputs": [
    {
     "name": "stdout",
     "output_type": "stream",
     "text": [
      "╒══════════════════════════════════════════╤═══════════╤══════════════════╤═════════╤═════════════╤══════════╤═════════╤══════════════════════════════════════╕\n",
      "│ name                                     │ class     │ transform        │ prior   │ trainable   │ shape    │ dtype   │ value                                │\n",
      "╞══════════════════════════════════════════╪═══════════╪══════════════════╪═════════╪═════════════╪══════════╪═════════╪══════════════════════════════════════╡\n",
      "│ PartObsBayesianGPLVM.kernel.variance     │ Parameter │ Softplus         │         │ True        │ ()       │ float64 │ 4.8897554654502314e-08               │\n",
      "├──────────────────────────────────────────┼───────────┼──────────────────┼─────────┼─────────────┼──────────┼─────────┼──────────────────────────────────────┤\n",
      "│ PartObsBayesianGPLVM.kernel.lengthscales │ Parameter │ Softplus         │         │ True        │ (2,)     │ float64 │ [3.70035018e-05 5.05022419e-01]      │\n",
      "├──────────────────────────────────────────┼───────────┼──────────────────┼─────────┼─────────────┼──────────┼─────────┼──────────────────────────────────────┤\n",
      "│ PartObsBayesianGPLVM.likelihood.variance │ Parameter │ Softplus + Shift │         │ True        │ ()       │ float64 │ 1.0000043435989567                   │\n",
      "├──────────────────────────────────────────┼───────────┼──────────────────┼─────────┼─────────────┼──────────┼─────────┼──────────────────────────────────────┤\n",
      "│ PartObsBayesianGPLVM.in_data             │ Parameter │ Identity         │         │ False       │ (349, 1) │ float64 │ [[1.22609246e-01...                  │\n",
      "├──────────────────────────────────────────┼───────────┼──────────────────┼─────────┼─────────────┼──────────┼─────────┼──────────────────────────────────────┤\n",
      "│ PartObsBayesianGPLVM.X_data_mean         │ Parameter │ Identity         │         │ True        │ (349, 1) │ float64 │ [[2.86754823e-08...                  │\n",
      "├──────────────────────────────────────────┼───────────┼──────────────────┼─────────┼─────────────┼──────────┼─────────┼──────────────────────────────────────┤\n",
      "│ PartObsBayesianGPLVM.X_data_var          │ Parameter │ Softplus         │         │ True        │ (349, 1) │ float64 │ [[0.9999973...                       │\n",
      "├──────────────────────────────────────────┼───────────┼──────────────────┼─────────┼─────────────┼──────────┼─────────┼──────────────────────────────────────┤\n",
      "│ PartObsBayesianGPLVM.inducing_variable.Z │ Parameter │ Identity         │         │ True        │ (300, 2) │ float64 │ [[-1.43459503e+00, 1.28659689e-03... │\n",
      "╘══════════════════════════════════════════╧═══════════╧══════════════════╧═════════╧═════════════╧══════════╧═════════╧══════════════════════════════════════╛\n"
     ]
    }
   ],
   "source": [
    "from gpflow.utilities import print_summary\n",
    "print_summary(m)"
   ]
  },
  {
   "cell_type": "code",
   "execution_count": null,
   "metadata": {},
   "outputs": [
    {
     "data": {
      "text/plain": [
       "<tf.Tensor: shape=(), dtype=float64, numpy=495.2095570300378>"
      ]
     },
     "execution_count": 11,
     "metadata": {},
     "output_type": "execute_result"
    }
   ],
   "source": [
    "- m.elbo()"
   ]
  },
  {
   "cell_type": "code",
   "execution_count": null,
   "metadata": {},
   "outputs": [],
   "source": [
    "obs_new = np.linspace(-20, 20, 4000)[:, None]\n",
    "\n",
    "Xnew = tfp.distributions.Normal(loc=0, scale=1).sample([obs_new.shape[0], latent_dim])\n",
    "Xnew = tf.cast(Xnew, dtype=default_float())\n",
    "Xnew = tf.concat(\n",
    "    [obs_new, Xnew], axis=1\n",
    ")\n",
    "pred_f_mean, pred_f_var = m.predict_y(\n",
    "    in_data_new=input,\n",
    "    Xnew=Xnew,\n",
    ")"
   ]
  },
  {
   "cell_type": "code",
   "execution_count": null,
   "metadata": {},
   "outputs": [
    {
     "data": {
      "image/png": "[encoded data removed]",
      "text/plain": [
       "<Figure size 432x288 with 1 Axes>"
      ]
     },
     "metadata": {
      "needs_background": "light"
     },
     "output_type": "display_data"
    }
   ],
   "source": [
    "plt.scatter(input[:, 0], output[:, 0], c='r')\n",
    "plt.scatter(obs_new, pred_f_mean, c='b', alpha=0.1)\n",
    "# plt.scatter(inducing_in, np.zeros(100) )\n",
    "plt.fill_between(obs_new[:, 0], (pred_f_mean + 2 * np.sqrt(pred_f_var))[:, 0], (pred_f_mean - 2 * np.sqrt(pred_f_var))[:,0], alpha=0.5)\n",
    "plt.show()"
   ]
  },
  {
   "cell_type": "code",
   "execution_count": 38,
   "metadata": {},
   "outputs": [
    {
     "data": {
      "text/plain": [
       "687.4419320636074"
      ]
     },
     "execution_count": 38,
     "metadata": {},
     "output_type": "execute_result"
    }
   ],
   "source": [
    "-m.elbo().numpy()"
   ]
  },
  {
   "cell_type": "code",
   "execution_count": 22,
   "metadata": {},
   "outputs": [
    {
     "data": {
      "text/plain": [
       "-499.09120544465554"
      ]
     },
     "execution_count": 22,
     "metadata": {},
     "output_type": "execute_result"
    }
   ],
   "source": [
    "-m.elbo().numpy()"
   ]
  },
  {
   "cell_type": "code",
   "execution_count": 87,
   "metadata": {},
   "outputs": [
    {
     "data": {
      "text/plain": [
       "True"
      ]
     },
     "execution_count": 87,
     "metadata": {},
     "output_type": "execute_result"
    }
   ],
   "source": [
    "-945.981557225954 < -751.9391785862274"
   ]
  },
  {
   "cell_type": "code",
   "execution_count": 24,
   "metadata": {},
   "outputs": [
    {
     "ename": "IndexError",
     "evalue": "too many indices for array: array is 2-dimensional, but 3 were indexed",
     "output_type": "error",
     "traceback": [
      "\u001b[0;31m---------------------------------------------------------------------------\u001b[0m",
      "\u001b[0;31mIndexError\u001b[0m                                Traceback (most recent call last)",
      "\u001b[1;32m/vol/bitbucket/ad6013/Research/gp-causal/notebooks/data_playground.ipynb Cell 13'\u001b[0m in \u001b[0;36m<cell line: 1>\u001b[0;34m()\u001b[0m\n\u001b[0;32m----> <a href='vscode-notebook-cell://ssh-remote%2Bphlogiston.doc.ic.ac.uk/vol/bitbucket/ad6013/Research/gp-causal/notebooks/data_playground.ipynb#ch0000008vscode-remote?line=0'>1</a>\u001b[0m plt\u001b[39m.\u001b[39mscatter(x[\u001b[39m0\u001b[39;49m, :, \u001b[39m0\u001b[39;49m], y[\u001b[39m0\u001b[39m, :, \u001b[39m0\u001b[39m], c\u001b[39m=\u001b[39m\u001b[39m'\u001b[39m\u001b[39mr\u001b[39m\u001b[39m'\u001b[39m)\n\u001b[1;32m      <a href='vscode-notebook-cell://ssh-remote%2Bphlogiston.doc.ic.ac.uk/vol/bitbucket/ad6013/Research/gp-causal/notebooks/data_playground.ipynb#ch0000008vscode-remote?line=1'>2</a>\u001b[0m plt\u001b[39m.\u001b[39mscatter(x[\u001b[39m0\u001b[39m], pred_f_mean, c\u001b[39m=\u001b[39m\u001b[39m'\u001b[39m\u001b[39mb\u001b[39m\u001b[39m'\u001b[39m, alpha\u001b[39m=\u001b[39m\u001b[39m0.5\u001b[39m)\n\u001b[1;32m      <a href='vscode-notebook-cell://ssh-remote%2Bphlogiston.doc.ic.ac.uk/vol/bitbucket/ad6013/Research/gp-causal/notebooks/data_playground.ipynb#ch0000008vscode-remote?line=2'>3</a>\u001b[0m plt\u001b[39m.\u001b[39mylim(\u001b[39m-\u001b[39m\u001b[39m20\u001b[39m, \u001b[39m20\u001b[39m)\n",
      "\u001b[0;31mIndexError\u001b[0m: too many indices for array: array is 2-dimensional, but 3 were indexed"
     ]
    }
   ],
   "source": [
    "plt.scatter(x[0, :, 0], y[0, :, 0], c='r')\n",
    "plt.scatter(x[0], pred_f_mean, c='b', alpha=0.5)\n",
    "plt.ylim(-20, 20)\n",
    "plt.show()"
   ]
  },
  {
   "cell_type": "code",
   "execution_count": 15,
   "metadata": {},
   "outputs": [
    {
     "data": {
      "text/plain": [
       "119.29262107485727"
      ]
     },
     "execution_count": 15,
     "metadata": {},
     "output_type": "execute_result"
    }
   ],
   "source": [
    "- m.elbo().numpy()"
   ]
  },
  {
   "cell_type": "code",
   "execution_count": 159,
   "metadata": {},
   "outputs": [],
   "source": [
    "gplvm_in = y[2]\n",
    "tf.config.run_functions_eagerly(False)\n"
   ]
  },
  {
   "cell_type": "code",
   "execution_count": 14,
   "metadata": {},
   "outputs": [
    {
     "ename": "NameError",
     "evalue": "name 'gplvm_in' is not defined",
     "output_type": "error",
     "traceback": [
      "\u001b[0;31m---------------------------------------------------------------------------\u001b[0m",
      "\u001b[0;31mNameError\u001b[0m                                 Traceback (most recent call last)",
      "\u001b[1;32m/vol/bitbucket/ad6013/Research/gp-causal/notebooks/data_playground.ipynb Cell 29'\u001b[0m in \u001b[0;36m<cell line: 7>\u001b[0;34m()\u001b[0m\n\u001b[1;32m      <a href='vscode-notebook-cell://ssh-remote%2Bphlogiston.doc.ic.ac.uk/vol/bitbucket/ad6013/Research/gp-causal/notebooks/data_playground.ipynb#ch0000030vscode-remote?line=3'>4</a>\u001b[0m latent_dim \u001b[39m=\u001b[39m \u001b[39m1\u001b[39m\n\u001b[1;32m      <a href='vscode-notebook-cell://ssh-remote%2Bphlogiston.doc.ic.ac.uk/vol/bitbucket/ad6013/Research/gp-causal/notebooks/data_playground.ipynb#ch0000030vscode-remote?line=4'>5</a>\u001b[0m kernel_variance \u001b[39m=\u001b[39m \u001b[39m1.0\u001b[39m\n\u001b[0;32m----> <a href='vscode-notebook-cell://ssh-remote%2Bphlogiston.doc.ic.ac.uk/vol/bitbucket/ad6013/Research/gp-causal/notebooks/data_playground.ipynb#ch0000030vscode-remote?line=6'>7</a>\u001b[0m X_mean_init \u001b[39m=\u001b[39m tfp\u001b[39m.\u001b[39mdistributions\u001b[39m.\u001b[39mNormal(loc\u001b[39m=\u001b[39m\u001b[39m0\u001b[39m, scale\u001b[39m=\u001b[39m\u001b[39m1\u001b[39m)\u001b[39m.\u001b[39msample([gplvm_in\u001b[39m.\u001b[39mshape[\u001b[39m0\u001b[39m], latent_dim])\n\u001b[1;32m      <a href='vscode-notebook-cell://ssh-remote%2Bphlogiston.doc.ic.ac.uk/vol/bitbucket/ad6013/Research/gp-causal/notebooks/data_playground.ipynb#ch0000030vscode-remote?line=7'>8</a>\u001b[0m X_mean_init \u001b[39m=\u001b[39m tf\u001b[39m.\u001b[39mcast(X_mean_init, dtype\u001b[39m=\u001b[39mdefault_float())\n\u001b[1;32m      <a href='vscode-notebook-cell://ssh-remote%2Bphlogiston.doc.ic.ac.uk/vol/bitbucket/ad6013/Research/gp-causal/notebooks/data_playground.ipynb#ch0000030vscode-remote?line=8'>9</a>\u001b[0m X_var_init \u001b[39m=\u001b[39m tf\u001b[39m.\u001b[39mones((gplvm_in\u001b[39m.\u001b[39mshape[\u001b[39m0\u001b[39m], latent_dim), dtype\u001b[39m=\u001b[39mdefault_float())\n",
      "\u001b[0;31mNameError\u001b[0m: name 'gplvm_in' is not defined"
     ]
    }
   ],
   "source": [
    "kernel_lengthscale = 1. / 5\n",
    "likelihood_variance = 1. / (20 ** 2)\n",
    "num_inducing = 100\n",
    "latent_dim = 1\n",
    "kernel_variance = 1.0\n",
    "\n",
    "X_mean_init = tfp.distributions.Normal(loc=0, scale=1).sample([gplvm_in.shape[0], latent_dim])\n",
    "X_mean_init = tf.cast(X_mean_init, dtype=default_float())\n",
    "X_var_init = tf.ones((gplvm_in.shape[0], latent_dim), dtype=default_float())\n",
    "sq_exp = gpflow.kernels.SquaredExponential() \n",
    "sq_exp.variance.assign(kernel_variance)\n",
    "sq_exp.lengthscales.assign(1. / 10)\n",
    "\n",
    "mat32 = gpflow.kernels.Matern32() \n",
    "mat32.variance.assign(kernel_variance)\n",
    "mat32.lengthscales.assign(1. / 10)\n",
    "\n",
    "mat52 = gpflow.kernels.Matern52() \n",
    "mat52.variance.assign(kernel_variance)\n",
    "mat52.lengthscales.assign(1. /8)\n",
    "\n",
    "kernel = gpflow.kernels.Sum([sq_exp, mat32, mat52])\n",
    "\n",
    "m = gpflow.models.BayesianGPLVM(\n",
    "    data=gplvm_in,\n",
    "    kernel=kernel,\n",
    "    X_data_mean=X_mean_init,\n",
    "    X_data_var=X_var_init,\n",
    "    num_inducing_variables=num_inducing,\n",
    "    )\n",
    "m.likelihood.variance.assign(likelihood_variance)"
   ]
  },
  {
   "cell_type": "code",
   "execution_count": 161,
   "metadata": {},
   "outputs": [],
   "source": [
    "# Only train variational parameters first\n",
    "# gpflow.utilities.set_trainable(m.kernel, False)\n",
    "# gpflow.utilities.set_trainable(m.likelihood, False)\n",
    "# opt = gpflow.optimizers.Scipy()\n",
    "# opt_logs = opt.minimize(\n",
    "#     m.training_loss,\n",
    "#     m.trainable_variables,\n",
    "#     options=dict(maxiter=100),\n",
    "# )\n",
    "\n",
    "# Train all the parameters\n",
    "gpflow.utilities.set_trainable(m.kernel, True)\n",
    "gpflow.utilities.set_trainable(m.likelihood, True)\n",
    "opt = gpflow.optimizers.Scipy()\n",
    "opt_logs = opt.minimize(\n",
    "    m.training_loss,\n",
    "    m.trainable_variables,\n",
    "    options=dict(maxiter=10000),\n",
    ")"
   ]
  },
  {
   "cell_type": "code",
   "execution_count": null,
   "metadata": {},
   "outputs": [
    {
     "name": "stdout",
     "output_type": "stream",
     "text": [
      "Help on OptimizeResult in module scipy.optimize._optimize object:\n",
      "\n",
      "class OptimizeResult(builtins.dict)\n",
      " |  Represents the optimization result.\n",
      " |  \n",
      " |  Attributes\n",
      " |  ----------\n",
      " |  x : ndarray\n",
      " |      The solution of the optimization.\n",
      " |  success : bool\n",
      " |      Whether or not the optimizer exited successfully.\n",
      " |  status : int\n",
      " |      Termination status of the optimizer. Its value depends on the\n",
      " |      underlying solver. Refer to `message` for details.\n",
      " |  message : str\n",
      " |      Description of the cause of the termination.\n",
      " |  fun, jac, hess: ndarray\n",
      " |      Values of objective function, its Jacobian and its Hessian (if\n",
      " |      available). The Hessians may be approximations, see the documentation\n",
      " |      of the function in question.\n",
      " |  hess_inv : object\n",
      " |      Inverse of the objective function's Hessian; may be an approximation.\n",
      " |      Not available for all solvers. The type of this attribute may be\n",
      " |      either np.ndarray or scipy.sparse.linalg.LinearOperator.\n",
      " |  nfev, njev, nhev : int\n",
      " |      Number of evaluations of the objective functions and of its\n",
      " |      Jacobian and Hessian.\n",
      " |  nit : int\n",
      " |      Number of iterations performed by the optimizer.\n",
      " |  maxcv : float\n",
      " |      The maximum constraint violation.\n",
      " |  \n",
      " |  Notes\n",
      " |  -----\n",
      " |  `OptimizeResult` may have additional attributes not listed here depending\n",
      " |  on the specific solver being used. Since this class is essentially a\n",
      " |  subclass of dict with attribute accessors, one can see which\n",
      " |  attributes are available using the `OptimizeResult.keys` method.\n",
      " |  \n",
      " |  Method resolution order:\n",
      " |      OptimizeResult\n",
      " |      builtins.dict\n",
      " |      builtins.object\n",
      " |  \n",
      " |  Methods defined here:\n",
      " |  \n",
      " |  __delattr__ = __delitem__(self, key, /)\n",
      " |  \n",
      " |  __dir__(self)\n",
      " |      Default dir() implementation.\n",
      " |  \n",
      " |  __getattr__(self, name)\n",
      " |  \n",
      " |  __repr__(self)\n",
      " |      Return repr(self).\n",
      " |  \n",
      " |  __setattr__ = __setitem__(self, key, value, /)\n",
      " |  \n",
      " |  ----------------------------------------------------------------------\n",
      " |  Data descriptors defined here:\n",
      " |  \n",
      " |  __dict__\n",
      " |      dictionary for instance variables (if defined)\n",
      " |  \n",
      " |  __weakref__\n",
      " |      list of weak references to the object (if defined)\n",
      " |  \n",
      " |  ----------------------------------------------------------------------\n",
      " |  Methods inherited from builtins.dict:\n",
      " |  \n",
      " |  __contains__(self, key, /)\n",
      " |      True if the dictionary has the specified key, else False.\n",
      " |  \n",
      " |  __delitem__(self, key, /)\n",
      " |      Delete self[key].\n",
      " |  \n",
      " |  __eq__(self, value, /)\n",
      " |      Return self==value.\n",
      " |  \n",
      " |  __ge__(self, value, /)\n",
      " |      Return self>=value.\n",
      " |  \n",
      " |  __getattribute__(self, name, /)\n",
      " |      Return getattr(self, name).\n",
      " |  \n",
      " |  __getitem__(...)\n",
      " |      x.__getitem__(y) <==> x[y]\n",
      " |  \n",
      " |  __gt__(self, value, /)\n",
      " |      Return self>value.\n",
      " |  \n",
      " |  __init__(self, /, *args, **kwargs)\n",
      " |      Initialize self.  See help(type(self)) for accurate signature.\n",
      " |  \n",
      " |  __ior__(self, value, /)\n",
      " |      Return self|=value.\n",
      " |  \n",
      " |  __iter__(self, /)\n",
      " |      Implement iter(self).\n",
      " |  \n",
      " |  __le__(self, value, /)\n",
      " |      Return self<=value.\n",
      " |  \n",
      " |  __len__(self, /)\n",
      " |      Return len(self).\n",
      " |  \n",
      " |  __lt__(self, value, /)\n",
      " |      Return self<value.\n",
      " |  \n",
      " |  __ne__(self, value, /)\n",
      " |      Return self!=value.\n",
      " |  \n",
      " |  __or__(self, value, /)\n",
      " |      Return self|value.\n",
      " |  \n",
      " |  __reversed__(self, /)\n",
      " |      Return a reverse iterator over the dict keys.\n",
      " |  \n",
      " |  __ror__(self, value, /)\n",
      " |      Return value|self.\n",
      " |  \n",
      " |  __setitem__(self, key, value, /)\n",
      " |      Set self[key] to value.\n",
      " |  \n",
      " |  __sizeof__(...)\n",
      " |      D.__sizeof__() -> size of D in memory, in bytes\n",
      " |  \n",
      " |  clear(...)\n",
      " |      D.clear() -> None.  Remove all items from D.\n",
      " |  \n",
      " |  copy(...)\n",
      " |      D.copy() -> a shallow copy of D\n",
      " |  \n",
      " |  get(self, key, default=None, /)\n",
      " |      Return the value for key if key is in the dictionary, else default.\n",
      " |  \n",
      " |  items(...)\n",
      " |      D.items() -> a set-like object providing a view on D's items\n",
      " |  \n",
      " |  keys(...)\n",
      " |      D.keys() -> a set-like object providing a view on D's keys\n",
      " |  \n",
      " |  pop(...)\n",
      " |      D.pop(k[,d]) -> v, remove specified key and return the corresponding value.\n",
      " |      \n",
      " |      If key is not found, default is returned if given, otherwise KeyError is raised\n",
      " |  \n",
      " |  popitem(self, /)\n",
      " |      Remove and return a (key, value) pair as a 2-tuple.\n",
      " |      \n",
      " |      Pairs are returned in LIFO (last-in, first-out) order.\n",
      " |      Raises KeyError if the dict is empty.\n",
      " |  \n",
      " |  setdefault(self, key, default=None, /)\n",
      " |      Insert key with a value of default if key is not in the dictionary.\n",
      " |      \n",
      " |      Return the value for key if key is in the dictionary, else default.\n",
      " |  \n",
      " |  update(...)\n",
      " |      D.update([E, ]**F) -> None.  Update D from dict/iterable E and F.\n",
      " |      If E is present and has a .keys() method, then does:  for k in E: D[k] = E[k]\n",
      " |      If E is present and lacks a .keys() method, then does:  for k, v in E: D[k] = v\n",
      " |      In either case, this is followed by: for k in F:  D[k] = F[k]\n",
      " |  \n",
      " |  values(...)\n",
      " |      D.values() -> an object providing a view on D's values\n",
      " |  \n",
      " |  ----------------------------------------------------------------------\n",
      " |  Class methods inherited from builtins.dict:\n",
      " |  \n",
      " |  __class_getitem__(...) from builtins.type\n",
      " |      See PEP 585\n",
      " |  \n",
      " |  fromkeys(iterable, value=None, /) from builtins.type\n",
      " |      Create a new dictionary with keys from iterable and values set to value.\n",
      " |  \n",
      " |  ----------------------------------------------------------------------\n",
      " |  Static methods inherited from builtins.dict:\n",
      " |  \n",
      " |  __new__(*args, **kwargs) from builtins.type\n",
      " |      Create and return a new object.  See help(type) for accurate signature.\n",
      " |  \n",
      " |  ----------------------------------------------------------------------\n",
      " |  Data and other attributes inherited from builtins.dict:\n",
      " |  \n",
      " |  __hash__ = None\n",
      "\n"
     ]
    }
   ],
   "source": [
    "help(opt_logs)"
   ]
  },
  {
   "cell_type": "code",
   "execution_count": null,
   "metadata": {},
   "outputs": [],
   "source": []
  },
  {
   "cell_type": "code",
   "execution_count": null,
   "metadata": {},
   "outputs": [
    {
     "name": "stdout",
     "output_type": "stream",
     "text": [
      "╒══════════════════════════════════════════════╤═══════════╤══════════════════╤═════════╤═════════════╤══════════╤═════════╤════════════════════════╕\n",
      "│ name                                         │ class     │ transform        │ prior   │ trainable   │ shape    │ dtype   │ value                  │\n",
      "╞══════════════════════════════════════════════╪═══════════╪══════════════════╪═════════╪═════════════╪══════════╪═════════╪════════════════════════╡\n",
      "│ BayesianGPLVM.kernel.kernels[0].variance     │ Parameter │ Softplus         │         │ True        │ ()       │ float64 │ 4.642696535423026e-10  │\n",
      "├──────────────────────────────────────────────┼───────────┼──────────────────┼─────────┼─────────────┼──────────┼─────────┼────────────────────────┤\n",
      "│ BayesianGPLVM.kernel.kernels[0].lengthscales │ Parameter │ Softplus         │         │ True        │ ()       │ float64 │ 0.6538335049036416     │\n",
      "├──────────────────────────────────────────────┼───────────┼──────────────────┼─────────┼─────────────┼──────────┼─────────┼────────────────────────┤\n",
      "│ BayesianGPLVM.kernel.kernels[1].variance     │ Parameter │ Softplus         │         │ True        │ ()       │ float64 │ 2.2153924475578747e-09 │\n",
      "├──────────────────────────────────────────────┼───────────┼──────────────────┼─────────┼─────────────┼──────────┼─────────┼────────────────────────┤\n",
      "│ BayesianGPLVM.kernel.kernels[1].lengthscales │ Parameter │ Softplus         │         │ True        │ ()       │ float64 │ 0.02381206411110741    │\n",
      "├──────────────────────────────────────────────┼───────────┼──────────────────┼─────────┼─────────────┼──────────┼─────────┼────────────────────────┤\n",
      "│ BayesianGPLVM.kernel.kernels[2].variance     │ Parameter │ Softplus         │         │ True        │ ()       │ float64 │ 1.859095602418622e-09  │\n",
      "├──────────────────────────────────────────────┼───────────┼──────────────────┼─────────┼─────────────┼──────────┼─────────┼────────────────────────┤\n",
      "│ BayesianGPLVM.kernel.kernels[2].lengthscales │ Parameter │ Softplus         │         │ True        │ ()       │ float64 │ 0.013141899981182497   │\n",
      "├──────────────────────────────────────────────┼───────────┼──────────────────┼─────────┼─────────────┼──────────┼─────────┼────────────────────────┤\n",
      "│ BayesianGPLVM.likelihood.variance            │ Parameter │ Softplus + Shift │         │ True        │ ()       │ float64 │ 0.9998920787250046     │\n",
      "├──────────────────────────────────────────────┼───────────┼──────────────────┼─────────┼─────────────┼──────────┼─────────┼────────────────────────┤\n",
      "│ BayesianGPLVM.X_data_mean                    │ Parameter │ Identity         │         │ True        │ (100, 1) │ float64 │ [[-2.27307869e-05...   │\n",
      "├──────────────────────────────────────────────┼───────────┼──────────────────┼─────────┼─────────────┼──────────┼─────────┼────────────────────────┤\n",
      "│ BayesianGPLVM.X_data_var                     │ Parameter │ Softplus         │         │ True        │ (100, 1) │ float64 │ [[0.99982298...        │\n",
      "├──────────────────────────────────────────────┼───────────┼──────────────────┼─────────┼─────────────┼──────────┼─────────┼────────────────────────┤\n",
      "│ BayesianGPLVM.inducing_variable.Z            │ Parameter │ Identity         │         │ True        │ (25, 1)  │ float64 │ [[-1.14650642...       │\n",
      "╘══════════════════════════════════════════════╧═══════════╧══════════════════╧═════════╧═════════════╧══════════╧═════════╧════════════════════════╛\n"
     ]
    }
   ],
   "source": [
    "from gpflow.utilities import print_summary\n",
    "print_summary(m)"
   ]
  },
  {
   "cell_type": "code",
   "execution_count": null,
   "metadata": {},
   "outputs": [],
   "source": [
    "pred_y_mean, pred_y_var = m.predict_y(Xnew=m.X_data_mean)"
   ]
  },
  {
   "cell_type": "code",
   "execution_count": null,
   "metadata": {},
   "outputs": [
    {
     "data": {
      "text/plain": [
       "array([[-2.27307869e-05],\n",
       "       [-4.06347080e-05],\n",
       "       [ 3.05863410e-05],\n",
       "       [-9.88247690e-05],\n",
       "       [-1.01621277e-05],\n",
       "       [-8.33839855e-05],\n",
       "       [ 3.48348364e-05],\n",
       "       [ 1.22844895e-05],\n",
       "       [-4.61329404e-05],\n",
       "       [ 3.35000910e-05],\n",
       "       [ 1.88067680e-05],\n",
       "       [-3.87149573e-05],\n",
       "       [ 5.99923083e-05],\n",
       "       [-6.14941876e-05],\n",
       "       [-1.39356709e-05],\n",
       "       [-2.56035705e-05],\n",
       "       [ 7.33277375e-06],\n",
       "       [ 5.31022301e-05],\n",
       "       [ 3.35905608e-05],\n",
       "       [-1.03958361e-05],\n",
       "       [ 8.91291472e-06],\n",
       "       [-2.87223920e-05],\n",
       "       [-3.49838684e-05],\n",
       "       [-5.40743108e-05],\n",
       "       [-2.71024628e-05],\n",
       "       [-2.14482471e-05],\n",
       "       [ 1.42173227e-04],\n",
       "       [ 4.35213205e-05],\n",
       "       [-4.16952372e-05],\n",
       "       [ 9.75459855e-05],\n",
       "       [-4.45036246e-05],\n",
       "       [-1.46207987e-05],\n",
       "       [-2.57756777e-06],\n",
       "       [-5.61287966e-05],\n",
       "       [-3.21974087e-05],\n",
       "       [-3.51922648e-05],\n",
       "       [-5.48341748e-05],\n",
       "       [ 4.85166061e-05],\n",
       "       [ 3.67908538e-05],\n",
       "       [-9.04006257e-05],\n",
       "       [ 3.42862575e-05],\n",
       "       [-3.45524901e-05],\n",
       "       [ 3.74901909e-05],\n",
       "       [ 1.77590610e-05],\n",
       "       [-8.54252938e-05],\n",
       "       [-1.06852544e-05],\n",
       "       [ 3.06037134e-05],\n",
       "       [-3.09910163e-05],\n",
       "       [ 8.37492256e-05],\n",
       "       [-2.08982675e-05],\n",
       "       [-3.75494749e-05],\n",
       "       [-4.79753273e-05],\n",
       "       [-2.60591223e-05],\n",
       "       [-2.85129742e-05],\n",
       "       [-1.35294010e-05],\n",
       "       [-4.63959953e-06],\n",
       "       [ 1.63550717e-06],\n",
       "       [-1.79816746e-05],\n",
       "       [ 1.17506247e-05],\n",
       "       [ 2.64802174e-05],\n",
       "       [-4.24512776e-05],\n",
       "       [ 4.60945769e-05],\n",
       "       [ 3.38598548e-05],\n",
       "       [-1.19883152e-04],\n",
       "       [-3.63368860e-05],\n",
       "       [-8.66859791e-06],\n",
       "       [-2.35940782e-05],\n",
       "       [-1.02645969e-05],\n",
       "       [-5.18558065e-05],\n",
       "       [ 2.73106513e-05],\n",
       "       [ 1.99132574e-05],\n",
       "       [-4.16207466e-05],\n",
       "       [ 6.23276807e-05],\n",
       "       [-2.62962746e-05],\n",
       "       [ 6.48173082e-06],\n",
       "       [-6.16122045e-07],\n",
       "       [-5.51023903e-05],\n",
       "       [-5.17983432e-05],\n",
       "       [ 4.83344549e-05],\n",
       "       [ 1.06618402e-04],\n",
       "       [ 1.34488013e-05],\n",
       "       [ 3.35324811e-05],\n",
       "       [-3.13829670e-05],\n",
       "       [ 3.77009247e-05],\n",
       "       [-1.35009436e-05],\n",
       "       [ 2.50310190e-05],\n",
       "       [-1.16166649e-04],\n",
       "       [ 3.94762945e-06],\n",
       "       [-3.91322847e-05],\n",
       "       [ 1.39210420e-07],\n",
       "       [ 3.63382143e-05],\n",
       "       [ 4.42511547e-05],\n",
       "       [ 1.07702009e-05],\n",
       "       [ 2.73792892e-05],\n",
       "       [ 1.00750314e-04],\n",
       "       [-1.22522925e-05],\n",
       "       [ 4.20424064e-06],\n",
       "       [ 2.12654906e-05],\n",
       "       [-3.61479728e-06],\n",
       "       [ 1.12947880e-04]])"
      ]
     },
     "execution_count": 155,
     "metadata": {},
     "output_type": "execute_result"
    }
   ],
   "source": [
    "m.X_data_mean.numpy()"
   ]
  },
  {
   "cell_type": "code",
   "execution_count": null,
   "metadata": {},
   "outputs": [
    {
     "data": {
      "image/png": "[encoded data removed]",
      "text/plain": [
       "<Figure size 432x288 with 1 Axes>"
      ]
     },
     "metadata": {
      "needs_background": "light"
     },
     "output_type": "display_data"
    }
   ],
   "source": [
    "import matplotlib.pyplot as plt\n",
    "\n",
    "\n",
    "plt.hist(m.X_data_mean.numpy(), bins=2, alpha=0.7)\n",
    "plt.scatter(m.inducing_variable.Z, np.zeros(num_inducing), c='r')\n",
    "plt.show()"
   ]
  },
  {
   "cell_type": "code",
   "execution_count": null,
   "metadata": {},
   "outputs": [
    {
     "data": {
      "image/png": "[encoded data removed]",
      "text/plain": [
       "<Figure size 432x288 with 1 Axes>"
      ]
     },
     "metadata": {
      "needs_background": "light"
     },
     "output_type": "display_data"
    }
   ],
   "source": [
    "\n",
    "\n",
    "ind = np.argsort(m.X_data_mean[:, 0])\n",
    "x_values = np.take_along_axis(m.X_data_mean.numpy()[:, 0], ind, axis=0)\n",
    "pred_y_mean_new = np.take_along_axis(pred_y_mean.numpy()[:, 0], ind, axis=0) \n",
    "pred_y_var_new = np.take_along_axis(pred_y_var.numpy()[:, 0], ind, axis=0)\n",
    "\n",
    "plt.scatter(m.X_data_mean, gplvm_in)\n",
    "plt.plot(x_values, pred_y_mean_new, alpha=0.6)\n",
    "plt.fill_between(x_values, (pred_y_mean_new + 2 * np.sqrt(pred_y_var_new)), (pred_y_mean_new - 2 * np.sqrt(pred_y_var_new)), alpha=0.3)\n",
    "plt.show()"
   ]
  },
  {
   "cell_type": "code",
   "execution_count": null,
   "metadata": {},
   "outputs": [
    {
     "data": {
      "text/plain": [
       "141.89385729808907"
      ]
     },
     "execution_count": 149,
     "metadata": {},
     "output_type": "execute_result"
    }
   ],
   "source": [
    "-m.elbo().numpy()"
   ]
  },
  {
   "cell_type": "code",
   "execution_count": 98,
   "metadata": {},
   "outputs": [],
   "source": [
    "from scipy.stats import norm\n",
    "def ml_estimate(x):\n",
    "    \"\"\"\n",
    "    Find the log likelihood.\n",
    "\n",
    "    This doesn't make sense after I have normalised the data.\n",
    "    \"\"\"\n",
    "    score = - np.sum( np.log(\n",
    "            norm.pdf(x, loc=x.mean(), scale=x.std())\n",
    "\n",
    "    ))\n",
    "    print(norm.pdf(x, loc=x.mean(), scale=x.std()))\n",
    "    return score"
   ]
  },
  {
   "cell_type": "code",
   "execution_count": 86,
   "metadata": {},
   "outputs": [
    {
     "name": "stdout",
     "output_type": "stream",
     "text": [
      "[[0.2326027 ]\n",
      " [0.31852053]\n",
      " [0.13892459]\n",
      " ...\n",
      " [0.35506125]\n",
      " [0.39891987]\n",
      " [0.17203474]]\n",
      "[[0.36215618]\n",
      " [0.38905551]\n",
      " [0.28767247]\n",
      " ...\n",
      " [0.3981433 ]\n",
      " [0.39889956]\n",
      " [0.258324  ]]\n",
      "[0.17355695 0.26539336 0.1214141  ... 0.23633496 0.25741284 0.03818973]\n",
      "14189.385332046726 14189.385332046728 18214.40122066285\n"
     ]
    }
   ],
   "source": [
    "print( ml_estimate(x[2]), ml_estimate(y[2]), ml_estimate(np.random.normal(0, 1.5, 10000)))"
   ]
  },
  {
   "cell_type": "code",
   "execution_count": 8,
   "metadata": {},
   "outputs": [
    {
     "data": {
      "text/plain": [
       "[]"
      ]
     },
     "execution_count": 8,
     "metadata": {},
     "output_type": "execute_result"
    }
   ],
   "source": [
    "tf.config.list_physical_devices('GPU')\n"
   ]
  },
  {
   "cell_type": "code",
   "execution_count": 251,
   "metadata": {},
   "outputs": [
    {
     "data": {
      "image/png": "[encoded data removed]",
      "text/plain": [
       "<Figure size 432x288 with 1 Axes>"
      ]
     },
     "metadata": {
      "needs_background": "light"
     },
     "output_type": "display_data"
    }
   ],
   "source": [
    "plt.hist(y[2], bins=100)\n",
    "plt.show()"
   ]
  },
  {
   "cell_type": "code",
   "execution_count": 75,
   "metadata": {},
   "outputs": [
    {
     "data": {
      "image/png": "[encoded data removed]",
      "text/plain": [
       "<Figure size 432x288 with 1 Axes>"
      ]
     },
     "metadata": {
      "needs_background": "light"
     },
     "output_type": "display_data"
    }
   ],
   "source": [
    "plt.hist(x[2], bins=100)\n",
    "plt.show()"
   ]
  },
  {
   "cell_type": "code",
   "execution_count": 14,
   "metadata": {},
   "outputs": [
    {
     "ename": "InvalidArgumentError",
     "evalue": "Checking b : Tensor had NaN values [Op:CheckNumerics]",
     "output_type": "error",
     "traceback": [
      "\u001b[0;31m---------------------------------------------------------------------------\u001b[0m",
      "\u001b[0;31mInvalidArgumentError\u001b[0m                      Traceback (most recent call last)",
      "\u001b[1;32m/vol/bitbucket/ad6013/Research/gp-causal/notebooks/data_playground.ipynb Cell 45'\u001b[0m in \u001b[0;36m<cell line: 6>\u001b[0;34m()\u001b[0m\n\u001b[1;32m      <a href='vscode-notebook-cell://ssh-remote%2Bmiasma.doc.ic.ac.uk/vol/bitbucket/ad6013/Research/gp-causal/notebooks/data_playground.ipynb#ch0000044vscode-remote?line=3'>4</a>\u001b[0m b \u001b[39m=\u001b[39m tf\u001b[39m.\u001b[39mVariable(np\u001b[39m.\u001b[39mnan)\n\u001b[1;32m      <a href='vscode-notebook-cell://ssh-remote%2Bmiasma.doc.ic.ac.uk/vol/bitbucket/ad6013/Research/gp-causal/notebooks/data_playground.ipynb#ch0000044vscode-remote?line=4'>5</a>\u001b[0m \u001b[39m# try:\u001b[39;00m\n\u001b[0;32m----> <a href='vscode-notebook-cell://ssh-remote%2Bmiasma.doc.ic.ac.uk/vol/bitbucket/ad6013/Research/gp-causal/notebooks/data_playground.ipynb#ch0000044vscode-remote?line=5'>6</a>\u001b[0m tf\u001b[39m.\u001b[39;49mdebugging\u001b[39m.\u001b[39;49mcheck_numerics(b, message\u001b[39m=\u001b[39;49m\u001b[39m'\u001b[39;49m\u001b[39mChecking b\u001b[39;49m\u001b[39m'\u001b[39;49m)\n\u001b[1;32m      <a href='vscode-notebook-cell://ssh-remote%2Bmiasma.doc.ic.ac.uk/vol/bitbucket/ad6013/Research/gp-causal/notebooks/data_playground.ipynb#ch0000044vscode-remote?line=6'>7</a>\u001b[0m \u001b[39m# except Exception as e:\u001b[39;00m\n\u001b[1;32m      <a href='vscode-notebook-cell://ssh-remote%2Bmiasma.doc.ic.ac.uk/vol/bitbucket/ad6013/Research/gp-causal/notebooks/data_playground.ipynb#ch0000044vscode-remote?line=7'>8</a>\u001b[0m \u001b[39m#   assert \"Checking b : Tensor had NaN values\" in e.message\u001b[39;00m\n\u001b[1;32m     <a href='vscode-notebook-cell://ssh-remote%2Bmiasma.doc.ic.ac.uk/vol/bitbucket/ad6013/Research/gp-causal/notebooks/data_playground.ipynb#ch0000044vscode-remote?line=9'>10</a>\u001b[0m c \u001b[39m=\u001b[39m tf\u001b[39m.\u001b[39mVariable(np\u001b[39m.\u001b[39minf)\n",
      "File \u001b[0;32m/vol/bitbucket/ad6013/envs/gp-causal-env/lib/python3.9/site-packages/tensorflow/python/ops/gen_array_ops.py:959\u001b[0m, in \u001b[0;36mcheck_numerics\u001b[0;34m(tensor, message, name)\u001b[0m\n\u001b[1;32m    <a href='file:///vol/bitbucket/ad6013/envs/gp-causal-env/lib/python3.9/site-packages/tensorflow/python/ops/gen_array_ops.py?line=956'>957</a>\u001b[0m   \u001b[39mreturn\u001b[39;00m _result\n\u001b[1;32m    <a href='file:///vol/bitbucket/ad6013/envs/gp-causal-env/lib/python3.9/site-packages/tensorflow/python/ops/gen_array_ops.py?line=957'>958</a>\u001b[0m \u001b[39mexcept\u001b[39;00m _core\u001b[39m.\u001b[39m_NotOkStatusException \u001b[39mas\u001b[39;00m e:\n\u001b[0;32m--> <a href='file:///vol/bitbucket/ad6013/envs/gp-causal-env/lib/python3.9/site-packages/tensorflow/python/ops/gen_array_ops.py?line=958'>959</a>\u001b[0m   _ops\u001b[39m.\u001b[39;49mraise_from_not_ok_status(e, name)\n\u001b[1;32m    <a href='file:///vol/bitbucket/ad6013/envs/gp-causal-env/lib/python3.9/site-packages/tensorflow/python/ops/gen_array_ops.py?line=959'>960</a>\u001b[0m \u001b[39mexcept\u001b[39;00m _core\u001b[39m.\u001b[39m_FallbackException:\n\u001b[1;32m    <a href='file:///vol/bitbucket/ad6013/envs/gp-causal-env/lib/python3.9/site-packages/tensorflow/python/ops/gen_array_ops.py?line=960'>961</a>\u001b[0m   \u001b[39mpass\u001b[39;00m\n",
      "File \u001b[0;32m/vol/bitbucket/ad6013/envs/gp-causal-env/lib/python3.9/site-packages/tensorflow/python/framework/ops.py:7164\u001b[0m, in \u001b[0;36mraise_from_not_ok_status\u001b[0;34m(e, name)\u001b[0m\n\u001b[1;32m   <a href='file:///vol/bitbucket/ad6013/envs/gp-causal-env/lib/python3.9/site-packages/tensorflow/python/framework/ops.py?line=7161'>7162</a>\u001b[0m \u001b[39mdef\u001b[39;00m \u001b[39mraise_from_not_ok_status\u001b[39m(e, name):\n\u001b[1;32m   <a href='file:///vol/bitbucket/ad6013/envs/gp-causal-env/lib/python3.9/site-packages/tensorflow/python/framework/ops.py?line=7162'>7163</a>\u001b[0m   e\u001b[39m.\u001b[39mmessage \u001b[39m+\u001b[39m\u001b[39m=\u001b[39m (\u001b[39m\"\u001b[39m\u001b[39m name: \u001b[39m\u001b[39m\"\u001b[39m \u001b[39m+\u001b[39m name \u001b[39mif\u001b[39;00m name \u001b[39mis\u001b[39;00m \u001b[39mnot\u001b[39;00m \u001b[39mNone\u001b[39;00m \u001b[39melse\u001b[39;00m \u001b[39m\"\u001b[39m\u001b[39m\"\u001b[39m)\n\u001b[0;32m-> <a href='file:///vol/bitbucket/ad6013/envs/gp-causal-env/lib/python3.9/site-packages/tensorflow/python/framework/ops.py?line=7163'>7164</a>\u001b[0m   \u001b[39mraise\u001b[39;00m core\u001b[39m.\u001b[39m_status_to_exception(e) \u001b[39mfrom\u001b[39;00m \u001b[39mNone\u001b[39m\n",
      "\u001b[0;31mInvalidArgumentError\u001b[0m: Checking b : Tensor had NaN values [Op:CheckNumerics]"
     ]
    }
   ],
   "source": [
    "a = tf.Variable(1.0)\n",
    "tf.debugging.check_numerics(a, message='')\n",
    "\n",
    "b = tf.Variable(np.nan)\n",
    "# try:\n",
    "tf.debugging.check_numerics(b, message='Checking b')\n",
    "# except Exception as e:\n",
    "#   assert \"Checking b : Tensor had NaN values\" in e.message\n",
    "\n",
    "c = tf.Variable(np.inf)\n",
    "try:\n",
    "  tf.debugging.check_numerics(c, message='Checking c')\n",
    "except Exception as e:\n",
    "  assert \"Checking c : Tensor had Inf values\" in e.message"
   ]
  },
  {
   "cell_type": "code",
   "execution_count": 9,
   "metadata": {},
   "outputs": [
    {
     "data": {
      "text/plain": [
       "18471693.4727468"
      ]
     },
     "execution_count": 9,
     "metadata": {},
     "output_type": "execute_result"
    }
   ],
   "source": [
    "5541508.04182404 / 0.3"
   ]
  },
  {
   "cell_type": "code",
   "execution_count": 10,
   "metadata": {},
   "outputs": [
    {
     "data": {
      "text/plain": [
       "18471693.4727468"
      ]
     },
     "execution_count": 10,
     "metadata": {},
     "output_type": "execute_result"
    }
   ],
   "source": [
    "18471693.4727468"
   ]
  },
  {
   "cell_type": "code",
   "execution_count": null,
   "metadata": {},
   "outputs": [],
   "source": []
  }
 ],
 "metadata": {
  "kernelspec": {
   "display_name": "Python 3 (ipykernel)",
   "language": "python",
   "name": "python3"
  },
  "language_info": {
   "codemirror_mode": {
    "name": "ipython",
    "version": 3
   },
   "file_extension": ".py",
   "mimetype": "text/x-python",
   "name": "python",
   "nbconvert_exporter": "python",
   "pygments_lexer": "ipython3",
   "version": "3.9.5"
  },
  "orig_nbformat": 4
 },
 "nbformat": 4,
 "nbformat_minor": 2
}
