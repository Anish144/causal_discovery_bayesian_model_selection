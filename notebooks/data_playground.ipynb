{
 "cells": [
  {
   "cell_type": "code",
   "execution_count": 1,
   "metadata": {},
   "outputs": [
    {
     "data": {
      "text/plain": [
       "'/vol/cuda/11.2.1-cudnn8.1.0.77/targets/x86_64-linux/lib:/vol/cuda/11.2.1-cudnn8.1.0.77/lib64:'"
      ]
     },
     "execution_count": 1,
     "metadata": {},
     "output_type": "execute_result"
    }
   ],
   "source": [
    "import os\n",
    "os.environ[\"CUDA_VISIBLE_DEVICES\"]=\"0\"\n",
    "os.environ[\"LD_LIBRARY_PATH\"]"
   ]
  },
  {
   "cell_type": "code",
   "execution_count": 2,
   "metadata": {},
   "outputs": [],
   "source": [
    "\n",
    "import sys\n",
    "sys.path.append(\"/vol/bitbucket/ad6013/Research/gp-causal\")\n",
    "from models.PartObsBayesianGPLVM import PartObsBayesianGPLVM\n",
    "import gpflow\n",
    "import tensorflow as tf\n",
    "from gpflow.config import default_float\n",
    "import tensorflow_probability as tfp\n",
    "from data.get_data import get_tubingen_pairs_dataset, get_synthetic_dataset\n",
    "import numpy as np\n",
    "import matplotlib.pyplot as plt\n",
    "import numpy as np\n",
    "\n",
    "tf.random.set_seed(0)\n",
    "np.random.seed(0)"
   ]
  },
  {
   "cell_type": "code",
   "execution_count": 3,
   "metadata": {},
   "outputs": [],
   "source": [
    "x, y, weight = get_synthetic_dataset(\n",
    "    num_datasets=100,\n",
    "    sample_size=100,\n",
    "    func_string=\"mult_a\",\n",
    "    noise=\"normal\"\n",
    ")\n",
    "x = (x - x.mean(axis=1)[:, None, :]) / x.std(axis=1)[:, None, :]\n",
    "y = (y - y.mean(axis=1)[:, None, :]) / y.std(axis=1)[:, None, :]\n",
    "input, output = y[6], x[6]"
   ]
  },
  {
   "cell_type": "code",
   "execution_count": 4,
   "metadata": {},
   "outputs": [
    {
     "name": "stderr",
     "output_type": "stream",
     "text": [
      "Load cause-effect pairs: 100%|██████████| 100/100 [00:00<00:00, 164.50it/s]\n"
     ]
    }
   ],
   "source": [
    "x, y, weight = get_tubingen_pairs_dataset(\n",
    "    data_path='/vol/bitbucket/ad6013/Research/gp-causal/data/pairs/files'\n",
    ")\n",
    "input, output = x[0], y[0]\n",
    "input = (input - input.mean(axis=0)[:, None]) / input.std(axis=0)[:, None]\n",
    "output = (output - output.mean(axis=0)[:, None]) / output.std(axis=0)[:, None]"
   ]
  },
  {
   "cell_type": "code",
   "execution_count": 5,
   "metadata": {},
   "outputs": [
    {
     "name": "stderr",
     "output_type": "stream",
     "text": [
      "2022-06-09 21:00:42.378335: I tensorflow/stream_executor/cuda/cuda_gpu_executor.cc:975] successful NUMA node read from SysFS had negative value (-1), but there must be at least one NUMA node, so returning NUMA node zero\n",
      "2022-06-09 21:00:42.390988: I tensorflow/stream_executor/cuda/cuda_gpu_executor.cc:975] successful NUMA node read from SysFS had negative value (-1), but there must be at least one NUMA node, so returning NUMA node zero\n",
      "2022-06-09 21:00:42.391274: I tensorflow/stream_executor/cuda/cuda_gpu_executor.cc:975] successful NUMA node read from SysFS had negative value (-1), but there must be at least one NUMA node, so returning NUMA node zero\n"
     ]
    },
    {
     "data": {
      "text/plain": [
       "[PhysicalDevice(name='/physical_device:GPU:0', device_type='GPU')]"
      ]
     },
     "execution_count": 5,
     "metadata": {},
     "output_type": "execute_result"
    }
   ],
   "source": [
    "tf.config.list_physical_devices('GPU')"
   ]
  },
  {
   "cell_type": "code",
   "execution_count": 9,
   "metadata": {},
   "outputs": [
    {
     "data": {
      "image/png": "[encoded data removed]",
      "text/plain": [
       "<Figure size 432x288 with 1 Axes>"
      ]
     },
     "metadata": {
      "needs_background": "light"
     },
     "output_type": "display_data"
    }
   ],
   "source": [
    "import matplotlib.pyplot as plt\n",
    "import numpy as np\n",
    "\n",
    "\n",
    "plt.hist(output[:, 0], bins=100)\n",
    "plt.show()"
   ]
  },
  {
   "cell_type": "code",
   "execution_count": 10,
   "metadata": {},
   "outputs": [
    {
     "data": {
      "image/png": "[encoded data removed]",
      "text/plain": [
       "<Figure size 432x288 with 1 Axes>"
      ]
     },
     "metadata": {
      "needs_background": "light"
     },
     "output_type": "display_data"
    }
   ],
   "source": [
    "plt.scatter(input[:, 0], output[:, 0])\n",
    "plt.show()"
   ]
  },
  {
   "cell_type": "code",
   "execution_count": 11,
   "metadata": {},
   "outputs": [
    {
     "data": {
      "image/png": "[encoded data removed]",
      "text/plain": [
       "<Figure size 432x288 with 1 Axes>"
      ]
     },
     "metadata": {
      "needs_background": "light"
     },
     "output_type": "display_data"
    }
   ],
   "source": [
    "plt.scatter(output[:, 0], input[:, 0])\n",
    "plt.show()"
   ]
  },
  {
   "cell_type": "code",
   "execution_count": 89,
   "metadata": {},
   "outputs": [],
   "source": [
    "from gpflow.base import Parameter\n",
    "from gpflow.utilities import positive\n",
    "\n",
    "\n",
    "\n",
    "\n",
    "num_inducing = 349\n",
    "\n",
    "kernel_variance = 10\n",
    "kernel_lengthscale = 1. / 4\n",
    "# likelihood_variance = 1\n",
    "likelihood_variance = Parameter( 1. / (0.2 ** 2), transform=positive(lower=0.01))\n",
    "\n",
    "sq_exp = gpflow.kernels.SquaredExponential()\n",
    "sq_exp.variance.assign(kernel_variance)\n",
    "    # lambda = 5 in this\n",
    "sq_exp.lengthscales.assign(kernel_lengthscale)\n",
    "\n",
    "m_gpr = gpflow.models.GPR(data=(input, output), kernel=sq_exp, mean_function=None)\n",
    "m_gpr.likelihood.variance = likelihood_variance\n",
    "opt = gpflow.optimizers.Scipy()\n",
    "opt_logs = opt.minimize(\n",
    "    m_gpr.training_loss, m_gpr.trainable_variables, options=dict(maxiter=10000)\n",
    ")"
   ]
  },
  {
   "cell_type": "code",
   "execution_count": 90,
   "metadata": {},
   "outputs": [],
   "source": [
    "x_new = np.linspace(-10, 10, 1000)[:, None]\n",
    "pred_f, var_f = m_gpr.predict_y(x_new)"
   ]
  },
  {
   "cell_type": "code",
   "execution_count": 91,
   "metadata": {},
   "outputs": [
    {
     "name": "stdout",
     "output_type": "stream",
     "text": [
      "╒═════════════════════════╤═══════════╤══════════════════╤═════════╤═════════════╤═════════╤═════════╤═══════════╕\n",
      "│ name                    │ class     │ transform        │ prior   │ trainable   │ shape   │ dtype   │     value │\n",
      "╞═════════════════════════╪═══════════╪══════════════════╪═════════╪═════════════╪═════════╪═════════╪═══════════╡\n",
      "│ GPR.kernel.variance     │ Parameter │ Softplus         │         │ True        │ ()      │ float64 │ 12.8212   │\n",
      "├─────────────────────────┼───────────┼──────────────────┼─────────┼─────────────┼─────────┼─────────┼───────────┤\n",
      "│ GPR.kernel.lengthscales │ Parameter │ Softplus         │         │ True        │ ()      │ float64 │  1.19102  │\n",
      "├─────────────────────────┼───────────┼──────────────────┼─────────┼─────────────┼─────────┼─────────┼───────────┤\n",
      "│ GPR.likelihood.variance │ Parameter │ Softplus + Shift │         │ True        │ ()      │ float64 │  0.177178 │\n",
      "╘═════════════════════════╧═══════════╧══════════════════╧═════════╧═════════════╧═════════╧═════════╧═══════════╛\n"
     ]
    }
   ],
   "source": [
    "from gpflow.utilities import print_summary\n",
    "print_summary(m_gpr)"
   ]
  },
  {
   "cell_type": "code",
   "execution_count": 74,
   "metadata": {},
   "outputs": [
    {
     "data": {
      "image/png": "[encoded data removed]",
      "text/plain": [
       "<Figure size 432x288 with 1 Axes>"
      ]
     },
     "metadata": {
      "needs_background": "light"
     },
     "output_type": "display_data"
    }
   ],
   "source": [
    "plt.scatter(input[:, 0], output[:, 0], c='r')\n",
    "plt.plot(x_new, pred_f, c='b', alpha=0.5)\n",
    "plt.fill_between(x_new[:, 0], (pred_f + 2 * np.sqrt(var_f))[:, 0], (pred_f - 2 * np.sqrt(var_f))[:, 0], alpha=0.5)\n",
    "plt.show()"
   ]
  },
  {
   "cell_type": "code",
   "execution_count": 75,
   "metadata": {},
   "outputs": [
    {
     "data": {
      "text/plain": [
       "218.84750858357233"
      ]
     },
     "execution_count": 75,
     "metadata": {},
     "output_type": "execute_result"
    }
   ],
   "source": [
    " - m_gpr.log_marginal_likelihood().numpy()"
   ]
  },
  {
   "cell_type": "code",
   "execution_count": 92,
   "metadata": {},
   "outputs": [
    {
     "data": {
      "image/png": "[encoded data removed]",
      "text/plain": [
       "<Figure size 432x288 with 1 Axes>"
      ]
     },
     "metadata": {
      "needs_background": "light"
     },
     "output_type": "display_data"
    }
   ],
   "source": [
    "plt.scatter(input[:, 0], output[:, 0], c='r')\n",
    "plt.plot(x_new, pred_f, c='b', alpha=0.5)\n",
    "plt.fill_between(x_new[:, 0], (pred_f + 2 * np.sqrt(var_f))[:, 0], (pred_f - 2 * np.sqrt(var_f))[:, 0], alpha=0.5)\n",
    "plt.show()"
   ]
  },
  {
   "cell_type": "code",
   "execution_count": null,
   "metadata": {},
   "outputs": [],
   "source": []
  },
  {
   "cell_type": "code",
   "execution_count": 93,
   "metadata": {},
   "outputs": [
    {
     "data": {
      "text/plain": [
       "217.66095511847294"
      ]
     },
     "execution_count": 93,
     "metadata": {},
     "output_type": "execute_result"
    }
   ],
   "source": [
    "- m_gpr.log_marginal_likelihood().numpy()"
   ]
  },
  {
   "cell_type": "code",
   "execution_count": 6,
   "metadata": {},
   "outputs": [
    {
     "name": "stderr",
     "output_type": "stream",
     "text": [
      "2022-05-24 17:39:07.953504: I tensorflow/stream_executor/cuda/cuda_gpu_executor.cc:975] successful NUMA node read from SysFS had negative value (-1), but there must be at least one NUMA node, so returning NUMA node zero\n",
      "2022-05-24 17:39:07.954158: W tensorflow/stream_executor/platform/default/dso_loader.cc:64] Could not load dynamic library 'libcudart.so.11.0'; dlerror: libcudart.so.11.0: cannot open shared object file: No such file or directory\n",
      "2022-05-24 17:39:07.954198: W tensorflow/stream_executor/platform/default/dso_loader.cc:64] Could not load dynamic library 'libcublas.so.11'; dlerror: libcublas.so.11: cannot open shared object file: No such file or directory\n",
      "2022-05-24 17:39:07.954232: W tensorflow/stream_executor/platform/default/dso_loader.cc:64] Could not load dynamic library 'libcublasLt.so.11'; dlerror: libcublasLt.so.11: cannot open shared object file: No such file or directory\n",
      "2022-05-24 17:39:07.954265: W tensorflow/stream_executor/platform/default/dso_loader.cc:64] Could not load dynamic library 'libcufft.so.10'; dlerror: libcufft.so.10: cannot open shared object file: No such file or directory\n",
      "2022-05-24 17:39:07.954296: W tensorflow/stream_executor/platform/default/dso_loader.cc:64] Could not load dynamic library 'libcurand.so.10'; dlerror: libcurand.so.10: cannot open shared object file: No such file or directory\n",
      "2022-05-24 17:39:07.954329: W tensorflow/stream_executor/platform/default/dso_loader.cc:64] Could not load dynamic library 'libcusolver.so.11'; dlerror: libcusolver.so.11: cannot open shared object file: No such file or directory\n",
      "2022-05-24 17:39:07.954360: W tensorflow/stream_executor/platform/default/dso_loader.cc:64] Could not load dynamic library 'libcusparse.so.11'; dlerror: libcusparse.so.11: cannot open shared object file: No such file or directory\n",
      "2022-05-24 17:39:07.954392: W tensorflow/stream_executor/platform/default/dso_loader.cc:64] Could not load dynamic library 'libcudnn.so.8'; dlerror: libcudnn.so.8: cannot open shared object file: No such file or directory\n",
      "2022-05-24 17:39:07.954397: W tensorflow/core/common_runtime/gpu/gpu_device.cc:1850] Cannot dlopen some GPU libraries. Please make sure the missing libraries mentioned above are installed properly if you would like to use GPU. Follow the guide at https://www.tensorflow.org/install/gpu for how to download and setup the required libraries for your platform.\n",
      "Skipping registering GPU devices...\n"
     ]
    },
    {
     "data": {
      "text/plain": [
       "[]"
      ]
     },
     "execution_count": 6,
     "metadata": {},
     "output_type": "execute_result"
    }
   ],
   "source": [
    "import os\n",
    "os.environ[\"CUDA_VISIBLE_DEVICES\"]=\"0\"\n",
    "\n",
    "tf.config.list_physical_devices('GPU')"
   ]
  },
  {
   "cell_type": "code",
   "execution_count": 98,
   "metadata": {},
   "outputs": [
    {
     "name": "stdout",
     "output_type": "stream",
     "text": [
      "Initial hyper: lengthscale - [0.61883171 0.13313174], variance - [0.00054382]\n"
     ]
    }
   ],
   "source": [
    "from gpflow.base import Parameter\n",
    "from gpflow.utilities import positive\n",
    "\n",
    "tf.config.run_functions_eagerly(False)\n",
    "\n",
    "# for i in range(500):\n",
    "# x, y, weight = get_synthetic_dataset(\n",
    "#     num_datasets=100,\n",
    "#     sample_size=100,\n",
    "#     func_string=\"mult_a\",\n",
    "#     noise=\"uniform\"\n",
    "# )\n",
    "# x = (x - x.mean(axis=1)[:, None, :]) / x.std(axis=1)[:, None, :]\n",
    "# y = (y - y.mean(axis=1)[:, None, :]) / y.std(axis=1)[:, None, :]\n",
    "\n",
    "# input, output = x[0], y[0]\n",
    "\n",
    "kernel_variance = 1.0\n",
    "# Likelihood variance\n",
    "kappa = np.random.uniform(\n",
    "    low=1.0, high=100, size=[1]\n",
    ")\n",
    "# Kernel lengthscale\n",
    "lamda = np.random.uniform(\n",
    "    low=1.0, high=10, size=[2]\n",
    ")\n",
    "\n",
    "latent_dim = 1\n",
    "num_inducing = 349\n",
    "\n",
    "kernel_lengthscale = 1. / lamda\n",
    "likelihood_variance = Parameter( 1. / (kappa ** 2), transform=positive(lower=1e-6))\n",
    "\n",
    "print(f\"Initial hyper: lengthscale - {kernel_lengthscale}, variance - {likelihood_variance.numpy()}\")\n",
    "\n",
    "sq_exp = gpflow.kernels.SquaredExponential()\n",
    "sq_exp.variance.assign(kernel_variance)\n",
    "    # lambda = 5 in this\n",
    "sq_exp.lengthscales.assign(kernel_lengthscale[0])\n",
    "\n",
    "m = gpflow.models.GPR(data=(input, output), kernel=sq_exp, mean_function=None)\n",
    "m.likelihood.variance = likelihood_variance[0]\n",
    "opt = gpflow.optimizers.Scipy()\n",
    "opt_logs = opt.minimize(\n",
    "    m.training_loss, m.trainable_variables, options=dict(maxiter=10000)\n",
    ")\n",
    "# found_lengthscales = [m.kernel.kernels[0].lengthscales.numpy(), m.kernel.kernels[1].lengthscales.numpy(), m.kernel.kernels[2].lengthscales.numpy()]\n",
    "found_lengthscale = m.kernel.lengthscales.numpy()\n",
    "found_lik_var = m.likelihood.variance.numpy()\n",
    "\n",
    "X_mean_init = output - m.predict_f(input)[0]\n",
    "# X_mean_init = tfp.distributions.Normal(loc=0, scale=1).sample([y.shape[0], latent_dim])\n",
    "# X_mean_init = tf.cast(X_mean_init, dtype=default_float())\n",
    "X_var_init = tf.ones((input.shape[0], latent_dim), dtype=default_float())\n",
    "kernel = gpflow.kernels.SquaredExponential(lengthscales=[found_lengthscale] + [kernel_lengthscale[1]] * latent_dim)\n",
    "\n",
    "m = PartObsBayesianGPLVM(\n",
    "    data=output,\n",
    "    in_data=input,\n",
    "    kernel=kernel,\n",
    "    X_data_mean=X_mean_init,\n",
    "    X_data_var=X_var_init,\n",
    "    num_inducing_variables=num_inducing,\n",
    ")\n",
    "m.likelihood.variance = Parameter( found_lik_var, transform=positive(lower=1e-6))\n",
    "\n",
    "# Train only inducing variables\n",
    "gpflow.utilities.set_trainable(m.kernel, False)\n",
    "gpflow.utilities.set_trainable(m.likelihood, False)\n",
    "gpflow.utilities.set_trainable(m.X_data_mean , False)\n",
    "gpflow.utilities.set_trainable(m.X_data_var, False)\n",
    "opt = gpflow.optimizers.Scipy()\n",
    "opt_logs = opt.minimize(\n",
    "    m.training_loss,\n",
    "    m.trainable_variables,\n",
    "    options=dict(maxiter=10000),\n",
    ")\n",
    "\n",
    "# Train only x_var\n",
    "gpflow.utilities.set_trainable(m.kernel, False)\n",
    "gpflow.utilities.set_trainable(m.likelihood, False)\n",
    "gpflow.utilities.set_trainable(m.X_data_mean , False)\n",
    "gpflow.utilities.set_trainable(m.X_data_var, True)\n",
    "gpflow.utilities.set_trainable(m.inducing_variable, False)\n",
    "opt = gpflow.optimizers.Scipy()\n",
    "opt_logs = opt.minimize(\n",
    "    m.training_loss,\n",
    "    m.trainable_variables,\n",
    "    options=dict(maxiter=10000),\n",
    ")\n",
    "\n",
    "# Train all the hyperparameters\n",
    "gpflow.utilities.set_trainable(m.kernel, True)\n",
    "gpflow.utilities.set_trainable(m.likelihood, True)\n",
    "gpflow.utilities.set_trainable(m.X_data_mean , False)\n",
    "gpflow.utilities.set_trainable(m.X_data_var, False)\n",
    "gpflow.utilities.set_trainable(m.inducing_variable, False)\n",
    "opt = gpflow.optimizers.Scipy()\n",
    "opt_logs = opt.minimize(\n",
    "    m.training_loss,\n",
    "    m.trainable_variables,\n",
    "    options=dict(maxiter=10000),\n",
    ")\n",
    "\n",
    "# Train everything\n",
    "gpflow.utilities.set_trainable(m.kernel, True)\n",
    "gpflow.utilities.set_trainable(m.likelihood, True)\n",
    "gpflow.utilities.set_trainable(m.X_data_mean , True)\n",
    "gpflow.utilities.set_trainable(m.X_data_var, True)\n",
    "gpflow.utilities.set_trainable(m.inducing_variable, True)\n",
    "opt = gpflow.optimizers.Scipy()\n",
    "opt_logs = opt.minimize(\n",
    "    m.training_loss,\n",
    "    m.trainable_variables,\n",
    "    options=dict(maxiter=10000),\n",
    ")"
   ]
  },
  {
   "cell_type": "code",
   "execution_count": null,
   "metadata": {},
   "outputs": [
    {
     "name": "stdout",
     "output_type": "stream",
     "text": [
      "╒══════════════════════════════════════════╤═══════════╤══════════════════╤═════════╤═════════════╤══════════╤═════════╤══════════════════════════════════════╕\n",
      "│ name                                     │ class     │ transform        │ prior   │ trainable   │ shape    │ dtype   │ value                                │\n",
      "╞══════════════════════════════════════════╪═══════════╪══════════════════╪═════════╪═════════════╪══════════╪═════════╪══════════════════════════════════════╡\n",
      "│ PartObsBayesianGPLVM.kernel.variance     │ Parameter │ Softplus         │         │ True        │ ()       │ float64 │ 4.8897554654502314e-08               │\n",
      "├──────────────────────────────────────────┼───────────┼──────────────────┼─────────┼─────────────┼──────────┼─────────┼──────────────────────────────────────┤\n",
      "│ PartObsBayesianGPLVM.kernel.lengthscales │ Parameter │ Softplus         │         │ True        │ (2,)     │ float64 │ [3.70035018e-05 5.05022419e-01]      │\n",
      "├──────────────────────────────────────────┼───────────┼──────────────────┼─────────┼─────────────┼──────────┼─────────┼──────────────────────────────────────┤\n",
      "│ PartObsBayesianGPLVM.likelihood.variance │ Parameter │ Softplus + Shift │         │ True        │ ()       │ float64 │ 1.0000043435989567                   │\n",
      "├──────────────────────────────────────────┼───────────┼──────────────────┼─────────┼─────────────┼──────────┼─────────┼──────────────────────────────────────┤\n",
      "│ PartObsBayesianGPLVM.in_data             │ Parameter │ Identity         │         │ False       │ (349, 1) │ float64 │ [[1.22609246e-01...                  │\n",
      "├──────────────────────────────────────────┼───────────┼──────────────────┼─────────┼─────────────┼──────────┼─────────┼──────────────────────────────────────┤\n",
      "│ PartObsBayesianGPLVM.X_data_mean         │ Parameter │ Identity         │         │ True        │ (349, 1) │ float64 │ [[2.86754823e-08...                  │\n",
      "├──────────────────────────────────────────┼───────────┼──────────────────┼─────────┼─────────────┼──────────┼─────────┼──────────────────────────────────────┤\n",
      "│ PartObsBayesianGPLVM.X_data_var          │ Parameter │ Softplus         │         │ True        │ (349, 1) │ float64 │ [[0.9999973...                       │\n",
      "├──────────────────────────────────────────┼───────────┼──────────────────┼─────────┼─────────────┼──────────┼─────────┼──────────────────────────────────────┤\n",
      "│ PartObsBayesianGPLVM.inducing_variable.Z │ Parameter │ Identity         │         │ True        │ (300, 2) │ float64 │ [[-1.43459503e+00, 1.28659689e-03... │\n",
      "╘══════════════════════════════════════════╧═══════════╧══════════════════╧═════════╧═════════════╧══════════╧═════════╧══════════════════════════════════════╛\n"
     ]
    }
   ],
   "source": [
    "from gpflow.utilities import print_summary\n",
    "print_summary(m)"
   ]
  },
  {
   "cell_type": "code",
   "execution_count": 44,
   "metadata": {},
   "outputs": [
    {
     "data": {
      "text/plain": [
       "<tf.Tensor: shape=(), dtype=float64, numpy=454.35240666297375>"
      ]
     },
     "execution_count": 44,
     "metadata": {},
     "output_type": "execute_result"
    }
   ],
   "source": [
    "- m.elbo()"
   ]
  },
  {
   "cell_type": "code",
   "execution_count": null,
   "metadata": {},
   "outputs": [],
   "source": [
    "obs_new = np.linspace(-20, 20, 4000)[:, None]\n",
    "\n",
    "Xnew = tfp.distributions.Normal(loc=0, scale=1).sample([obs_new.shape[0], latent_dim])\n",
    "Xnew = tf.cast(Xnew, dtype=default_float())\n",
    "Xnew = tf.concat(\n",
    "    [obs_new, Xnew], axis=1\n",
    ")\n",
    "pred_f_mean, pred_f_var = m.predict_y(\n",
    "    in_data_new=input,\n",
    "    Xnew=Xnew,\n",
    ")"
   ]
  },
  {
   "cell_type": "code",
   "execution_count": null,
   "metadata": {},
   "outputs": [
    {
     "data": {
      "image/png": "[encoded data removed]",
      "text/plain": [
       "<Figure size 432x288 with 1 Axes>"
      ]
     },
     "metadata": {
      "needs_background": "light"
     },
     "output_type": "display_data"
    }
   ],
   "source": [
    "plt.scatter(input[:, 0], output[:, 0], c='r')\n",
    "plt.scatter(obs_new, pred_f_mean, c='b', alpha=0.1)\n",
    "# plt.scatter(inducing_in, np.zeros(100) )\n",
    "plt.fill_between(obs_new[:, 0], (pred_f_mean + 2 * np.sqrt(pred_f_var))[:, 0], (pred_f_mean - 2 * np.sqrt(pred_f_var))[:,0], alpha=0.5)\n",
    "plt.show()"
   ]
  },
  {
   "cell_type": "code",
   "execution_count": 38,
   "metadata": {},
   "outputs": [
    {
     "data": {
      "text/plain": [
       "687.4419320636074"
      ]
     },
     "execution_count": 38,
     "metadata": {},
     "output_type": "execute_result"
    }
   ],
   "source": [
    "-m.elbo().numpy()"
   ]
  },
  {
   "cell_type": "code",
   "execution_count": 22,
   "metadata": {},
   "outputs": [
    {
     "data": {
      "text/plain": [
       "-499.09120544465554"
      ]
     },
     "execution_count": 22,
     "metadata": {},
     "output_type": "execute_result"
    }
   ],
   "source": [
    "-m.elbo().numpy()"
   ]
  },
  {
   "cell_type": "code",
   "execution_count": 87,
   "metadata": {},
   "outputs": [
    {
     "data": {
      "text/plain": [
       "True"
      ]
     },
     "execution_count": 87,
     "metadata": {},
     "output_type": "execute_result"
    }
   ],
   "source": [
    "-945.981557225954 < -751.9391785862274"
   ]
  },
  {
   "cell_type": "code",
   "execution_count": 24,
   "metadata": {},
   "outputs": [
    {
     "ename": "IndexError",
     "evalue": "too many indices for array: array is 2-dimensional, but 3 were indexed",
     "output_type": "error",
     "traceback": [
      "\u001b[0;31m---------------------------------------------------------------------------\u001b[0m",
      "\u001b[0;31mIndexError\u001b[0m                                Traceback (most recent call last)",
      "\u001b[1;32m/vol/bitbucket/ad6013/Research/gp-causal/notebooks/data_playground.ipynb Cell 13'\u001b[0m in \u001b[0;36m<cell line: 1>\u001b[0;34m()\u001b[0m\n\u001b[0;32m----> <a href='vscode-notebook-cell://ssh-remote%2Bphlogiston.doc.ic.ac.uk/vol/bitbucket/ad6013/Research/gp-causal/notebooks/data_playground.ipynb#ch0000008vscode-remote?line=0'>1</a>\u001b[0m plt\u001b[39m.\u001b[39mscatter(x[\u001b[39m0\u001b[39;49m, :, \u001b[39m0\u001b[39;49m], y[\u001b[39m0\u001b[39m, :, \u001b[39m0\u001b[39m], c\u001b[39m=\u001b[39m\u001b[39m'\u001b[39m\u001b[39mr\u001b[39m\u001b[39m'\u001b[39m)\n\u001b[1;32m      <a href='vscode-notebook-cell://ssh-remote%2Bphlogiston.doc.ic.ac.uk/vol/bitbucket/ad6013/Research/gp-causal/notebooks/data_playground.ipynb#ch0000008vscode-remote?line=1'>2</a>\u001b[0m plt\u001b[39m.\u001b[39mscatter(x[\u001b[39m0\u001b[39m], pred_f_mean, c\u001b[39m=\u001b[39m\u001b[39m'\u001b[39m\u001b[39mb\u001b[39m\u001b[39m'\u001b[39m, alpha\u001b[39m=\u001b[39m\u001b[39m0.5\u001b[39m)\n\u001b[1;32m      <a href='vscode-notebook-cell://ssh-remote%2Bphlogiston.doc.ic.ac.uk/vol/bitbucket/ad6013/Research/gp-causal/notebooks/data_playground.ipynb#ch0000008vscode-remote?line=2'>3</a>\u001b[0m plt\u001b[39m.\u001b[39mylim(\u001b[39m-\u001b[39m\u001b[39m20\u001b[39m, \u001b[39m20\u001b[39m)\n",
      "\u001b[0;31mIndexError\u001b[0m: too many indices for array: array is 2-dimensional, but 3 were indexed"
     ]
    }
   ],
   "source": [
    "plt.scatter(x[0, :, 0], y[0, :, 0], c='r')\n",
    "plt.scatter(x[0], pred_f_mean, c='b', alpha=0.5)\n",
    "plt.ylim(-20, 20)\n",
    "plt.show()"
   ]
  },
  {
   "cell_type": "code",
   "execution_count": 15,
   "metadata": {},
   "outputs": [
    {
     "data": {
      "text/plain": [
       "119.29262107485727"
      ]
     },
     "execution_count": 15,
     "metadata": {},
     "output_type": "execute_result"
    }
   ],
   "source": [
    "- m.elbo().numpy()"
   ]
  },
  {
   "cell_type": "code",
   "execution_count": 183,
   "metadata": {},
   "outputs": [],
   "source": [
    "from gpflow.base import Parameter\n",
    "from gpflow.utilities import positive\n",
    "\n",
    "input_2 = np.random.normal(0, 1, size=input.shape)\n",
    "\n",
    "num_inducing = 349\n",
    "\n",
    "kernel_variance = 1.\n",
    "kernel_lengthscale = 1. / 4\n",
    "likelihood_variance = Parameter( 1. / (20 ** 2), transform=positive())\n",
    "\n",
    "sq_exp = gpflow.kernels.SquaredExponential()\n",
    "sq_exp.variance.assign(kernel_variance)\n",
    "    # lambda = 5 in this\n",
    "sq_exp.lengthscales.assign(kernel_lengthscale)\n",
    "\n",
    "m_gpr = gpflow.models.GPR(data=(input_2, input), kernel=sq_exp, mean_function=None)\n",
    "m_gpr.likelihood.variance = likelihood_variance\n",
    "opt = gpflow.optimizers.Scipy()\n",
    "opt_logs = opt.minimize(\n",
    "    m_gpr.training_loss, m_gpr.trainable_variables, options=dict(maxiter=10000)\n",
    ")"
   ]
  },
  {
   "cell_type": "code",
   "execution_count": 184,
   "metadata": {},
   "outputs": [
    {
     "data": {
      "image/png": "[encoded data removed]",
      "text/plain": [
       "<Figure size 432x288 with 1 Axes>"
      ]
     },
     "metadata": {
      "needs_background": "light"
     },
     "output_type": "display_data"
    }
   ],
   "source": [
    "plt.scatter(input_2, input)\n",
    "plt.show()"
   ]
  },
  {
   "cell_type": "code",
   "execution_count": 103,
   "metadata": {},
   "outputs": [
    {
     "name": "stdout",
     "output_type": "stream",
     "text": [
      "Kern_len: 0.6793390315863401, Like_var: 0.0008288856022838077\n"
     ]
    },
    {
     "data": {
      "text/plain": [
       "<tf.Variable 'UnreadVariable' shape=() dtype=float64, numpy=-7.09622160325793>"
      ]
     },
     "execution_count": 103,
     "metadata": {},
     "output_type": "execute_result"
    }
   ],
   "source": [
    "lamda = np.random.uniform(1, 10)\n",
    "kernel_lengthscale = 1 / lamda\n",
    "\n",
    "kappa = np.random.uniform(5, 50)\n",
    "likelihood_variance = 1 / (kappa **2)\n",
    "\n",
    "num_inducing = 349\n",
    "latent_dim = 1\n",
    "kernel_variance =  1.\n",
    "# 0.0031185030135707325, 1.0383980119634681,  0.036263924352202444\n",
    "\n",
    "\n",
    "tf.print(f\"Kern_len: {kernel_lengthscale}, Like_var: {likelihood_variance}\")\n",
    "\n",
    "X_mean_init = tfp.distributions.Normal(loc=0, scale=1).sample([input.shape[0], latent_dim])\n",
    "# X_mean_init = tf.cast(input, dtype=default_float())\n",
    "# X_mean_init = tf.zeros((input.shape[0], latent_dim), dtype=default_float())\n",
    "X_var_init = tf.ones((input.shape[0], latent_dim), dtype=default_float())  \n",
    "\n",
    "x_prior_var = tf.ones((input.shape[0], latent_dim), dtype=default_float()) * kernel_lengthscale * 0.01\n",
    "sq_exp = gpflow.kernels.SquaredExponential() \n",
    "sq_exp.variance.assign(kernel_variance)\n",
    "sq_exp.lengthscales.assign(kernel_lengthscale)\n",
    "\n",
    "kernel = sq_exp\n",
    "\n",
    "m = gpflow.models.BayesianGPLVM(\n",
    "    data=input,\n",
    "    kernel=kernel,\n",
    "    X_data_mean=X_mean_init,\n",
    "    X_data_var=X_var_init,\n",
    "    num_inducing_variables=num_inducing,\n",
    "    X_prior_var=x_prior_var,\n",
    "    jitter=1e-5\n",
    "    )\n",
    "m.likelihood.variance.assign(likelihood_variance)"
   ]
  },
  {
   "cell_type": "code",
   "execution_count": 104,
   "metadata": {},
   "outputs": [
    {
     "name": "stderr",
     "output_type": "stream",
     "text": [
      "2022-06-09 22:09:10.600779: W tensorflow/core/kernels/linalg/cholesky_op_gpu.cu.cc:211] Cholesky decomposition was not successful for batch 0. The input might not be valid. Filling lower-triangular output with NaNs.\n",
      "2022-06-09 22:09:10.601040: E tensorflow/core/kernels/check_numerics_op.cc:293] abnormal_detected_host @0x7fe5d7c09d00 = {1, 0} LB is not finite!\n"
     ]
    },
    {
     "ename": "InvalidArgumentError",
     "evalue": "Graph execution error:\n\nDetected at node 'VerifyFinite_1/CheckNumerics' defined at (most recent call last):\n    File \"/usr/lib/python3.9/runpy.py\", line 197, in _run_module_as_main\n      return _run_code(code, main_globals, None,\n    File \"/usr/lib/python3.9/runpy.py\", line 87, in _run_code\n      exec(code, run_globals)\n    File \"/vol/bitbucket/ad6013/envs/gp-causal-env/lib/python3.9/site-packages/ipykernel_launcher.py\", line 17, in <module>\n      app.launch_new_instance()\n    File \"/vol/bitbucket/ad6013/envs/gp-causal-env/lib/python3.9/site-packages/traitlets/config/application.py\", line 846, in launch_instance\n      app.start()\n    File \"/vol/bitbucket/ad6013/envs/gp-causal-env/lib/python3.9/site-packages/ipykernel/kernelapp.py\", line 707, in start\n      self.io_loop.start()\n    File \"/vol/bitbucket/ad6013/envs/gp-causal-env/lib/python3.9/site-packages/tornado/platform/asyncio.py\", line 199, in start\n      self.asyncio_loop.run_forever()\n    File \"/usr/lib/python3.9/asyncio/base_events.py\", line 596, in run_forever\n      self._run_once()\n    File \"/usr/lib/python3.9/asyncio/base_events.py\", line 1890, in _run_once\n      handle._run()\n    File \"/usr/lib/python3.9/asyncio/events.py\", line 80, in _run\n      self._context.run(self._callback, *self._args)\n    File \"/vol/bitbucket/ad6013/envs/gp-causal-env/lib/python3.9/site-packages/ipykernel/kernelbase.py\", line 502, in dispatch_queue\n      await self.process_one()\n    File \"/vol/bitbucket/ad6013/envs/gp-causal-env/lib/python3.9/site-packages/ipykernel/kernelbase.py\", line 491, in process_one\n      await dispatch(*args)\n    File \"/vol/bitbucket/ad6013/envs/gp-causal-env/lib/python3.9/site-packages/ipykernel/kernelbase.py\", line 398, in dispatch_shell\n      await result\n    File \"/vol/bitbucket/ad6013/envs/gp-causal-env/lib/python3.9/site-packages/ipykernel/kernelbase.py\", line 722, in execute_request\n      reply_content = await reply_content\n    File \"/vol/bitbucket/ad6013/envs/gp-causal-env/lib/python3.9/site-packages/ipykernel/ipkernel.py\", line 389, in do_execute\n      res = shell.run_cell(code, store_history=store_history, silent=silent)\n    File \"/vol/bitbucket/ad6013/envs/gp-causal-env/lib/python3.9/site-packages/ipykernel/zmqshell.py\", line 528, in run_cell\n      return super().run_cell(*args, **kwargs)\n    File \"/vol/bitbucket/ad6013/envs/gp-causal-env/lib/python3.9/site-packages/IPython/core/interactiveshell.py\", line 2863, in run_cell\n      result = self._run_cell(\n    File \"/vol/bitbucket/ad6013/envs/gp-causal-env/lib/python3.9/site-packages/IPython/core/interactiveshell.py\", line 2909, in _run_cell\n      return runner(coro)\n    File \"/vol/bitbucket/ad6013/envs/gp-causal-env/lib/python3.9/site-packages/IPython/core/async_helpers.py\", line 129, in _pseudo_sync_runner\n      coro.send(None)\n    File \"/vol/bitbucket/ad6013/envs/gp-causal-env/lib/python3.9/site-packages/IPython/core/interactiveshell.py\", line 3106, in run_cell_async\n      has_raised = await self.run_ast_nodes(code_ast.body, cell_name,\n    File \"/vol/bitbucket/ad6013/envs/gp-causal-env/lib/python3.9/site-packages/IPython/core/interactiveshell.py\", line 3309, in run_ast_nodes\n      if await self.run_code(code, result, async_=asy):\n    File \"/vol/bitbucket/ad6013/envs/gp-causal-env/lib/python3.9/site-packages/IPython/core/interactiveshell.py\", line 3369, in run_code\n      exec(code_obj, self.user_global_ns, self.user_ns)\n    File \"/tmp/ipykernel_2683797/2109503053.py\", line 33, in <cell line: 33>\n      opt_logs = opt.minimize(\n    File \"/vol/bitbucket/ad6013/envs/gp-causal-env/lib/python3.9/site-packages/gpflow/optimizers/scipy.py\", line 94, in minimize\n      return scipy.optimize.minimize(\n    File \"/vol/bitbucket/ad6013/envs/gp-causal-env/lib/python3.9/site-packages/scipy/optimize/_minimize.py\", line 681, in minimize\n      res = _minimize_lbfgsb(fun, x0, args, jac, bounds,\n    File \"/vol/bitbucket/ad6013/envs/gp-causal-env/lib/python3.9/site-packages/scipy/optimize/_lbfgsb_py.py\", line 308, in _minimize_lbfgsb\n      sf = _prepare_scalar_function(fun, x0, jac=jac, args=args, epsilon=eps,\n    File \"/vol/bitbucket/ad6013/envs/gp-causal-env/lib/python3.9/site-packages/scipy/optimize/_optimize.py\", line 263, in _prepare_scalar_function\n      sf = ScalarFunction(fun, x0, args, grad, hess,\n    File \"/vol/bitbucket/ad6013/envs/gp-causal-env/lib/python3.9/site-packages/scipy/optimize/_differentiable_functions.py\", line 158, in __init__\n      self._update_fun()\n    File \"/vol/bitbucket/ad6013/envs/gp-causal-env/lib/python3.9/site-packages/scipy/optimize/_differentiable_functions.py\", line 251, in _update_fun\n      self._update_fun_impl()\n    File \"/vol/bitbucket/ad6013/envs/gp-causal-env/lib/python3.9/site-packages/scipy/optimize/_differentiable_functions.py\", line 155, in update_fun\n      self.f = fun_wrapped(self.x)\n    File \"/vol/bitbucket/ad6013/envs/gp-causal-env/lib/python3.9/site-packages/scipy/optimize/_differentiable_functions.py\", line 137, in fun_wrapped\n      fx = fun(np.copy(x), *args)\n    File \"/vol/bitbucket/ad6013/envs/gp-causal-env/lib/python3.9/site-packages/scipy/optimize/_optimize.py\", line 76, in __call__\n      self._compute_if_needed(x, *args)\n    File \"/vol/bitbucket/ad6013/envs/gp-causal-env/lib/python3.9/site-packages/scipy/optimize/_optimize.py\", line 70, in _compute_if_needed\n      fg = self.fun(x, *args)\n    File \"/vol/bitbucket/ad6013/envs/gp-causal-env/lib/python3.9/site-packages/gpflow/optimizers/scipy.py\", line 136, in _eval\n      loss, grad = _tf_eval(tf.convert_to_tensor(x))\n    File \"/vol/bitbucket/ad6013/envs/gp-causal-env/lib/python3.9/site-packages/gpflow/optimizers/scipy.py\", line 118, in _tf_eval\n      if first_call:\n    File \"/vol/bitbucket/ad6013/envs/gp-causal-env/lib/python3.9/site-packages/gpflow/optimizers/scipy.py\", line 120, in _tf_eval\n      loss, grads = _compute_loss_and_gradients(\n    File \"/vol/bitbucket/ad6013/envs/gp-causal-env/lib/python3.9/site-packages/gpflow/optimizers/scipy.py\", line 223, in _compute_loss_and_gradients\n      loss = loss_closure()\n    File \"/vol/bitbucket/ad6013/envs/gp-causal-env/lib/python3.9/site-packages/gpflow/models/training_mixins.py\", line 60, in training_loss\n      return self._training_loss()  # type: ignore\n    File \"/vol/bitbucket/ad6013/envs/gp-causal-env/lib/python3.9/site-packages/gpflow/models/model.py\", line 54, in _training_loss\n      return -(self.maximum_log_likelihood_objective(*args, **kwargs) + self.log_prior_density())\n    File \"/vol/bitbucket/ad6013/envs/gp-causal-env/lib/python3.9/site-packages/gpflow/models/gplvm.py\", line 156, in maximum_log_likelihood_objective\n      return self.elbo()\n    File \"/vol/bitbucket/ad6013/envs/gp-causal-env/lib/python3.9/site-packages/gpflow/models/gplvm.py\", line 189, in elbo\n      tf.debugging.assert_all_finite(\nNode: 'VerifyFinite_1/CheckNumerics'\nLB is not finite! : Tensor had NaN values\n\t [[{{node VerifyFinite_1/CheckNumerics}}]] [Op:__inference__tf_eval_257505]",
     "output_type": "error",
     "traceback": [
      "\u001b[0;31m---------------------------------------------------------------------------\u001b[0m",
      "\u001b[0;31mInvalidArgumentError\u001b[0m                      Traceback (most recent call last)",
      "\u001b[1;32m/vol/bitbucket/ad6013/Research/gp-causal/notebooks/data_playground.ipynb Cell 31'\u001b[0m in \u001b[0;36m<cell line: 33>\u001b[0;34m()\u001b[0m\n\u001b[1;32m     <a href='vscode-notebook-cell://ssh-remote%2Bphlogiston.doc.ic.ac.uk/vol/bitbucket/ad6013/Research/gp-causal/notebooks/data_playground.ipynb#ch0000031vscode-remote?line=30'>31</a>\u001b[0m gpflow\u001b[39m.\u001b[39mutilities\u001b[39m.\u001b[39mset_trainable(m\u001b[39m.\u001b[39minducing_variable, \u001b[39mFalse\u001b[39;00m)\n\u001b[1;32m     <a href='vscode-notebook-cell://ssh-remote%2Bphlogiston.doc.ic.ac.uk/vol/bitbucket/ad6013/Research/gp-causal/notebooks/data_playground.ipynb#ch0000031vscode-remote?line=31'>32</a>\u001b[0m opt \u001b[39m=\u001b[39m gpflow\u001b[39m.\u001b[39moptimizers\u001b[39m.\u001b[39mScipy()\n\u001b[0;32m---> <a href='vscode-notebook-cell://ssh-remote%2Bphlogiston.doc.ic.ac.uk/vol/bitbucket/ad6013/Research/gp-causal/notebooks/data_playground.ipynb#ch0000031vscode-remote?line=32'>33</a>\u001b[0m opt_logs \u001b[39m=\u001b[39m opt\u001b[39m.\u001b[39;49mminimize(\n\u001b[1;32m     <a href='vscode-notebook-cell://ssh-remote%2Bphlogiston.doc.ic.ac.uk/vol/bitbucket/ad6013/Research/gp-causal/notebooks/data_playground.ipynb#ch0000031vscode-remote?line=33'>34</a>\u001b[0m     m\u001b[39m.\u001b[39;49mtraining_loss,\n\u001b[1;32m     <a href='vscode-notebook-cell://ssh-remote%2Bphlogiston.doc.ic.ac.uk/vol/bitbucket/ad6013/Research/gp-causal/notebooks/data_playground.ipynb#ch0000031vscode-remote?line=34'>35</a>\u001b[0m     m\u001b[39m.\u001b[39;49mtrainable_variables,\n\u001b[1;32m     <a href='vscode-notebook-cell://ssh-remote%2Bphlogiston.doc.ic.ac.uk/vol/bitbucket/ad6013/Research/gp-causal/notebooks/data_playground.ipynb#ch0000031vscode-remote?line=35'>36</a>\u001b[0m     options\u001b[39m=\u001b[39;49m\u001b[39mdict\u001b[39;49m(maxiter\u001b[39m=\u001b[39;49m\u001b[39m10000\u001b[39;49m),\n\u001b[1;32m     <a href='vscode-notebook-cell://ssh-remote%2Bphlogiston.doc.ic.ac.uk/vol/bitbucket/ad6013/Research/gp-causal/notebooks/data_playground.ipynb#ch0000031vscode-remote?line=36'>37</a>\u001b[0m )\n\u001b[1;32m     <a href='vscode-notebook-cell://ssh-remote%2Bphlogiston.doc.ic.ac.uk/vol/bitbucket/ad6013/Research/gp-causal/notebooks/data_playground.ipynb#ch0000031vscode-remote?line=38'>39</a>\u001b[0m \u001b[39m# Train everything\u001b[39;00m\n\u001b[1;32m     <a href='vscode-notebook-cell://ssh-remote%2Bphlogiston.doc.ic.ac.uk/vol/bitbucket/ad6013/Research/gp-causal/notebooks/data_playground.ipynb#ch0000031vscode-remote?line=39'>40</a>\u001b[0m gpflow\u001b[39m.\u001b[39mutilities\u001b[39m.\u001b[39mset_trainable(m\u001b[39m.\u001b[39mkernel, \u001b[39mTrue\u001b[39;00m)\n",
      "File \u001b[0;32m/vol/bitbucket/ad6013/envs/gp-causal-env/lib/python3.9/site-packages/gpflow/optimizers/scipy.py:94\u001b[0m, in \u001b[0;36mScipy.minimize\u001b[0;34m(self, closure, variables, method, step_callback, compile, allow_unused_variables, **scipy_kwargs)\u001b[0m\n\u001b[1;32m     <a href='file:///vol/bitbucket/ad6013/envs/gp-causal-env/lib/python3.9/site-packages/gpflow/optimizers/scipy.py?line=90'>91</a>\u001b[0m     callback \u001b[39m=\u001b[39m \u001b[39mself\u001b[39m\u001b[39m.\u001b[39mcallback_func(variables, step_callback)\n\u001b[1;32m     <a href='file:///vol/bitbucket/ad6013/envs/gp-causal-env/lib/python3.9/site-packages/gpflow/optimizers/scipy.py?line=91'>92</a>\u001b[0m     scipy_kwargs\u001b[39m.\u001b[39mupdate(\u001b[39mdict\u001b[39m(callback\u001b[39m=\u001b[39mcallback))\n\u001b[0;32m---> <a href='file:///vol/bitbucket/ad6013/envs/gp-causal-env/lib/python3.9/site-packages/gpflow/optimizers/scipy.py?line=93'>94</a>\u001b[0m \u001b[39mreturn\u001b[39;00m scipy\u001b[39m.\u001b[39;49moptimize\u001b[39m.\u001b[39;49mminimize(\n\u001b[1;32m     <a href='file:///vol/bitbucket/ad6013/envs/gp-causal-env/lib/python3.9/site-packages/gpflow/optimizers/scipy.py?line=94'>95</a>\u001b[0m     func, initial_params, jac\u001b[39m=\u001b[39;49m\u001b[39mTrue\u001b[39;49;00m, method\u001b[39m=\u001b[39;49mmethod, \u001b[39m*\u001b[39;49m\u001b[39m*\u001b[39;49mscipy_kwargs\n\u001b[1;32m     <a href='file:///vol/bitbucket/ad6013/envs/gp-causal-env/lib/python3.9/site-packages/gpflow/optimizers/scipy.py?line=95'>96</a>\u001b[0m )\n",
      "File \u001b[0;32m/vol/bitbucket/ad6013/envs/gp-causal-env/lib/python3.9/site-packages/scipy/optimize/_minimize.py:681\u001b[0m, in \u001b[0;36mminimize\u001b[0;34m(fun, x0, args, method, jac, hess, hessp, bounds, constraints, tol, callback, options)\u001b[0m\n\u001b[1;32m    <a href='file:///vol/bitbucket/ad6013/envs/gp-causal-env/lib/python3.9/site-packages/scipy/optimize/_minimize.py?line=677'>678</a>\u001b[0m     res \u001b[39m=\u001b[39m _minimize_newtoncg(fun, x0, args, jac, hess, hessp, callback,\n\u001b[1;32m    <a href='file:///vol/bitbucket/ad6013/envs/gp-causal-env/lib/python3.9/site-packages/scipy/optimize/_minimize.py?line=678'>679</a>\u001b[0m                              \u001b[39m*\u001b[39m\u001b[39m*\u001b[39moptions)\n\u001b[1;32m    <a href='file:///vol/bitbucket/ad6013/envs/gp-causal-env/lib/python3.9/site-packages/scipy/optimize/_minimize.py?line=679'>680</a>\u001b[0m \u001b[39melif\u001b[39;00m meth \u001b[39m==\u001b[39m \u001b[39m'\u001b[39m\u001b[39ml-bfgs-b\u001b[39m\u001b[39m'\u001b[39m:\n\u001b[0;32m--> <a href='file:///vol/bitbucket/ad6013/envs/gp-causal-env/lib/python3.9/site-packages/scipy/optimize/_minimize.py?line=680'>681</a>\u001b[0m     res \u001b[39m=\u001b[39m _minimize_lbfgsb(fun, x0, args, jac, bounds,\n\u001b[1;32m    <a href='file:///vol/bitbucket/ad6013/envs/gp-causal-env/lib/python3.9/site-packages/scipy/optimize/_minimize.py?line=681'>682</a>\u001b[0m                            callback\u001b[39m=\u001b[39;49mcallback, \u001b[39m*\u001b[39;49m\u001b[39m*\u001b[39;49moptions)\n\u001b[1;32m    <a href='file:///vol/bitbucket/ad6013/envs/gp-causal-env/lib/python3.9/site-packages/scipy/optimize/_minimize.py?line=682'>683</a>\u001b[0m \u001b[39melif\u001b[39;00m meth \u001b[39m==\u001b[39m \u001b[39m'\u001b[39m\u001b[39mtnc\u001b[39m\u001b[39m'\u001b[39m:\n\u001b[1;32m    <a href='file:///vol/bitbucket/ad6013/envs/gp-causal-env/lib/python3.9/site-packages/scipy/optimize/_minimize.py?line=683'>684</a>\u001b[0m     res \u001b[39m=\u001b[39m _minimize_tnc(fun, x0, args, jac, bounds, callback\u001b[39m=\u001b[39mcallback,\n\u001b[1;32m    <a href='file:///vol/bitbucket/ad6013/envs/gp-causal-env/lib/python3.9/site-packages/scipy/optimize/_minimize.py?line=684'>685</a>\u001b[0m                         \u001b[39m*\u001b[39m\u001b[39m*\u001b[39moptions)\n",
      "File \u001b[0;32m/vol/bitbucket/ad6013/envs/gp-causal-env/lib/python3.9/site-packages/scipy/optimize/_lbfgsb_py.py:362\u001b[0m, in \u001b[0;36m_minimize_lbfgsb\u001b[0;34m(fun, x0, args, jac, bounds, disp, maxcor, ftol, gtol, eps, maxfun, maxiter, iprint, callback, maxls, finite_diff_rel_step, **unknown_options)\u001b[0m\n\u001b[1;32m    <a href='file:///vol/bitbucket/ad6013/envs/gp-causal-env/lib/python3.9/site-packages/scipy/optimize/_lbfgsb_py.py?line=355'>356</a>\u001b[0m task_str \u001b[39m=\u001b[39m task\u001b[39m.\u001b[39mtobytes()\n\u001b[1;32m    <a href='file:///vol/bitbucket/ad6013/envs/gp-causal-env/lib/python3.9/site-packages/scipy/optimize/_lbfgsb_py.py?line=356'>357</a>\u001b[0m \u001b[39mif\u001b[39;00m task_str\u001b[39m.\u001b[39mstartswith(\u001b[39mb\u001b[39m\u001b[39m'\u001b[39m\u001b[39mFG\u001b[39m\u001b[39m'\u001b[39m):\n\u001b[1;32m    <a href='file:///vol/bitbucket/ad6013/envs/gp-causal-env/lib/python3.9/site-packages/scipy/optimize/_lbfgsb_py.py?line=357'>358</a>\u001b[0m     \u001b[39m# The minimization routine wants f and g at the current x.\u001b[39;00m\n\u001b[1;32m    <a href='file:///vol/bitbucket/ad6013/envs/gp-causal-env/lib/python3.9/site-packages/scipy/optimize/_lbfgsb_py.py?line=358'>359</a>\u001b[0m     \u001b[39m# Note that interruptions due to maxfun are postponed\u001b[39;00m\n\u001b[1;32m    <a href='file:///vol/bitbucket/ad6013/envs/gp-causal-env/lib/python3.9/site-packages/scipy/optimize/_lbfgsb_py.py?line=359'>360</a>\u001b[0m     \u001b[39m# until the completion of the current minimization iteration.\u001b[39;00m\n\u001b[1;32m    <a href='file:///vol/bitbucket/ad6013/envs/gp-causal-env/lib/python3.9/site-packages/scipy/optimize/_lbfgsb_py.py?line=360'>361</a>\u001b[0m     \u001b[39m# Overwrite f and g:\u001b[39;00m\n\u001b[0;32m--> <a href='file:///vol/bitbucket/ad6013/envs/gp-causal-env/lib/python3.9/site-packages/scipy/optimize/_lbfgsb_py.py?line=361'>362</a>\u001b[0m     f, g \u001b[39m=\u001b[39m func_and_grad(x)\n\u001b[1;32m    <a href='file:///vol/bitbucket/ad6013/envs/gp-causal-env/lib/python3.9/site-packages/scipy/optimize/_lbfgsb_py.py?line=362'>363</a>\u001b[0m \u001b[39melif\u001b[39;00m task_str\u001b[39m.\u001b[39mstartswith(\u001b[39mb\u001b[39m\u001b[39m'\u001b[39m\u001b[39mNEW_X\u001b[39m\u001b[39m'\u001b[39m):\n\u001b[1;32m    <a href='file:///vol/bitbucket/ad6013/envs/gp-causal-env/lib/python3.9/site-packages/scipy/optimize/_lbfgsb_py.py?line=363'>364</a>\u001b[0m     \u001b[39m# new iteration\u001b[39;00m\n\u001b[1;32m    <a href='file:///vol/bitbucket/ad6013/envs/gp-causal-env/lib/python3.9/site-packages/scipy/optimize/_lbfgsb_py.py?line=364'>365</a>\u001b[0m     n_iterations \u001b[39m+\u001b[39m\u001b[39m=\u001b[39m \u001b[39m1\u001b[39m\n",
      "File \u001b[0;32m/vol/bitbucket/ad6013/envs/gp-causal-env/lib/python3.9/site-packages/scipy/optimize/_differentiable_functions.py:285\u001b[0m, in \u001b[0;36mScalarFunction.fun_and_grad\u001b[0;34m(self, x)\u001b[0m\n\u001b[1;32m    <a href='file:///vol/bitbucket/ad6013/envs/gp-causal-env/lib/python3.9/site-packages/scipy/optimize/_differentiable_functions.py?line=282'>283</a>\u001b[0m \u001b[39mif\u001b[39;00m \u001b[39mnot\u001b[39;00m np\u001b[39m.\u001b[39marray_equal(x, \u001b[39mself\u001b[39m\u001b[39m.\u001b[39mx):\n\u001b[1;32m    <a href='file:///vol/bitbucket/ad6013/envs/gp-causal-env/lib/python3.9/site-packages/scipy/optimize/_differentiable_functions.py?line=283'>284</a>\u001b[0m     \u001b[39mself\u001b[39m\u001b[39m.\u001b[39m_update_x_impl(x)\n\u001b[0;32m--> <a href='file:///vol/bitbucket/ad6013/envs/gp-causal-env/lib/python3.9/site-packages/scipy/optimize/_differentiable_functions.py?line=284'>285</a>\u001b[0m \u001b[39mself\u001b[39;49m\u001b[39m.\u001b[39;49m_update_fun()\n\u001b[1;32m    <a href='file:///vol/bitbucket/ad6013/envs/gp-causal-env/lib/python3.9/site-packages/scipy/optimize/_differentiable_functions.py?line=285'>286</a>\u001b[0m \u001b[39mself\u001b[39m\u001b[39m.\u001b[39m_update_grad()\n\u001b[1;32m    <a href='file:///vol/bitbucket/ad6013/envs/gp-causal-env/lib/python3.9/site-packages/scipy/optimize/_differentiable_functions.py?line=286'>287</a>\u001b[0m \u001b[39mreturn\u001b[39;00m \u001b[39mself\u001b[39m\u001b[39m.\u001b[39mf, \u001b[39mself\u001b[39m\u001b[39m.\u001b[39mg\n",
      "File \u001b[0;32m/vol/bitbucket/ad6013/envs/gp-causal-env/lib/python3.9/site-packages/scipy/optimize/_differentiable_functions.py:251\u001b[0m, in \u001b[0;36mScalarFunction._update_fun\u001b[0;34m(self)\u001b[0m\n\u001b[1;32m    <a href='file:///vol/bitbucket/ad6013/envs/gp-causal-env/lib/python3.9/site-packages/scipy/optimize/_differentiable_functions.py?line=248'>249</a>\u001b[0m \u001b[39mdef\u001b[39;00m \u001b[39m_update_fun\u001b[39m(\u001b[39mself\u001b[39m):\n\u001b[1;32m    <a href='file:///vol/bitbucket/ad6013/envs/gp-causal-env/lib/python3.9/site-packages/scipy/optimize/_differentiable_functions.py?line=249'>250</a>\u001b[0m     \u001b[39mif\u001b[39;00m \u001b[39mnot\u001b[39;00m \u001b[39mself\u001b[39m\u001b[39m.\u001b[39mf_updated:\n\u001b[0;32m--> <a href='file:///vol/bitbucket/ad6013/envs/gp-causal-env/lib/python3.9/site-packages/scipy/optimize/_differentiable_functions.py?line=250'>251</a>\u001b[0m         \u001b[39mself\u001b[39;49m\u001b[39m.\u001b[39;49m_update_fun_impl()\n\u001b[1;32m    <a href='file:///vol/bitbucket/ad6013/envs/gp-causal-env/lib/python3.9/site-packages/scipy/optimize/_differentiable_functions.py?line=251'>252</a>\u001b[0m         \u001b[39mself\u001b[39m\u001b[39m.\u001b[39mf_updated \u001b[39m=\u001b[39m \u001b[39mTrue\u001b[39;00m\n",
      "File \u001b[0;32m/vol/bitbucket/ad6013/envs/gp-causal-env/lib/python3.9/site-packages/scipy/optimize/_differentiable_functions.py:155\u001b[0m, in \u001b[0;36mScalarFunction.__init__.<locals>.update_fun\u001b[0;34m()\u001b[0m\n\u001b[1;32m    <a href='file:///vol/bitbucket/ad6013/envs/gp-causal-env/lib/python3.9/site-packages/scipy/optimize/_differentiable_functions.py?line=153'>154</a>\u001b[0m \u001b[39mdef\u001b[39;00m \u001b[39mupdate_fun\u001b[39m():\n\u001b[0;32m--> <a href='file:///vol/bitbucket/ad6013/envs/gp-causal-env/lib/python3.9/site-packages/scipy/optimize/_differentiable_functions.py?line=154'>155</a>\u001b[0m     \u001b[39mself\u001b[39m\u001b[39m.\u001b[39mf \u001b[39m=\u001b[39m fun_wrapped(\u001b[39mself\u001b[39;49m\u001b[39m.\u001b[39;49mx)\n",
      "File \u001b[0;32m/vol/bitbucket/ad6013/envs/gp-causal-env/lib/python3.9/site-packages/scipy/optimize/_differentiable_functions.py:137\u001b[0m, in \u001b[0;36mScalarFunction.__init__.<locals>.fun_wrapped\u001b[0;34m(x)\u001b[0m\n\u001b[1;32m    <a href='file:///vol/bitbucket/ad6013/envs/gp-causal-env/lib/python3.9/site-packages/scipy/optimize/_differentiable_functions.py?line=132'>133</a>\u001b[0m \u001b[39mself\u001b[39m\u001b[39m.\u001b[39mnfev \u001b[39m+\u001b[39m\u001b[39m=\u001b[39m \u001b[39m1\u001b[39m\n\u001b[1;32m    <a href='file:///vol/bitbucket/ad6013/envs/gp-causal-env/lib/python3.9/site-packages/scipy/optimize/_differentiable_functions.py?line=133'>134</a>\u001b[0m \u001b[39m# Send a copy because the user may overwrite it.\u001b[39;00m\n\u001b[1;32m    <a href='file:///vol/bitbucket/ad6013/envs/gp-causal-env/lib/python3.9/site-packages/scipy/optimize/_differentiable_functions.py?line=134'>135</a>\u001b[0m \u001b[39m# Overwriting results in undefined behaviour because\u001b[39;00m\n\u001b[1;32m    <a href='file:///vol/bitbucket/ad6013/envs/gp-causal-env/lib/python3.9/site-packages/scipy/optimize/_differentiable_functions.py?line=135'>136</a>\u001b[0m \u001b[39m# fun(self.x) will change self.x, with the two no longer linked.\u001b[39;00m\n\u001b[0;32m--> <a href='file:///vol/bitbucket/ad6013/envs/gp-causal-env/lib/python3.9/site-packages/scipy/optimize/_differentiable_functions.py?line=136'>137</a>\u001b[0m fx \u001b[39m=\u001b[39m fun(np\u001b[39m.\u001b[39;49mcopy(x), \u001b[39m*\u001b[39;49margs)\n\u001b[1;32m    <a href='file:///vol/bitbucket/ad6013/envs/gp-causal-env/lib/python3.9/site-packages/scipy/optimize/_differentiable_functions.py?line=137'>138</a>\u001b[0m \u001b[39m# Make sure the function returns a true scalar\u001b[39;00m\n\u001b[1;32m    <a href='file:///vol/bitbucket/ad6013/envs/gp-causal-env/lib/python3.9/site-packages/scipy/optimize/_differentiable_functions.py?line=138'>139</a>\u001b[0m \u001b[39mif\u001b[39;00m \u001b[39mnot\u001b[39;00m np\u001b[39m.\u001b[39misscalar(fx):\n",
      "File \u001b[0;32m/vol/bitbucket/ad6013/envs/gp-causal-env/lib/python3.9/site-packages/scipy/optimize/_optimize.py:76\u001b[0m, in \u001b[0;36mMemoizeJac.__call__\u001b[0;34m(self, x, *args)\u001b[0m\n\u001b[1;32m     <a href='file:///vol/bitbucket/ad6013/envs/gp-causal-env/lib/python3.9/site-packages/scipy/optimize/_optimize.py?line=73'>74</a>\u001b[0m \u001b[39mdef\u001b[39;00m \u001b[39m__call__\u001b[39m(\u001b[39mself\u001b[39m, x, \u001b[39m*\u001b[39margs):\n\u001b[1;32m     <a href='file:///vol/bitbucket/ad6013/envs/gp-causal-env/lib/python3.9/site-packages/scipy/optimize/_optimize.py?line=74'>75</a>\u001b[0m     \u001b[39m\"\"\" returns the the function value \"\"\"\u001b[39;00m\n\u001b[0;32m---> <a href='file:///vol/bitbucket/ad6013/envs/gp-causal-env/lib/python3.9/site-packages/scipy/optimize/_optimize.py?line=75'>76</a>\u001b[0m     \u001b[39mself\u001b[39;49m\u001b[39m.\u001b[39;49m_compute_if_needed(x, \u001b[39m*\u001b[39;49margs)\n\u001b[1;32m     <a href='file:///vol/bitbucket/ad6013/envs/gp-causal-env/lib/python3.9/site-packages/scipy/optimize/_optimize.py?line=76'>77</a>\u001b[0m     \u001b[39mreturn\u001b[39;00m \u001b[39mself\u001b[39m\u001b[39m.\u001b[39m_value\n",
      "File \u001b[0;32m/vol/bitbucket/ad6013/envs/gp-causal-env/lib/python3.9/site-packages/scipy/optimize/_optimize.py:70\u001b[0m, in \u001b[0;36mMemoizeJac._compute_if_needed\u001b[0;34m(self, x, *args)\u001b[0m\n\u001b[1;32m     <a href='file:///vol/bitbucket/ad6013/envs/gp-causal-env/lib/python3.9/site-packages/scipy/optimize/_optimize.py?line=67'>68</a>\u001b[0m \u001b[39mif\u001b[39;00m \u001b[39mnot\u001b[39;00m np\u001b[39m.\u001b[39mall(x \u001b[39m==\u001b[39m \u001b[39mself\u001b[39m\u001b[39m.\u001b[39mx) \u001b[39mor\u001b[39;00m \u001b[39mself\u001b[39m\u001b[39m.\u001b[39m_value \u001b[39mis\u001b[39;00m \u001b[39mNone\u001b[39;00m \u001b[39mor\u001b[39;00m \u001b[39mself\u001b[39m\u001b[39m.\u001b[39mjac \u001b[39mis\u001b[39;00m \u001b[39mNone\u001b[39;00m:\n\u001b[1;32m     <a href='file:///vol/bitbucket/ad6013/envs/gp-causal-env/lib/python3.9/site-packages/scipy/optimize/_optimize.py?line=68'>69</a>\u001b[0m     \u001b[39mself\u001b[39m\u001b[39m.\u001b[39mx \u001b[39m=\u001b[39m np\u001b[39m.\u001b[39masarray(x)\u001b[39m.\u001b[39mcopy()\n\u001b[0;32m---> <a href='file:///vol/bitbucket/ad6013/envs/gp-causal-env/lib/python3.9/site-packages/scipy/optimize/_optimize.py?line=69'>70</a>\u001b[0m     fg \u001b[39m=\u001b[39m \u001b[39mself\u001b[39;49m\u001b[39m.\u001b[39;49mfun(x, \u001b[39m*\u001b[39;49margs)\n\u001b[1;32m     <a href='file:///vol/bitbucket/ad6013/envs/gp-causal-env/lib/python3.9/site-packages/scipy/optimize/_optimize.py?line=70'>71</a>\u001b[0m     \u001b[39mself\u001b[39m\u001b[39m.\u001b[39mjac \u001b[39m=\u001b[39m fg[\u001b[39m1\u001b[39m]\n\u001b[1;32m     <a href='file:///vol/bitbucket/ad6013/envs/gp-causal-env/lib/python3.9/site-packages/scipy/optimize/_optimize.py?line=71'>72</a>\u001b[0m     \u001b[39mself\u001b[39m\u001b[39m.\u001b[39m_value \u001b[39m=\u001b[39m fg[\u001b[39m0\u001b[39m]\n",
      "File \u001b[0;32m/vol/bitbucket/ad6013/envs/gp-causal-env/lib/python3.9/site-packages/gpflow/optimizers/scipy.py:136\u001b[0m, in \u001b[0;36mScipy.eval_func.<locals>._eval\u001b[0;34m(x)\u001b[0m\n\u001b[1;32m    <a href='file:///vol/bitbucket/ad6013/envs/gp-causal-env/lib/python3.9/site-packages/gpflow/optimizers/scipy.py?line=134'>135</a>\u001b[0m \u001b[39mdef\u001b[39;00m \u001b[39m_eval\u001b[39m(x: AnyNDArray) \u001b[39m-\u001b[39m\u001b[39m>\u001b[39m Tuple[AnyNDArray, AnyNDArray]:\n\u001b[0;32m--> <a href='file:///vol/bitbucket/ad6013/envs/gp-causal-env/lib/python3.9/site-packages/gpflow/optimizers/scipy.py?line=135'>136</a>\u001b[0m     loss, grad \u001b[39m=\u001b[39m _tf_eval(tf\u001b[39m.\u001b[39;49mconvert_to_tensor(x))\n\u001b[1;32m    <a href='file:///vol/bitbucket/ad6013/envs/gp-causal-env/lib/python3.9/site-packages/gpflow/optimizers/scipy.py?line=136'>137</a>\u001b[0m     \u001b[39mreturn\u001b[39;00m loss\u001b[39m.\u001b[39mnumpy()\u001b[39m.\u001b[39mastype(np\u001b[39m.\u001b[39mfloat64), grad\u001b[39m.\u001b[39mnumpy()\u001b[39m.\u001b[39mastype(np\u001b[39m.\u001b[39mfloat64)\n",
      "File \u001b[0;32m/vol/bitbucket/ad6013/envs/gp-causal-env/lib/python3.9/site-packages/tensorflow/python/util/traceback_utils.py:153\u001b[0m, in \u001b[0;36mfilter_traceback.<locals>.error_handler\u001b[0;34m(*args, **kwargs)\u001b[0m\n\u001b[1;32m    <a href='file:///vol/bitbucket/ad6013/envs/gp-causal-env/lib/python3.9/site-packages/tensorflow/python/util/traceback_utils.py?line=150'>151</a>\u001b[0m \u001b[39mexcept\u001b[39;00m \u001b[39mException\u001b[39;00m \u001b[39mas\u001b[39;00m e:\n\u001b[1;32m    <a href='file:///vol/bitbucket/ad6013/envs/gp-causal-env/lib/python3.9/site-packages/tensorflow/python/util/traceback_utils.py?line=151'>152</a>\u001b[0m   filtered_tb \u001b[39m=\u001b[39m _process_traceback_frames(e\u001b[39m.\u001b[39m__traceback__)\n\u001b[0;32m--> <a href='file:///vol/bitbucket/ad6013/envs/gp-causal-env/lib/python3.9/site-packages/tensorflow/python/util/traceback_utils.py?line=152'>153</a>\u001b[0m   \u001b[39mraise\u001b[39;00m e\u001b[39m.\u001b[39mwith_traceback(filtered_tb) \u001b[39mfrom\u001b[39;00m \u001b[39mNone\u001b[39m\n\u001b[1;32m    <a href='file:///vol/bitbucket/ad6013/envs/gp-causal-env/lib/python3.9/site-packages/tensorflow/python/util/traceback_utils.py?line=153'>154</a>\u001b[0m \u001b[39mfinally\u001b[39;00m:\n\u001b[1;32m    <a href='file:///vol/bitbucket/ad6013/envs/gp-causal-env/lib/python3.9/site-packages/tensorflow/python/util/traceback_utils.py?line=154'>155</a>\u001b[0m   \u001b[39mdel\u001b[39;00m filtered_tb\n",
      "File \u001b[0;32m/vol/bitbucket/ad6013/envs/gp-causal-env/lib/python3.9/site-packages/tensorflow/python/eager/execute.py:54\u001b[0m, in \u001b[0;36mquick_execute\u001b[0;34m(op_name, num_outputs, inputs, attrs, ctx, name)\u001b[0m\n\u001b[1;32m     <a href='file:///vol/bitbucket/ad6013/envs/gp-causal-env/lib/python3.9/site-packages/tensorflow/python/eager/execute.py?line=51'>52</a>\u001b[0m \u001b[39mtry\u001b[39;00m:\n\u001b[1;32m     <a href='file:///vol/bitbucket/ad6013/envs/gp-causal-env/lib/python3.9/site-packages/tensorflow/python/eager/execute.py?line=52'>53</a>\u001b[0m   ctx\u001b[39m.\u001b[39mensure_initialized()\n\u001b[0;32m---> <a href='file:///vol/bitbucket/ad6013/envs/gp-causal-env/lib/python3.9/site-packages/tensorflow/python/eager/execute.py?line=53'>54</a>\u001b[0m   tensors \u001b[39m=\u001b[39m pywrap_tfe\u001b[39m.\u001b[39mTFE_Py_Execute(ctx\u001b[39m.\u001b[39m_handle, device_name, op_name,\n\u001b[1;32m     <a href='file:///vol/bitbucket/ad6013/envs/gp-causal-env/lib/python3.9/site-packages/tensorflow/python/eager/execute.py?line=54'>55</a>\u001b[0m                                       inputs, attrs, num_outputs)\n\u001b[1;32m     <a href='file:///vol/bitbucket/ad6013/envs/gp-causal-env/lib/python3.9/site-packages/tensorflow/python/eager/execute.py?line=55'>56</a>\u001b[0m \u001b[39mexcept\u001b[39;00m core\u001b[39m.\u001b[39m_NotOkStatusException \u001b[39mas\u001b[39;00m e:\n\u001b[1;32m     <a href='file:///vol/bitbucket/ad6013/envs/gp-causal-env/lib/python3.9/site-packages/tensorflow/python/eager/execute.py?line=56'>57</a>\u001b[0m   \u001b[39mif\u001b[39;00m name \u001b[39mis\u001b[39;00m \u001b[39mnot\u001b[39;00m \u001b[39mNone\u001b[39;00m:\n",
      "\u001b[0;31mInvalidArgumentError\u001b[0m: Graph execution error:\n\nDetected at node 'VerifyFinite_1/CheckNumerics' defined at (most recent call last):\n    File \"/usr/lib/python3.9/runpy.py\", line 197, in _run_module_as_main\n      return _run_code(code, main_globals, None,\n    File \"/usr/lib/python3.9/runpy.py\", line 87, in _run_code\n      exec(code, run_globals)\n    File \"/vol/bitbucket/ad6013/envs/gp-causal-env/lib/python3.9/site-packages/ipykernel_launcher.py\", line 17, in <module>\n      app.launch_new_instance()\n    File \"/vol/bitbucket/ad6013/envs/gp-causal-env/lib/python3.9/site-packages/traitlets/config/application.py\", line 846, in launch_instance\n      app.start()\n    File \"/vol/bitbucket/ad6013/envs/gp-causal-env/lib/python3.9/site-packages/ipykernel/kernelapp.py\", line 707, in start\n      self.io_loop.start()\n    File \"/vol/bitbucket/ad6013/envs/gp-causal-env/lib/python3.9/site-packages/tornado/platform/asyncio.py\", line 199, in start\n      self.asyncio_loop.run_forever()\n    File \"/usr/lib/python3.9/asyncio/base_events.py\", line 596, in run_forever\n      self._run_once()\n    File \"/usr/lib/python3.9/asyncio/base_events.py\", line 1890, in _run_once\n      handle._run()\n    File \"/usr/lib/python3.9/asyncio/events.py\", line 80, in _run\n      self._context.run(self._callback, *self._args)\n    File \"/vol/bitbucket/ad6013/envs/gp-causal-env/lib/python3.9/site-packages/ipykernel/kernelbase.py\", line 502, in dispatch_queue\n      await self.process_one()\n    File \"/vol/bitbucket/ad6013/envs/gp-causal-env/lib/python3.9/site-packages/ipykernel/kernelbase.py\", line 491, in process_one\n      await dispatch(*args)\n    File \"/vol/bitbucket/ad6013/envs/gp-causal-env/lib/python3.9/site-packages/ipykernel/kernelbase.py\", line 398, in dispatch_shell\n      await result\n    File \"/vol/bitbucket/ad6013/envs/gp-causal-env/lib/python3.9/site-packages/ipykernel/kernelbase.py\", line 722, in execute_request\n      reply_content = await reply_content\n    File \"/vol/bitbucket/ad6013/envs/gp-causal-env/lib/python3.9/site-packages/ipykernel/ipkernel.py\", line 389, in do_execute\n      res = shell.run_cell(code, store_history=store_history, silent=silent)\n    File \"/vol/bitbucket/ad6013/envs/gp-causal-env/lib/python3.9/site-packages/ipykernel/zmqshell.py\", line 528, in run_cell\n      return super().run_cell(*args, **kwargs)\n    File \"/vol/bitbucket/ad6013/envs/gp-causal-env/lib/python3.9/site-packages/IPython/core/interactiveshell.py\", line 2863, in run_cell\n      result = self._run_cell(\n    File \"/vol/bitbucket/ad6013/envs/gp-causal-env/lib/python3.9/site-packages/IPython/core/interactiveshell.py\", line 2909, in _run_cell\n      return runner(coro)\n    File \"/vol/bitbucket/ad6013/envs/gp-causal-env/lib/python3.9/site-packages/IPython/core/async_helpers.py\", line 129, in _pseudo_sync_runner\n      coro.send(None)\n    File \"/vol/bitbucket/ad6013/envs/gp-causal-env/lib/python3.9/site-packages/IPython/core/interactiveshell.py\", line 3106, in run_cell_async\n      has_raised = await self.run_ast_nodes(code_ast.body, cell_name,\n    File \"/vol/bitbucket/ad6013/envs/gp-causal-env/lib/python3.9/site-packages/IPython/core/interactiveshell.py\", line 3309, in run_ast_nodes\n      if await self.run_code(code, result, async_=asy):\n    File \"/vol/bitbucket/ad6013/envs/gp-causal-env/lib/python3.9/site-packages/IPython/core/interactiveshell.py\", line 3369, in run_code\n      exec(code_obj, self.user_global_ns, self.user_ns)\n    File \"/tmp/ipykernel_2683797/2109503053.py\", line 33, in <cell line: 33>\n      opt_logs = opt.minimize(\n    File \"/vol/bitbucket/ad6013/envs/gp-causal-env/lib/python3.9/site-packages/gpflow/optimizers/scipy.py\", line 94, in minimize\n      return scipy.optimize.minimize(\n    File \"/vol/bitbucket/ad6013/envs/gp-causal-env/lib/python3.9/site-packages/scipy/optimize/_minimize.py\", line 681, in minimize\n      res = _minimize_lbfgsb(fun, x0, args, jac, bounds,\n    File \"/vol/bitbucket/ad6013/envs/gp-causal-env/lib/python3.9/site-packages/scipy/optimize/_lbfgsb_py.py\", line 308, in _minimize_lbfgsb\n      sf = _prepare_scalar_function(fun, x0, jac=jac, args=args, epsilon=eps,\n    File \"/vol/bitbucket/ad6013/envs/gp-causal-env/lib/python3.9/site-packages/scipy/optimize/_optimize.py\", line 263, in _prepare_scalar_function\n      sf = ScalarFunction(fun, x0, args, grad, hess,\n    File \"/vol/bitbucket/ad6013/envs/gp-causal-env/lib/python3.9/site-packages/scipy/optimize/_differentiable_functions.py\", line 158, in __init__\n      self._update_fun()\n    File \"/vol/bitbucket/ad6013/envs/gp-causal-env/lib/python3.9/site-packages/scipy/optimize/_differentiable_functions.py\", line 251, in _update_fun\n      self._update_fun_impl()\n    File \"/vol/bitbucket/ad6013/envs/gp-causal-env/lib/python3.9/site-packages/scipy/optimize/_differentiable_functions.py\", line 155, in update_fun\n      self.f = fun_wrapped(self.x)\n    File \"/vol/bitbucket/ad6013/envs/gp-causal-env/lib/python3.9/site-packages/scipy/optimize/_differentiable_functions.py\", line 137, in fun_wrapped\n      fx = fun(np.copy(x), *args)\n    File \"/vol/bitbucket/ad6013/envs/gp-causal-env/lib/python3.9/site-packages/scipy/optimize/_optimize.py\", line 76, in __call__\n      self._compute_if_needed(x, *args)\n    File \"/vol/bitbucket/ad6013/envs/gp-causal-env/lib/python3.9/site-packages/scipy/optimize/_optimize.py\", line 70, in _compute_if_needed\n      fg = self.fun(x, *args)\n    File \"/vol/bitbucket/ad6013/envs/gp-causal-env/lib/python3.9/site-packages/gpflow/optimizers/scipy.py\", line 136, in _eval\n      loss, grad = _tf_eval(tf.convert_to_tensor(x))\n    File \"/vol/bitbucket/ad6013/envs/gp-causal-env/lib/python3.9/site-packages/gpflow/optimizers/scipy.py\", line 118, in _tf_eval\n      if first_call:\n    File \"/vol/bitbucket/ad6013/envs/gp-causal-env/lib/python3.9/site-packages/gpflow/optimizers/scipy.py\", line 120, in _tf_eval\n      loss, grads = _compute_loss_and_gradients(\n    File \"/vol/bitbucket/ad6013/envs/gp-causal-env/lib/python3.9/site-packages/gpflow/optimizers/scipy.py\", line 223, in _compute_loss_and_gradients\n      loss = loss_closure()\n    File \"/vol/bitbucket/ad6013/envs/gp-causal-env/lib/python3.9/site-packages/gpflow/models/training_mixins.py\", line 60, in training_loss\n      return self._training_loss()  # type: ignore\n    File \"/vol/bitbucket/ad6013/envs/gp-causal-env/lib/python3.9/site-packages/gpflow/models/model.py\", line 54, in _training_loss\n      return -(self.maximum_log_likelihood_objective(*args, **kwargs) + self.log_prior_density())\n    File \"/vol/bitbucket/ad6013/envs/gp-causal-env/lib/python3.9/site-packages/gpflow/models/gplvm.py\", line 156, in maximum_log_likelihood_objective\n      return self.elbo()\n    File \"/vol/bitbucket/ad6013/envs/gp-causal-env/lib/python3.9/site-packages/gpflow/models/gplvm.py\", line 189, in elbo\n      tf.debugging.assert_all_finite(\nNode: 'VerifyFinite_1/CheckNumerics'\nLB is not finite! : Tensor had NaN values\n\t [[{{node VerifyFinite_1/CheckNumerics}}]] [Op:__inference__tf_eval_257505]"
     ]
    }
   ],
   "source": [
    "# Train only inducing variables\n",
    "gpflow.utilities.set_trainable(m.kernel, False)\n",
    "gpflow.utilities.set_trainable(m.likelihood, False)\n",
    "gpflow.utilities.set_trainable(m.X_data_mean , False)\n",
    "gpflow.utilities.set_trainable(m.X_data_var, False)\n",
    "opt = gpflow.optimizers.Scipy()\n",
    "opt_logs = opt.minimize(\n",
    "    m.training_loss,\n",
    "    m.trainable_variables,\n",
    "    options=dict(maxiter=10000),\n",
    ")\n",
    "\n",
    "# Train only x_var\n",
    "gpflow.utilities.set_trainable(m.kernel, False)\n",
    "gpflow.utilities.set_trainable(m.likelihood, False)\n",
    "gpflow.utilities.set_trainable(m.X_data_mean , False)\n",
    "gpflow.utilities.set_trainable(m.X_data_var, True)\n",
    "gpflow.utilities.set_trainable(m.inducing_variable, False)\n",
    "opt = gpflow.optimizers.Scipy()\n",
    "opt_logs = opt.minimize(\n",
    "    m.training_loss,\n",
    "    m.trainable_variables,\n",
    "    options=dict(maxiter=10000),\n",
    ")\n",
    "\n",
    "# Train all the hyperparameters\n",
    "gpflow.utilities.set_trainable(m.kernel, True)\n",
    "gpflow.utilities.set_trainable(m.likelihood, True)\n",
    "gpflow.utilities.set_trainable(m.X_data_mean , False)\n",
    "gpflow.utilities.set_trainable(m.X_data_var, False)\n",
    "gpflow.utilities.set_trainable(m.inducing_variable, False)\n",
    "opt = gpflow.optimizers.Scipy()\n",
    "opt_logs = opt.minimize(\n",
    "    m.training_loss,\n",
    "    m.trainable_variables,\n",
    "    options=dict(maxiter=10000),\n",
    ")\n",
    "\n",
    "# Train everything\n",
    "gpflow.utilities.set_trainable(m.kernel, True)\n",
    "gpflow.utilities.set_trainable(m.likelihood, True)\n",
    "gpflow.utilities.set_trainable(m.X_data_mean , True)\n",
    "gpflow.utilities.set_trainable(m.X_data_var, True)\n",
    "gpflow.utilities.set_trainable(m.inducing_variable, True)\n",
    "opt = gpflow.optimizers.Scipy()\n",
    "opt_logs = opt.minimize(\n",
    "    m.training_loss,\n",
    "    m.trainable_variables,\n",
    "    options=dict(maxiter=10000),\n",
    ")\n",
    "loss = - m.elbo()"
   ]
  },
  {
   "cell_type": "code",
   "execution_count": null,
   "metadata": {},
   "outputs": [
    {
     "name": "stdout",
     "output_type": "stream",
     "text": [
      "╒═══════════════════════════════════╤═══════════╤══════════════════╤═════════╤═════════════╤══════════╤═════════╤════════════════════════╕\n",
      "│ name                              │ class     │ transform        │ prior   │ trainable   │ shape    │ dtype   │ value                  │\n",
      "╞═══════════════════════════════════╪═══════════╪══════════════════╪═════════╪═════════════╪══════════╪═════════╪════════════════════════╡\n",
      "│ BayesianGPLVM.kernel.variance     │ Parameter │ Softplus         │         │ True        │ ()       │ float64 │ 8.418192131911068      │\n",
      "├───────────────────────────────────┼───────────┼──────────────────┼─────────┼─────────────┼──────────┼─────────┼────────────────────────┤\n",
      "│ BayesianGPLVM.kernel.lengthscales │ Parameter │ Softplus         │         │ True        │ ()       │ float64 │ 0.1891902281861994     │\n",
      "├───────────────────────────────────┼───────────┼──────────────────┼─────────┼─────────────┼──────────┼─────────┼────────────────────────┤\n",
      "│ BayesianGPLVM.likelihood.variance │ Parameter │ Softplus + Shift │         │ True        │ ()       │ float64 │ 0.00045279825664048124 │\n",
      "├───────────────────────────────────┼───────────┼──────────────────┼─────────┼─────────────┼──────────┼─────────┼────────────────────────┤\n",
      "│ BayesianGPLVM.X_data_mean         │ Parameter │ Identity         │         │ True        │ (349, 1) │ float64 │ [[-1.20621148e-02...   │\n",
      "├───────────────────────────────────┼───────────┼──────────────────┼─────────┼─────────────┼──────────┼─────────┼────────────────────────┤\n",
      "│ BayesianGPLVM.X_data_var          │ Parameter │ Softplus         │         │ True        │ (349, 1) │ float64 │ [[1.14682718e-05...    │\n",
      "├───────────────────────────────────┼───────────┼──────────────────┼─────────┼─────────────┼──────────┼─────────┼────────────────────────┤\n",
      "│ BayesianGPLVM.inducing_variable.Z │ Parameter │ Identity         │         │ True        │ (349, 1) │ float64 │ [[-7.77308380e-02...   │\n",
      "╘═══════════════════════════════════╧═══════════╧══════════════════╧═════════╧═════════════╧══════════╧═════════╧════════════════════════╛\n"
     ]
    }
   ],
   "source": [
    "from gpflow.utilities import print_summary\n",
    "print_summary(m)"
   ]
  },
  {
   "cell_type": "code",
   "execution_count": null,
   "metadata": {},
   "outputs": [],
   "source": [
    "obs_new = np.linspace(-5, 5, 40)[:, None]\n",
    "pred_y_mean, pred_y_var = m.predict_y(Xnew=obs_new)"
   ]
  },
  {
   "cell_type": "code",
   "execution_count": null,
   "metadata": {},
   "outputs": [
    {
     "data": {
      "image/png": "[encoded data removed]",
      "text/plain": [
       "<Figure size 432x288 with 1 Axes>"
      ]
     },
     "metadata": {
      "needs_background": "light"
     },
     "output_type": "display_data"
    }
   ],
   "source": [
    "ind = np.argsort(m.X_data_mean[:, 0])\n",
    "x_values = np.take_along_axis(m.X_data_mean.numpy()[:, 0], ind, axis=0)\n",
    "# pred_y_mean_new = np.take_along_axis(pred_y_mean.numpy()[:, 0], ind, axis=0) \n",
    "# pred_y_var_new = np.take_along_axis(pred_y_var.numpy()[:, 0], ind, axis=0)\n",
    "\n",
    "plt.scatter(m.X_data_mean, input)\n",
    "plt.plot(obs_new, pred_y_mean, alpha=0.6)\n",
    "plt.fill_between(obs_new[:, 0], (pred_y_mean + 2 * np.sqrt(pred_y_var))[:, 0], (pred_y_mean - 2 * np.sqrt(pred_y_var))[:, 0], alpha=0.3)\n",
    "plt.show()"
   ]
  },
  {
   "cell_type": "code",
   "execution_count": null,
   "metadata": {},
   "outputs": [
    {
     "data": {
      "image/png": "[encoded data removed]",
      "text/plain": [
       "<Figure size 432x288 with 1 Axes>"
      ]
     },
     "metadata": {
      "needs_background": "light"
     },
     "output_type": "display_data"
    }
   ],
   "source": [
    "plt.hist(input, bins=100)\n",
    "plt.show()"
   ]
  },
  {
   "cell_type": "code",
   "execution_count": null,
   "metadata": {},
   "outputs": [
    {
     "data": {
      "text/plain": [
       "422.8804927548654"
      ]
     },
     "execution_count": 98,
     "metadata": {},
     "output_type": "execute_result"
    }
   ],
   "source": [
    "-m.elbo().numpy()"
   ]
  },
  {
   "cell_type": "code",
   "execution_count": null,
   "metadata": {},
   "outputs": [],
   "source": [
    "407.47064394770905\n",
    "391.04231501580705"
   ]
  },
  {
   "cell_type": "code",
   "execution_count": 98,
   "metadata": {},
   "outputs": [],
   "source": [
    "from scipy.stats import norm\n",
    "def ml_estimate(x):\n",
    "    \"\"\"\n",
    "    Find the log likelihood.\n",
    "\n",
    "    This doesn't make sense after I have normalised the data.\n",
    "    \"\"\"\n",
    "    score = - np.sum( np.log(\n",
    "            norm.pdf(x, loc=x.mean(), scale=x.std())\n",
    "\n",
    "    ))\n",
    "    print(norm.pdf(x, loc=x.mean(), scale=x.std()))\n",
    "    return score"
   ]
  },
  {
   "cell_type": "code",
   "execution_count": 86,
   "metadata": {},
   "outputs": [
    {
     "name": "stdout",
     "output_type": "stream",
     "text": [
      "[[0.2326027 ]\n",
      " [0.31852053]\n",
      " [0.13892459]\n",
      " ...\n",
      " [0.35506125]\n",
      " [0.39891987]\n",
      " [0.17203474]]\n",
      "[[0.36215618]\n",
      " [0.38905551]\n",
      " [0.28767247]\n",
      " ...\n",
      " [0.3981433 ]\n",
      " [0.39889956]\n",
      " [0.258324  ]]\n",
      "[0.17355695 0.26539336 0.1214141  ... 0.23633496 0.25741284 0.03818973]\n",
      "14189.385332046726 14189.385332046728 18214.40122066285\n"
     ]
    }
   ],
   "source": [
    "print( ml_estimate(x[2]), ml_estimate(y[2]), ml_estimate(np.random.normal(0, 1.5, 10000)))"
   ]
  },
  {
   "cell_type": "code",
   "execution_count": 8,
   "metadata": {},
   "outputs": [
    {
     "data": {
      "text/plain": [
       "[]"
      ]
     },
     "execution_count": 8,
     "metadata": {},
     "output_type": "execute_result"
    }
   ],
   "source": [
    "tf.config.list_physical_devices('GPU')\n"
   ]
  },
  {
   "cell_type": "code",
   "execution_count": 251,
   "metadata": {},
   "outputs": [
    {
     "data": {
      "image/png": "[encoded data removed]",
      "text/plain": [
       "<Figure size 432x288 with 1 Axes>"
      ]
     },
     "metadata": {
      "needs_background": "light"
     },
     "output_type": "display_data"
    }
   ],
   "source": [
    "plt.hist(y[2], bins=100)\n",
    "plt.show()"
   ]
  },
  {
   "cell_type": "code",
   "execution_count": 75,
   "metadata": {},
   "outputs": [
    {
     "data": {
      "image/png": "[encoded data removed]",
      "text/plain": [
       "<Figure size 432x288 with 1 Axes>"
      ]
     },
     "metadata": {
      "needs_background": "light"
     },
     "output_type": "display_data"
    }
   ],
   "source": [
    "plt.hist(x[2], bins=100)\n",
    "plt.show()"
   ]
  },
  {
   "cell_type": "code",
   "execution_count": 14,
   "metadata": {},
   "outputs": [
    {
     "ename": "InvalidArgumentError",
     "evalue": "Checking b : Tensor had NaN values [Op:CheckNumerics]",
     "output_type": "error",
     "traceback": [
      "\u001b[0;31m---------------------------------------------------------------------------\u001b[0m",
      "\u001b[0;31mInvalidArgumentError\u001b[0m                      Traceback (most recent call last)",
      "\u001b[1;32m/vol/bitbucket/ad6013/Research/gp-causal/notebooks/data_playground.ipynb Cell 45'\u001b[0m in \u001b[0;36m<cell line: 6>\u001b[0;34m()\u001b[0m\n\u001b[1;32m      <a href='vscode-notebook-cell://ssh-remote%2Bmiasma.doc.ic.ac.uk/vol/bitbucket/ad6013/Research/gp-causal/notebooks/data_playground.ipynb#ch0000044vscode-remote?line=3'>4</a>\u001b[0m b \u001b[39m=\u001b[39m tf\u001b[39m.\u001b[39mVariable(np\u001b[39m.\u001b[39mnan)\n\u001b[1;32m      <a href='vscode-notebook-cell://ssh-remote%2Bmiasma.doc.ic.ac.uk/vol/bitbucket/ad6013/Research/gp-causal/notebooks/data_playground.ipynb#ch0000044vscode-remote?line=4'>5</a>\u001b[0m \u001b[39m# try:\u001b[39;00m\n\u001b[0;32m----> <a href='vscode-notebook-cell://ssh-remote%2Bmiasma.doc.ic.ac.uk/vol/bitbucket/ad6013/Research/gp-causal/notebooks/data_playground.ipynb#ch0000044vscode-remote?line=5'>6</a>\u001b[0m tf\u001b[39m.\u001b[39;49mdebugging\u001b[39m.\u001b[39;49mcheck_numerics(b, message\u001b[39m=\u001b[39;49m\u001b[39m'\u001b[39;49m\u001b[39mChecking b\u001b[39;49m\u001b[39m'\u001b[39;49m)\n\u001b[1;32m      <a href='vscode-notebook-cell://ssh-remote%2Bmiasma.doc.ic.ac.uk/vol/bitbucket/ad6013/Research/gp-causal/notebooks/data_playground.ipynb#ch0000044vscode-remote?line=6'>7</a>\u001b[0m \u001b[39m# except Exception as e:\u001b[39;00m\n\u001b[1;32m      <a href='vscode-notebook-cell://ssh-remote%2Bmiasma.doc.ic.ac.uk/vol/bitbucket/ad6013/Research/gp-causal/notebooks/data_playground.ipynb#ch0000044vscode-remote?line=7'>8</a>\u001b[0m \u001b[39m#   assert \"Checking b : Tensor had NaN values\" in e.message\u001b[39;00m\n\u001b[1;32m     <a href='vscode-notebook-cell://ssh-remote%2Bmiasma.doc.ic.ac.uk/vol/bitbucket/ad6013/Research/gp-causal/notebooks/data_playground.ipynb#ch0000044vscode-remote?line=9'>10</a>\u001b[0m c \u001b[39m=\u001b[39m tf\u001b[39m.\u001b[39mVariable(np\u001b[39m.\u001b[39minf)\n",
      "File \u001b[0;32m/vol/bitbucket/ad6013/envs/gp-causal-env/lib/python3.9/site-packages/tensorflow/python/ops/gen_array_ops.py:959\u001b[0m, in \u001b[0;36mcheck_numerics\u001b[0;34m(tensor, message, name)\u001b[0m\n\u001b[1;32m    <a href='file:///vol/bitbucket/ad6013/envs/gp-causal-env/lib/python3.9/site-packages/tensorflow/python/ops/gen_array_ops.py?line=956'>957</a>\u001b[0m   \u001b[39mreturn\u001b[39;00m _result\n\u001b[1;32m    <a href='file:///vol/bitbucket/ad6013/envs/gp-causal-env/lib/python3.9/site-packages/tensorflow/python/ops/gen_array_ops.py?line=957'>958</a>\u001b[0m \u001b[39mexcept\u001b[39;00m _core\u001b[39m.\u001b[39m_NotOkStatusException \u001b[39mas\u001b[39;00m e:\n\u001b[0;32m--> <a href='file:///vol/bitbucket/ad6013/envs/gp-causal-env/lib/python3.9/site-packages/tensorflow/python/ops/gen_array_ops.py?line=958'>959</a>\u001b[0m   _ops\u001b[39m.\u001b[39;49mraise_from_not_ok_status(e, name)\n\u001b[1;32m    <a href='file:///vol/bitbucket/ad6013/envs/gp-causal-env/lib/python3.9/site-packages/tensorflow/python/ops/gen_array_ops.py?line=959'>960</a>\u001b[0m \u001b[39mexcept\u001b[39;00m _core\u001b[39m.\u001b[39m_FallbackException:\n\u001b[1;32m    <a href='file:///vol/bitbucket/ad6013/envs/gp-causal-env/lib/python3.9/site-packages/tensorflow/python/ops/gen_array_ops.py?line=960'>961</a>\u001b[0m   \u001b[39mpass\u001b[39;00m\n",
      "File \u001b[0;32m/vol/bitbucket/ad6013/envs/gp-causal-env/lib/python3.9/site-packages/tensorflow/python/framework/ops.py:7164\u001b[0m, in \u001b[0;36mraise_from_not_ok_status\u001b[0;34m(e, name)\u001b[0m\n\u001b[1;32m   <a href='file:///vol/bitbucket/ad6013/envs/gp-causal-env/lib/python3.9/site-packages/tensorflow/python/framework/ops.py?line=7161'>7162</a>\u001b[0m \u001b[39mdef\u001b[39;00m \u001b[39mraise_from_not_ok_status\u001b[39m(e, name):\n\u001b[1;32m   <a href='file:///vol/bitbucket/ad6013/envs/gp-causal-env/lib/python3.9/site-packages/tensorflow/python/framework/ops.py?line=7162'>7163</a>\u001b[0m   e\u001b[39m.\u001b[39mmessage \u001b[39m+\u001b[39m\u001b[39m=\u001b[39m (\u001b[39m\"\u001b[39m\u001b[39m name: \u001b[39m\u001b[39m\"\u001b[39m \u001b[39m+\u001b[39m name \u001b[39mif\u001b[39;00m name \u001b[39mis\u001b[39;00m \u001b[39mnot\u001b[39;00m \u001b[39mNone\u001b[39;00m \u001b[39melse\u001b[39;00m \u001b[39m\"\u001b[39m\u001b[39m\"\u001b[39m)\n\u001b[0;32m-> <a href='file:///vol/bitbucket/ad6013/envs/gp-causal-env/lib/python3.9/site-packages/tensorflow/python/framework/ops.py?line=7163'>7164</a>\u001b[0m   \u001b[39mraise\u001b[39;00m core\u001b[39m.\u001b[39m_status_to_exception(e) \u001b[39mfrom\u001b[39;00m \u001b[39mNone\u001b[39m\n",
      "\u001b[0;31mInvalidArgumentError\u001b[0m: Checking b : Tensor had NaN values [Op:CheckNumerics]"
     ]
    }
   ],
   "source": [
    "a = tf.Variable(1.0)\n",
    "tf.debugging.check_numerics(a, message='')\n",
    "\n",
    "b = tf.Variable(np.nan)\n",
    "# try:\n",
    "tf.debugging.check_numerics(b, message='Checking b')\n",
    "# except Exception as e:\n",
    "#   assert \"Checking b : Tensor had NaN values\" in e.message\n",
    "\n",
    "c = tf.Variable(np.inf)\n",
    "try:\n",
    "  tf.debugging.check_numerics(c, message='Checking c')\n",
    "except Exception as e:\n",
    "  assert \"Checking c : Tensor had Inf values\" in e.message"
   ]
  },
  {
   "cell_type": "code",
   "execution_count": 9,
   "metadata": {},
   "outputs": [
    {
     "data": {
      "text/plain": [
       "18471693.4727468"
      ]
     },
     "execution_count": 9,
     "metadata": {},
     "output_type": "execute_result"
    }
   ],
   "source": [
    "5541508.04182404 / 0.3"
   ]
  },
  {
   "cell_type": "code",
   "execution_count": 10,
   "metadata": {},
   "outputs": [
    {
     "data": {
      "text/plain": [
       "18471693.4727468"
      ]
     },
     "execution_count": 10,
     "metadata": {},
     "output_type": "execute_result"
    }
   ],
   "source": [
    "18471693.4727468"
   ]
  },
  {
   "cell_type": "code",
   "execution_count": null,
   "metadata": {},
   "outputs": [],
   "source": []
  }
 ],
 "metadata": {
  "kernelspec": {
   "display_name": "Python 3 (ipykernel)",
   "language": "python",
   "name": "python3"
  },
  "language_info": {
   "codemirror_mode": {
    "name": "ipython",
    "version": 3
   },
   "file_extension": ".py",
   "mimetype": "text/x-python",
   "name": "python",
   "nbconvert_exporter": "python",
   "pygments_lexer": "ipython3",
   "version": "3.9.5"
  },
  "orig_nbformat": 4
 },
 "nbformat": 4,
 "nbformat_minor": 2
}
